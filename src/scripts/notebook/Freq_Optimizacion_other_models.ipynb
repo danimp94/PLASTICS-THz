{
 "cells": [
  {
   "cell_type": "markdown",
   "metadata": {
    "id": "peUcVKtbGPfD"
   },
   "source": [
    "# Important Frequencies Selection\n",
    "\n",
    "## Import Libraries and seed\n",
    "Import the necessary libraries for data processing, model building, training, and evaluation. Adding a seed ensures reproducibility by making sure that the random number generation is consistent across different runs."
   ]
  },
  {
   "cell_type": "code",
   "execution_count": null,
   "metadata": {
    "colab": {
     "base_uri": "https://localhost:8080/"
    },
    "executionInfo": {
     "elapsed": 15527,
     "status": "ok",
     "timestamp": 1731066553135,
     "user": {
      "displayName": "DANIEL MORENO PARIS",
      "userId": "17921422726169854440"
     },
     "user_tz": -60
    },
    "id": "9a9HvzrNG8iw",
    "outputId": "19350658-7b5d-48e7-e90c-e7ddb3a578b1"
   },
   "outputs": [
    {
     "name": "stdout",
     "output_type": "stream",
     "text": [
      "Using device: cpu\n"
     ]
    }
   ],
   "source": [
    "import os\n",
    "import random\n",
    "\n",
    "import numpy as np\n",
    "import pandas as pd\n",
    "import torch\n",
    "import torch.nn as nn\n",
    "import torch.optim as optim\n",
    "import joblib\n",
    "import matplotlib.pyplot as plt\n",
    "from sklearn.model_selection import train_test_split\n",
    "from sklearn.preprocessing import StandardScaler, LabelEncoder\n",
    "from sklearn.metrics import classification_report, confusion_matrix\n",
    "from torch.utils.data import DataLoader, TensorDataset\n",
    "from collections import Counter\n",
    "\n",
    "# Models\n",
    "from sklearn.ensemble import RandomForestClassifier\n",
    "from sklearn.naive_bayes import GaussianNB\n",
    "from sklearn.linear_model import LogisticRegression\n",
    "from sklearn.metrics import accuracy_score, precision_score, recall_score, f1_score\n",
    "\n",
    "\n",
    "import wandb\n",
    "\n",
    "def set_seed(seed):\n",
    "    np.random.seed(seed)\n",
    "    torch.manual_seed(seed)\n",
    "    random.seed(seed)\n",
    "    if torch.cuda.is_available():\n",
    "        torch.cuda.manual_seed(seed)\n",
    "        torch.cuda.manual_seed_all(seed)\n",
    "        torch.backends.cudnn.deterministic = True\n",
    "        torch.backends.cudnn.benchmark = False\n",
    "    return seed\n",
    "\n",
    "# Device configuration\n",
    "device = torch.device('cuda' if torch.cuda.is_available() else 'cpu')\n",
    "print('Using device:', device)\n",
    "\n",
    "# Set seed for reproducibility\n",
    "seed = set_seed(42)\n",
    "\n"
   ]
  },
  {
   "cell_type": "code",
   "execution_count": 4,
   "metadata": {
    "executionInfo": {
     "elapsed": 3,
     "status": "ok",
     "timestamp": 1731066584724,
     "user": {
      "displayName": "DANIEL MORENO PARIS",
      "userId": "17921422726169854440"
     },
     "user_tz": -60
    },
    "id": "hAY8BfVX9XCK"
   },
   "outputs": [],
   "source": [
    "def load_data_from_directory(input_path):\n",
    "    data_frames = []\n",
    "    for file in os.listdir(input_path):\n",
    "        if file.endswith('.csv'):\n",
    "            df = pd.read_csv(os.path.join(input_path, file), delimiter=';', header=0)\n",
    "            data_frames.append(df)\n",
    "    data = pd.concat(data_frames, ignore_index=True)\n",
    "\n",
    "    return data"
   ]
  },
  {
   "cell_type": "markdown",
   "metadata": {
    "id": "wiCTw-qcKXhn"
   },
   "source": [
    "## Preprocessing Data\n",
    "Define a function to preprocess the data. This includes encoding categorical labels and standardizing the features."
   ]
  },
  {
   "cell_type": "code",
   "execution_count": 32,
   "metadata": {
    "executionInfo": {
     "elapsed": 3,
     "status": "ok",
     "timestamp": 1731066584724,
     "user": {
      "displayName": "DANIEL MORENO PARIS",
      "userId": "17921422726169854440"
     },
     "user_tz": -60
    },
    "id": "zJoZqi5LDPl8"
   },
   "outputs": [],
   "source": [
    "def calculate_averages_and_dispersion(data, data_percentage):\n",
    "    df = data\n",
    "    results = []\n",
    "    for (sample, freq), group in df.groupby(['Sample', 'Frequency (GHz)']):\n",
    "        window_size = max(1, int(len(group) * data_percentage / 100))\n",
    "        # print(f\"Processing sample: {sample}, frequency: {freq} with window size: {window_size}\")\n",
    "        for start in range(0, len(group), window_size):\n",
    "            window_data = group.iloc[start:start + window_size]\n",
    "            mean_values = window_data[['LG (mV)', 'HG (mV)']].mean()\n",
    "            std_deviation_values = window_data[['LG (mV)', 'HG (mV)']].std()\n",
    "            results.append({\n",
    "                'Frequency (GHz)': freq,\n",
    "                'LG (mV) mean': mean_values['LG (mV)'],\n",
    "                'HG (mV) mean': mean_values['HG (mV)'],\n",
    "                'LG (mV) std deviation': std_deviation_values['LG (mV)'],\n",
    "                'HG (mV) std deviation': std_deviation_values['HG (mV)'],\n",
    "                # 'Thickness (mm)': window_data['Thickness (mm)'].iloc[0], ## COMMENT\n",
    "                'Sample': sample,\n",
    "            })\n",
    "    results_df = pd.DataFrame(results)\n",
    "    # results_df.to_csv(output_file, sep=';', index=False)\n",
    "    # print(f\"Processed {input_file} and saved to {output_file}\")\n",
    "    # print(results_df)\n",
    "    return results_df"
   ]
  },
  {
   "cell_type": "markdown",
   "metadata": {
    "id": "vXiN30xA1kKX"
   },
   "source": [
    "## Pivoting Frequency values to columns"
   ]
  },
  {
   "cell_type": "code",
   "execution_count": 31,
   "metadata": {
    "executionInfo": {
     "elapsed": 235,
     "status": "ok",
     "timestamp": 1731067118965,
     "user": {
      "displayName": "DANIEL MORENO PARIS",
      "userId": "17921422726169854440"
     },
     "user_tz": -60
    },
    "id": "Kijzt73J1nyo"
   },
   "outputs": [],
   "source": [
    "def freq_as_variable(df, data_percentage):\n",
    "    '''Modify df to have Frequency values (100,110,120 and so on) as and input variables in the columns'''\n",
    "\n",
    "    # Remove Thickness column\n",
    "    if 'Thickness (mm)' in df.columns:\n",
    "        df = df.drop(columns=['Thickness (mm)'])\n",
    "\n",
    "    # 1s window_size 100/27s = 3.7% of the data is used for each window\n",
    "    df_window = calculate_averages_and_dispersion(df, data_percentage) \n",
    "\n",
    "    # Add a unique identifier column to avoid duplicate entries in the index\n",
    "    df_window['unique_id'] = df_window.groupby(['Sample', 'Frequency (GHz)']).cumcount()\n",
    "\n",
    "    # Pivot the DataFrame to wide format\n",
    "    df_pivot = df_window.pivot(index=['Sample', 'unique_id'], columns='Frequency (GHz)')\n",
    "\n",
    "    # Flatten the MultiIndex columns\n",
    "    df_pivot.columns = [' '.join(map(str, col)) for col in df_pivot.columns]\n",
    "\n",
    "    # Drop columns with all NaN values\n",
    "    df_pivot = df_pivot.dropna(axis=1, how='all')\n",
    "\n",
    "    # Reset index to make 'Sample' and 'unique_id' columns again\n",
    "    df_pivot = df_pivot.reset_index()\n",
    "\n",
    "    # Optional - Sort the columns if needed\n",
    "    df_pivot = df_pivot.reindex(sorted(df_pivot.columns), axis=1)\n",
    "\n",
    "    # Remove 'unique_id' column\n",
    "    df_pivot = df_pivot.drop(columns=['unique_id'])\n",
    "\n",
    "    return df_pivot"
   ]
  },
  {
   "cell_type": "code",
   "execution_count": 12,
   "metadata": {
    "colab": {
     "base_uri": "https://localhost:8080/",
     "height": 652
    },
    "executionInfo": {
     "elapsed": 52182,
     "status": "error",
     "timestamp": 1731067172783,
     "user": {
      "displayName": "DANIEL MORENO PARIS",
      "userId": "17921422726169854440"
     },
     "user_tz": -60
    },
    "id": "UTXvxCzu6MBA",
    "outputId": "41925df4-d9a4-424b-fc94-bf98e95a101b"
   },
   "outputs": [
    {
     "data": {
      "text/html": [
       "<div>\n",
       "<style scoped>\n",
       "    .dataframe tbody tr th:only-of-type {\n",
       "        vertical-align: middle;\n",
       "    }\n",
       "\n",
       "    .dataframe tbody tr th {\n",
       "        vertical-align: top;\n",
       "    }\n",
       "\n",
       "    .dataframe thead th {\n",
       "        text-align: right;\n",
       "    }\n",
       "</style>\n",
       "<table border=\"1\" class=\"dataframe\">\n",
       "  <thead>\n",
       "    <tr style=\"text-align: right;\">\n",
       "      <th></th>\n",
       "      <th>Frequency (GHz)</th>\n",
       "      <th>LG (mV)</th>\n",
       "      <th>HG (mV)</th>\n",
       "      <th>Sample</th>\n",
       "    </tr>\n",
       "  </thead>\n",
       "  <tbody>\n",
       "    <tr>\n",
       "      <th>0</th>\n",
       "      <td>100.0</td>\n",
       "      <td>-7.080942</td>\n",
       "      <td>-0.854611</td>\n",
       "      <td>A1</td>\n",
       "    </tr>\n",
       "    <tr>\n",
       "      <th>1</th>\n",
       "      <td>100.0</td>\n",
       "      <td>67.024785</td>\n",
       "      <td>0.244141</td>\n",
       "      <td>A1</td>\n",
       "    </tr>\n",
       "    <tr>\n",
       "      <th>2</th>\n",
       "      <td>100.0</td>\n",
       "      <td>124.893178</td>\n",
       "      <td>-1.098776</td>\n",
       "      <td>A1</td>\n",
       "    </tr>\n",
       "    <tr>\n",
       "      <th>3</th>\n",
       "      <td>100.0</td>\n",
       "      <td>91.075571</td>\n",
       "      <td>0.000000</td>\n",
       "      <td>A1</td>\n",
       "    </tr>\n",
       "    <tr>\n",
       "      <th>4</th>\n",
       "      <td>100.0</td>\n",
       "      <td>48.956174</td>\n",
       "      <td>0.122094</td>\n",
       "      <td>A1</td>\n",
       "    </tr>\n",
       "  </tbody>\n",
       "</table>\n",
       "</div>"
      ],
      "text/plain": [
       "   Frequency (GHz)     LG (mV)   HG (mV) Sample\n",
       "0            100.0   -7.080942 -0.854611     A1\n",
       "1            100.0   67.024785  0.244141     A1\n",
       "2            100.0  124.893178 -1.098776     A1\n",
       "3            100.0   91.075571  0.000000     A1\n",
       "4            100.0   48.956174  0.122094     A1"
      ]
     },
     "execution_count": 12,
     "metadata": {},
     "output_type": "execute_result"
    }
   ],
   "source": [
    "# Load the data from the directory\n",
    "input_path = 'C:/Users/Danim/Documents/GitHub/PIC-PAPER-01/data/experiment_1_plastics/processed_27s/training_file/test/'\n",
    "df = load_data_from_directory(input_path)\n",
    "\n",
    "df = pd.concat([df[['Frequency (GHz)', 'LG (mV)', 'HG (mV)']], df[['Sample']]], axis=1)\n",
    "\n",
    "df.head()"
   ]
  },
  {
   "cell_type": "markdown",
   "metadata": {},
   "source": [
    "## Sample a test set"
   ]
  },
  {
   "cell_type": "code",
   "execution_count": 42,
   "metadata": {},
   "outputs": [],
   "source": [
    "train_set, test_set = train_test_split(df, test_size=0.15, random_state=42, stratify=df['Sample'])"
   ]
  },
  {
   "cell_type": "code",
   "execution_count": 43,
   "metadata": {},
   "outputs": [
    {
     "data": {
      "image/png": "[encoded data removed]",
      "text/plain": [
       "<Figure size 1600x400 with 2 Axes>"
      ]
     },
     "metadata": {},
     "output_type": "display_data"
    }
   ],
   "source": [
    "fig, ax = plt.subplots(1, 2, figsize=(16, 4))\n",
    "\n",
    "# Plot train set\n",
    "train_set[['Sample']].value_counts().plot.bar(ax=ax[0], legend=False)\n",
    "ax[0].set_xlabel('Data Distribution of target variable for train dataset')\n",
    "ax[0].set_ylabel('Count')\n",
    "\n",
    "# Plot test set\n",
    "test_set[['Sample']].value_counts().plot.bar(ax=ax[1], legend=False)\n",
    "ax[1].set_xlabel('Data Distribution of target variable for test dataset')\n",
    "ax[1].set_ylabel('Count')\n",
    "\n",
    "plt.tight_layout() \n",
    "plt.show()"
   ]
  },
  {
   "cell_type": "code",
   "execution_count": 44,
   "metadata": {},
   "outputs": [],
   "source": [
    "train_ex = train_set.copy()"
   ]
  },
  {
   "cell_type": "code",
   "execution_count": 45,
   "metadata": {},
   "outputs": [
    {
     "name": "stdout",
     "output_type": "stream",
     "text": [
      "<class 'pandas.core.frame.DataFrame'>\n",
      "Index: 2057531 entries, 802810 to 1961991\n",
      "Data columns (total 4 columns):\n",
      " #   Column           Dtype  \n",
      "---  ------           -----  \n",
      " 0   Frequency (GHz)  float64\n",
      " 1   LG (mV)          float64\n",
      " 2   HG (mV)          float64\n",
      " 3   Sample           object \n",
      "dtypes: float64(3), object(1)\n",
      "memory usage: 78.5+ MB\n"
     ]
    }
   ],
   "source": [
    "train_ex.info()\n",
    "# train_ex.describe()"
   ]
  },
  {
   "cell_type": "code",
   "execution_count": 46,
   "metadata": {},
   "outputs": [
    {
     "data": {
      "text/plain": [
       "15"
      ]
     },
     "execution_count": 46,
     "metadata": {},
     "output_type": "execute_result"
    }
   ],
   "source": [
    "train_ex['Sample'].nunique()"
   ]
  },
  {
   "cell_type": "code",
   "execution_count": 47,
   "metadata": {},
   "outputs": [
    {
     "data": {
      "text/html": [
       "<div>\n",
       "<style scoped>\n",
       "    .dataframe tbody tr th:only-of-type {\n",
       "        vertical-align: middle;\n",
       "    }\n",
       "\n",
       "    .dataframe tbody tr th {\n",
       "        vertical-align: top;\n",
       "    }\n",
       "\n",
       "    .dataframe thead th {\n",
       "        text-align: right;\n",
       "    }\n",
       "</style>\n",
       "<table border=\"1\" class=\"dataframe\">\n",
       "  <thead>\n",
       "    <tr style=\"text-align: right;\">\n",
       "      <th></th>\n",
       "      <th>HG (mV) mean 100.0</th>\n",
       "      <th>HG (mV) mean 110.0</th>\n",
       "      <th>HG (mV) mean 120.0</th>\n",
       "      <th>HG (mV) mean 130.0</th>\n",
       "      <th>HG (mV) mean 140.0</th>\n",
       "      <th>HG (mV) mean 150.0</th>\n",
       "      <th>HG (mV) mean 160.0</th>\n",
       "      <th>HG (mV) mean 170.0</th>\n",
       "      <th>HG (mV) mean 180.0</th>\n",
       "      <th>HG (mV) mean 190.0</th>\n",
       "      <th>...</th>\n",
       "      <th>LG (mV) std deviation 520.0</th>\n",
       "      <th>LG (mV) std deviation 530.0</th>\n",
       "      <th>LG (mV) std deviation 540.0</th>\n",
       "      <th>LG (mV) std deviation 550.0</th>\n",
       "      <th>LG (mV) std deviation 560.0</th>\n",
       "      <th>LG (mV) std deviation 570.0</th>\n",
       "      <th>LG (mV) std deviation 580.0</th>\n",
       "      <th>LG (mV) std deviation 590.0</th>\n",
       "      <th>LG (mV) std deviation 600.0</th>\n",
       "      <th>Sample</th>\n",
       "    </tr>\n",
       "  </thead>\n",
       "  <tbody>\n",
       "    <tr>\n",
       "      <th>0</th>\n",
       "      <td>0.488305</td>\n",
       "      <td>-0.366247</td>\n",
       "      <td>-0.183118</td>\n",
       "      <td>0.488341</td>\n",
       "      <td>-0.976682</td>\n",
       "      <td>-0.427258</td>\n",
       "      <td>-0.427270</td>\n",
       "      <td>0.000000</td>\n",
       "      <td>-0.366258</td>\n",
       "      <td>-0.305211</td>\n",
       "      <td>...</td>\n",
       "      <td>0.776946</td>\n",
       "      <td>2.330836</td>\n",
       "      <td>NaN</td>\n",
       "      <td>0.172654</td>\n",
       "      <td>0.863273</td>\n",
       "      <td>0.863273</td>\n",
       "      <td>0.172654</td>\n",
       "      <td>0.345309</td>\n",
       "      <td>1.391985</td>\n",
       "      <td>A1</td>\n",
       "    </tr>\n",
       "    <tr>\n",
       "      <th>1</th>\n",
       "      <td>0.122070</td>\n",
       "      <td>-0.549376</td>\n",
       "      <td>-1.037717</td>\n",
       "      <td>1.220858</td>\n",
       "      <td>-0.122118</td>\n",
       "      <td>-0.061047</td>\n",
       "      <td>-0.305223</td>\n",
       "      <td>0.732530</td>\n",
       "      <td>0.610435</td>\n",
       "      <td>0.854599</td>\n",
       "      <td>...</td>\n",
       "      <td>0.690618</td>\n",
       "      <td>0.431636</td>\n",
       "      <td>NaN</td>\n",
       "      <td>0.517964</td>\n",
       "      <td>1.381237</td>\n",
       "      <td>0.776946</td>\n",
       "      <td>1.899200</td>\n",
       "      <td>0.172655</td>\n",
       "      <td>0.863273</td>\n",
       "      <td>A1</td>\n",
       "    </tr>\n",
       "    <tr>\n",
       "      <th>2</th>\n",
       "      <td>0.366259</td>\n",
       "      <td>0.122094</td>\n",
       "      <td>-0.183141</td>\n",
       "      <td>0.183130</td>\n",
       "      <td>0.061035</td>\n",
       "      <td>-0.549376</td>\n",
       "      <td>0.061048</td>\n",
       "      <td>-0.793540</td>\n",
       "      <td>0.061059</td>\n",
       "      <td>-0.305176</td>\n",
       "      <td>...</td>\n",
       "      <td>0.086328</td>\n",
       "      <td>0.172655</td>\n",
       "      <td>NaN</td>\n",
       "      <td>1.122255</td>\n",
       "      <td>1.122255</td>\n",
       "      <td>0.172655</td>\n",
       "      <td>0.863273</td>\n",
       "      <td>0.086327</td>\n",
       "      <td>1.009697</td>\n",
       "      <td>A1</td>\n",
       "    </tr>\n",
       "    <tr>\n",
       "      <th>3</th>\n",
       "      <td>-0.854564</td>\n",
       "      <td>1.342917</td>\n",
       "      <td>0.244164</td>\n",
       "      <td>-0.122035</td>\n",
       "      <td>0.549364</td>\n",
       "      <td>0.305235</td>\n",
       "      <td>0.244153</td>\n",
       "      <td>-0.244176</td>\n",
       "      <td>-0.366270</td>\n",
       "      <td>-1.098752</td>\n",
       "      <td>...</td>\n",
       "      <td>0.345309</td>\n",
       "      <td>0.863273</td>\n",
       "      <td>NaN</td>\n",
       "      <td>0.000000</td>\n",
       "      <td>0.604291</td>\n",
       "      <td>1.899200</td>\n",
       "      <td>1.381236</td>\n",
       "      <td>0.000000</td>\n",
       "      <td>1.694157</td>\n",
       "      <td>A1</td>\n",
       "    </tr>\n",
       "    <tr>\n",
       "      <th>4</th>\n",
       "      <td>0.122023</td>\n",
       "      <td>-0.854612</td>\n",
       "      <td>-0.122094</td>\n",
       "      <td>-0.305188</td>\n",
       "      <td>-0.305211</td>\n",
       "      <td>-0.183141</td>\n",
       "      <td>-0.671458</td>\n",
       "      <td>-0.244153</td>\n",
       "      <td>-0.244140</td>\n",
       "      <td>0.183130</td>\n",
       "      <td>...</td>\n",
       "      <td>0.172654</td>\n",
       "      <td>0.345309</td>\n",
       "      <td>NaN</td>\n",
       "      <td>0.258982</td>\n",
       "      <td>1.899200</td>\n",
       "      <td>0.776946</td>\n",
       "      <td>0.690618</td>\n",
       "      <td>2.417164</td>\n",
       "      <td>0.829521</td>\n",
       "      <td>A1</td>\n",
       "    </tr>\n",
       "  </tbody>\n",
       "</table>\n",
       "<p>5 rows × 205 columns</p>\n",
       "</div>"
      ],
      "text/plain": [
       "   HG (mV) mean 100.0  HG (mV) mean 110.0  HG (mV) mean 120.0  \\\n",
       "0            0.488305           -0.366247           -0.183118   \n",
       "1            0.122070           -0.549376           -1.037717   \n",
       "2            0.366259            0.122094           -0.183141   \n",
       "3           -0.854564            1.342917            0.244164   \n",
       "4            0.122023           -0.854612           -0.122094   \n",
       "\n",
       "   HG (mV) mean 130.0  HG (mV) mean 140.0  HG (mV) mean 150.0  \\\n",
       "0            0.488341           -0.976682           -0.427258   \n",
       "1            1.220858           -0.122118           -0.061047   \n",
       "2            0.183130            0.061035           -0.549376   \n",
       "3           -0.122035            0.549364            0.305235   \n",
       "4           -0.305188           -0.305211           -0.183141   \n",
       "\n",
       "   HG (mV) mean 160.0  HG (mV) mean 170.0  HG (mV) mean 180.0  \\\n",
       "0           -0.427270            0.000000           -0.366258   \n",
       "1           -0.305223            0.732530            0.610435   \n",
       "2            0.061048           -0.793540            0.061059   \n",
       "3            0.244153           -0.244176           -0.366270   \n",
       "4           -0.671458           -0.244153           -0.244140   \n",
       "\n",
       "   HG (mV) mean 190.0  ...  LG (mV) std deviation 520.0  \\\n",
       "0           -0.305211  ...                     0.776946   \n",
       "1            0.854599  ...                     0.690618   \n",
       "2           -0.305176  ...                     0.086328   \n",
       "3           -1.098752  ...                     0.345309   \n",
       "4            0.183130  ...                     0.172654   \n",
       "\n",
       "   LG (mV) std deviation 530.0  LG (mV) std deviation 540.0  \\\n",
       "0                     2.330836                          NaN   \n",
       "1                     0.431636                          NaN   \n",
       "2                     0.172655                          NaN   \n",
       "3                     0.863273                          NaN   \n",
       "4                     0.345309                          NaN   \n",
       "\n",
       "   LG (mV) std deviation 550.0  LG (mV) std deviation 560.0  \\\n",
       "0                     0.172654                     0.863273   \n",
       "1                     0.517964                     1.381237   \n",
       "2                     1.122255                     1.122255   \n",
       "3                     0.000000                     0.604291   \n",
       "4                     0.258982                     1.899200   \n",
       "\n",
       "   LG (mV) std deviation 570.0  LG (mV) std deviation 580.0  \\\n",
       "0                     0.863273                     0.172654   \n",
       "1                     0.776946                     1.899200   \n",
       "2                     0.172655                     0.863273   \n",
       "3                     1.899200                     1.381236   \n",
       "4                     0.776946                     0.690618   \n",
       "\n",
       "   LG (mV) std deviation 590.0  LG (mV) std deviation 600.0  Sample  \n",
       "0                     0.345309                     1.391985      A1  \n",
       "1                     0.172655                     0.863273      A1  \n",
       "2                     0.086327                     1.009697      A1  \n",
       "3                     0.000000                     1.694157      A1  \n",
       "4                     2.417164                     0.829521      A1  \n",
       "\n",
       "[5 rows x 205 columns]"
      ]
     },
     "execution_count": 47,
     "metadata": {},
     "output_type": "execute_result"
    }
   ],
   "source": [
    "# Introduce Frequency values as input variables\n",
    "train_set_test = freq_as_variable(train_set, data_percentage=0.5)\n",
    "test_set_test = freq_as_variable(test_set, data_percentage=0.5)\n",
    "train_set_test.head()\n",
    "test_set_test.head()\n",
    "\n",
    "# Save the processed data to a CSV file\n",
    "# output_path = 'C:/Users/Danim/Documents/GitHub/PIC-PAPER-01/data/experiment_1_plastics/processed_27s/training_file/test.csv'\n",
    "# df.to_csv(output_path, sep = ';', index=False)\n",
    "\n"
   ]
  },
  {
   "cell_type": "markdown",
   "metadata": {},
   "source": [
    "## Login in Weights & Biases"
   ]
  },
  {
   "cell_type": "code",
   "execution_count": 26,
   "metadata": {
    "colab": {
     "base_uri": "https://localhost:8080/",
     "height": 145
    },
    "executionInfo": {
     "elapsed": 12301,
     "status": "ok",
     "timestamp": 1731066584285,
     "user": {
      "displayName": "DANIEL MORENO PARIS",
      "userId": "17921422726169854440"
     },
     "user_tz": -60
    },
    "id": "AoCyZSTt7qqS",
    "outputId": "c7c7febf-6ef9-4081-c578-72109a882497"
   },
   "outputs": [
    {
     "name": "stdout",
     "output_type": "stream",
     "text": [
      "env: WANDB_API_KEY=94b4debef3cc9601df4d91995649548f8ab3a097\n"
     ]
    },
    {
     "data": {
      "text/plain": [
       "True"
      ]
     },
     "execution_count": 26,
     "metadata": {},
     "output_type": "execute_result"
    }
   ],
   "source": [
    "###\n",
    "### SKIP FOR NOW ###\n",
    "###\n",
    "\n",
    "%env WANDB_API_KEY=94b4debef3cc9601df4d91995649548f8ab3a097\n",
    "wandb.login()\n",
    "\n",
    "# wandb.init(project='PIC-PAPER-01', entity='UC3M', name='RandomForest')\n",
    "# wandb.watch(rf_model)"
   ]
  },
  {
   "cell_type": "markdown",
   "metadata": {},
   "source": [
    "# Prepare Training Data\n",
    "## Split the data into X and y\n"
   ]
  },
  {
   "cell_type": "code",
   "execution_count": 117,
   "metadata": {},
   "outputs": [
    {
     "name": "stdout",
     "output_type": "stream",
     "text": [
      "y_train: [ 0  0  0 ... 14 14 14]\n"
     ]
    }
   ],
   "source": [
    "# Split the data into X and y\n",
    "X_train = train_set_test.drop(columns=['Sample'])\n",
    "y_train = train_set_test['Sample']\n",
    "\n",
    "X_test = test_set_test.drop(columns=['Sample'])\n",
    "y_test = test_set_test['Sample']\n",
    "\n",
    "# Encode the target variable if it's categorical\n",
    "if y_train.dtype == 'object':\n",
    "    le = LabelEncoder()\n",
    "    y_train = le.fit_transform(y_train)\n",
    "\n",
    "if y_test.dtype == 'object':\n",
    "    y_test = le.transform(y_test)\n",
    "\n",
    "# le is the fitted LabelEncoder - Saving Encoder\n",
    "joblib.dump(le, 'label_encoder.pkl')\n",
    "\n",
    "print('y_train:', y_train)\n",
    "\n",
    "# # Convert to PyTorch tensors\n",
    "# X_groups = torch.tensor(X_groups, dtype=torch.float32)\n",
    "# y_groups = torch.tensor(y_groups, dtype=torch.long)"
   ]
  },
  {
   "cell_type": "markdown",
   "metadata": {},
   "source": [
    "## Prepare new sample for testing"
   ]
  },
  {
   "cell_type": "code",
   "execution_count": 118,
   "metadata": {},
   "outputs": [
    {
     "name": "stdout",
     "output_type": "stream",
     "text": [
      "X_new_sample:       Frequency (GHz)    LG (mV)    HG (mV) Sample\n",
      "0               100.0  31.375900  -0.610423     E1\n",
      "1               100.0  27.469173  -0.244117     E1\n",
      "2               100.0  46.758637  -0.244164     E1\n",
      "3               100.0  93.883531   0.488353     E1\n",
      "4               100.0  82.163350  -0.488377     E1\n",
      "...               ...        ...        ...    ...\n",
      "70927           600.0   0.610426  36.381394     E1\n",
      "70928           600.0   0.122085   9.400561     E1\n",
      "70929           600.0   0.732511  32.596752     E1\n",
      "70930           600.0  -0.122085  29.422536     E1\n",
      "70931           600.0   0.000000  13.307288     E1\n",
      "\n",
      "[70932 rows x 4 columns]\n",
      "X_new_sample:      HG (mV) mean 100.0  HG (mV) mean 110.0  HG (mV) mean 120.0  \\\n",
      "0             -0.427270           -1.098775           -0.061011   \n",
      "1              0.122094            0.732482            0.488341   \n",
      "2             -0.061048           -1.037729            0.549364   \n",
      "3              0.061035           -0.122106           -0.671447   \n",
      "4             -0.061023           -0.854564            0.305188   \n",
      "..                  ...                 ...                 ...   \n",
      "653                 NaN                 NaN                 NaN   \n",
      "654                 NaN                 NaN                 NaN   \n",
      "655                 NaN                 NaN                 NaN   \n",
      "656                 NaN                 NaN                 NaN   \n",
      "657                 NaN                 NaN                 NaN   \n",
      "\n",
      "     HG (mV) mean 130.0  HG (mV) mean 140.0  HG (mV) mean 150.0  \\\n",
      "0              0.427294            0.081404            0.081388   \n",
      "1             -0.427282            0.529019           -0.366251   \n",
      "2             -0.488317           -0.040674            0.122070   \n",
      "3              0.000000            0.081396           -0.081373   \n",
      "4             -0.549400           -0.488337            0.081396   \n",
      "..                  ...                 ...                 ...   \n",
      "653                 NaN                 NaN                 NaN   \n",
      "654                 NaN                 NaN                 NaN   \n",
      "655                 NaN                 NaN                 NaN   \n",
      "656                 NaN                 NaN                 NaN   \n",
      "657                 NaN                 NaN                 NaN   \n",
      "\n",
      "     HG (mV) mean 160.0  HG (mV) mean 170.0  HG (mV) mean 180.0  \\\n",
      "0              0.366266            0.061023            0.549400   \n",
      "1              0.529035            0.366235            0.060999   \n",
      "2             -0.203490           -0.183105            0.122058   \n",
      "3              0.162777            0.366259            0.488340   \n",
      "4              0.081412            0.427294            0.305260   \n",
      "..                  ...                 ...                 ...   \n",
      "653                 NaN           -0.244189                 NaN   \n",
      "654                 NaN           -0.427293                 NaN   \n",
      "655                 NaN           -0.305212                 NaN   \n",
      "656                 NaN           -0.122094                 NaN   \n",
      "657                 NaN            0.915647                 NaN   \n",
      "\n",
      "     HG (mV) mean 190.0  ...  LG (mV) std deviation 510.0  \\\n",
      "0             -0.549376  ...                     0.532157   \n",
      "1             -0.488317  ...                     1.173120   \n",
      "2              0.061047  ...                     0.440184   \n",
      "3             -0.305164  ...                     0.070486   \n",
      "4             -0.427318  ...                     0.745953   \n",
      "..                  ...  ...                          ...   \n",
      "653                 NaN  ...                          NaN   \n",
      "654                 NaN  ...                          NaN   \n",
      "655                 NaN  ...                          NaN   \n",
      "656                 NaN  ...                          NaN   \n",
      "657                 NaN  ...                          NaN   \n",
      "\n",
      "     LG (mV) std deviation 520.0  LG (mV) std deviation 530.0  \\\n",
      "0                       0.366256                     0.366256   \n",
      "1                       1.372215                     1.202400   \n",
      "2                       0.745953                     0.508281   \n",
      "3                       0.122085                     0.672393   \n",
      "4                       0.122085                     0.794336   \n",
      "..                           ...                          ...   \n",
      "653                          NaN                          NaN   \n",
      "654                          NaN                          NaN   \n",
      "655                          NaN                          NaN   \n",
      "656                          NaN                          NaN   \n",
      "657                          NaN                          NaN   \n",
      "\n",
      "     LG (mV) std deviation 540.0  LG (mV) std deviation 550.0  \\\n",
      "0                       0.559464                     0.323007   \n",
      "1                       0.921723                     0.800566   \n",
      "2                       0.070486                     0.323007   \n",
      "3                       1.270703                     0.715354   \n",
      "4                       0.493402                     1.101026   \n",
      "..                           ...                          ...   \n",
      "653                          NaN                          NaN   \n",
      "654                          NaN                          NaN   \n",
      "655                          NaN                          NaN   \n",
      "656                          NaN                          NaN   \n",
      "657                          NaN                          NaN   \n",
      "\n",
      "     LG (mV) std deviation 560.0  LG (mV) std deviation 570.0  \\\n",
      "0                       0.999310                     0.440184   \n",
      "1                       0.254141                     0.866145   \n",
      "2                       0.532157                     0.254141   \n",
      "3                       0.576952                     0.366256   \n",
      "4                       0.532157                     0.762422   \n",
      "..                           ...                          ...   \n",
      "653                          NaN                          NaN   \n",
      "654                          NaN                          NaN   \n",
      "655                          NaN                          NaN   \n",
      "656                          NaN                          NaN   \n",
      "657                          NaN                          NaN   \n",
      "\n",
      "     LG (mV) std deviation 580.0  LG (mV) std deviation 590.0  \\\n",
      "0                       0.857498                     0.508281   \n",
      "1                       1.666512                     0.745953   \n",
      "2                       1.204464                     0.440184   \n",
      "3                       0.372977                     0.323007   \n",
      "4                       0.883186                     0.392449   \n",
      "..                           ...                          ...   \n",
      "653                          NaN                          NaN   \n",
      "654                          NaN                          NaN   \n",
      "655                          NaN                          NaN   \n",
      "656                          NaN                          NaN   \n",
      "657                          NaN                          NaN   \n",
      "\n",
      "     LG (mV) std deviation 600.0  \n",
      "0                       1.678394  \n",
      "1                       0.254141  \n",
      "2                       0.550513  \n",
      "3                       0.493402  \n",
      "4                       1.016563  \n",
      "..                           ...  \n",
      "653                          NaN  \n",
      "654                          NaN  \n",
      "655                          NaN  \n",
      "656                          NaN  \n",
      "657                          NaN  \n",
      "\n",
      "[658 rows x 204 columns]\n",
      "y_new_sample: [4 4 4 4 4 4 4 4 4 4 4 4 4 4 4 4 4 4 4 4 4 4 4 4 4 4 4 4 4 4 4 4 4 4 4 4 4\n",
      " 4 4 4 4 4 4 4 4 4 4 4 4 4 4 4 4 4 4 4 4 4 4 4 4 4 4 4 4 4 4 4 4 4 4 4 4 4\n",
      " 4 4 4 4 4 4 4 4 4 4 4 4 4 4 4 4 4 4 4 4 4 4 4 4 4 4 4 4 4 4 4 4 4 4 4 4 4\n",
      " 4 4 4 4 4 4 4 4 4 4 4 4 4 4 4 4 4 4 4 4 4 4 4 4 4 4 4 4 4 4 4 4 4 4 4 4 4\n",
      " 4 4 4 4 4 4 4 4 4 4 4 4 4 4 4 4 4 4 4 4 4 4 4 4 4 4 4 4 4 4 4 4 4 4 4 4 4\n",
      " 4 4 4 4 4 4 4 4 4 4 4 4 4 4 4 4 4 4 4 4 4 4 4 4 4 4 4 4 4 4 4 4 4 4 4 4 4\n",
      " 4 4 4 4 4 4 4 4 4 4 4 4 4 4 4 4 4 4 4 4 4 4 4 4 4 4 4 4 4 4 4 4 4 4 4 4 4\n",
      " 4 4 4 4 4 4 4 4 4 4 4 4 4 4 4 4 4 4 4 4 4 4 4 4 4 4 4 4 4 4 4 4 4 4 4 4 4\n",
      " 4 4 4 4 4 4 4 4 4 4 4 4 4 4 4 4 4 4 4 4 4 4 4 4 4 4 4 4 4 4 4 4 4 4 4 4 4\n",
      " 4 4 4 4 4 4 4 4 4 4 4 4 4 4 4 4 4 4 4 4 4 4 4 4 4 4 4 4 4 4 4 4 4 4 4 4 4\n",
      " 4 4 4 4 4 4 4 4 4 4 4 4 4 4 4 4 4 4 4 4 4 4 4 4 4 4 4 4 4 4 4 4 4 4 4 4 4\n",
      " 4 4 4 4 4 4 4 4 4 4 4 4 4 4 4 4 4 4 4 4 4 4 4 4 4 4 4 4 4 4 4 4 4 4 4 4 4\n",
      " 4 4 4 4 4 4 4 4 4 4 4 4 4 4 4 4 4 4 4 4 4 4 4 4 4 4 4 4 4 4 4 4 4 4 4 4 4\n",
      " 4 4 4 4 4 4 4 4 4 4 4 4 4 4 4 4 4 4 4 4 4 4 4 4 4 4 4 4 4 4 4 4 4 4 4 4 4\n",
      " 4 4 4 4 4 4 4 4 4 4 4 4 4 4 4 4 4 4 4 4 4 4 4 4 4 4 4 4 4 4 4 4 4 4 4 4 4\n",
      " 4 4 4 4 4 4 4 4 4 4 4 4 4 4 4 4 4 4 4 4 4 4 4 4 4 4 4 4 4 4 4 4 4 4 4 4 4\n",
      " 4 4 4 4 4 4 4 4 4 4 4 4 4 4 4 4 4 4 4 4 4 4 4 4 4 4 4 4 4 4 4 4 4 4 4 4 4\n",
      " 4 4 4 4 4 4 4 4 4 4 4 4 4 4 4 4 4 4 4 4 4 4 4 4 4 4 4 4 4]\n"
     ]
    }
   ],
   "source": [
    "input_path = 'C:/Users/Danim/Documents/GitHub/PIC-PAPER-01/data/experiment_2_plastics/processed/test/'\n",
    "df_new_sample = load_data_from_directory(input_path)\n",
    "df_new_sample = pd.concat([df_new_sample[['Frequency (GHz)', 'LG (mV)', 'HG (mV)']], df_new_sample[['Sample']]], axis=1)\n",
    "\n",
    "# Add .0 on every Frequency column value to match the format of the training data\n",
    "df_new_sample['Frequency (GHz)'] = df_new_sample['Frequency (GHz)'].astype(str) + '.0'\n",
    "print('X_new_sample:', df_new_sample)\n",
    "\n",
    "df_new_sample = freq_as_variable(df_new_sample, data_percentage=0.22) # 0.22\n",
    "\n",
    "X_new_sample = df_new_sample.drop(columns=['Sample'])\n",
    "y_new_sample = df_new_sample['Sample']\n",
    "\n",
    "if y_new_sample.dtype == 'object':\n",
    "    y_new_sample = le.transform(y_new_sample)\n",
    "\n",
    "print('X_new_sample:', X_new_sample)\n",
    "print('y_new_sample:', y_new_sample)\n"
   ]
  },
  {
   "cell_type": "markdown",
   "metadata": {
    "id": "afvxx1KzKzYp"
   },
   "source": [
    "## Train Model"
   ]
  },
  {
   "cell_type": "code",
   "execution_count": 119,
   "metadata": {
    "id": "-3a9IuRVK3Wq"
   },
   "outputs": [
    {
     "name": "stdout",
     "output_type": "stream",
     "text": [
      "Accuracy: 0.7066869300911854\n",
      "Precision: 1.0\n",
      "Recall: 0.7066869300911854\n",
      "F1: 0.8281389136242209\n",
      "              precision    recall  f1-score   support\n",
      "\n",
      "           0       0.00      0.00      0.00         0\n",
      "           3       0.00      0.00      0.00         0\n",
      "           4       1.00      0.71      0.83       658\n",
      "           6       0.00      0.00      0.00         0\n",
      "           7       0.00      0.00      0.00         0\n",
      "          10       0.00      0.00      0.00         0\n",
      "          11       0.00      0.00      0.00         0\n",
      "          12       0.00      0.00      0.00         0\n",
      "          14       0.00      0.00      0.00         0\n",
      "\n",
      "    accuracy                           0.71       658\n",
      "   macro avg       0.11      0.08      0.09       658\n",
      "weighted avg       1.00      0.71      0.83       658\n",
      "\n",
      "Counter({4: 465, 0: 67, 11: 58, 10: 26, 14: 22, 3: 14, 6: 4, 12: 1, 7: 1})\n",
      "                         Feature  Importance\n",
      "27            HG (mV) mean 370.0    0.045736\n",
      "28            HG (mV) mean 380.0    0.040299\n",
      "26            HG (mV) mean 360.0    0.038481\n",
      "30            HG (mV) mean 400.0    0.038013\n",
      "29            HG (mV) mean 390.0    0.036712\n",
      "23            HG (mV) mean 330.0    0.035578\n",
      "107           LG (mV) mean 150.0    0.035041\n",
      "22            HG (mV) mean 320.0    0.028227\n",
      "21            HG (mV) mean 310.0    0.027782\n",
      "37            HG (mV) mean 470.0    0.027476\n",
      "25            HG (mV) mean 350.0    0.027353\n",
      "13            HG (mV) mean 230.0    0.026395\n",
      "64   HG (mV) std deviation 230.0    0.025162\n",
      "39            HG (mV) mean 490.0    0.023774\n",
      "49            HG (mV) mean 590.0    0.022209\n",
      "153  LG (mV) std deviation 100.0    0.021609\n",
      "40            HG (mV) mean 500.0    0.021254\n",
      "35            HG (mV) mean 450.0    0.021234\n",
      "31            HG (mV) mean 410.0    0.020756\n",
      "43            HG (mV) mean 530.0    0.020028\n",
      "44            HG (mV) mean 540.0    0.018082\n",
      "38            HG (mV) mean 480.0    0.017730\n",
      "42            HG (mV) mean 520.0    0.016949\n",
      "10            HG (mV) mean 200.0    0.015670\n",
      "32            HG (mV) mean 420.0    0.015038\n"
     ]
    },
    {
     "name": "stderr",
     "output_type": "stream",
     "text": [
      "c:\\Users\\Danim\\Documents\\GitHub\\PIC-PAPER-01\\.venv\\Lib\\site-packages\\sklearn\\metrics\\_classification.py:1531: UndefinedMetricWarning: Recall is ill-defined and being set to 0.0 in labels with no true samples. Use `zero_division` parameter to control this behavior.\n",
      "  _warn_prf(average, modifier, f\"{metric.capitalize()} is\", len(result))\n",
      "c:\\Users\\Danim\\Documents\\GitHub\\PIC-PAPER-01\\.venv\\Lib\\site-packages\\sklearn\\metrics\\_classification.py:1531: UndefinedMetricWarning: Recall is ill-defined and being set to 0.0 in labels with no true samples. Use `zero_division` parameter to control this behavior.\n",
      "  _warn_prf(average, modifier, f\"{metric.capitalize()} is\", len(result))\n",
      "c:\\Users\\Danim\\Documents\\GitHub\\PIC-PAPER-01\\.venv\\Lib\\site-packages\\sklearn\\metrics\\_classification.py:1531: UndefinedMetricWarning: Recall is ill-defined and being set to 0.0 in labels with no true samples. Use `zero_division` parameter to control this behavior.\n",
      "  _warn_prf(average, modifier, f\"{metric.capitalize()} is\", len(result))\n",
      "c:\\Users\\Danim\\Documents\\GitHub\\PIC-PAPER-01\\.venv\\Lib\\site-packages\\sklearn\\metrics\\_classification.py:1531: UndefinedMetricWarning: Recall is ill-defined and being set to 0.0 in labels with no true samples. Use `zero_division` parameter to control this behavior.\n",
      "  _warn_prf(average, modifier, f\"{metric.capitalize()} is\", len(result))\n"
     ]
    }
   ],
   "source": [
    "# Model Parameters\n",
    "input_size = X_train.shape[1]\n",
    "output_size = len(np.unique(y_train))\n",
    "seed = set_seed(42)\n",
    "\n",
    "# print(f'input_size: {input_size}, output_size: {output_size}')\n",
    "# print(X_train, y_train)\n",
    "\n",
    "# Define Random Forest model\n",
    "rf_model = RandomForestClassifier(n_estimators=10, criterion= 'gini' , random_state=seed)\n",
    "\n",
    "# # Define Naive-Bayes model\n",
    "# nb_model = GaussianNB()\n",
    "\n",
    "# # Define Logistic Regression model\n",
    "# lr_model = LogisticRegression(max_iter=1000, random_state = seed)\n",
    "\n",
    "\n",
    "# Train model using wandb for metrics\n",
    "# TBD \n",
    "\n",
    "# Train the model\n",
    "rf_model.fit(X_train, y_train)\n",
    "\n",
    "\n",
    "# Predictions\n",
    "# y_pred = rf_model.predict(X_test)\n",
    "y_pred = rf_model.predict(X_new_sample)\n",
    "y_test_original = y_test.copy()\n",
    "y_test = y_new_sample\n",
    "\n",
    "# # Create a DataFrame to compare\n",
    "# df_comparison = pd.DataFrame({'Actual': y_test, 'Predicted': y_pred})\n",
    "# print(df_comparison.head(10))\n",
    "\n",
    "# Calculate metrics\n",
    "accuracy = accuracy_score(y_test, y_pred)\n",
    "precision = precision_score(y_test, y_pred, average='weighted')\n",
    "recall = recall_score(y_test, y_pred, average='weighted')\n",
    "f1 = f1_score(y_test, y_pred, average='weighted')\n",
    "\n",
    "print(f\"Accuracy: {accuracy}\")\n",
    "print(f\"Precision: {precision}\")\n",
    "print(f\"Recall: {recall}\")\n",
    "print(f\"F1: {f1}\")\n",
    "\n",
    "# Classification report\n",
    "print(classification_report(y_test, y_pred), )\n",
    "\n",
    "# Predictions made per class with its label encoded value\n",
    "print(Counter(y_pred))\n",
    "\n",
    "# Feature importance (Find 10 most important variables with its name and importance value)\n",
    "feature_importances = rf_model.feature_importances_\n",
    "feature_names = X_train.columns\n",
    "feature_importances_df = pd.DataFrame({'Feature': feature_names, 'Importance': feature_importances})\n",
    "feature_importances_df = feature_importances_df.sort_values('Importance', ascending=False)\n",
    "print(feature_importances_df.head(25))\n",
    "\n",
    "\n",
    "\n",
    "\n",
    "\n",
    "# Log metrics wandb\n",
    "# wandb.log({\"accuracy\": accuracy, \"precision\": precision, \"recall\": recall, \"f1\": f1})\n",
    "\n",
    "\n",
    "\n",
    "\n"
   ]
  },
  {
   "cell_type": "markdown",
   "metadata": {},
   "source": [
    "## Confusion Matrix"
   ]
  },
  {
   "cell_type": "code",
   "execution_count": null,
   "metadata": {},
   "outputs": [
    {
     "name": "stderr",
     "output_type": "stream",
     "text": [
      "C:\\Users\\Danim\\AppData\\Local\\Temp\\ipykernel_11980\\1660825651.py:13: RuntimeWarning: invalid value encountered in scalar divide\n",
      "  plt.text(j, i, f'{conf_matrix[i, j]}\\n({conf_matrix[i, j] / np.sum(conf_matrix, axis=1)[i] * 100:.1f}%)',\n"
     ]
    },
    {
     "data": {
      "image/png": "[encoded data removed]",
      "text/plain": [
       "<Figure size 1200x1000 with 2 Axes>"
      ]
     },
     "metadata": {},
     "output_type": "display_data"
    }
   ],
   "source": [
    "# Confusion matrix with matplotlib\n",
    "conf_matrix = confusion_matrix(y_test, y_pred)\n",
    "plt.figure(figsize=(12, 10))\n",
    "plt.imshow(conf_matrix, cmap='Blues')\n",
    "plt.title('Confusion Matrix')\n",
    "plt.colorbar()\n",
    "plt.xticks(np.arange(len(np.unique(y_test_original))), np.unique(y_test_original), rotation=45)\n",
    "plt.yticks(np.arange(len(np.unique(y_test_original))), np.unique(y_test_original))\n",
    "plt.ylabel('True')\n",
    "plt.xlabel('Predicted')\n",
    "for i in range(len(np.unique(y_test))):\n",
    "    for j in range(len(np.unique(y_test))):\n",
    "        plt.text(j, i, f'{conf_matrix[i, j]}\\n({conf_matrix[i, j] / np.sum(conf_matrix, axis=1)[i] * 100:.1f}%)',\n",
    "                horizontalalignment=\"center\",\n",
    "                verticalalignment=\"center\",\n",
    "                fontsize=9,\n",
    "                ha='center', va='center', color='white')\n",
    "plt.show()"
   ]
  },
  {
   "cell_type": "markdown",
   "metadata": {},
   "source": [
    "## Load and preprocess Other Test Data (Experiment 2)"
   ]
  },
  {
   "cell_type": "code",
   "execution_count": null,
   "metadata": {},
   "outputs": [],
   "source": [
    "#TBD"
   ]
  },
  {
   "cell_type": "code",
   "execution_count": null,
   "metadata": {},
   "outputs": [],
   "source": [
    "# ## Confusion Matrix\n",
    "# conf_matrix = confusion_matrix(le.inverse_transform(y_test.cpu().numpy()), predicted_labels, labels=le.classes_)\n",
    "\n",
    "# # Confusion matrix with matplotlib\n",
    "# plt.figure(figsize=(12, 10))\n",
    "# plt.imshow(conf_matrix, interpolation='nearest', cmap=plt.cm.Blues)\n",
    "# plt.title('Confusion Matrix')\n",
    "# plt.colorbar()\n",
    "# tick_marks = np.arange(len(le.classes_))\n",
    "# plt.xticks(tick_marks, le.classes_, rotation=45)\n",
    "# plt.yticks(tick_marks, le.classes_)\n",
    "\n",
    "# # Normalize the confusion matrix\n",
    "# conf_matrix_normalized = np.nan_to_num(conf_matrix.astype('float') / conf_matrix.sum(axis=1)[:, np.newaxis])\n",
    "\n",
    "# # Print the normalized values inside the matrix as percentages\n",
    "# thresh = conf_matrix.max() / 2.\n",
    "# for i, j in np.ndindex(conf_matrix.shape):\n",
    "#     plt.text(j, i, f\"{conf_matrix[i, j]}\\n ({conf_matrix_normalized[i, j] * 100:.1f}%)\",\n",
    "#              horizontalalignment=\"center\",\n",
    "#              verticalalignment=\"center\",\n",
    "#              fontsize=9,\n",
    "#              color=\"white\" if conf_matrix[i, j] > thresh else \"black\")\n",
    "\n",
    "# plt.ylabel('True label')\n",
    "# plt.xlabel('Predicted label')\n",
    "# plt.tight_layout()"
   ]
  },
  {
   "cell_type": "markdown",
   "metadata": {},
   "source": [
    "## Feature Importance TBD"
   ]
  },
  {
   "cell_type": "markdown",
   "metadata": {
    "id": "WEtZPi2fLQGL"
   },
   "source": [
    "## Labels"
   ]
  },
  {
   "cell_type": "markdown",
   "metadata": {
    "id": "ktsgpY21NcOV"
   },
   "source": [
    "| Original Label | Encoded Value |\n",
    "|----------------|---------------|\n",
    "| A1             | 0             |\n",
    "| B1             | 1             |\n",
    "| C1             | 2             |\n",
    "| D1             | 3             |\n",
    "| E1             | 4             |\n",
    "| F1             | 5             |\n",
    "| G1             | 6             |\n",
    "| H1             | 7             |\n",
    "| I1             | 8             |\n",
    "| J1             | 9             |\n",
    "| K1             | 10            |\n",
    "| L1             | 11            |\n",
    "| M1             | 12            |\n",
    "| N1             | 13            |\n",
    "| REF            | 14            |"
   ]
  }
 ],
 "metadata": {
  "colab": {
   "provenance": []
  },
  "kernelspec": {
   "display_name": ".venv",
   "language": "python",
   "name": "python3"
  },
  "language_info": {
   "codemirror_mode": {
    "name": "ipython",
    "version": 3
   },
   "file_extension": ".py",
   "mimetype": "text/x-python",
   "name": "python",
   "nbconvert_exporter": "python",
   "pygments_lexer": "ipython3",
   "version": "3.12.3"
  }
 },
 "nbformat": 4,
 "nbformat_minor": 0
}
