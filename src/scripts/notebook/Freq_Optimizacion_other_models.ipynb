{
 "cells": [
  {
   "cell_type": "markdown",
   "metadata": {
    "id": "peUcVKtbGPfD"
   },
   "source": [
    "# Important Frequencies Selection\n",
    "\n",
    "## Import Libraries and seed\n",
    "Import the necessary libraries for data processing, model building, training, and evaluation. Adding a seed ensures reproducibility by making sure that the random number generation is consistent across different runs."
   ]
  },
  {
   "cell_type": "code",
   "execution_count": null,
   "metadata": {
    "colab": {
     "base_uri": "https://localhost:8080/"
    },
    "executionInfo": {
     "elapsed": 15527,
     "status": "ok",
     "timestamp": 1731066553135,
     "user": {
      "displayName": "DANIEL MORENO PARIS",
      "userId": "17921422726169854440"
     },
     "user_tz": -60
    },
    "id": "9a9HvzrNG8iw",
    "outputId": "19350658-7b5d-48e7-e90c-e7ddb3a578b1"
   },
   "outputs": [
    {
     "name": "stdout",
     "output_type": "stream",
     "text": [
      "Using device: cpu\n"
     ]
    }
   ],
   "source": [
    "import os\n",
    "import random\n",
    "\n",
    "import numpy as np\n",
    "import pandas as pd\n",
    "import torch\n",
    "import torch.nn as nn\n",
    "import torch.optim as optim\n",
    "import joblib\n",
    "import matplotlib.pyplot as plt\n",
    "from sklearn.model_selection import train_test_split\n",
    "from sklearn.preprocessing import StandardScaler, LabelEncoder\n",
    "from sklearn.metrics import classification_report, confusion_matrix\n",
    "from torch.utils.data import DataLoader, TensorDataset\n",
    "from collections import Counter\n",
    "\n",
    "# Models\n",
    "from sklearn.ensemble import RandomForestClassifier\n",
    "from sklearn.naive_bayes import GaussianNB\n",
    "from sklearn.linear_model import LogisticRegression\n",
    "from sklearn.metrics import accuracy_score, precision_score, recall_score, f1_score\n",
    "\n",
    "\n",
    "import wandb\n",
    "\n",
    "def set_seed(seed):\n",
    "    np.random.seed(seed)\n",
    "    torch.manual_seed(seed)\n",
    "    random.seed(seed)\n",
    "    if torch.cuda.is_available():\n",
    "        torch.cuda.manual_seed(seed)\n",
    "        torch.cuda.manual_seed_all(seed)\n",
    "        torch.backends.cudnn.deterministic = True\n",
    "        torch.backends.cudnn.benchmark = False\n",
    "    return seed\n",
    "\n",
    "# Device configuration\n",
    "device = torch.device('cuda' if torch.cuda.is_available() else 'cpu')\n",
    "print('Using device:', device)\n",
    "\n",
    "# Set seed for reproducibility\n",
    "seed = set_seed(42)\n",
    "\n"
   ]
  },
  {
   "cell_type": "code",
   "execution_count": 4,
   "metadata": {
    "executionInfo": {
     "elapsed": 3,
     "status": "ok",
     "timestamp": 1731066584724,
     "user": {
      "displayName": "DANIEL MORENO PARIS",
      "userId": "17921422726169854440"
     },
     "user_tz": -60
    },
    "id": "hAY8BfVX9XCK"
   },
   "outputs": [],
   "source": [
    "def load_data_from_directory(input_path):\n",
    "    data_frames = []\n",
    "    for file in os.listdir(input_path):\n",
    "        if file.endswith('.csv'):\n",
    "            df = pd.read_csv(os.path.join(input_path, file), delimiter=';', header=0)\n",
    "            data_frames.append(df)\n",
    "    data = pd.concat(data_frames, ignore_index=True)\n",
    "\n",
    "    return data"
   ]
  },
  {
   "cell_type": "markdown",
   "metadata": {
    "id": "wiCTw-qcKXhn"
   },
   "source": [
    "## Preprocessing Data\n",
    "Define a function to preprocess the data. This includes encoding categorical labels and standardizing the features."
   ]
  },
  {
   "cell_type": "code",
   "execution_count": 32,
   "metadata": {
    "executionInfo": {
     "elapsed": 3,
     "status": "ok",
     "timestamp": 1731066584724,
     "user": {
      "displayName": "DANIEL MORENO PARIS",
      "userId": "17921422726169854440"
     },
     "user_tz": -60
    },
    "id": "zJoZqi5LDPl8"
   },
   "outputs": [],
   "source": [
    "def calculate_averages_and_dispersion(data, data_percentage):\n",
    "    df = data\n",
    "    results = []\n",
    "    for (sample, freq), group in df.groupby(['Sample', 'Frequency (GHz)']):\n",
    "        window_size = max(1, int(len(group) * data_percentage / 100))\n",
    "        # print(f\"Processing sample: {sample}, frequency: {freq} with window size: {window_size}\")\n",
    "        for start in range(0, len(group), window_size):\n",
    "            window_data = group.iloc[start:start + window_size]\n",
    "            mean_values = window_data[['LG (mV)', 'HG (mV)']].mean()\n",
    "            std_deviation_values = window_data[['LG (mV)', 'HG (mV)']].std()\n",
    "            results.append({\n",
    "                'Frequency (GHz)': freq,\n",
    "                'LG (mV) mean': mean_values['LG (mV)'],\n",
    "                'HG (mV) mean': mean_values['HG (mV)'],\n",
    "                'LG (mV) std deviation': std_deviation_values['LG (mV)'],\n",
    "                'HG (mV) std deviation': std_deviation_values['HG (mV)'],\n",
    "                # 'Thickness (mm)': window_data['Thickness (mm)'].iloc[0], ## COMMENT\n",
    "                'Sample': sample,\n",
    "            })\n",
    "    results_df = pd.DataFrame(results)\n",
    "    # results_df.to_csv(output_file, sep=';', index=False)\n",
    "    # print(f\"Processed {input_file} and saved to {output_file}\")\n",
    "    # print(results_df)\n",
    "    return results_df"
   ]
  },
  {
   "cell_type": "markdown",
   "metadata": {
    "id": "vXiN30xA1kKX"
   },
   "source": [
    "## Pivoting Frequency values to columns"
   ]
  },
  {
   "cell_type": "code",
   "execution_count": null,
   "metadata": {
    "executionInfo": {
     "elapsed": 235,
     "status": "ok",
     "timestamp": 1731067118965,
     "user": {
      "displayName": "DANIEL MORENO PARIS",
      "userId": "17921422726169854440"
     },
     "user_tz": -60
    },
    "id": "Kijzt73J1nyo"
   },
   "outputs": [],
   "source": [
    "def freq_as_variable(df, data_percentage):\n",
    "    '''Modify df to have Frequency values (100,110,120 and so on) as and input variables in the columns'''\n",
    "\n",
    "    # Remove Thickness column\n",
    "    if 'Thickness (mm)' in df.columns:\n",
    "        df = df.drop(columns=['Thickness (mm)'])\n",
    "\n",
    "    # 1s window_size 100/27s = 3.7% of the data is used for each window\n",
    "    df_window = calculate_averages_and_dispersion(df, data_percentage) \n",
    "\n",
    "    # Add a unique identifier column to avoid duplicate entries in the index\n",
    "    df_window['unique_id'] = df_window.groupby(['Sample', 'Frequency (GHz)']).cumcount()\n",
    "\n",
    "    # Pivot the DataFrame to wide format\n",
    "    df_pivot = df_window.pivot(index=['Sample', 'unique_id'], columns='Frequency (GHz)')\n",
    "\n",
    "    # Flatten the MultiIndex columns - Ordered by Frequency + (HG mean, HG std deviation, LG mean, LG std deviation)\n",
    "    # df_pivot.columns = [' '.join(map(str, col)) for col in df_pivot.columns]\n",
    "    df_pivot.columns = [' '.join([str(col[1]), str(col[0])]) for col in df_pivot.columns]\n",
    "\n",
    "\n",
    "    # Drop columns with all NaN values\n",
    "    df_pivot = df_pivot.dropna(axis=1, how='all')\n",
    "\n",
    "    # Reset index to make 'Sample' and 'unique_id' columns again\n",
    "    df_pivot = df_pivot.reset_index()\n",
    "\n",
    "    # Optional - Sort the columns if needed\n",
    "    df_pivot = df_pivot.reindex(sorted(df_pivot.columns), axis=1)\n",
    "\n",
    "    # Remove 'unique_id' column\n",
    "    df_pivot = df_pivot.drop(columns=['unique_id'])\n",
    "\n",
    "    return df_pivot"
   ]
  },
  {
   "cell_type": "code",
   "execution_count": 227,
   "metadata": {
    "colab": {
     "base_uri": "https://localhost:8080/",
     "height": 652
    },
    "executionInfo": {
     "elapsed": 52182,
     "status": "error",
     "timestamp": 1731067172783,
     "user": {
      "displayName": "DANIEL MORENO PARIS",
      "userId": "17921422726169854440"
     },
     "user_tz": -60
    },
    "id": "UTXvxCzu6MBA",
    "outputId": "41925df4-d9a4-424b-fc94-bf98e95a101b"
   },
   "outputs": [
    {
     "data": {
      "text/html": [
       "<div>\n",
       "<style scoped>\n",
       "    .dataframe tbody tr th:only-of-type {\n",
       "        vertical-align: middle;\n",
       "    }\n",
       "\n",
       "    .dataframe tbody tr th {\n",
       "        vertical-align: top;\n",
       "    }\n",
       "\n",
       "    .dataframe thead th {\n",
       "        text-align: right;\n",
       "    }\n",
       "</style>\n",
       "<table border=\"1\" class=\"dataframe\">\n",
       "  <thead>\n",
       "    <tr style=\"text-align: right;\">\n",
       "      <th></th>\n",
       "      <th>Frequency (GHz)</th>\n",
       "      <th>LG (mV)</th>\n",
       "      <th>HG (mV)</th>\n",
       "      <th>Sample</th>\n",
       "    </tr>\n",
       "  </thead>\n",
       "  <tbody>\n",
       "    <tr>\n",
       "      <th>0</th>\n",
       "      <td>100.0</td>\n",
       "      <td>-7.080942</td>\n",
       "      <td>-0.854611</td>\n",
       "      <td>A1</td>\n",
       "    </tr>\n",
       "    <tr>\n",
       "      <th>1</th>\n",
       "      <td>100.0</td>\n",
       "      <td>67.024785</td>\n",
       "      <td>0.244141</td>\n",
       "      <td>A1</td>\n",
       "    </tr>\n",
       "    <tr>\n",
       "      <th>2</th>\n",
       "      <td>100.0</td>\n",
       "      <td>124.893178</td>\n",
       "      <td>-1.098776</td>\n",
       "      <td>A1</td>\n",
       "    </tr>\n",
       "    <tr>\n",
       "      <th>3</th>\n",
       "      <td>100.0</td>\n",
       "      <td>91.075571</td>\n",
       "      <td>0.000000</td>\n",
       "      <td>A1</td>\n",
       "    </tr>\n",
       "    <tr>\n",
       "      <th>4</th>\n",
       "      <td>100.0</td>\n",
       "      <td>48.956174</td>\n",
       "      <td>0.122094</td>\n",
       "      <td>A1</td>\n",
       "    </tr>\n",
       "  </tbody>\n",
       "</table>\n",
       "</div>"
      ],
      "text/plain": [
       "   Frequency (GHz)     LG (mV)   HG (mV) Sample\n",
       "0            100.0   -7.080942 -0.854611     A1\n",
       "1            100.0   67.024785  0.244141     A1\n",
       "2            100.0  124.893178 -1.098776     A1\n",
       "3            100.0   91.075571  0.000000     A1\n",
       "4            100.0   48.956174  0.122094     A1"
      ]
     },
     "execution_count": 227,
     "metadata": {},
     "output_type": "execute_result"
    }
   ],
   "source": [
    "# Load the data from the directory\n",
    "input_path = 'C:/Users/Danim/Documents/GitHub/PIC-PAPER-01/data/experiment_1_plastics/processed_27s/training_file/test/'\n",
    "df = load_data_from_directory(input_path)\n",
    "\n",
    "df = pd.concat([df[['Frequency (GHz)', 'LG (mV)', 'HG (mV)']], df[['Sample']]], axis=1)\n",
    "\n",
    "df.head()"
   ]
  },
  {
   "cell_type": "markdown",
   "metadata": {},
   "source": [
    "## Sample a test set"
   ]
  },
  {
   "cell_type": "code",
   "execution_count": 253,
   "metadata": {},
   "outputs": [],
   "source": [
    "# train_set, test_set = train_test_split(df, test_size=0.2, random_state=42, stratify=df['Sample']) \n",
    "test_percentage = 0.2\n",
    "train_set, test_set = train_test_split(df, test_size=test_percentage, random_state=42) \n",
    "\n",
    "# stratify=df['Sample'] to keep the same proportion of samples in the train and test set"
   ]
  },
  {
   "cell_type": "code",
   "execution_count": 166,
   "metadata": {},
   "outputs": [
    {
     "data": {
      "image/png": "[encoded data removed]",
      "text/plain": [
       "<Figure size 1600x400 with 2 Axes>"
      ]
     },
     "metadata": {},
     "output_type": "display_data"
    }
   ],
   "source": [
    "fig, ax = plt.subplots(1, 2, figsize=(16, 4))\n",
    "\n",
    "# Plot train set\n",
    "train_set[['Sample']].value_counts().plot.bar(ax=ax[0], legend=False)\n",
    "ax[0].set_xlabel('Data Distribution of target variable for train dataset')\n",
    "ax[0].set_ylabel('Count')\n",
    "\n",
    "# Plot test set\n",
    "test_set[['Sample']].value_counts().plot.bar(ax=ax[1], legend=False)\n",
    "ax[1].set_xlabel('Data Distribution of target variable for test dataset')\n",
    "ax[1].set_ylabel('Count')\n",
    "\n",
    "plt.tight_layout() \n",
    "plt.show()"
   ]
  },
  {
   "cell_type": "code",
   "execution_count": 159,
   "metadata": {},
   "outputs": [],
   "source": [
    "train_ex = train_set.copy()"
   ]
  },
  {
   "cell_type": "code",
   "execution_count": 160,
   "metadata": {},
   "outputs": [
    {
     "name": "stdout",
     "output_type": "stream",
     "text": [
      "<class 'pandas.core.frame.DataFrame'>\n",
      "Index: 1936500 entries, 1587912 to 2219110\n",
      "Data columns (total 4 columns):\n",
      " #   Column           Dtype  \n",
      "---  ------           -----  \n",
      " 0   Frequency (GHz)  float64\n",
      " 1   LG (mV)          float64\n",
      " 2   HG (mV)          float64\n",
      " 3   Sample           object \n",
      "dtypes: float64(3), object(1)\n",
      "memory usage: 73.9+ MB\n"
     ]
    }
   ],
   "source": [
    "train_ex.info()\n",
    "# train_ex.describe()"
   ]
  },
  {
   "cell_type": "code",
   "execution_count": 167,
   "metadata": {},
   "outputs": [
    {
     "data": {
      "text/plain": [
       "Index([100.0, 110.0, 120.0, 130.0, 140.0, 150.0, 160.0, 170.0, 180.0, 190.0,\n",
       "       200.0, 210.0, 220.0, 230.0, 240.0, 250.0, 260.0, 270.0, 280.0, 290.0,\n",
       "       300.0, 310.0, 320.0, 330.0, 340.0, 350.0, 360.0, 370.0, 380.0, 390.0,\n",
       "       400.0, 410.0, 420.0, 430.0, 440.0, 450.0, 460.0, 470.0, 480.0, 490.0,\n",
       "       500.0, 510.0, 520.0, 530.0, 540.0, 550.0, 560.0, 570.0, 580.0, 590.0,\n",
       "       600.0],\n",
       "      dtype='float64', name='Frequency (GHz)')"
      ]
     },
     "execution_count": 167,
     "metadata": {},
     "output_type": "execute_result"
    }
   ],
   "source": [
    "train_ex['Sample'].nunique()\n",
    "train_ex['Frequency (GHz)'].value_counts().sort_index().index"
   ]
  },
  {
   "cell_type": "code",
   "execution_count": 169,
   "metadata": {},
   "outputs": [
    {
     "data": {
      "image/png": "[encoded data removed]",
      "text/plain": [
       "<Figure size 1000x400 with 1 Axes>"
      ]
     },
     "metadata": {},
     "output_type": "display_data"
    }
   ],
   "source": [
    "ax = train_ex['Frequency (GHz)'].plot.hist(figsize=(10, 4), bins=408)\n",
    "ax.set_xlabel('Frequency (GHz)')\n",
    "ax.set_ylabel('Nums of sample by frecuency')\n",
    "plt.tight_layout()\n",
    "plt.show()"
   ]
  },
  {
   "cell_type": "code",
   "execution_count": 309,
   "metadata": {},
   "outputs": [
    {
     "name": "stdout",
     "output_type": "stream",
     "text": [
      "Data percentage: 0.462962962962963%\n",
      "Data percentage test: 1.851851851851852%\n"
     ]
    }
   ],
   "source": [
    "# Calculate the percentage of data used for each window\n",
    "time_window_s = 0.1\n",
    "data_percentage = (100/(27*(1-test_percentage)))*time_window_s\n",
    "data_percentage_test = (100/(27*(test_percentage)))*time_window_s\n",
    "print(f\"Data percentage: {data_percentage}%\")\n",
    "print(f\"Data percentage test: {data_percentage_test}%\")\n",
    "\n",
    "# Introduce Frequency values as input variables\n",
    "train_set_test = freq_as_variable(train_set, data_percentage = data_percentage)\n",
    "test_set_test = freq_as_variable(test_set, data_percentage = data_percentage_test)\n",
    "# train_set_test.head()\n",
    "# test_set_test.head()\n",
    "\n",
    "# If a row has any NaN value, remove that row\n",
    "train_set_test = train_set_test.dropna()\n",
    "test_set_test = test_set_test.dropna()\n",
    "\n",
    "#Save the processed data to a CSV file\n",
    "output_path = 'C:/Users/Danim/Documents/GitHub/PIC-PAPER-01/data/experiment_1_plastics/processed_27s/training_file/train_set.csv'\n",
    "output_path_test = 'C:/Users/Danim/Documents/GitHub/PIC-PAPER-01/data/experiment_1_plastics/processed_27s/training_file/test_set.csv'\n",
    "\n",
    "train_set_test.to_csv(output_path, sep = ';', index=False)\n",
    "test_set_test.to_csv(output_path_test, sep = ';', index=False)\n",
    "\n"
   ]
  },
  {
   "cell_type": "markdown",
   "metadata": {},
   "source": [
    "## Login in Weights & Biases"
   ]
  },
  {
   "cell_type": "code",
   "execution_count": 26,
   "metadata": {
    "colab": {
     "base_uri": "https://localhost:8080/",
     "height": 145
    },
    "executionInfo": {
     "elapsed": 12301,
     "status": "ok",
     "timestamp": 1731066584285,
     "user": {
      "displayName": "DANIEL MORENO PARIS",
      "userId": "17921422726169854440"
     },
     "user_tz": -60
    },
    "id": "AoCyZSTt7qqS",
    "outputId": "c7c7febf-6ef9-4081-c578-72109a882497"
   },
   "outputs": [
    {
     "name": "stdout",
     "output_type": "stream",
     "text": [
      "env: WANDB_API_KEY=94b4debef3cc9601df4d91995649548f8ab3a097\n"
     ]
    },
    {
     "data": {
      "text/plain": [
       "True"
      ]
     },
     "execution_count": 26,
     "metadata": {},
     "output_type": "execute_result"
    }
   ],
   "source": [
    "###\n",
    "### SKIP FOR NOW ###\n",
    "###\n",
    "\n",
    "%env WANDB_API_KEY=94b4debef3cc9601df4d91995649548f8ab3a097\n",
    "wandb.login()\n",
    "\n",
    "# wandb.init(project='PIC-PAPER-01', entity='UC3M', name='RandomForest')\n",
    "# wandb.watch(rf_model)"
   ]
  },
  {
   "cell_type": "markdown",
   "metadata": {},
   "source": [
    "# Prepare Training Data\n",
    "## Split the data into X and y\n"
   ]
  },
  {
   "cell_type": "code",
   "execution_count": 395,
   "metadata": {},
   "outputs": [
    {
     "name": "stdout",
     "output_type": "stream",
     "text": [
      "     360.0 HG (mV) mean  360.0 LG (mV) mean\n",
      "0            674.920349            0.876794\n",
      "1            663.044796            0.932287\n",
      "2            674.309939            0.765807\n",
      "3            672.112404            1.254148\n",
      "4            680.891441            0.810202\n",
      "..                  ...                 ...\n",
      "911            2.330711            1.143162\n",
      "912            2.752443            1.476121\n",
      "913            2.375100            1.154260\n",
      "914            3.163114            1.476121\n",
      "915            3.784641            1.243049\n",
      "\n",
      "[813 rows x 2 columns]\n"
     ]
    }
   ],
   "source": [
    "# Split the data into X and y\n",
    "X_train = train_set_test.drop(columns=['Sample'])\n",
    "y_train = train_set_test['Sample']\n",
    "\n",
    "X_test = test_set_test.drop(columns=['Sample'])\n",
    "y_test = test_set_test['Sample']\n",
    "\n",
    "# Encode the target variable if it's categorical\n",
    "if y_train.dtype == 'object':\n",
    "    le = LabelEncoder()\n",
    "    y_train = le.fit_transform(y_train)\n",
    "\n",
    "if y_test.dtype == 'object':\n",
    "    y_test = le.transform(y_test)\n",
    "\n",
    "\n",
    "labels = ['A1', 'B1', 'C1', 'D1', 'E1', 'F1', 'G1', 'H1', 'I1', 'J1', 'K1', 'L1', 'M1', 'N1', 'REF']\n",
    "\n",
    "# Reduce number of different samples for testing\n",
    "# X_train = X_train[]\n",
    "\n",
    "\n",
    "\n",
    "\n",
    "# le is the fitted LabelEncoder - Saving Encoder\n",
    "# joblib.dump(le, 'label_encoder.pkl')\n",
    "\n",
    "# Reduce the number of input features\n",
    "freq = 360\n",
    "num_freqs = 1\n",
    "freq_col = int(((freq - 100)*4)/10)\n",
    "freq_col_end = freq_col + 4 * num_freqs\n",
    "\n",
    "X_train = X_train.iloc[:, freq_col:freq_col_end]\n",
    "X_test = X_test.iloc[:, freq_col:freq_col_end]\n",
    "\n",
    "# Eliminate std devt columns\n",
    "X_train = X_train.iloc[:, ::2]\n",
    "X_test = X_test.iloc[:, ::2]\n",
    "\n",
    "print(X_test) #HG mean, HG std dev, LG mean, LG std dev"
   ]
  },
  {
   "cell_type": "code",
   "execution_count": 311,
   "metadata": {},
   "outputs": [],
   "source": [
    "# Model Parameters\n",
    "input_size = X_train.shape[1]\n",
    "output_size = len(np.unique(y_train))\n",
    "seed = set_seed(42)\n",
    "\n",
    "# print(f'input_size: {input_size}, output_size: {output_size}')\n",
    "# print(X_train, y_train)"
   ]
  },
  {
   "cell_type": "markdown",
   "metadata": {
    "id": "afvxx1KzKzYp"
   },
   "source": [
    "### Random Forest Model"
   ]
  },
  {
   "cell_type": "code",
   "execution_count": 312,
   "metadata": {},
   "outputs": [],
   "source": [
    "def random_forest_model(X_train, y_train, seed):\n",
    "    # Define Random Forest model\n",
    "    rf_model = RandomForestClassifier(n_estimators=10, criterion='gini', random_state=seed)\n",
    "    # Train the model\n",
    "    rf_model.fit(X_train, y_train)\n",
    "    return rf_model"
   ]
  },
  {
   "cell_type": "markdown",
   "metadata": {},
   "source": [
    "### Define Naive-Bayes model\n"
   ]
  },
  {
   "cell_type": "code",
   "execution_count": 313,
   "metadata": {},
   "outputs": [],
   "source": [
    "def naive_bayes_model(X_train, y_train):\n",
    "    nb_model = GaussianNB()\n",
    "    nb_model.fit(X_train, y_train)\n",
    "    return nb_model"
   ]
  },
  {
   "cell_type": "markdown",
   "metadata": {},
   "source": [
    "### Logistic Regression"
   ]
  },
  {
   "cell_type": "code",
   "execution_count": 314,
   "metadata": {},
   "outputs": [],
   "source": [
    "def logistic_regression_model(X_train, y_train, seed):\n",
    "    lr_model = LogisticRegression(max_iter=10000, random_state=seed)\n",
    "    lr_model.fit(X_train, y_train)\n",
    "    return lr_model"
   ]
  },
  {
   "cell_type": "code",
   "execution_count": 396,
   "metadata": {
    "id": "-3a9IuRVK3Wq"
   },
   "outputs": [
    {
     "name": "stdout",
     "output_type": "stream",
     "text": [
      "Accuracy: 0.8105781057810578\n",
      "Precision: 0.8101475222042162\n",
      "Recall: 0.8105781057810578\n",
      "F1: 0.80635437131808\n",
      "              precision    recall  f1-score   support\n",
      "\n",
      "           0       0.98      1.00      0.99        54\n",
      "           1       0.83      1.00      0.91        54\n",
      "           2       0.74      0.85      0.79        54\n",
      "           3       1.00      1.00      1.00        54\n",
      "           4       0.96      0.96      0.96        54\n",
      "           5       0.85      0.65      0.74        54\n",
      "           6       0.84      0.93      0.88        55\n",
      "           7       0.54      0.52      0.53        54\n",
      "           8       0.62      0.53      0.57        55\n",
      "           9       0.66      0.80      0.72        54\n",
      "          10       0.80      0.76      0.78        54\n",
      "          11       0.73      0.69      0.70        54\n",
      "          12       0.79      0.57      0.67        54\n",
      "          13       0.80      0.91      0.85        54\n",
      "          14       1.00      1.00      1.00        55\n",
      "\n",
      "    accuracy                           0.81       813\n",
      "   macro avg       0.81      0.81      0.81       813\n",
      "weighted avg       0.81      0.81      0.81       813\n",
      "\n",
      "Counter({1: 65, 9: 65, 2: 62, 6: 61, 13: 61, 0: 55, 14: 55, 4: 54, 3: 54, 7: 52, 10: 51, 11: 51, 8: 47, 5: 41, 12: 39})\n",
      "              Feature  Importance\n",
      "0  360.0 HG (mV) mean    1.086961\n",
      "1  360.0 LG (mV) mean   -0.567936\n"
     ]
    },
    {
     "name": "stderr",
     "output_type": "stream",
     "text": [
      "c:\\Users\\Danim\\Documents\\GitHub\\PIC-PAPER-01\\.venv\\Lib\\site-packages\\sklearn\\linear_model\\_logistic.py:469: ConvergenceWarning: lbfgs failed to converge (status=1):\n",
      "STOP: TOTAL NO. of ITERATIONS REACHED LIMIT.\n",
      "\n",
      "Increase the number of iterations (max_iter) or scale the data as shown in:\n",
      "    https://scikit-learn.org/stable/modules/preprocessing.html\n",
      "Please also refer to the documentation for alternative solver options:\n",
      "    https://scikit-learn.org/stable/modules/linear_model.html#logistic-regression\n",
      "  n_iter_i = _check_optimize_result(\n"
     ]
    },
    {
     "data": {
      "text/plain": [
       "Text(0.5, 0, 'Importance')"
      ]
     },
     "execution_count": 396,
     "metadata": {},
     "output_type": "execute_result"
    },
    {
     "data": {
      "image/png": "[encoded data removed]",
      "text/plain": [
       "<Figure size 2000x1000 with 1 Axes>"
      ]
     },
     "metadata": {},
     "output_type": "display_data"
    }
   ],
   "source": [
    "# Train models\n",
    "rf_model = random_forest_model(X_train, y_train, seed)\n",
    "# nb_model = naive_bayes_model(X_train, y_train)\n",
    "lr_model = logistic_regression_model(X_train, y_train, seed)\n",
    "\n",
    "# Predictions\n",
    "# y_pred = rf_model.predict(X_test)\n",
    "# y_pred = nb_model.predict(X_test)\n",
    "y_pred = lr_model.predict(X_test)\n",
    "\n",
    "# Save the model\n",
    "# joblib.dump(rf_model, 'random_forest_model.pkl')\n",
    "# joblib.dump(nb_model, 'naive_bayes_model.pkl')\n",
    "# joblib.dump(lr_model, 'logistic_regression_model.pkl')\n",
    "\n",
    "# # Create a DataFrame to compare\n",
    "# df_comparison = pd.DataFrame({'Actual': y_test, 'Predicted': y_pred})\n",
    "# print(df_comparison.head(10))\n",
    "\n",
    "# Calculate metrics\n",
    "accuracy = accuracy_score(y_test, y_pred)\n",
    "precision = precision_score(y_test, y_pred, average='weighted')\n",
    "recall = recall_score(y_test, y_pred, average='weighted')\n",
    "f1 = f1_score(y_test, y_pred, average='weighted')\n",
    "\n",
    "print(f\"Accuracy: {accuracy}\")\n",
    "print(f\"Precision: {precision}\")\n",
    "print(f\"Recall: {recall}\")\n",
    "print(f\"F1: {f1}\")\n",
    "\n",
    "# Classification report\n",
    "print(classification_report(y_test, y_pred),)\n",
    "\n",
    "# Predictions made per class with its label encoded value\n",
    "print(Counter(y_pred))\n",
    "\n",
    "# Feature importance (Find 10 most important variables with its name and importance value)\n",
    "# feature_importances = rf_model.feature_importances_\n",
    "feature_importances = lr_model.coef_[0]\n",
    "\n",
    "feature_names = X_train.columns\n",
    "feature_importances_df = pd.DataFrame({'Feature': feature_names, 'Importance': feature_importances})\n",
    "feature_importances_df = feature_importances_df.sort_values('Importance', ascending=False)\n",
    "# Font size\n",
    "plt.rcParams.update({'font.size': 6})\n",
    "print(feature_importances_df.head(50))\n",
    "plt.figure(figsize=(20, 10))\n",
    "plt.barh(feature_importances_df['Feature'][:50], feature_importances_df['Importance'][:50])\n",
    "plt.xlabel('Importance')\n"
   ]
  },
  {
   "cell_type": "markdown",
   "metadata": {},
   "source": [
    "## Confusion Matrix"
   ]
  },
  {
   "cell_type": "code",
   "execution_count": 399,
   "metadata": {},
   "outputs": [],
   "source": [
    "# # Confusion matrix with matplotlib\n",
    "\n",
    "def plot_confusion_matrix(y_true, y_pred, labels):\n",
    "    conf_matrix = confusion_matrix(y_true, y_pred)\n",
    "    plt.figure(figsize=(14, 12))\n",
    "    plt.imshow(conf_matrix, cmap='Blues')\n",
    "    plt.title('Confusion Matrix')\n",
    "    plt.colorbar()\n",
    "    plt.xticks(np.arange(len(labels)), labels, rotation=45)\n",
    "    plt.yticks(np.arange(len(labels)), labels)\n",
    "    plt.ylabel('True')\n",
    "    plt.xlabel('Predicted')\n",
    "    for i in range(len(labels)):\n",
    "        for j in range(len(labels)):\n",
    "            plt.text(j, i, f'{conf_matrix[i, j]}\\n({conf_matrix[i, j] / np.sum(conf_matrix, axis=1)[i] * 100:.1f}%)',\n",
    "                     horizontalalignment=\"center\",\n",
    "                     verticalalignment=\"center\",\n",
    "                     fontsize=9,\n",
    "                     ha='center', va='center', color='white')\n",
    "    plt.show()\n",
    "\n",
    "# Call the function with appropriate arguments\n",
    "labels = ['A1', 'B1', 'C1', 'D1', 'E1', 'F1', 'G1', 'H1', 'I1', 'J1', 'K1', 'L1', 'M1', 'N1', 'REF']\n"
   ]
  },
  {
   "cell_type": "code",
   "execution_count": 400,
   "metadata": {},
   "outputs": [
    {
     "data": {
      "image/png": "[encoded data removed]",
      "text/plain": [
       "<Figure size 1400x1200 with 2 Axes>"
      ]
     },
     "metadata": {},
     "output_type": "display_data"
    }
   ],
   "source": [
    "plot_confusion_matrix(y_test, y_pred, np.unique(y_test))"
   ]
  },
  {
   "cell_type": "markdown",
   "metadata": {},
   "source": [
    "## Load and preprocess Other Test Data (Experiment 2)\n",
    "Prepare new sample for testing (Testing other samples, out of initial dataset)"
   ]
  },
  {
   "cell_type": "code",
   "execution_count": 383,
   "metadata": {},
   "outputs": [
    {
     "name": "stdout",
     "output_type": "stream",
     "text": [
      "X_new_sample:       Frequency (GHz)   LG (mV)    HG (mV) Sample\n",
      "0               100.0  0.000000  15.138566     H1\n",
      "1               100.0 -1.098767  38.701013     H1\n",
      "2               100.0  0.366256  37.358075     H1\n",
      "3               100.0  0.488341  28.079599     H1\n",
      "4               100.0  1.220852  46.880722     H1\n",
      "...               ...       ...        ...    ...\n",
      "73553           600.0  1.465023  38.456842     H1\n",
      "73554           600.0 -1.953363  20.144060     H1\n",
      "73555           600.0  0.244170  28.201684     H1\n",
      "73556           600.0  0.610426  18.312782     H1\n",
      "73557           600.0 -0.244170  30.521303     H1\n",
      "\n",
      "[73558 rows x 4 columns]\n",
      "Data percentage: 0.8333333333333335%\n"
     ]
    },
    {
     "data": {
      "text/html": [
       "<div>\n",
       "<style scoped>\n",
       "    .dataframe tbody tr th:only-of-type {\n",
       "        vertical-align: middle;\n",
       "    }\n",
       "\n",
       "    .dataframe tbody tr th {\n",
       "        vertical-align: top;\n",
       "    }\n",
       "\n",
       "    .dataframe thead th {\n",
       "        text-align: right;\n",
       "    }\n",
       "</style>\n",
       "<table border=\"1\" class=\"dataframe\">\n",
       "  <thead>\n",
       "    <tr style=\"text-align: right;\">\n",
       "      <th></th>\n",
       "      <th>100.0 HG (mV) mean</th>\n",
       "      <th>100.0 HG (mV) std deviation</th>\n",
       "      <th>100.0 LG (mV) mean</th>\n",
       "      <th>100.0 LG (mV) std deviation</th>\n",
       "      <th>110.0 HG (mV) mean</th>\n",
       "      <th>110.0 HG (mV) std deviation</th>\n",
       "      <th>110.0 LG (mV) mean</th>\n",
       "      <th>110.0 LG (mV) std deviation</th>\n",
       "      <th>120.0 HG (mV) mean</th>\n",
       "      <th>120.0 HG (mV) std deviation</th>\n",
       "      <th>...</th>\n",
       "      <th>580.0 LG (mV) mean</th>\n",
       "      <th>580.0 LG (mV) std deviation</th>\n",
       "      <th>590.0 HG (mV) mean</th>\n",
       "      <th>590.0 HG (mV) std deviation</th>\n",
       "      <th>590.0 LG (mV) mean</th>\n",
       "      <th>590.0 LG (mV) std deviation</th>\n",
       "      <th>600.0 HG (mV) mean</th>\n",
       "      <th>600.0 HG (mV) std deviation</th>\n",
       "      <th>600.0 LG (mV) mean</th>\n",
       "      <th>600.0 LG (mV) std deviation</th>\n",
       "    </tr>\n",
       "  </thead>\n",
       "  <tbody>\n",
       "    <tr>\n",
       "      <th>0</th>\n",
       "      <td>32.631633</td>\n",
       "      <td>10.726077</td>\n",
       "      <td>0.034882</td>\n",
       "      <td>0.758221</td>\n",
       "      <td>-0.199762</td>\n",
       "      <td>0.712446</td>\n",
       "      <td>57.835096</td>\n",
       "      <td>17.068552</td>\n",
       "      <td>0.332960</td>\n",
       "      <td>0.950528</td>\n",
       "      <td>...</td>\n",
       "      <td>-0.396777</td>\n",
       "      <td>0.945847</td>\n",
       "      <td>46.290643</td>\n",
       "      <td>13.629955</td>\n",
       "      <td>0.172954</td>\n",
       "      <td>0.923131</td>\n",
       "      <td>30.277133</td>\n",
       "      <td>10.447527</td>\n",
       "      <td>-0.110987</td>\n",
       "      <td>0.671923</td>\n",
       "    </tr>\n",
       "    <tr>\n",
       "      <th>1</th>\n",
       "      <td>33.433908</td>\n",
       "      <td>13.417054</td>\n",
       "      <td>-0.174407</td>\n",
       "      <td>0.988958</td>\n",
       "      <td>-0.332956</td>\n",
       "      <td>1.005387</td>\n",
       "      <td>61.308975</td>\n",
       "      <td>14.741487</td>\n",
       "      <td>0.066590</td>\n",
       "      <td>0.892741</td>\n",
       "      <td>...</td>\n",
       "      <td>0.142433</td>\n",
       "      <td>0.512264</td>\n",
       "      <td>46.260122</td>\n",
       "      <td>10.509836</td>\n",
       "      <td>0.274692</td>\n",
       "      <td>0.686930</td>\n",
       "      <td>24.683411</td>\n",
       "      <td>8.664579</td>\n",
       "      <td>0.310762</td>\n",
       "      <td>0.731215</td>\n",
       "    </tr>\n",
       "    <tr>\n",
       "      <th>2</th>\n",
       "      <td>29.823674</td>\n",
       "      <td>12.371177</td>\n",
       "      <td>0.034882</td>\n",
       "      <td>0.988599</td>\n",
       "      <td>0.055493</td>\n",
       "      <td>0.576153</td>\n",
       "      <td>49.300229</td>\n",
       "      <td>11.567317</td>\n",
       "      <td>-0.210873</td>\n",
       "      <td>0.991972</td>\n",
       "      <td>...</td>\n",
       "      <td>0.518862</td>\n",
       "      <td>1.047795</td>\n",
       "      <td>41.478451</td>\n",
       "      <td>9.050209</td>\n",
       "      <td>0.010174</td>\n",
       "      <td>0.989717</td>\n",
       "      <td>24.539128</td>\n",
       "      <td>12.941608</td>\n",
       "      <td>0.288565</td>\n",
       "      <td>0.507125</td>\n",
       "    </tr>\n",
       "    <tr>\n",
       "      <th>3</th>\n",
       "      <td>32.090970</td>\n",
       "      <td>7.839933</td>\n",
       "      <td>0.680189</td>\n",
       "      <td>0.896744</td>\n",
       "      <td>-0.310742</td>\n",
       "      <td>0.570964</td>\n",
       "      <td>59.855051</td>\n",
       "      <td>14.986087</td>\n",
       "      <td>0.221963</td>\n",
       "      <td>0.612419</td>\n",
       "      <td>...</td>\n",
       "      <td>-0.050869</td>\n",
       "      <td>1.078803</td>\n",
       "      <td>42.516176</td>\n",
       "      <td>8.764374</td>\n",
       "      <td>-0.478167</td>\n",
       "      <td>1.064898</td>\n",
       "      <td>30.798770</td>\n",
       "      <td>7.705713</td>\n",
       "      <td>0.421749</td>\n",
       "      <td>0.950955</td>\n",
       "    </tr>\n",
       "    <tr>\n",
       "      <th>4</th>\n",
       "      <td>33.852485</td>\n",
       "      <td>10.972446</td>\n",
       "      <td>0.279052</td>\n",
       "      <td>0.609262</td>\n",
       "      <td>-0.011108</td>\n",
       "      <td>0.461522</td>\n",
       "      <td>59.211329</td>\n",
       "      <td>12.948172</td>\n",
       "      <td>-0.388449</td>\n",
       "      <td>0.597636</td>\n",
       "      <td>...</td>\n",
       "      <td>0.111911</td>\n",
       "      <td>0.623512</td>\n",
       "      <td>47.053676</td>\n",
       "      <td>11.293012</td>\n",
       "      <td>0.162780</td>\n",
       "      <td>0.817040</td>\n",
       "      <td>26.215025</td>\n",
       "      <td>10.875331</td>\n",
       "      <td>0.266368</td>\n",
       "      <td>0.988541</td>\n",
       "    </tr>\n",
       "  </tbody>\n",
       "</table>\n",
       "<p>5 rows × 204 columns</p>\n",
       "</div>"
      ],
      "text/plain": [
       "   100.0 HG (mV) mean  100.0 HG (mV) std deviation  100.0 LG (mV) mean  \\\n",
       "0           32.631633                    10.726077            0.034882   \n",
       "1           33.433908                    13.417054           -0.174407   \n",
       "2           29.823674                    12.371177            0.034882   \n",
       "3           32.090970                     7.839933            0.680189   \n",
       "4           33.852485                    10.972446            0.279052   \n",
       "\n",
       "   100.0 LG (mV) std deviation  110.0 HG (mV) mean  \\\n",
       "0                     0.758221           -0.199762   \n",
       "1                     0.988958           -0.332956   \n",
       "2                     0.988599            0.055493   \n",
       "3                     0.896744           -0.310742   \n",
       "4                     0.609262           -0.011108   \n",
       "\n",
       "   110.0 HG (mV) std deviation  110.0 LG (mV) mean  \\\n",
       "0                     0.712446           57.835096   \n",
       "1                     1.005387           61.308975   \n",
       "2                     0.576153           49.300229   \n",
       "3                     0.570964           59.855051   \n",
       "4                     0.461522           59.211329   \n",
       "\n",
       "   110.0 LG (mV) std deviation  120.0 HG (mV) mean  \\\n",
       "0                    17.068552            0.332960   \n",
       "1                    14.741487            0.066590   \n",
       "2                    11.567317           -0.210873   \n",
       "3                    14.986087            0.221963   \n",
       "4                    12.948172           -0.388449   \n",
       "\n",
       "   120.0 HG (mV) std deviation  ...  580.0 LG (mV) mean  \\\n",
       "0                     0.950528  ...           -0.396777   \n",
       "1                     0.892741  ...            0.142433   \n",
       "2                     0.991972  ...            0.518862   \n",
       "3                     0.612419  ...           -0.050869   \n",
       "4                     0.597636  ...            0.111911   \n",
       "\n",
       "   580.0 LG (mV) std deviation  590.0 HG (mV) mean  \\\n",
       "0                     0.945847           46.290643   \n",
       "1                     0.512264           46.260122   \n",
       "2                     1.047795           41.478451   \n",
       "3                     1.078803           42.516176   \n",
       "4                     0.623512           47.053676   \n",
       "\n",
       "   590.0 HG (mV) std deviation  590.0 LG (mV) mean  \\\n",
       "0                    13.629955            0.172954   \n",
       "1                    10.509836            0.274692   \n",
       "2                     9.050209            0.010174   \n",
       "3                     8.764374           -0.478167   \n",
       "4                    11.293012            0.162780   \n",
       "\n",
       "   590.0 LG (mV) std deviation  600.0 HG (mV) mean  \\\n",
       "0                     0.923131           30.277133   \n",
       "1                     0.686930           24.683411   \n",
       "2                     0.989717           24.539128   \n",
       "3                     1.064898           30.798770   \n",
       "4                     0.817040           26.215025   \n",
       "\n",
       "   600.0 HG (mV) std deviation  600.0 LG (mV) mean  \\\n",
       "0                    10.447527           -0.110987   \n",
       "1                     8.664579            0.310762   \n",
       "2                    12.941608            0.288565   \n",
       "3                     7.705713            0.421749   \n",
       "4                    10.875331            0.266368   \n",
       "\n",
       "   600.0 LG (mV) std deviation  \n",
       "0                     0.671923  \n",
       "1                     0.731215  \n",
       "2                     0.507125  \n",
       "3                     0.950955  \n",
       "4                     0.988541  \n",
       "\n",
       "[5 rows x 204 columns]"
      ]
     },
     "execution_count": 383,
     "metadata": {},
     "output_type": "execute_result"
    }
   ],
   "source": [
    "input_path = 'C:/Users/Danim/Documents/GitHub/PIC-PAPER-01/data/experiment_2_plastics/processed/test/'\n",
    "df_new_sample = load_data_from_directory(input_path)\n",
    "df_new_sample = pd.concat([df_new_sample[['Frequency (GHz)', 'LG (mV)', 'HG (mV)']], df_new_sample[['Sample']]], axis=1)\n",
    "\n",
    "# Add .0 on every Frequency column value to match the format of the training data\n",
    "df_new_sample['Frequency (GHz)'] = df_new_sample['Frequency (GHz)'].astype(str) + '.0'\n",
    "print('X_new_sample:', df_new_sample)\n",
    "\n",
    "# Time window\n",
    "time_window_s = 0.1\n",
    "sample_time_s = 12\n",
    "data_percentage = (100/sample_time_s)*time_window_s\n",
    "print(f\"Data percentage: {data_percentage}%\")\n",
    "\n",
    "# Introduce Frequency values as input variables\n",
    "df_new_sample = freq_as_variable(df_new_sample, data_percentage = data_percentage) # 0.22\n",
    "\n",
    "df_new_sample = df_new_sample.dropna()\n",
    "\n",
    "X_new_sample = df_new_sample.drop(columns=['Sample'])\n",
    "y_new_sample = df_new_sample['Sample']\n",
    "\n",
    "if y_new_sample.dtype == 'object':\n",
    "    y_new_sample = le.transform(y_new_sample)\n",
    "\n",
    "# Number of samples\n",
    "num_samples = len(y_new_sample)\n",
    "\n",
    "\n",
    "\n",
    "# # Reduce the number of input features\n",
    "# freq = 300\n",
    "# num_freqs = 5\n",
    "# freq_col = int(((freq - 100)*4)/10)\n",
    "# freq_col_end = freq_col + 4 * num_freqs\n",
    "\n",
    "# X_train = X_train.iloc[:, freq_col:freq_col_end]\n",
    "# X_test = X_test.iloc[:, freq_col:freq_col_end]\n",
    "\n",
    "# Eliminate std devt columns\n",
    "# X_new_sample = X_new_sample.iloc[:, ::2]\n",
    "X_new_sample.head()\n"
   ]
  },
  {
   "cell_type": "code",
   "execution_count": 391,
   "metadata": {},
   "outputs": [
    {
     "name": "stdout",
     "output_type": "stream",
     "text": [
      "Accuracy: 0.0\n",
      "Precision: 0.0\n",
      "Recall: 0.0\n",
      "F1: 0.0\n",
      "              precision    recall  f1-score   support\n",
      "\n",
      "           7       0.00      0.00      0.00     120.0\n",
      "          13       0.00      0.00      0.00       0.0\n",
      "\n",
      "    accuracy                           0.00     120.0\n",
      "   macro avg       0.00      0.00      0.00     120.0\n",
      "weighted avg       0.00      0.00      0.00     120.0\n",
      "\n",
      "Counter({13: 120})\n"
     ]
    },
    {
     "name": "stderr",
     "output_type": "stream",
     "text": [
      "c:\\Users\\Danim\\Documents\\GitHub\\PIC-PAPER-01\\.venv\\Lib\\site-packages\\sklearn\\metrics\\_classification.py:1531: UndefinedMetricWarning: Precision is ill-defined and being set to 0.0 in labels with no predicted samples. Use `zero_division` parameter to control this behavior.\n",
      "  _warn_prf(average, modifier, f\"{metric.capitalize()} is\", len(result))\n",
      "c:\\Users\\Danim\\Documents\\GitHub\\PIC-PAPER-01\\.venv\\Lib\\site-packages\\sklearn\\metrics\\_classification.py:1531: UndefinedMetricWarning: Recall is ill-defined and being set to 0.0 in labels with no true samples. Use `zero_division` parameter to control this behavior.\n",
      "  _warn_prf(average, modifier, f\"{metric.capitalize()} is\", len(result))\n",
      "c:\\Users\\Danim\\Documents\\GitHub\\PIC-PAPER-01\\.venv\\Lib\\site-packages\\sklearn\\metrics\\_classification.py:1531: UndefinedMetricWarning: Precision is ill-defined and being set to 0.0 in labels with no predicted samples. Use `zero_division` parameter to control this behavior.\n",
      "  _warn_prf(average, modifier, f\"{metric.capitalize()} is\", len(result))\n",
      "c:\\Users\\Danim\\Documents\\GitHub\\PIC-PAPER-01\\.venv\\Lib\\site-packages\\sklearn\\metrics\\_classification.py:1531: UndefinedMetricWarning: Recall is ill-defined and being set to 0.0 in labels with no true samples. Use `zero_division` parameter to control this behavior.\n",
      "  _warn_prf(average, modifier, f\"{metric.capitalize()} is\", len(result))\n",
      "c:\\Users\\Danim\\Documents\\GitHub\\PIC-PAPER-01\\.venv\\Lib\\site-packages\\sklearn\\metrics\\_classification.py:1531: UndefinedMetricWarning: Precision is ill-defined and being set to 0.0 in labels with no predicted samples. Use `zero_division` parameter to control this behavior.\n",
      "  _warn_prf(average, modifier, f\"{metric.capitalize()} is\", len(result))\n",
      "c:\\Users\\Danim\\Documents\\GitHub\\PIC-PAPER-01\\.venv\\Lib\\site-packages\\sklearn\\metrics\\_classification.py:1531: UndefinedMetricWarning: Recall is ill-defined and being set to 0.0 in labels with no true samples. Use `zero_division` parameter to control this behavior.\n",
      "  _warn_prf(average, modifier, f\"{metric.capitalize()} is\", len(result))\n",
      "c:\\Users\\Danim\\Documents\\GitHub\\PIC-PAPER-01\\.venv\\Lib\\site-packages\\sklearn\\metrics\\_classification.py:1531: UndefinedMetricWarning: Precision is ill-defined and being set to 0.0 in labels with no predicted samples. Use `zero_division` parameter to control this behavior.\n",
      "  _warn_prf(average, modifier, f\"{metric.capitalize()} is\", len(result))\n",
      "c:\\Users\\Danim\\Documents\\GitHub\\PIC-PAPER-01\\.venv\\Lib\\site-packages\\sklearn\\metrics\\_classification.py:1531: UndefinedMetricWarning: Recall is ill-defined and being set to 0.0 in labels with no true samples. Use `zero_division` parameter to control this behavior.\n",
      "  _warn_prf(average, modifier, f\"{metric.capitalize()} is\", len(result))\n"
     ]
    }
   ],
   "source": [
    "# y_pred = rf_model.predict(X_new_sample)\n",
    "# y_pred = nb_model.predict(X_new_sample)\n",
    "y_pred = lr_model.predict(X_new_sample)\n",
    "\n",
    "# Calculate metrics\n",
    "accuracy = accuracy_score(y_new_sample, y_pred)\n",
    "precision = precision_score(y_new_sample, y_pred, average='weighted')\n",
    "recall = recall_score(y_new_sample, y_pred, average='weighted')\n",
    "f1 = f1_score(y_new_sample, y_pred, average='weighted')\n",
    "\n",
    "print(f\"Accuracy: {accuracy}\")\n",
    "print(f\"Precision: {precision}\")\n",
    "print(f\"Recall: {recall}\")\n",
    "print(f\"F1: {f1}\")\n",
    "\n",
    "# Classification report\n",
    "print(classification_report(y_new_sample, y_pred), )\n",
    "\n",
    "# Predictions made per class with its label encoded value\n",
    "print(Counter(y_pred))\n",
    "\n",
    "# plot_confusion_matrix(y_new_sample, y_pred, np.unique(y_new_sample))"
   ]
  },
  {
   "cell_type": "code",
   "execution_count": null,
   "metadata": {},
   "outputs": [],
   "source": [
    "# Load trained model\n",
    "rf_model = joblib.load('random_forest_model.pkl')\n",
    "\n",
    "# Predictions\n",
    "y_pred = rf_model.predict(X_new_sample)\n",
    "\n"
   ]
  },
  {
   "cell_type": "markdown",
   "metadata": {},
   "source": [
    "## Feature Importance TBD"
   ]
  },
  {
   "cell_type": "markdown",
   "metadata": {
    "id": "WEtZPi2fLQGL"
   },
   "source": [
    "## Labels"
   ]
  },
  {
   "cell_type": "markdown",
   "metadata": {
    "id": "ktsgpY21NcOV"
   },
   "source": [
    "| Original Label | Encoded Value |\n",
    "|----------------|---------------|\n",
    "| A1             | 0             |\n",
    "| B1             | 1             |\n",
    "| C1             | 2             |\n",
    "| D1             | 3             |\n",
    "| E1             | 4             |\n",
    "| F1             | 5             |\n",
    "| G1             | 6             |\n",
    "| H1             | 7             |\n",
    "| I1             | 8             |\n",
    "| J1             | 9             |\n",
    "| K1             | 10            |\n",
    "| L1             | 11            |\n",
    "| M1             | 12            |\n",
    "| N1             | 13            |\n",
    "| REF            | 14            |"
   ]
  }
 ],
 "metadata": {
  "colab": {
   "provenance": []
  },
  "kernelspec": {
   "display_name": ".venv",
   "language": "python",
   "name": "python3"
  },
  "language_info": {
   "codemirror_mode": {
    "name": "ipython",
    "version": 3
   },
   "file_extension": ".py",
   "mimetype": "text/x-python",
   "name": "python",
   "nbconvert_exporter": "python",
   "pygments_lexer": "ipython3",
   "version": "3.12.3"
  }
 },
 "nbformat": 4,
 "nbformat_minor": 0
}
