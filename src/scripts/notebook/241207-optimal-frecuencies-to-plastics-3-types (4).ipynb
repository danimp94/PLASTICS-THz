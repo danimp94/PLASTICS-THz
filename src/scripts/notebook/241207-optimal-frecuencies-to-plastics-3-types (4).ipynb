{
 "cells": [
  {
   "cell_type": "markdown",
   "metadata": {},
   "source": [
    "# Get the Data"
   ]
  },
  {
   "cell_type": "code",
   "execution_count": null,
   "metadata": {
    "_cell_guid": "b1076dfc-b9ad-4769-8c92-a6c4dae69d19",
    "_kg_hide-input": true,
    "_uuid": "8f2839f25d086af736a60e9eeb907d3b93b6e0e5"
   },
   "outputs": [],
   "source": [
    "import numpy as np # linear algebra\n",
    "import pandas as pd # data processing, CSV file I/O (e.g. pd.read_csv)"
   ]
  },
  {
   "cell_type": "markdown",
   "metadata": {},
   "source": [
    "**Doubt**: File size of merged_2.csv and e1_merged.csv are different "
   ]
  },
  {
   "cell_type": "code",
   "execution_count": null,
   "metadata": {},
   "outputs": [],
   "source": [
    "#train = pd.read_csv('/kaggle/input/fi-optimun-frecuency/merged_2.csv', sep=';')\n",
    "train = pd.read_csv('/kaggle/input/fi-optimun-frecuency/e1_merged.csv', sep=';')\n",
    "train.columns"
   ]
  },
  {
   "cell_type": "markdown",
   "metadata": {},
   "source": [
    "Samples has serveral Thickness"
   ]
  },
  {
   "cell_type": "code",
   "execution_count": null,
   "metadata": {},
   "outputs": [],
   "source": [
    "train['Thickness (mm)'].value_counts().index.sort_values().tolist()"
   ]
  },
  {
   "cell_type": "markdown",
   "metadata": {},
   "source": [
    "51 frecuencies (Ghz)"
   ]
  },
  {
   "cell_type": "code",
   "execution_count": null,
   "metadata": {},
   "outputs": [],
   "source": [
    "train['Frequency (GHz)'].value_counts().index.sort_values()"
   ]
  },
  {
   "cell_type": "markdown",
   "metadata": {},
   "source": [
    "15 types of plastic"
   ]
  },
  {
   "cell_type": "code",
   "execution_count": null,
   "metadata": {},
   "outputs": [],
   "source": [
    "train['Sample'].value_counts().index.sort_values()"
   ]
  },
  {
   "cell_type": "markdown",
   "metadata": {},
   "source": [
    "### Add data of Experiments 2, 3 and 4\n",
    "**TODO**: Add temparature and RH to experiments 3 and 4"
   ]
  },
  {
   "cell_type": "code",
   "execution_count": null,
   "metadata": {},
   "outputs": [],
   "source": [
    "train_e1 = train.copy()\n",
    "train_e1 = train_e1.drop(columns=['Thickness (mm)']) # Remove `Thickness (mm)`\n",
    "\n",
    "train_e1['num_experiment'] = 'e1'\n",
    "train_e1['Sample_original'] = 'None'\n",
    "\n",
    "# ['E1', 'H1', 'REF']\n",
    "train_e2 = pd.read_csv('/kaggle/input/fi-optimun-frecuency/e2_merged.csv', sep=';') \n",
    "train_e2['num_experiment'] = 'e2'\n",
    "train_e2['Sample_original'] = 'None'\n",
    "\n",
    "# ['REF_1', 'REF_10', 'REF_11', 'REF_12', 'REF_13', 'REF_14', 'REF_15', 'REF_2', 'REF_3', 'REF_4', 'REF_5', 'REF_6', 'REF_7', 'REF_8', 'REF_9']\n",
    "train_e3 = pd.read_csv('/kaggle/input/fi-optimun-frecuency/e3_merged.csv', sep=',') \n",
    "train_e3['num_experiment'] = 'e3'\n",
    "train_e3['Sample_original'] = train_e3['Sample']\n",
    "train_e3['Sample'] = 'REF'\n",
    "\n",
    "# ['B1_12', 'B1_2', 'B1_5', 'B1_9', 'C1_11', 'C1_14', 'C1_4', 'C1_7', 'E3_10', 'E3_13', 'E3_3', 'E3_6', 'REF_1', 'REF_15', 'REF_8']\n",
    "train_e4 = pd.read_csv('/kaggle/input/fi-optimun-frecuency/e4_merged.csv', sep=',')\n",
    "train_e4['num_experiment'] = 'e4'\n",
    "train_e4['Sample_original'] = train_e4['Sample']"
   ]
  },
  {
   "cell_type": "markdown",
   "metadata": {},
   "source": [
    "Replace name of Sample from experiment 4 by name of experiment 1"
   ]
  },
  {
   "cell_type": "code",
   "execution_count": null,
   "metadata": {},
   "outputs": [],
   "source": [
    "df_temp = train_e4.query('Sample.str.startswith(\"B1\")', engine=\"python\")\n",
    "df_temp = df_temp.drop(columns=['Sample'])\n",
    "df_temp['Sample'] = 'B1'\n",
    "df_temp2 = train_e4.query('Sample.str.startswith(\"C1\")', engine=\"python\")\n",
    "df_temp2 = df_temp2.drop(columns=['Sample'])\n",
    "df_temp2['Sample'] = 'C1'\n",
    "df_temp3 = train_e4.query('Sample.str.startswith(\"E3\")', engine=\"python\")\n",
    "df_temp3 = df_temp3.drop(columns=['Sample'])\n",
    "df_temp3['Sample'] = 'E1'\n",
    "df_temp4 = train_e4.query('Sample.str.startswith(\"REF\")', engine=\"python\")\n",
    "df_temp4 = df_temp4.drop(columns=['Sample'])\n",
    "df_temp4['Sample'] = 'REF'\n",
    "train_e4 = pd.concat([df_temp, df_temp2, df_temp3, df_temp4]).sort_index()"
   ]
  },
  {
   "cell_type": "code",
   "execution_count": null,
   "metadata": {},
   "outputs": [],
   "source": [
    "train_e1['index_original'] = train_e1.index\n",
    "train_e1.head()\n"
   ]
  },
  {
   "cell_type": "code",
   "execution_count": null,
   "metadata": {},
   "outputs": [],
   "source": [
    "train_e2['index_original'] = train_e2.index\n",
    "train_e2.head()"
   ]
  },
  {
   "cell_type": "code",
   "execution_count": null,
   "metadata": {},
   "outputs": [],
   "source": [
    "train_e3['index_original'] = train_e3.index\n",
    "train_e3.head()\n"
   ]
  },
  {
   "cell_type": "code",
   "execution_count": null,
   "metadata": {},
   "outputs": [],
   "source": [
    "train_e4['index_original'] = train_e4.index\n",
    "train_e4.head()\n"
   ]
  },
  {
   "cell_type": "code",
   "execution_count": null,
   "metadata": {},
   "outputs": [],
   "source": [
    "train_get = pd.concat([train_e1, train_e2, train_e3, train_e4])\n",
    "train_get = train_get.rename(columns = {'Sample':'target', 'Frequency (GHz)': 'freq' }).drop(columns=['index_original'])                                                                                  \n",
    "train_get.head()\n",
    "\n"
   ]
  },
  {
   "cell_type": "code",
   "execution_count": null,
   "metadata": {},
   "outputs": [],
   "source": [
    "train_get['target'].value_counts()"
   ]
  },
  {
   "cell_type": "markdown",
   "metadata": {},
   "source": [
    "## Convert the data to a format you can easily manipulate\n",
    "\n"
   ]
  },
  {
   "cell_type": "code",
   "execution_count": null,
   "metadata": {},
   "outputs": [],
   "source": [
    "\n",
    "\n",
    "#train = pd.concat([train[['Frequency (GHz)', 'LG (mV)', 'HG (mV)']],train[['target']]], axis=1)\n",
    "train_get.to_csv('4-experiment_15_types.csv', index=False)\n"
   ]
  },
  {
   "cell_type": "markdown",
   "metadata": {},
   "source": [
    "Select only tree types of plastic `B1`, `C1`, `E1` and `REF`"
   ]
  },
  {
   "cell_type": "code",
   "execution_count": null,
   "metadata": {},
   "outputs": [],
   "source": [
    "#2056910\n",
    "train_get = train_get[(train_get.target == 'B1') | (train_get.target == 'C1') | (train_get.target == 'E1') | (train_get.target == 'REF')]"
   ]
  },
  {
   "cell_type": "code",
   "execution_count": null,
   "metadata": {},
   "outputs": [],
   "source": [
    "\n",
    "train_get_e4 = train_get[(train_get.num_experiment == 'e4')] #439648 samples\n",
    "train_get = train_get_e4.copy()"
   ]
  },
  {
   "cell_type": "markdown",
   "metadata": {
    "execution": {
     "iopub.execute_input": "2024-11-21T13:27:44.506027Z",
     "iopub.status.busy": "2024-11-21T13:27:44.505653Z",
     "iopub.status.idle": "2024-11-21T13:27:44.518494Z",
     "shell.execute_reply": "2024-11-21T13:27:44.517295Z",
     "shell.execute_reply.started": "2024-11-21T13:27:44.505998Z"
    }
   },
   "source": [
    "## Sample a test set, put it aside, and never look at it\n",
    "The test set is used after the model has been fully trained to assess the model's performance on completely unseen data\n",
    "\n",
    "Data is split in a stratified fashion, using this at  theTarget as  class labels  \n",
    "**Conjecture**: It is assumed that there is time independence in the laser measurement.."
   ]
  },
  {
   "cell_type": "code",
   "execution_count": null,
   "metadata": {},
   "outputs": [],
   "source": [
    "from sklearn.model_selection import train_test_split\n",
    "train_set, test_set = train_test_split(train_get, test_size=0.2, random_state=42, stratify=train_get.target)\n"
   ]
  },
  {
   "cell_type": "markdown",
   "metadata": {},
   "source": [
    "Check the target distribution of target in a plotted bar. The frequency or proportion are uniform in train and test dataset"
   ]
  },
  {
   "cell_type": "code",
   "execution_count": null,
   "metadata": {},
   "outputs": [],
   "source": [
    "import matplotlib.pylab as plt\n",
    "ax = train_set[['target']].value_counts().transpose().plot.bar(figsize=(8, 4), legend=False)\n",
    "ax.set_xlabel('Data Distribution of target for train dataset')\n",
    "ax.set_ylabel('Count')\n",
    "plt.tight_layout()\n",
    "plt.show()"
   ]
  },
  {
   "cell_type": "code",
   "execution_count": null,
   "metadata": {},
   "outputs": [],
   "source": [
    "ax = test_set[['target']].value_counts().transpose().plot.bar(figsize=(8, 4), legend=False)\n",
    "ax.set_xlabel('Data Distribution of target for test dataset')\n",
    "ax.set_ylabel('Count')\n",
    "plt.tight_layout()\n",
    "plt.show()"
   ]
  },
  {
   "cell_type": "markdown",
   "metadata": {},
   "source": [
    " # Explore the data"
   ]
  },
  {
   "cell_type": "code",
   "execution_count": 22,
   "metadata": {
    "execution": {
     "iopub.execute_input": "2024-12-10T15:20:13.040926Z",
     "iopub.status.busy": "2024-12-10T15:20:13.040550Z",
     "iopub.status.idle": "2024-12-10T15:20:13.064253Z",
     "shell.execute_reply": "2024-12-10T15:20:13.063224Z",
     "shell.execute_reply.started": "2024-12-10T15:20:13.040894Z"
    }
   },
   "outputs": [
    {
     "data": {
      "text/html": [
       "<div>\n",
       "<style scoped>\n",
       "    .dataframe tbody tr th:only-of-type {\n",
       "        vertical-align: middle;\n",
       "    }\n",
       "\n",
       "    .dataframe tbody tr th {\n",
       "        vertical-align: top;\n",
       "    }\n",
       "\n",
       "    .dataframe thead th {\n",
       "        text-align: right;\n",
       "    }\n",
       "</style>\n",
       "<table border=\"1\" class=\"dataframe\">\n",
       "  <thead>\n",
       "    <tr style=\"text-align: right;\">\n",
       "      <th></th>\n",
       "      <th>target</th>\n",
       "      <th>freq</th>\n",
       "      <th>LG (mV)</th>\n",
       "      <th>HG (mV)</th>\n",
       "      <th>num_experiment</th>\n",
       "      <th>Sample_original</th>\n",
       "    </tr>\n",
       "  </thead>\n",
       "  <tbody>\n",
       "    <tr>\n",
       "      <th>376097</th>\n",
       "      <td>REF</td>\n",
       "      <td>490.0</td>\n",
       "      <td>-0.763033</td>\n",
       "      <td>100.781357</td>\n",
       "      <td>e4</td>\n",
       "      <td>REF_1</td>\n",
       "    </tr>\n",
       "    <tr>\n",
       "      <th>129477</th>\n",
       "      <td>B1</td>\n",
       "      <td>520.0</td>\n",
       "      <td>0.915639</td>\n",
       "      <td>59.577584</td>\n",
       "      <td>e4</td>\n",
       "      <td>B1_9</td>\n",
       "    </tr>\n",
       "    <tr>\n",
       "      <th>419829</th>\n",
       "      <td>REF</td>\n",
       "      <td>260.0</td>\n",
       "      <td>3.265779</td>\n",
       "      <td>-0.122100</td>\n",
       "      <td>e4</td>\n",
       "      <td>REF_8</td>\n",
       "    </tr>\n",
       "    <tr>\n",
       "      <th>163264</th>\n",
       "      <td>C1</td>\n",
       "      <td>120.0</td>\n",
       "      <td>22.097424</td>\n",
       "      <td>-0.274688</td>\n",
       "      <td>e4</td>\n",
       "      <td>C1_14</td>\n",
       "    </tr>\n",
       "    <tr>\n",
       "      <th>436765</th>\n",
       "      <td>REF</td>\n",
       "      <td>550.0</td>\n",
       "      <td>0.061043</td>\n",
       "      <td>60.035404</td>\n",
       "      <td>e4</td>\n",
       "      <td>REF_8</td>\n",
       "    </tr>\n",
       "  </tbody>\n",
       "</table>\n",
       "</div>"
      ],
      "text/plain": [
       "       target   freq    LG (mV)     HG (mV) num_experiment Sample_original\n",
       "376097    REF  490.0  -0.763033  100.781357             e4           REF_1\n",
       "129477     B1  520.0   0.915639   59.577584             e4            B1_9\n",
       "419829    REF  260.0   3.265779   -0.122100             e4           REF_8\n",
       "163264     C1  120.0  22.097424   -0.274688             e4           C1_14\n",
       "436765    REF  550.0   0.061043   60.035404             e4           REF_8"
      ]
     },
     "execution_count": 22,
     "metadata": {},
     "output_type": "execute_result"
    }
   ],
   "source": [
    "train_ex = train_set.copy()\n",
    "train_ex.info()"
   ]
  },
  {
   "cell_type": "markdown",
   "metadata": {},
   "source": [
    "## Visualize one HG (mV) a one freq like time series  "
   ]
  },
  {
   "cell_type": "code",
   "execution_count": null,
   "metadata": {},
   "outputs": [],
   "source": [
    "train_get.groupby([train_get['target'], train_get['num_experiment']]).count()"
   ]
  },
  {
   "cell_type": "code",
   "execution_count": null,
   "metadata": {},
   "outputs": [],
   "source": [
    "Y_e1 = train_get[(train_get.target=='E1')&(train_get.freq==350.0)&(train_get.num_experiment=='e1')]['HG (mV)'].values\n",
    "Y_e2 = train_get[(train_get.target=='E1')&(train_get.freq==350.0)&(train_get.num_experiment=='e2')]['HG (mV)'].values\n",
    "Y_e4 = train_get[(train_get.target=='E1')&(train_get.freq==350.0)&(train_get.num_experiment=='e4')]['HG (mV)'].values\n",
    "df_tmp = pd.DataFrame(np.hstack((Y_e1[:2301].reshape(-1, 1),Y_e2[:2301].reshape(-1, 1),Y_e4.reshape(-1, 1))),\n",
    "                      columns=['e1', 'e2', 'e4'],\n",
    "                      index=np.arange(0, 2301, 1))"
   ]
  },
  {
   "cell_type": "code",
   "execution_count": null,
   "metadata": {},
   "outputs": [],
   "source": [
    "#Y_e1 = train_get[(train_get.target=='E1')&(train_get.freq==350.0)&(train_get.num_experiment=='e1')]['HG (mV)'].values\n",
    "Y_e2 = train_get[(train_get.target=='E1')&(train_get.freq==350.0)&(train_get.num_experiment=='e2')]['HG (mV)'].values\n",
    "df_tmp = pd.DataFrame(np.hstack((Y_e1[:3138].reshape(-1, 1),Y_e2[:3138].reshape(-1, 1))),\n",
    "                      columns=['e1', 'e2'],\n",
    "                      index=np.arange(0, 3138, 1))"
   ]
  },
  {
   "cell_type": "code",
   "execution_count": null,
   "metadata": {},
   "outputs": [],
   "source": [
    "_ = df_tmp.plot(figsize=(12,4), xlim = ([0,3138]), \n",
    "                ylabel = 'HG (mV)',\n",
    "                xlabel = 'Num of sample',\n",
    "                title= 'HG (mV) Plastic E1 type to 350 Ghz for three experiments' )"
   ]
  },
  {
   "cell_type": "code",
   "execution_count": null,
   "metadata": {},
   "outputs": [],
   "source": [
    "train_ts_low_quan = train_ts[(train_ts.target=='E1')&(train_ts.freq==350.0)&(train_ts.num_experiment=='e1')]['HG (mV)'].quantile(0.05)\n",
    "train_ts_high_quan = train_ts[(train_ts.target=='E1')&(train_ts.freq==350.0)&(train_ts.num_experiment=='e1')]['HG (mV)'].quantile(0.95)\n",
    "train_ts_filtering = np.where(train_ts[(train_ts.target=='E1')&(train_ts.freq==350.0)&(train_ts.num_experiment=='e1')]['HG (mV)'] < train_ts_low_quan,\n",
    "                                train_ts_low_quan,\n",
    "                                train_ts[(train_ts.target=='E1')&(train_ts.freq==350.0)&(train_ts.num_experiment=='e1')]['HG (mV)'])\n",
    "\n",
    "train_ts_filtering = pd.Series(train_ts_filtering, index=train_ts[(train_ts.target=='E1')&(train_ts.freq==350.0)&(train_ts.num_experiment=='e1')]['HG (mV)'].index.to_numpy())\n",
    "train_ts_filtering = np.where(train_ts_filtering > train_ts_high_quan,\n",
    "                              train_ts_high_quan,\n",
    "                              train_ts_filtering)\n",
    "\n",
    "fig, ax = plt.subplots(figsize=(12, 4))\n",
    "ax.plot(X, train_ts_filtering)\n",
    "ax.set_ylim([380, 525])\n",
    "ax.set_title('Filtering Outliers of time series of 350 GHz to HG (mV) of plastic type E1 of Experiment 1')\n",
    "fig.show()\n"
   ]
  },
  {
   "cell_type": "markdown",
   "metadata": {
    "execution": {
     "iopub.execute_input": "2024-11-21T13:20:58.926415Z",
     "iopub.status.busy": "2024-11-21T13:20:58.925993Z",
     "iopub.status.idle": "2024-11-21T13:20:58.946829Z",
     "shell.execute_reply": "2024-11-21T13:20:58.945597Z",
     "shell.execute_reply.started": "2024-11-21T13:20:58.926379Z"
    }
   },
   "source": [
    "## Visualize distributions\n",
    "Knowledge of various sampling and data generating distributions allows us to quantify potential errors in an estimate that might be due to random variation."
   ]
  },
  {
   "cell_type": "code",
   "execution_count": null,
   "metadata": {},
   "outputs": [],
   "source": [
    "train_ex = train_ex.astype({\"freq\": int,})\n",
    "train_ex.info()\n"
   ]
  },
  {
   "cell_type": "code",
   "execution_count": null,
   "metadata": {},
   "outputs": [],
   "source": [
    "import seaborn as sns\n",
    "import warnings\n",
    "warnings.filterwarnings('ignore')\n",
    "\n",
    "for f in train_ex['freq'].value_counts().index.sort_values().tolist():\n",
    "    freq = f\n",
    "    ncols = 2\n",
    "    nrows = 2\n",
    "    nums_plastics = 0\n",
    "    \n",
    "    fig, axes = plt.subplots(nrows, ncols, figsize=(12, 8))\n",
    "    for r in range(nrows):\n",
    "        for c in range (ncols):\n",
    "            t = train_ex['target'].value_counts().index.sort_values().tolist()\n",
    "            df_tmp = train_ex[(train_ex.freq == freq) & (train_ex.target == t[nums_plastics])]\n",
    "            sns.kdeplot(x=df_tmp['LG (mV)'], ax=axes[r, c], color='#F8766D', label='LG (mV)',  fill =True )\n",
    "            sns.kdeplot(x=df_tmp['HG (mV)'], ax=axes[r, c], color='#00BFC4', label='HG (mV)',  fill =True )\n",
    "            axes[r ,c].legend(fontsize=\"xx-small\")\n",
    "            axes[r, c].set_ylabel('')\n",
    "            axes[r, c].set_xlabel('')\n",
    "            axes[r, c].set_title(f\"Type {t[nums_plastics]} (mV)\",fontsize=7)\n",
    "            axes[r, c].tick_params(labelsize=5, width=0.5)\n",
    "            axes[r, c].xaxis.offsetText.set_fontsize(6)\n",
    "            axes[r, c].yaxis.offsetText.set_fontsize(4)\n",
    "            nums_plastics = nums_plastics +1\n",
    "    plt.suptitle(f\"All samples. Distribution of LG (mV) and HG (mV) of each plastic to {freq} Ghz\", y=0.93,fontsize=10)\n",
    "    plt.show()        "
   ]
  },
  {
   "cell_type": "markdown",
   "metadata": {},
   "source": [
    "## Study Type of distribution to one frecuency"
   ]
  },
  {
   "cell_type": "code",
   "execution_count": null,
   "metadata": {},
   "outputs": [],
   "source": [
    "for f in [320]:\n",
    "    freq = f\n",
    "    ncols = 5\n",
    "    nrows = 3\n",
    "    nums_plastics = 0\n",
    "    \n",
    "    fig, axes = plt.subplots(nrows, ncols, figsize=(12, 8))\n",
    "    for r in range(nrows):\n",
    "        for c in range (ncols):\n",
    "            t = train_ex['target'].value_counts().index.sort_values().tolist()\n",
    "            df_tmp = train_ex[(train_ex.freq == freq) & (train_ex.target == t[nums_plastics])]\n",
    "            sns.kdeplot(x=df_tmp['LG (mV)'], ax=axes[r, c], color='#F8766D', label='LG (mV)',  fill =True )\n",
    "            sns.kdeplot(x=df_tmp['HG (mV)'], ax=axes[r, c], color='#00BFC4', label='HG (mV)',  fill =True )\n",
    "            axes[r, c].legend(fontsize=\"xx-small\")\n",
    "            axes[r, c].set_ylabel('')\n",
    "            axes[r, c].set_xlabel('')\n",
    "            axes[r, c].set_title(f\"Type {t[nums_plastics]} (mV)\",fontsize=7)\n",
    "            axes[r, c].tick_params(labelsize=5, width=0.5)\n",
    "            axes[r, c].xaxis.offsetText.set_fontsize(6)\n",
    "            axes[r, c].yaxis.offsetText.set_fontsize(4)\n",
    "            nums_plastics = nums_plastics +1\n",
    "    plt.suptitle(f\"Distributions of density estimation to {freq} Ghz\", y=0.93,fontsize=10)\n",
    "    plt.show()   "
   ]
  },
  {
   "cell_type": "markdown",
   "metadata": {},
   "source": [
    "#### Summary of the numerical attributes\n",
    "Compute mean of groups"
   ]
  },
  {
   "cell_type": "code",
   "execution_count": null,
   "metadata": {},
   "outputs": [],
   "source": [
    "\n",
    "df_tmp = train_ex[(train_ex.freq == freq)]\n",
    "grouped = df_tmp['HG (mV)'].groupby(df_tmp['target'])\n",
    "\n",
    "ax = grouped.mean().plot.bar(figsize=(8, 4), legend=False)\n",
    "plt.suptitle(f'Mean (mV) by HG filter of each plastic to {freq} Ghz')\n",
    "ax.set_xlabel(f'Type of plastic')\n",
    "ax.set_ylabel('mV')\n",
    "plt.tight_layout()\n",
    "plt.show()\n"
   ]
  },
  {
   "cell_type": "code",
   "execution_count": null,
   "metadata": {},
   "outputs": [],
   "source": [
    "\n",
    "df_tmp = train_ex[(train_ex.freq == freq)]\n",
    "grouped = df_tmp['LG (mV)'].groupby(df_tmp['target'])\n",
    "\n",
    "ax = grouped.mean().plot.bar(figsize=(8, 4), legend=False)\n",
    "plt.suptitle(f'Mean (mV) by LG filter of each plastic to {freq} Ghz')\n",
    "ax.set_xlabel(f'Type of plastic')\n",
    "ax.set_ylabel('mV')\n",
    "plt.tight_layout()\n",
    "plt.show()\n"
   ]
  },
  {
   "cell_type": "code",
   "execution_count": null,
   "metadata": {},
   "outputs": [],
   "source": [
    "ax = grouped.std().plot.bar(figsize=(8, 4), legend=False)\n",
    "plt.suptitle(f'Standard deviation (mV) by LG filter of each plastic to {freq} Ghz')\n",
    "ax.set_xlabel(f'Type of plastic')\n",
    "ax.set_ylabel('mV')\n",
    "plt.tight_layout()\n",
    "plt.show()"
   ]
  },
  {
   "cell_type": "markdown",
   "metadata": {},
   "source": [
    "**Insights**: Assuming a normal distribution can lead to underestimation of extreme events "
   ]
  },
  {
   "cell_type": "markdown",
   "metadata": {},
   "source": [
    "#### Predicts that anamolous measures\n",
    "The tails of a distribution correspond to the extreme values (small and large). Long tails, and guarding against them, are widely recognized in practical work. Nassim Taleb has proposed the black swan theory, which predicts that anamolous events, such as a stock market crash, are much more likely to occur than would be predicted by the normal distribution. "
   ]
  },
  {
   "cell_type": "code",
   "execution_count": null,
   "metadata": {},
   "outputs": [],
   "source": [
    "from scipy import stats\n",
    "temp_t = t[13]\n",
    "fig, ax = plt.subplots(figsize=(4, 4))\n",
    "df_tmp = train_ex[(train_ex.freq == freq) & (train_ex.target == temp_t)]\n",
    "#stats.probplot(df_tmp['LG (mV)'], plot=ax)\n",
    "stats.probplot(df_tmp['LG (mV)'], plot=ax)\n",
    "\n",
    "plt.suptitle(f\"Sample of {temp_t} data against the quantiles of a specified theoretical distribution {freq} Ghz\", y=0.93,fontsize=10)\n",
    "plt.tight_layout()\n",
    "plt.show()\n"
   ]
  },
  {
   "cell_type": "markdown",
   "metadata": {},
   "source": [
    "**Insights**: The points are far below the line for low values and far \n",
    "above the line for high value. Theree are much more likely t \n",
    "observe extreme values than would be expected if the data had a norm l\n",
    "distribution"
   ]
  },
  {
   "cell_type": "markdown",
   "metadata": {},
   "source": [
    "## Identify the promising transformations you may want to apply\n",
    "Target variable takes only a limited number of values. Encode target (categorical features) as an integer array.  \n",
    "**Question**: How does doing this in the previous phase (Convert the data to a format you can easily manipulate) affect the classifier?"
   ]
  },
  {
   "cell_type": "code",
   "execution_count": 23,
   "metadata": {
    "execution": {
     "iopub.execute_input": "2024-12-10T15:21:14.516522Z",
     "iopub.status.busy": "2024-12-10T15:21:14.516142Z",
     "iopub.status.idle": "2024-12-10T15:21:14.611850Z",
     "shell.execute_reply": "2024-12-10T15:21:14.610822Z",
     "shell.execute_reply.started": "2024-12-10T15:21:14.516489Z"
    }
   },
   "outputs": [],
   "source": [
    "from sklearn.preprocessing import OrdinalEncoder\n",
    "label_train_ex = train_ex.copy()\n",
    "ordinal_encoder = OrdinalEncoder()\n",
    "label_train_ex['target'] = ordinal_encoder.fit_transform(train_ex[['target']])"
   ]
  },
  {
   "cell_type": "markdown",
   "metadata": {},
   "source": [
    "### % of missing values\n",
    "No missing values in each column of training data"
   ]
  },
  {
   "cell_type": "code",
   "execution_count": null,
   "metadata": {},
   "outputs": [],
   "source": [
    "print(label_train_ex.shape)\n",
    "missing_val_count_by_column = (label_train_ex.isnull().sum())\n",
    "print(missing_val_count_by_column[missing_val_count_by_column > 0])"
   ]
  },
  {
   "cell_type": "markdown",
   "metadata": {},
   "source": [
    "### Type of distribution in frecuency\n",
    "Representation of the distribution of nums of sample by frecuency. "
   ]
  },
  {
   "cell_type": "code",
   "execution_count": null,
   "metadata": {},
   "outputs": [],
   "source": [
    "ax = label_train_ex['freq'].plot.hist(figsize=(10, 4), bins=408)\n",
    "ax.set_xlabel('Frequency (GHz)')\n",
    "ax.set_ylabel('Nums of sample by frecuency')\n",
    "plt.tight_layout()\n",
    "plt.show()"
   ]
  },
  {
   "cell_type": "markdown",
   "metadata": {},
   "source": [
    "### Balanced samples of frecuency "
   ]
  },
  {
   "cell_type": "code",
   "execution_count": 24,
   "metadata": {
    "execution": {
     "iopub.execute_input": "2024-12-10T15:22:23.365142Z",
     "iopub.status.busy": "2024-12-10T15:22:23.364754Z",
     "iopub.status.idle": "2024-12-10T15:22:23.984078Z",
     "shell.execute_reply": "2024-12-10T15:22:23.982971Z",
     "shell.execute_reply.started": "2024-12-10T15:22:23.365107Z"
    }
   },
   "outputs": [],
   "source": [
    "min = label_train_ex.groupby(['target', 'freq']).size().min()\n",
    "# Function to reduce samples to the min value\n",
    "def reduce_to_min(df, target, frequency, min):\n",
    "    # Filter the DataFrame for the specific sample and frequency\n",
    "    freq_df = df[(df['target'] == target) & (df['freq'] == frequency)]\n",
    "    # If the number of samples is greater than the min, sample down to the min\n",
    "    return freq_df.sample(n=min, random_state=42)\n",
    "\n",
    "# Apply the function to reduce target for each combination of Sample and Frequency (GHz)\n",
    "tmp_balanced_data = []\n",
    "for (target, frequency), group in label_train_ex.groupby(['target', 'freq']):\n",
    "    tmp_balanced_data.append(reduce_to_min(label_train_ex, target, frequency, min))\n",
    "\n",
    "# Combine the balanced samples into a single DataFrame\n",
    "balanced_train_ex = pd.concat(tmp_balanced_data)"
   ]
  },
  {
   "cell_type": "markdown",
   "metadata": {},
   "source": [
    "Check count values within each target and frequency"
   ]
  },
  {
   "cell_type": "code",
   "execution_count": null,
   "metadata": {},
   "outputs": [],
   "source": [
    "ax = balanced_train_ex['freq'].plot.hist(figsize=(10, 4), bins=408)\n",
    "ax.set_xlabel('Frequency (GHz)')\n",
    "ax.set_ylabel('Nums of sample by frecuency')\n",
    "ax.set_title('Distribution by minmial')\n",
    "plt.tight_layout()\n",
    "plt.show()"
   ]
  },
  {
   "cell_type": "code",
   "execution_count": 26,
   "metadata": {
    "execution": {
     "iopub.execute_input": "2024-12-10T15:22:47.551801Z",
     "iopub.status.busy": "2024-12-10T15:22:47.551368Z",
     "iopub.status.idle": "2024-12-10T15:22:47.566030Z",
     "shell.execute_reply": "2024-12-10T15:22:47.564814Z",
     "shell.execute_reply.started": "2024-12-10T15:22:47.551766Z"
    }
   },
   "outputs": [
    {
     "data": {
      "text/html": [
       "<div>\n",
       "<style scoped>\n",
       "    .dataframe tbody tr th:only-of-type {\n",
       "        vertical-align: middle;\n",
       "    }\n",
       "\n",
       "    .dataframe tbody tr th {\n",
       "        vertical-align: top;\n",
       "    }\n",
       "\n",
       "    .dataframe thead th {\n",
       "        text-align: right;\n",
       "    }\n",
       "</style>\n",
       "<table border=\"1\" class=\"dataframe\">\n",
       "  <thead>\n",
       "    <tr style=\"text-align: right;\">\n",
       "      <th></th>\n",
       "      <th>target</th>\n",
       "      <th>freq</th>\n",
       "      <th>LG (mV)</th>\n",
       "      <th>HG (mV)</th>\n",
       "      <th>num_experiment</th>\n",
       "      <th>Sample_original</th>\n",
       "    </tr>\n",
       "  </thead>\n",
       "  <tbody>\n",
       "    <tr>\n",
       "      <th>27451</th>\n",
       "      <td>0.0</td>\n",
       "      <td>100.0</td>\n",
       "      <td>0.274692</td>\n",
       "      <td>20.571359</td>\n",
       "      <td>e4</td>\n",
       "      <td>B1_12</td>\n",
       "    </tr>\n",
       "    <tr>\n",
       "      <th>27387</th>\n",
       "      <td>0.0</td>\n",
       "      <td>100.0</td>\n",
       "      <td>-0.061043</td>\n",
       "      <td>20.693444</td>\n",
       "      <td>e4</td>\n",
       "      <td>B1_12</td>\n",
       "    </tr>\n",
       "    <tr>\n",
       "      <th>80876</th>\n",
       "      <td>0.0</td>\n",
       "      <td>100.0</td>\n",
       "      <td>7.325113</td>\n",
       "      <td>-0.030482</td>\n",
       "      <td>e4</td>\n",
       "      <td>B1_5</td>\n",
       "    </tr>\n",
       "    <tr>\n",
       "      <th>105539</th>\n",
       "      <td>0.0</td>\n",
       "      <td>100.0</td>\n",
       "      <td>-0.549383</td>\n",
       "      <td>24.813820</td>\n",
       "      <td>e4</td>\n",
       "      <td>B1_9</td>\n",
       "    </tr>\n",
       "    <tr>\n",
       "      <th>80633</th>\n",
       "      <td>0.0</td>\n",
       "      <td>100.0</td>\n",
       "      <td>7.264070</td>\n",
       "      <td>0.396764</td>\n",
       "      <td>e4</td>\n",
       "      <td>B1_5</td>\n",
       "    </tr>\n",
       "  </tbody>\n",
       "</table>\n",
       "</div>"
      ],
      "text/plain": [
       "        target   freq   LG (mV)    HG (mV) num_experiment Sample_original\n",
       "27451      0.0  100.0  0.274692  20.571359             e4           B1_12\n",
       "27387      0.0  100.0 -0.061043  20.693444             e4           B1_12\n",
       "80876      0.0  100.0  7.325113  -0.030482             e4            B1_5\n",
       "105539     0.0  100.0 -0.549383  24.813820             e4            B1_9\n",
       "80633      0.0  100.0  7.264070   0.396764             e4            B1_5"
      ]
     },
     "execution_count": 26,
     "metadata": {},
     "output_type": "execute_result"
    }
   ],
   "source": [
    "balanced_train_ex.head() # 301200"
   ]
  },
  {
   "cell_type": "code",
   "execution_count": null,
   "metadata": {},
   "outputs": [],
   "source": [
    "#grouped = balanced_train_ex.groupby([balanced_train_ex[\"target\"], balanced_train_ex[\"freq\"]]).count()"
   ]
  },
  {
   "cell_type": "markdown",
   "metadata": {},
   "source": [
    "**Doubts**: \n",
    "* There are several targets with samples below of mode, i.e: 100.0 Ghz, 130.0 Ghz. How affect `Thickness (mm)` attribute to study."
   ]
  },
  {
   "cell_type": "markdown",
   "metadata": {},
   "source": [
    " ## Study the correlations between attributes"
   ]
  },
  {
   "cell_type": "markdown",
   "metadata": {},
   "source": [
    "Encodes target labels with values between 0 and ``n_classes-1, so `A1` are `0`, `B1` are `1`,... and so on all categories\n",
    "\n",
    "`A1`, `B1`, `C1`, `D1`, `E1`, `E2`, `E3`, `F1`, `G1`, `H1`, `I1`, `J1`, `K1`, `L1`, `M1`, `N1`, `REF`"
   ]
  },
  {
   "cell_type": "code",
   "execution_count": null,
   "metadata": {},
   "outputs": [],
   "source": [
    "balanced_train_ex.head()"
   ]
  },
  {
   "cell_type": "markdown",
   "metadata": {},
   "source": [
    "It is start to analice PE/tie/EVOH/tie/PE/Adhesivo/PE/tie/EVOH/tie/PE (0.2mm) `A1` category `0`"
   ]
  },
  {
   "cell_type": "code",
   "execution_count": null,
   "metadata": {},
   "outputs": [],
   "source": [
    "df_tmp = balanced_train_ex[balanced_train_ex.target==0]\n",
    "\n",
    "from pandas.plotting import scatter_matrix\n",
    "attributes = ['freq', 'LG (mV)', 'HG (mV)']\n",
    "ax = scatter_matrix(df_tmp[attributes], figsize=(12, 8))"
   ]
  },
  {
   "cell_type": "markdown",
   "metadata": {},
   "source": [
    "**Insights**: The correlation coefficient ranges from –1 to 1. When it is close to 1, it means that there is a strong positive correlation; for example, the `HG (mV)` value tends to go up slightly when the `Frequency (GHz)` goes up. When the coefficient is close to –1, it means that there is a strong negative correlation; you can see a big negative correlation between `LG (mV)` and the `Frequency (GHz)` \n",
    "\n",
    "**Evidende**: It can be interpreted that to measured plastic PE/tie/EVOH/tie/PE/Adhesivo/PE/tie/EVOH/tie/PE (0.2mm) `A1` category `0` getaworse response to since high frecuencies in the `LG (mV)`. So the measurement obtained in the low-pass filter is lower `LG (mV)` is better to low frecuencies, although it obtains response peaks at 600 GHz that would have to be explained why they occur\n",
    "\n",
    "\n",
    "7oat64"
   ]
  },
  {
   "cell_type": "code",
   "execution_count": null,
   "metadata": {},
   "outputs": [],
   "source": [
    "corr_matrix = df_tmp.corr()\n",
    "corr_matrix['freq'].sort_values(ascending=False)"
   ]
  },
  {
   "cell_type": "markdown",
   "metadata": {},
   "source": [
    "# Prepare the data to better expose the underlying data patterns"
   ]
  },
  {
   "cell_type": "code",
   "execution_count": 27,
   "metadata": {
    "execution": {
     "iopub.execute_input": "2024-12-10T15:23:06.289000Z",
     "iopub.status.busy": "2024-12-10T15:23:06.288633Z",
     "iopub.status.idle": "2024-12-10T15:23:06.349503Z",
     "shell.execute_reply": "2024-12-10T15:23:06.348501Z",
     "shell.execute_reply.started": "2024-12-10T15:23:06.288967Z"
    }
   },
   "outputs": [
    {
     "name": "stdout",
     "output_type": "stream",
     "text": [
      "<class 'pandas.core.frame.DataFrame'>\n",
      "Index: 301200 entries, 27451 to 381679\n",
      "Data columns (total 6 columns):\n",
      " #   Column           Non-Null Count   Dtype  \n",
      "---  ------           --------------   -----  \n",
      " 0   target           301200 non-null  float64\n",
      " 1   freq             301200 non-null  float64\n",
      " 2   LG (mV)          301200 non-null  float64\n",
      " 3   HG (mV)          301200 non-null  float64\n",
      " 4   num_experiment   301200 non-null  object \n",
      " 5   Sample_original  301200 non-null  object \n",
      "dtypes: float64(4), object(2)\n",
      "memory usage: 16.1+ MB\n"
     ]
    }
   ],
   "source": [
    "train_pr = balanced_train_ex.copy() \n",
    "train_pr.info()\n"
   ]
  },
  {
   "cell_type": "markdown",
   "metadata": {},
   "source": [
    "## Data Clean: Remove outliers"
   ]
  },
  {
   "cell_type": "code",
   "execution_count": null,
   "metadata": {},
   "outputs": [],
   "source": [
    "train_ts_low_quan = train_ts[(train_ts.target=='E1')&(train_ts.freq==350.0)]['HG (mV)'].quantile(0.05)\n",
    "train_ts_high_quan = train_ts[(train_ts.target=='E1')&(train_ts.freq==350.0)]['HG (mV)'].quantile(0.95)\n",
    "train_ts_filtering = np.where(train_ts[(train_ts.target=='E1')&(train_ts.freq==350.0)]['HG (mV)'] < train_ts_low_quan,\n",
    "                                train_ts_low_quan,\n",
    "                                train_ts[(train_ts.target=='E1')&(train_ts.freq==350.0)]['HG (mV)'])\n",
    "\n",
    "train_ts_filtering = pd.Series(train_ts_filtering, index=train_ts[(train_ts.target=='E1')&(train_ts.freq==350.0)]['HG (mV)'].index.to_numpy())\n",
    "train_ts_filtering = np.where(train_ts_filtering > train_ts_high_quan,\n",
    "                              train_ts_high_quan,\n",
    "                              train_ts_filtering)\n",
    "\n",
    "fig, ax = plt.subplots(figsize=(12, 4))\n",
    "ax.plot(X, train_ts_filtering)\n",
    "ax.set_ylim([380, 525])\n",
    "ax.set_title(' Filtering Outliers of time series of 350 GHz to HG (mV) of plastic type E1')\n",
    "fig.show()\n"
   ]
  },
  {
   "cell_type": "markdown",
   "metadata": {},
   "source": [
    "## Feature engineering\n",
    "### Add promising transformations of features"
   ]
  },
  {
   "cell_type": "code",
   "execution_count": null,
   "metadata": {},
   "outputs": [],
   "source": [
    "train_pr = train_pr.astype({\"freq\": int, \"target\": int})\n",
    "\n",
    "#https://stackoverflow.com/questions/43131715/pandas-new-column-by-combining-numbers-of-two-columns-as-strings\n",
    "train_pr['freq_target'] = train_pr['freq'].astype(str) + train_pr['target'].astype(str)\n",
    "train_pr['freq_target'].nunique() # train_pr['freq'].nunique() * train_pr['target'].nunique() 765 different measures\n",
    "\n"
   ]
  },
  {
   "cell_type": "code",
   "execution_count": null,
   "metadata": {},
   "outputs": [],
   "source": [
    "train_pr['freq_target'] = train_pr['freq_target'].astype(int)\n",
    "#train_pr = train_pr.rename(columns = {'freq':'Frequency (GHz)'})\n",
    "\n",
    "train_pr.info()"
   ]
  },
  {
   "cell_type": "markdown",
   "metadata": {},
   "source": [
    "**Doubts**: Normalize freq_target?"
   ]
  },
  {
   "cell_type": "markdown",
   "metadata": {
    "execution": {
     "iopub.execute_input": "2024-11-19T15:17:22.572851Z",
     "iopub.status.busy": "2024-11-19T15:17:22.572362Z",
     "iopub.status.idle": "2024-11-19T15:17:22.584825Z",
     "shell.execute_reply": "2024-11-19T15:17:22.583708Z",
     "shell.execute_reply.started": "2024-11-19T15:17:22.572802Z"
    }
   },
   "source": [
    "## Add transformations of features"
   ]
  },
  {
   "cell_type": "markdown",
   "metadata": {},
   "source": [
    "#### Aggregate features into promising new features: HG_div_LG"
   ]
  },
  {
   "cell_type": "code",
   "execution_count": null,
   "metadata": {},
   "outputs": [],
   "source": [
    "#Find out if zeros before to Aggregate features\n",
    "df_temp = train_pr.rename(columns={'LG (mV)': 'LG_mV','HG (mV)': 'HG_mV' })\n",
    "df_temp[df_temp.LG_mV==0] # 55657 zeros\n",
    "df_temp[df_temp.HG_mV==0] # 15316 zeros"
   ]
  },
  {
   "cell_type": "code",
   "execution_count": null,
   "metadata": {},
   "outputs": [],
   "source": [
    "train_pr.nsmallest(1,'LG (mV)')['LG (mV)'].values[0] # -49.810767\t\n",
    "train_pr.nsmallest(1,'HG (mV)')['HG (mV)'].values[0] # -16.969845\n",
    "train_pr.nlargest(1,'LG (mV)')['LG (mV)'].values[0] # 274.813829\t\n",
    "train_pr.nlargest(1,'HG (mV)')['HG (mV)'].values[0] # 1149.43229\n"
   ]
  },
  {
   "cell_type": "markdown",
   "metadata": {},
   "source": [
    "Slide all values to remove zeros and Aggregate features into promising new features"
   ]
  },
  {
   "cell_type": "code",
   "execution_count": 28,
   "metadata": {
    "collapsed": true,
    "execution": {
     "iopub.execute_input": "2024-12-10T15:24:50.737206Z",
     "iopub.status.busy": "2024-12-10T15:24:50.736817Z",
     "iopub.status.idle": "2024-12-10T15:24:52.176189Z",
     "shell.execute_reply": "2024-12-10T15:24:52.174650Z",
     "shell.execute_reply.started": "2024-12-10T15:24:50.737172Z"
    },
    "jupyter": {
     "outputs_hidden": true
    }
   },
   "outputs": [
    {
     "ename": "KeyError",
     "evalue": "'HG_div_LG'",
     "output_type": "error",
     "traceback": [
      "\u001b[0;31m---------------------------------------------------------------------------\u001b[0m",
      "\u001b[0;31mKeyError\u001b[0m                                  Traceback (most recent call last)",
      "File \u001b[0;32m/opt/conda/lib/python3.10/site-packages/pandas/core/indexes/base.py:3805\u001b[0m, in \u001b[0;36mIndex.get_loc\u001b[0;34m(self, key)\u001b[0m\n\u001b[1;32m   3804\u001b[0m \u001b[38;5;28;01mtry\u001b[39;00m:\n\u001b[0;32m-> 3805\u001b[0m     \u001b[38;5;28;01mreturn\u001b[39;00m \u001b[38;5;28;43mself\u001b[39;49m\u001b[38;5;241;43m.\u001b[39;49m\u001b[43m_engine\u001b[49m\u001b[38;5;241;43m.\u001b[39;49m\u001b[43mget_loc\u001b[49m\u001b[43m(\u001b[49m\u001b[43mcasted_key\u001b[49m\u001b[43m)\u001b[49m\n\u001b[1;32m   3806\u001b[0m \u001b[38;5;28;01mexcept\u001b[39;00m \u001b[38;5;167;01mKeyError\u001b[39;00m \u001b[38;5;28;01mas\u001b[39;00m err:\n",
      "File \u001b[0;32mindex.pyx:167\u001b[0m, in \u001b[0;36mpandas._libs.index.IndexEngine.get_loc\u001b[0;34m()\u001b[0m\n",
      "File \u001b[0;32mindex.pyx:196\u001b[0m, in \u001b[0;36mpandas._libs.index.IndexEngine.get_loc\u001b[0;34m()\u001b[0m\n",
      "File \u001b[0;32mpandas/_libs/hashtable_class_helper.pxi:7081\u001b[0m, in \u001b[0;36mpandas._libs.hashtable.PyObjectHashTable.get_item\u001b[0;34m()\u001b[0m\n",
      "File \u001b[0;32mpandas/_libs/hashtable_class_helper.pxi:7089\u001b[0m, in \u001b[0;36mpandas._libs.hashtable.PyObjectHashTable.get_item\u001b[0;34m()\u001b[0m\n",
      "\u001b[0;31mKeyError\u001b[0m: 'HG_div_LG'",
      "\nThe above exception was the direct cause of the following exception:\n",
      "\u001b[0;31mKeyError\u001b[0m                                  Traceback (most recent call last)",
      "Cell \u001b[0;32mIn[28], line 1\u001b[0m\n\u001b[0;32m----> 1\u001b[0m \u001b[43mtrain_pr\u001b[49m\u001b[38;5;241;43m.\u001b[39;49m\u001b[43mnsmallest\u001b[49m\u001b[43m(\u001b[49m\u001b[38;5;241;43m1\u001b[39;49m\u001b[43m,\u001b[49m\u001b[38;5;124;43m'\u001b[39;49m\u001b[38;5;124;43mHG_div_LG\u001b[39;49m\u001b[38;5;124;43m'\u001b[39;49m\u001b[43m)\u001b[49m[\u001b[38;5;124m'\u001b[39m\u001b[38;5;124mHG_div_LG\u001b[39m\u001b[38;5;124m'\u001b[39m]\u001b[38;5;241m.\u001b[39mvalues[\u001b[38;5;241m0\u001b[39m] \u001b[38;5;66;03m# 0.264913931\u001b[39;00m\n\u001b[1;32m      2\u001b[0m train_pr\u001b[38;5;241m.\u001b[39mnlargest(\u001b[38;5;241m1\u001b[39m,\u001b[38;5;124m'\u001b[39m\u001b[38;5;124mHG_div_LG\u001b[39m\u001b[38;5;124m'\u001b[39m)[\u001b[38;5;124m'\u001b[39m\u001b[38;5;124mHG_div_LG\u001b[39m\u001b[38;5;124m'\u001b[39m]\u001b[38;5;241m.\u001b[39mvalues[\u001b[38;5;241m0\u001b[39m] \u001b[38;5;66;03m# 12.45292894\u001b[39;00m\n\u001b[1;32m      3\u001b[0m train_pr_shifted \u001b[38;5;241m=\u001b[39m train_pr\u001b[38;5;241m.\u001b[39mdrop(columns\u001b[38;5;241m=\u001b[39m[\u001b[38;5;124m'\u001b[39m\u001b[38;5;124mLG (mV)_shifted\u001b[39m\u001b[38;5;124m'\u001b[39m, \u001b[38;5;124m'\u001b[39m\u001b[38;5;124mHG (mV)_shifted\u001b[39m\u001b[38;5;124m'\u001b[39m])\n",
      "File \u001b[0;32m/opt/conda/lib/python3.10/site-packages/pandas/core/frame.py:7756\u001b[0m, in \u001b[0;36mDataFrame.nsmallest\u001b[0;34m(self, n, columns, keep)\u001b[0m\n\u001b[1;32m   7646\u001b[0m \u001b[38;5;28;01mdef\u001b[39;00m \u001b[38;5;21mnsmallest\u001b[39m(\n\u001b[1;32m   7647\u001b[0m     \u001b[38;5;28mself\u001b[39m, n: \u001b[38;5;28mint\u001b[39m, columns: IndexLabel, keep: NsmallestNlargestKeep \u001b[38;5;241m=\u001b[39m \u001b[38;5;124m\"\u001b[39m\u001b[38;5;124mfirst\u001b[39m\u001b[38;5;124m\"\u001b[39m\n\u001b[1;32m   7648\u001b[0m ) \u001b[38;5;241m-\u001b[39m\u001b[38;5;241m>\u001b[39m DataFrame:\n\u001b[1;32m   7649\u001b[0m \u001b[38;5;250m    \u001b[39m\u001b[38;5;124;03m\"\"\"\u001b[39;00m\n\u001b[1;32m   7650\u001b[0m \u001b[38;5;124;03m    Return the first `n` rows ordered by `columns` in ascending order.\u001b[39;00m\n\u001b[1;32m   7651\u001b[0m \n\u001b[0;32m   (...)\u001b[0m\n\u001b[1;32m   7754\u001b[0m \u001b[38;5;124;03m    Nauru         337000  182      NR\u001b[39;00m\n\u001b[1;32m   7755\u001b[0m \u001b[38;5;124;03m    \"\"\"\u001b[39;00m\n\u001b[0;32m-> 7756\u001b[0m     \u001b[38;5;28;01mreturn\u001b[39;00m \u001b[43mselectn\u001b[49m\u001b[38;5;241;43m.\u001b[39;49m\u001b[43mSelectNFrame\u001b[49m\u001b[43m(\u001b[49m\u001b[38;5;28;43mself\u001b[39;49m\u001b[43m,\u001b[49m\u001b[43m \u001b[49m\u001b[43mn\u001b[49m\u001b[38;5;241;43m=\u001b[39;49m\u001b[43mn\u001b[49m\u001b[43m,\u001b[49m\u001b[43m \u001b[49m\u001b[43mkeep\u001b[49m\u001b[38;5;241;43m=\u001b[39;49m\u001b[43mkeep\u001b[49m\u001b[43m,\u001b[49m\u001b[43m \u001b[49m\u001b[43mcolumns\u001b[49m\u001b[38;5;241;43m=\u001b[39;49m\u001b[43mcolumns\u001b[49m\u001b[43m)\u001b[49m\u001b[38;5;241;43m.\u001b[39;49m\u001b[43mnsmallest\u001b[49m\u001b[43m(\u001b[49m\u001b[43m)\u001b[49m\n",
      "File \u001b[0;32m/opt/conda/lib/python3.10/site-packages/pandas/core/methods/selectn.py:61\u001b[0m, in \u001b[0;36mSelectN.nsmallest\u001b[0;34m(self)\u001b[0m\n\u001b[1;32m     59\u001b[0m \u001b[38;5;129m@final\u001b[39m\n\u001b[1;32m     60\u001b[0m \u001b[38;5;28;01mdef\u001b[39;00m \u001b[38;5;21mnsmallest\u001b[39m(\u001b[38;5;28mself\u001b[39m):\n\u001b[0;32m---> 61\u001b[0m     \u001b[38;5;28;01mreturn\u001b[39;00m \u001b[38;5;28;43mself\u001b[39;49m\u001b[38;5;241;43m.\u001b[39;49m\u001b[43mcompute\u001b[49m\u001b[43m(\u001b[49m\u001b[38;5;124;43m\"\u001b[39;49m\u001b[38;5;124;43mnsmallest\u001b[39;49m\u001b[38;5;124;43m\"\u001b[39;49m\u001b[43m)\u001b[49m\n",
      "File \u001b[0;32m/opt/conda/lib/python3.10/site-packages/pandas/core/methods/selectn.py:199\u001b[0m, in \u001b[0;36mSelectNFrame.compute\u001b[0;34m(self, method)\u001b[0m\n\u001b[1;32m    196\u001b[0m columns \u001b[38;5;241m=\u001b[39m \u001b[38;5;28mself\u001b[39m\u001b[38;5;241m.\u001b[39mcolumns\n\u001b[1;32m    198\u001b[0m \u001b[38;5;28;01mfor\u001b[39;00m column \u001b[38;5;129;01min\u001b[39;00m columns:\n\u001b[0;32m--> 199\u001b[0m     dtype \u001b[38;5;241m=\u001b[39m \u001b[43mframe\u001b[49m\u001b[43m[\u001b[49m\u001b[43mcolumn\u001b[49m\u001b[43m]\u001b[49m\u001b[38;5;241m.\u001b[39mdtype\n\u001b[1;32m    200\u001b[0m     \u001b[38;5;28;01mif\u001b[39;00m \u001b[38;5;129;01mnot\u001b[39;00m \u001b[38;5;28mself\u001b[39m\u001b[38;5;241m.\u001b[39mis_valid_dtype_n_method(dtype):\n\u001b[1;32m    201\u001b[0m         \u001b[38;5;28;01mraise\u001b[39;00m \u001b[38;5;167;01mTypeError\u001b[39;00m(\n\u001b[1;32m    202\u001b[0m             \u001b[38;5;124mf\u001b[39m\u001b[38;5;124m\"\u001b[39m\u001b[38;5;124mColumn \u001b[39m\u001b[38;5;132;01m{\u001b[39;00m\u001b[38;5;28mrepr\u001b[39m(column)\u001b[38;5;132;01m}\u001b[39;00m\u001b[38;5;124m has dtype \u001b[39m\u001b[38;5;132;01m{\u001b[39;00mdtype\u001b[38;5;132;01m}\u001b[39;00m\u001b[38;5;124m, \u001b[39m\u001b[38;5;124m\"\u001b[39m\n\u001b[1;32m    203\u001b[0m             \u001b[38;5;124mf\u001b[39m\u001b[38;5;124m\"\u001b[39m\u001b[38;5;124mcannot use method \u001b[39m\u001b[38;5;132;01m{\u001b[39;00m\u001b[38;5;28mrepr\u001b[39m(method)\u001b[38;5;132;01m}\u001b[39;00m\u001b[38;5;124m with this dtype\u001b[39m\u001b[38;5;124m\"\u001b[39m\n\u001b[1;32m    204\u001b[0m         )\n",
      "File \u001b[0;32m/opt/conda/lib/python3.10/site-packages/pandas/core/frame.py:4102\u001b[0m, in \u001b[0;36mDataFrame.__getitem__\u001b[0;34m(self, key)\u001b[0m\n\u001b[1;32m   4100\u001b[0m \u001b[38;5;28;01mif\u001b[39;00m \u001b[38;5;28mself\u001b[39m\u001b[38;5;241m.\u001b[39mcolumns\u001b[38;5;241m.\u001b[39mnlevels \u001b[38;5;241m>\u001b[39m \u001b[38;5;241m1\u001b[39m:\n\u001b[1;32m   4101\u001b[0m     \u001b[38;5;28;01mreturn\u001b[39;00m \u001b[38;5;28mself\u001b[39m\u001b[38;5;241m.\u001b[39m_getitem_multilevel(key)\n\u001b[0;32m-> 4102\u001b[0m indexer \u001b[38;5;241m=\u001b[39m \u001b[38;5;28;43mself\u001b[39;49m\u001b[38;5;241;43m.\u001b[39;49m\u001b[43mcolumns\u001b[49m\u001b[38;5;241;43m.\u001b[39;49m\u001b[43mget_loc\u001b[49m\u001b[43m(\u001b[49m\u001b[43mkey\u001b[49m\u001b[43m)\u001b[49m\n\u001b[1;32m   4103\u001b[0m \u001b[38;5;28;01mif\u001b[39;00m is_integer(indexer):\n\u001b[1;32m   4104\u001b[0m     indexer \u001b[38;5;241m=\u001b[39m [indexer]\n",
      "File \u001b[0;32m/opt/conda/lib/python3.10/site-packages/pandas/core/indexes/base.py:3812\u001b[0m, in \u001b[0;36mIndex.get_loc\u001b[0;34m(self, key)\u001b[0m\n\u001b[1;32m   3807\u001b[0m     \u001b[38;5;28;01mif\u001b[39;00m \u001b[38;5;28misinstance\u001b[39m(casted_key, \u001b[38;5;28mslice\u001b[39m) \u001b[38;5;129;01mor\u001b[39;00m (\n\u001b[1;32m   3808\u001b[0m         \u001b[38;5;28misinstance\u001b[39m(casted_key, abc\u001b[38;5;241m.\u001b[39mIterable)\n\u001b[1;32m   3809\u001b[0m         \u001b[38;5;129;01mand\u001b[39;00m \u001b[38;5;28many\u001b[39m(\u001b[38;5;28misinstance\u001b[39m(x, \u001b[38;5;28mslice\u001b[39m) \u001b[38;5;28;01mfor\u001b[39;00m x \u001b[38;5;129;01min\u001b[39;00m casted_key)\n\u001b[1;32m   3810\u001b[0m     ):\n\u001b[1;32m   3811\u001b[0m         \u001b[38;5;28;01mraise\u001b[39;00m InvalidIndexError(key)\n\u001b[0;32m-> 3812\u001b[0m     \u001b[38;5;28;01mraise\u001b[39;00m \u001b[38;5;167;01mKeyError\u001b[39;00m(key) \u001b[38;5;28;01mfrom\u001b[39;00m \u001b[38;5;21;01merr\u001b[39;00m\n\u001b[1;32m   3813\u001b[0m \u001b[38;5;28;01mexcept\u001b[39;00m \u001b[38;5;167;01mTypeError\u001b[39;00m:\n\u001b[1;32m   3814\u001b[0m     \u001b[38;5;66;03m# If we have a listlike key, _check_indexing_error will raise\u001b[39;00m\n\u001b[1;32m   3815\u001b[0m     \u001b[38;5;66;03m#  InvalidIndexError. Otherwise we fall through and re-raise\u001b[39;00m\n\u001b[1;32m   3816\u001b[0m     \u001b[38;5;66;03m#  the TypeError.\u001b[39;00m\n\u001b[1;32m   3817\u001b[0m     \u001b[38;5;28mself\u001b[39m\u001b[38;5;241m.\u001b[39m_check_indexing_error(key)\n",
      "\u001b[0;31mKeyError\u001b[0m: 'HG_div_LG'"
     ]
    }
   ],
   "source": [
    "train_pr.nsmallest(1,'HG_div_LG')['HG_div_LG'].values[0] # 0.264913931\n",
    "train_pr.nlargest(1,'HG_div_LG')['HG_div_LG'].values[0] # 12.45292894\n",
    "train_pr_shifted = train_pr.drop(columns=['LG (mV)_shifted', 'HG (mV)_shifted'])\n",
    "train_pr_shifted.head()"
   ]
  },
  {
   "cell_type": "markdown",
   "metadata": {},
   "source": [
    "#### Add descriptive and statistics for each freq"
   ]
  },
  {
   "cell_type": "code",
   "execution_count": 34,
   "metadata": {
    "collapsed": true,
    "jupyter": {
     "outputs_hidden": true
    }
   },
   "outputs": [
    {
     "name": "stdout",
     "output_type": "stream",
     "text": [
      "<class 'pandas.core.frame.DataFrame'>\n",
      "Index: 301200 entries, 27451 to 381679\n",
      "Data columns (total 9 columns):\n",
      " #   Column           Non-Null Count   Dtype  \n",
      "---  ------           --------------   -----  \n",
      " 0   target           301200 non-null  float64\n",
      " 1   freq             301200 non-null  float64\n",
      " 2   LG (mV)          301200 non-null  float64\n",
      " 3   HG (mV)          301200 non-null  float64\n",
      " 4   num_experiment   301200 non-null  object \n",
      " 5   Sample_original  301200 non-null  object \n",
      " 6   LG (mV)_shifted  301200 non-null  float64\n",
      " 7   HG (mV)_shifted  301200 non-null  float64\n",
      " 8   HG_div_LG        301200 non-null  float64\n",
      "dtypes: float64(7), object(2)\n",
      "memory usage: 23.0+ MB\n"
     ]
    }
   ],
   "source": [
    "train_pr['LG (mV)_shifted'] = train_pr['LG (mV)'].apply(lambda x: np.sum([x, 100]))\n",
    "train_pr['HG (mV)_shifted'] = train_pr['HG (mV)'].apply(lambda x: np.sum([x, 100]))\n",
    "train_pr['HG_div_LG'] = train_pr['HG (mV)_shifted']/train_pr['LG (mV)_shifted']\n",
    "train_pr.info()"
   ]
  },
  {
   "cell_type": "code",
   "execution_count": 35,
   "metadata": {
    "execution": {
     "iopub.execute_input": "2024-12-10T15:32:40.303359Z",
     "iopub.status.busy": "2024-12-10T15:32:40.302857Z",
     "iopub.status.idle": "2024-12-10T15:32:40.354813Z",
     "shell.execute_reply": "2024-12-10T15:32:40.353519Z",
     "shell.execute_reply.started": "2024-12-10T15:32:40.303322Z"
    }
   },
   "outputs": [],
   "source": [
    "grouped = train_pr.groupby(train_pr[\"freq\"])\n",
    "grouped_LG_mV = grouped['LG (mV)']\n",
    "grouped_HG_mV = grouped['HG (mV)']\n",
    "# https://stackoverflow.com/questions/32938060/reverting-from-multiindex-to-single-index-dataframe-in-pandas\n",
    "df_grouped_LG_mV = grouped_LG_mV.agg(['mean','std','var','median']).reset_index(level=[0])\n",
    "df_grouped_HG_mV = grouped_HG_mV.agg(['mean','std','var','median']).reset_index(level=[0])\n"
   ]
  },
  {
   "cell_type": "code",
   "execution_count": null,
   "metadata": {},
   "outputs": [],
   "source": [
    "df_grouped_LG_mV.head()\n"
   ]
  },
  {
   "cell_type": "code",
   "execution_count": 37,
   "metadata": {
    "execution": {
     "iopub.execute_input": "2024-12-10T15:34:18.093849Z",
     "iopub.status.busy": "2024-12-10T15:34:18.093357Z",
     "iopub.status.idle": "2024-12-10T15:34:18.124347Z",
     "shell.execute_reply": "2024-12-10T15:34:18.123440Z",
     "shell.execute_reply.started": "2024-12-10T15:34:18.093814Z"
    }
   },
   "outputs": [],
   "source": [
    "train_pr_shifted = train_pr.copy()"
   ]
  },
  {
   "cell_type": "code",
   "execution_count": 38,
   "metadata": {
    "execution": {
     "iopub.execute_input": "2024-12-10T15:34:36.190732Z",
     "iopub.status.busy": "2024-12-10T15:34:36.190315Z",
     "iopub.status.idle": "2024-12-10T15:34:36.340250Z",
     "shell.execute_reply": "2024-12-10T15:34:36.339226Z",
     "shell.execute_reply.started": "2024-12-10T15:34:36.190698Z"
    }
   },
   "outputs": [],
   "source": [
    "train_pr_stats = pd.merge(train_pr_shifted, df_grouped_LG_mV, how='left', on='freq').rename(columns = {'mean':'mean_LG',\n",
    "                                                                                                       'std':'std_LG',\n",
    "                                                                                                       'var':'var_LG',\n",
    "                                                                                                       'median':'median_LG'})\n",
    "train_pr_stats = pd.merge(train_pr_stats, df_grouped_HG_mV, how='left', on='freq').rename(columns = {'mean':'mean_HG', \n",
    "                                                                                                     'std': 'std_HG',\n",
    "                                                                                                     'var':'var_HG',\n",
    "                                                                                                     'median':'median_HG'})\n"
   ]
  },
  {
   "cell_type": "code",
   "execution_count": 39,
   "metadata": {
    "collapsed": true,
    "execution": {
     "iopub.execute_input": "2024-12-10T15:34:40.410321Z",
     "iopub.status.busy": "2024-12-10T15:34:40.409271Z",
     "iopub.status.idle": "2024-12-10T15:34:40.458050Z",
     "shell.execute_reply": "2024-12-10T15:34:40.456916Z",
     "shell.execute_reply.started": "2024-12-10T15:34:40.410278Z"
    },
    "jupyter": {
     "outputs_hidden": true
    }
   },
   "outputs": [
    {
     "name": "stdout",
     "output_type": "stream",
     "text": [
      "<class 'pandas.core.frame.DataFrame'>\n",
      "RangeIndex: 301200 entries, 0 to 301199\n",
      "Data columns (total 17 columns):\n",
      " #   Column           Non-Null Count   Dtype  \n",
      "---  ------           --------------   -----  \n",
      " 0   target           301200 non-null  float64\n",
      " 1   freq             301200 non-null  float64\n",
      " 2   LG (mV)          301200 non-null  float64\n",
      " 3   HG (mV)          301200 non-null  float64\n",
      " 4   num_experiment   301200 non-null  object \n",
      " 5   Sample_original  301200 non-null  object \n",
      " 6   LG (mV)_shifted  301200 non-null  float64\n",
      " 7   HG (mV)_shifted  301200 non-null  float64\n",
      " 8   HG_div_LG        301200 non-null  float64\n",
      " 9   mean_LG          301200 non-null  float64\n",
      " 10  std_LG           301200 non-null  float64\n",
      " 11  var_LG           301200 non-null  float64\n",
      " 12  median_LG        301200 non-null  float64\n",
      " 13  mean_HG          301200 non-null  float64\n",
      " 14  std_HG           301200 non-null  float64\n",
      " 15  var_HG           301200 non-null  float64\n",
      " 16  median_HG        301200 non-null  float64\n",
      "dtypes: float64(15), object(2)\n",
      "memory usage: 39.1+ MB\n"
     ]
    }
   ],
   "source": [
    "train_pr_stats.info()"
   ]
  },
  {
   "cell_type": "code",
   "execution_count": null,
   "metadata": {},
   "outputs": [],
   "source": [
    "train_pr_stats.tail()"
   ]
  },
  {
   "cell_type": "code",
   "execution_count": null,
   "metadata": {},
   "outputs": [],
   "source": [
    "train_pr_stats.columns"
   ]
  },
  {
   "cell_type": "markdown",
   "metadata": {},
   "source": [
    "## Feature scaling standardize\n",
    "Neural networks and SVMs, are very sensitive to the scaling of the data\n"
   ]
  },
  {
   "cell_type": "code",
   "execution_count": null,
   "metadata": {},
   "outputs": [],
   "source": [
    "train_pr.head()"
   ]
  },
  {
   "cell_type": "code",
   "execution_count": null,
   "metadata": {},
   "outputs": [],
   "source": [
    "from sklearn.preprocessing import MinMaxScaler\n",
    "scaler = MinMaxScaler()\n",
    "X_train_scaled = scaler.fit_transform(train_pr[['LG (mV)','HG (mV)']].to_numpy()) \n",
    "X_train_scaled = pd.DataFrame(X_train_scaled,\n",
    "                              index=train_pr.index.tolist(),\n",
    "                              columns=['LG (mV) scaled', 'HG (mV) scaled'])\n",
    "train_pr_scaled = pd.concat([train_pr,X_train_scaled],axis=1).drop(columns=['LG (mV)', 'HG (mV)'])\n"
   ]
  },
  {
   "cell_type": "markdown",
   "metadata": {},
   "source": [
    "**Doubt**: Always applies exactly the same transformation to the training and the test set. "
   ]
  },
  {
   "cell_type": "code",
   "execution_count": null,
   "metadata": {},
   "outputs": [],
   "source": [
    "train_pr_scaled.head()"
   ]
  },
  {
   "cell_type": "markdown",
   "metadata": {},
   "source": [
    "# Explore different models"
   ]
  },
  {
   "cell_type": "markdown",
   "metadata": {},
   "source": [
    "Mean (mV) by LG filter of each plastic to 300 Ghz looks a good to classifier"
   ]
  },
  {
   "cell_type": "code",
   "execution_count": 70,
   "metadata": {
    "execution": {
     "iopub.execute_input": "2024-12-10T15:41:50.329355Z",
     "iopub.status.busy": "2024-12-10T15:41:50.328959Z",
     "iopub.status.idle": "2024-12-10T15:41:50.392441Z",
     "shell.execute_reply": "2024-12-10T15:41:50.391371Z",
     "shell.execute_reply.started": "2024-12-10T15:41:50.329319Z"
    }
   },
   "outputs": [
    {
     "data": {
      "text/html": [
       "<div>\n",
       "<style scoped>\n",
       "    .dataframe tbody tr th:only-of-type {\n",
       "        vertical-align: middle;\n",
       "    }\n",
       "\n",
       "    .dataframe tbody tr th {\n",
       "        vertical-align: top;\n",
       "    }\n",
       "\n",
       "    .dataframe thead th {\n",
       "        text-align: right;\n",
       "    }\n",
       "</style>\n",
       "<table border=\"1\" class=\"dataframe\">\n",
       "  <thead>\n",
       "    <tr style=\"text-align: right;\">\n",
       "      <th></th>\n",
       "      <th>target</th>\n",
       "      <th>freq</th>\n",
       "      <th>LG (mV)</th>\n",
       "      <th>HG (mV)</th>\n",
       "      <th>num_experiment</th>\n",
       "      <th>Sample_original</th>\n",
       "      <th>LG (mV)_shifted</th>\n",
       "      <th>HG (mV)_shifted</th>\n",
       "      <th>HG_div_LG</th>\n",
       "      <th>mean_LG</th>\n",
       "      <th>std_LG</th>\n",
       "      <th>var_LG</th>\n",
       "      <th>median_LG</th>\n",
       "      <th>mean_HG</th>\n",
       "      <th>std_HG</th>\n",
       "      <th>var_HG</th>\n",
       "      <th>median_HG</th>\n",
       "    </tr>\n",
       "  </thead>\n",
       "  <tbody>\n",
       "    <tr>\n",
       "      <th>273134</th>\n",
       "      <td>3.0</td>\n",
       "      <td>410.0</td>\n",
       "      <td>1.159810</td>\n",
       "      <td>346.844099</td>\n",
       "      <td>e4</td>\n",
       "      <td>REF_15</td>\n",
       "      <td>101.159810</td>\n",
       "      <td>446.844099</td>\n",
       "      <td>4.417210</td>\n",
       "      <td>0.346126</td>\n",
       "      <td>0.587890</td>\n",
       "      <td>0.345615</td>\n",
       "      <td>0.335734</td>\n",
       "      <td>288.642626</td>\n",
       "      <td>56.029246</td>\n",
       "      <td>3139.276433</td>\n",
       "      <td>283.787103</td>\n",
       "    </tr>\n",
       "    <tr>\n",
       "      <th>6232</th>\n",
       "      <td>0.0</td>\n",
       "      <td>140.0</td>\n",
       "      <td>53.107068</td>\n",
       "      <td>0.854599</td>\n",
       "      <td>e4</td>\n",
       "      <td>B1_12</td>\n",
       "      <td>153.107068</td>\n",
       "      <td>100.854599</td>\n",
       "      <td>0.658719</td>\n",
       "      <td>58.507155</td>\n",
       "      <td>11.273205</td>\n",
       "      <td>127.085148</td>\n",
       "      <td>55.686118</td>\n",
       "      <td>-0.014273</td>\n",
       "      <td>0.451244</td>\n",
       "      <td>0.203621</td>\n",
       "      <td>-0.000018</td>\n",
       "    </tr>\n",
       "    <tr>\n",
       "      <th>211237</th>\n",
       "      <td>2.0</td>\n",
       "      <td>500.0</td>\n",
       "      <td>-0.244170</td>\n",
       "      <td>89.641068</td>\n",
       "      <td>e4</td>\n",
       "      <td>E3_13</td>\n",
       "      <td>99.755830</td>\n",
       "      <td>189.641068</td>\n",
       "      <td>1.901052</td>\n",
       "      <td>0.082824</td>\n",
       "      <td>0.521616</td>\n",
       "      <td>0.272083</td>\n",
       "      <td>0.091564</td>\n",
       "      <td>80.834251</td>\n",
       "      <td>19.124369</td>\n",
       "      <td>365.741473</td>\n",
       "      <td>86.375289</td>\n",
       "    </tr>\n",
       "    <tr>\n",
       "      <th>274763</th>\n",
       "      <td>3.0</td>\n",
       "      <td>420.0</td>\n",
       "      <td>-0.640947</td>\n",
       "      <td>250.671464</td>\n",
       "      <td>e4</td>\n",
       "      <td>REF_15</td>\n",
       "      <td>99.359053</td>\n",
       "      <td>350.671464</td>\n",
       "      <td>3.529336</td>\n",
       "      <td>0.246111</td>\n",
       "      <td>0.546503</td>\n",
       "      <td>0.298665</td>\n",
       "      <td>0.244170</td>\n",
       "      <td>203.933993</td>\n",
       "      <td>51.885466</td>\n",
       "      <td>2692.101616</td>\n",
       "      <td>214.457934</td>\n",
       "    </tr>\n",
       "    <tr>\n",
       "      <th>105606</th>\n",
       "      <td>1.0</td>\n",
       "      <td>300.0</td>\n",
       "      <td>1.098767</td>\n",
       "      <td>350.262535</td>\n",
       "      <td>e4</td>\n",
       "      <td>C1_4</td>\n",
       "      <td>101.098767</td>\n",
       "      <td>450.262535</td>\n",
       "      <td>4.453690</td>\n",
       "      <td>1.682244</td>\n",
       "      <td>0.662947</td>\n",
       "      <td>0.439499</td>\n",
       "      <td>1.678672</td>\n",
       "      <td>49.439317</td>\n",
       "      <td>124.722213</td>\n",
       "      <td>15555.630310</td>\n",
       "      <td>0.213647</td>\n",
       "    </tr>\n",
       "  </tbody>\n",
       "</table>\n",
       "</div>"
      ],
      "text/plain": [
       "        target   freq    LG (mV)     HG (mV) num_experiment Sample_original  \\\n",
       "273134     3.0  410.0   1.159810  346.844099             e4          REF_15   \n",
       "6232       0.0  140.0  53.107068    0.854599             e4           B1_12   \n",
       "211237     2.0  500.0  -0.244170   89.641068             e4           E3_13   \n",
       "274763     3.0  420.0  -0.640947  250.671464             e4          REF_15   \n",
       "105606     1.0  300.0   1.098767  350.262535             e4            C1_4   \n",
       "\n",
       "        LG (mV)_shifted  HG (mV)_shifted  HG_div_LG    mean_LG     std_LG  \\\n",
       "273134       101.159810       446.844099   4.417210   0.346126   0.587890   \n",
       "6232         153.107068       100.854599   0.658719  58.507155  11.273205   \n",
       "211237        99.755830       189.641068   1.901052   0.082824   0.521616   \n",
       "274763        99.359053       350.671464   3.529336   0.246111   0.546503   \n",
       "105606       101.098767       450.262535   4.453690   1.682244   0.662947   \n",
       "\n",
       "            var_LG  median_LG     mean_HG      std_HG        var_HG  \\\n",
       "273134    0.345615   0.335734  288.642626   56.029246   3139.276433   \n",
       "6232    127.085148  55.686118   -0.014273    0.451244      0.203621   \n",
       "211237    0.272083   0.091564   80.834251   19.124369    365.741473   \n",
       "274763    0.298665   0.244170  203.933993   51.885466   2692.101616   \n",
       "105606    0.439499   1.678672   49.439317  124.722213  15555.630310   \n",
       "\n",
       "         median_HG  \n",
       "273134  283.787103  \n",
       "6232     -0.000018  \n",
       "211237   86.375289  \n",
       "274763  214.457934  \n",
       "105606    0.213647  "
      ]
     },
     "execution_count": 70,
     "metadata": {},
     "output_type": "execute_result"
    }
   ],
   "source": [
    "train_mo = train_pr_stats.copy()\n",
    "train_mo = train_mo.sample(frac=0.2, random_state=1) # 30120 samples\n",
    "train_mo.head()"
   ]
  },
  {
   "cell_type": "code",
   "execution_count": 71,
   "metadata": {
    "execution": {
     "iopub.execute_input": "2024-12-10T15:41:59.267282Z",
     "iopub.status.busy": "2024-12-10T15:41:59.266922Z",
     "iopub.status.idle": "2024-12-10T15:41:59.294277Z",
     "shell.execute_reply": "2024-12-10T15:41:59.293197Z",
     "shell.execute_reply.started": "2024-12-10T15:41:59.267252Z"
    }
   },
   "outputs": [
    {
     "data": {
      "text/html": [
       "<div>\n",
       "<style scoped>\n",
       "    .dataframe tbody tr th:only-of-type {\n",
       "        vertical-align: middle;\n",
       "    }\n",
       "\n",
       "    .dataframe tbody tr th {\n",
       "        vertical-align: top;\n",
       "    }\n",
       "\n",
       "    .dataframe thead th {\n",
       "        text-align: right;\n",
       "    }\n",
       "</style>\n",
       "<table border=\"1\" class=\"dataframe\">\n",
       "  <thead>\n",
       "    <tr style=\"text-align: right;\">\n",
       "      <th></th>\n",
       "      <th>target</th>\n",
       "      <th>freq</th>\n",
       "      <th>LG (mV)</th>\n",
       "      <th>HG (mV)</th>\n",
       "      <th>LG (mV)_shifted</th>\n",
       "      <th>HG (mV)_shifted</th>\n",
       "      <th>HG_div_LG</th>\n",
       "      <th>mean_LG</th>\n",
       "      <th>std_LG</th>\n",
       "      <th>var_LG</th>\n",
       "      <th>median_LG</th>\n",
       "      <th>mean_HG</th>\n",
       "      <th>std_HG</th>\n",
       "      <th>var_HG</th>\n",
       "      <th>median_HG</th>\n",
       "    </tr>\n",
       "  </thead>\n",
       "  <tbody>\n",
       "    <tr>\n",
       "      <th>273134</th>\n",
       "      <td>3.0</td>\n",
       "      <td>410.0</td>\n",
       "      <td>1.159810</td>\n",
       "      <td>346.844099</td>\n",
       "      <td>101.159810</td>\n",
       "      <td>446.844099</td>\n",
       "      <td>4.417210</td>\n",
       "      <td>0.346126</td>\n",
       "      <td>0.587890</td>\n",
       "      <td>0.345615</td>\n",
       "      <td>0.335734</td>\n",
       "      <td>288.642626</td>\n",
       "      <td>56.029246</td>\n",
       "      <td>3139.276433</td>\n",
       "      <td>283.787103</td>\n",
       "    </tr>\n",
       "    <tr>\n",
       "      <th>6232</th>\n",
       "      <td>0.0</td>\n",
       "      <td>140.0</td>\n",
       "      <td>53.107068</td>\n",
       "      <td>0.854599</td>\n",
       "      <td>153.107068</td>\n",
       "      <td>100.854599</td>\n",
       "      <td>0.658719</td>\n",
       "      <td>58.507155</td>\n",
       "      <td>11.273205</td>\n",
       "      <td>127.085148</td>\n",
       "      <td>55.686118</td>\n",
       "      <td>-0.014273</td>\n",
       "      <td>0.451244</td>\n",
       "      <td>0.203621</td>\n",
       "      <td>-0.000018</td>\n",
       "    </tr>\n",
       "    <tr>\n",
       "      <th>211237</th>\n",
       "      <td>2.0</td>\n",
       "      <td>500.0</td>\n",
       "      <td>-0.244170</td>\n",
       "      <td>89.641068</td>\n",
       "      <td>99.755830</td>\n",
       "      <td>189.641068</td>\n",
       "      <td>1.901052</td>\n",
       "      <td>0.082824</td>\n",
       "      <td>0.521616</td>\n",
       "      <td>0.272083</td>\n",
       "      <td>0.091564</td>\n",
       "      <td>80.834251</td>\n",
       "      <td>19.124369</td>\n",
       "      <td>365.741473</td>\n",
       "      <td>86.375289</td>\n",
       "    </tr>\n",
       "    <tr>\n",
       "      <th>274763</th>\n",
       "      <td>3.0</td>\n",
       "      <td>420.0</td>\n",
       "      <td>-0.640947</td>\n",
       "      <td>250.671464</td>\n",
       "      <td>99.359053</td>\n",
       "      <td>350.671464</td>\n",
       "      <td>3.529336</td>\n",
       "      <td>0.246111</td>\n",
       "      <td>0.546503</td>\n",
       "      <td>0.298665</td>\n",
       "      <td>0.244170</td>\n",
       "      <td>203.933993</td>\n",
       "      <td>51.885466</td>\n",
       "      <td>2692.101616</td>\n",
       "      <td>214.457934</td>\n",
       "    </tr>\n",
       "    <tr>\n",
       "      <th>105606</th>\n",
       "      <td>1.0</td>\n",
       "      <td>300.0</td>\n",
       "      <td>1.098767</td>\n",
       "      <td>350.262535</td>\n",
       "      <td>101.098767</td>\n",
       "      <td>450.262535</td>\n",
       "      <td>4.453690</td>\n",
       "      <td>1.682244</td>\n",
       "      <td>0.662947</td>\n",
       "      <td>0.439499</td>\n",
       "      <td>1.678672</td>\n",
       "      <td>49.439317</td>\n",
       "      <td>124.722213</td>\n",
       "      <td>15555.630310</td>\n",
       "      <td>0.213647</td>\n",
       "    </tr>\n",
       "  </tbody>\n",
       "</table>\n",
       "</div>"
      ],
      "text/plain": [
       "        target   freq    LG (mV)     HG (mV)  LG (mV)_shifted  \\\n",
       "273134     3.0  410.0   1.159810  346.844099       101.159810   \n",
       "6232       0.0  140.0  53.107068    0.854599       153.107068   \n",
       "211237     2.0  500.0  -0.244170   89.641068        99.755830   \n",
       "274763     3.0  420.0  -0.640947  250.671464        99.359053   \n",
       "105606     1.0  300.0   1.098767  350.262535       101.098767   \n",
       "\n",
       "        HG (mV)_shifted  HG_div_LG    mean_LG     std_LG      var_LG  \\\n",
       "273134       446.844099   4.417210   0.346126   0.587890    0.345615   \n",
       "6232         100.854599   0.658719  58.507155  11.273205  127.085148   \n",
       "211237       189.641068   1.901052   0.082824   0.521616    0.272083   \n",
       "274763       350.671464   3.529336   0.246111   0.546503    0.298665   \n",
       "105606       450.262535   4.453690   1.682244   0.662947    0.439499   \n",
       "\n",
       "        median_LG     mean_HG      std_HG        var_HG   median_HG  \n",
       "273134   0.335734  288.642626   56.029246   3139.276433  283.787103  \n",
       "6232    55.686118   -0.014273    0.451244      0.203621   -0.000018  \n",
       "211237   0.091564   80.834251   19.124369    365.741473   86.375289  \n",
       "274763   0.244170  203.933993   51.885466   2692.101616  214.457934  \n",
       "105606   1.678672   49.439317  124.722213  15555.630310    0.213647  "
      ]
     },
     "execution_count": 71,
     "metadata": {},
     "output_type": "execute_result"
    }
   ],
   "source": [
    "train_mo = train_mo.copy().drop(columns=['num_experiment', 'Sample_original'])\n",
    "train_mo.head()"
   ]
  },
  {
   "cell_type": "markdown",
   "metadata": {},
   "source": [
    "The validation set `X_va` and `y_va` is used during the training phase of the model to provide an unbiased evaluation of the model's performance and to fine-tune the model's parameters."
   ]
  },
  {
   "cell_type": "code",
   "execution_count": null,
   "metadata": {},
   "outputs": [],
   "source": [
    "train_ex_orig = train_ex.copy()\n",
    "train_ex = train_mo.copy().drop(columns=['target', 'freq', 'num_experiment', 'HG_div_LG'])\n",
    "train_ex.info()"
   ]
  },
  {
   "cell_type": "code",
   "execution_count": null,
   "metadata": {},
   "outputs": [],
   "source": [
    "import seaborn as sns\n",
    "import warnings\n",
    "warnings.filterwarnings('ignore')\n",
    "\n",
    "for f in train_ex['freq'].value_counts().index.sort_values().tolist():\n",
    "    freq = f\n",
    "    ncols = 5\n",
    "    nrows = 3\n",
    "    nums_plastics = 0\n",
    "    \n",
    "    fig, axes = plt.subplots(nrows, ncols, figsize=(12, 8))\n",
    "    for r in range(nrows):\n",
    "        for c in range (ncols):\n",
    "            t = train_ex['target'].value_counts().index.sort_values().tolist()\n",
    "            df_tmp = train_ex[(train_ex.freq == freq) & (train_ex.target == t[nums_plastics])]\n",
    "            sns.kdeplot(x=df_tmp['LG (mV)'], ax=axes[r, c], color='#F8766D', label='LG (mV)',  fill =True )\n",
    "            sns.kdeplot(x=df_tmp['HG (mV)'], ax=axes[r, c], color='#00BFC4', label='HG (mV)',  fill =True )\n",
    "            axes[r ,c].legend(fontsize=\"xx-small\")\n",
    "            axes[r, c].set_ylabel('')\n",
    "            axes[r, c].set_xlabel('')\n",
    "            axes[r, c].set_title(f\"Type {t[nums_plastics]} (mV)\",fontsize=7)\n",
    "            axes[r, c].tick_params(labelsize=5, width=0.5)\n",
    "            axes[r, c].xaxis.offsetText.set_fontsize(6)\n",
    "            axes[r, c].yaxis.offsetText.set_fontsize(4)\n",
    "            nums_plastics = nums_plastics +1\n",
    "    plt.suptitle(f\"Train Model samples. Distribution of LG (mV) and HG (mV) of each plastic to {freq} Ghz\", y=0.93,fontsize=10)\n",
    "    plt.show()        "
   ]
  },
  {
   "cell_type": "code",
   "execution_count": null,
   "metadata": {},
   "outputs": [],
   "source": [
    "train_ex = train_ex_orig.copy()\n",
    "del train_ex_orig"
   ]
  },
  {
   "cell_type": "code",
   "execution_count": 72,
   "metadata": {
    "execution": {
     "iopub.execute_input": "2024-12-10T15:42:24.082965Z",
     "iopub.status.busy": "2024-12-10T15:42:24.082596Z",
     "iopub.status.idle": "2024-12-10T15:42:24.106257Z",
     "shell.execute_reply": "2024-12-10T15:42:24.105287Z",
     "shell.execute_reply.started": "2024-12-10T15:42:24.082935Z"
    }
   },
   "outputs": [],
   "source": [
    "from sklearn.model_selection import train_test_split\n",
    "train_set, validate_set = train_test_split(train_mo, test_size=0.2, random_state=42)\n",
    "\n",
    "y_tr = train_set.target\n",
    "y_va = validate_set[['target']]\n",
    "\n",
    "\n",
    "X_tr = train_set.drop(columns=['target', 'freq'])\n",
    "\n",
    "X_va_freq_target = validate_set.copy()\n",
    "X_va = validate_set.drop(columns=[ 'target', 'freq'])\n",
    "\n"
   ]
  },
  {
   "cell_type": "code",
   "execution_count": 73,
   "metadata": {
    "execution": {
     "iopub.execute_input": "2024-12-10T15:42:24.108133Z",
     "iopub.status.busy": "2024-12-10T15:42:24.107847Z",
     "iopub.status.idle": "2024-12-10T15:42:24.127034Z",
     "shell.execute_reply": "2024-12-10T15:42:24.125820Z",
     "shell.execute_reply.started": "2024-12-10T15:42:24.108105Z"
    }
   },
   "outputs": [
    {
     "data": {
      "text/html": [
       "<div>\n",
       "<style scoped>\n",
       "    .dataframe tbody tr th:only-of-type {\n",
       "        vertical-align: middle;\n",
       "    }\n",
       "\n",
       "    .dataframe tbody tr th {\n",
       "        vertical-align: top;\n",
       "    }\n",
       "\n",
       "    .dataframe thead th {\n",
       "        text-align: right;\n",
       "    }\n",
       "</style>\n",
       "<table border=\"1\" class=\"dataframe\">\n",
       "  <thead>\n",
       "    <tr style=\"text-align: right;\">\n",
       "      <th></th>\n",
       "      <th>LG (mV)</th>\n",
       "      <th>HG (mV)</th>\n",
       "      <th>LG (mV)_shifted</th>\n",
       "      <th>HG (mV)_shifted</th>\n",
       "      <th>HG_div_LG</th>\n",
       "      <th>mean_LG</th>\n",
       "      <th>std_LG</th>\n",
       "      <th>var_LG</th>\n",
       "      <th>median_LG</th>\n",
       "      <th>mean_HG</th>\n",
       "      <th>std_HG</th>\n",
       "      <th>var_HG</th>\n",
       "      <th>median_HG</th>\n",
       "    </tr>\n",
       "  </thead>\n",
       "  <tbody>\n",
       "    <tr>\n",
       "      <th>156335</th>\n",
       "      <td>48.773043</td>\n",
       "      <td>0.671470</td>\n",
       "      <td>148.773043</td>\n",
       "      <td>100.671470</td>\n",
       "      <td>0.676678</td>\n",
       "      <td>42.038657</td>\n",
       "      <td>5.277279</td>\n",
       "      <td>27.849669</td>\n",
       "      <td>41.783664</td>\n",
       "      <td>-0.005837</td>\n",
       "      <td>0.437949</td>\n",
       "      <td>0.191800</td>\n",
       "      <td>-0.000018</td>\n",
       "    </tr>\n",
       "    <tr>\n",
       "      <th>82560</th>\n",
       "      <td>48.071053</td>\n",
       "      <td>-0.183117</td>\n",
       "      <td>148.071053</td>\n",
       "      <td>99.816883</td>\n",
       "      <td>0.674115</td>\n",
       "      <td>58.507155</td>\n",
       "      <td>11.273205</td>\n",
       "      <td>127.085148</td>\n",
       "      <td>55.686118</td>\n",
       "      <td>-0.014273</td>\n",
       "      <td>0.451244</td>\n",
       "      <td>0.203621</td>\n",
       "      <td>-0.000018</td>\n",
       "    </tr>\n",
       "    <tr>\n",
       "      <th>162197</th>\n",
       "      <td>18.038090</td>\n",
       "      <td>-0.518847</td>\n",
       "      <td>118.038090</td>\n",
       "      <td>99.481153</td>\n",
       "      <td>0.842789</td>\n",
       "      <td>16.757052</td>\n",
       "      <td>2.393726</td>\n",
       "      <td>5.729925</td>\n",
       "      <td>16.603589</td>\n",
       "      <td>-0.014024</td>\n",
       "      <td>0.455382</td>\n",
       "      <td>0.207373</td>\n",
       "      <td>-0.000012</td>\n",
       "    </tr>\n",
       "    <tr>\n",
       "      <th>251839</th>\n",
       "      <td>5.188622</td>\n",
       "      <td>-0.366235</td>\n",
       "      <td>105.188622</td>\n",
       "      <td>99.633765</td>\n",
       "      <td>0.947191</td>\n",
       "      <td>3.911429</td>\n",
       "      <td>1.016715</td>\n",
       "      <td>1.033709</td>\n",
       "      <td>3.845684</td>\n",
       "      <td>0.181910</td>\n",
       "      <td>0.447748</td>\n",
       "      <td>0.200478</td>\n",
       "      <td>0.183123</td>\n",
       "    </tr>\n",
       "    <tr>\n",
       "      <th>167569</th>\n",
       "      <td>8.393358</td>\n",
       "      <td>-0.671476</td>\n",
       "      <td>108.393358</td>\n",
       "      <td>99.328524</td>\n",
       "      <td>0.916371</td>\n",
       "      <td>6.317874</td>\n",
       "      <td>2.445722</td>\n",
       "      <td>5.981554</td>\n",
       "      <td>6.043218</td>\n",
       "      <td>0.123969</td>\n",
       "      <td>0.466145</td>\n",
       "      <td>0.217291</td>\n",
       "      <td>0.122082</td>\n",
       "    </tr>\n",
       "  </tbody>\n",
       "</table>\n",
       "</div>"
      ],
      "text/plain": [
       "          LG (mV)   HG (mV)  LG (mV)_shifted  HG (mV)_shifted  HG_div_LG  \\\n",
       "156335  48.773043  0.671470       148.773043       100.671470   0.676678   \n",
       "82560   48.071053 -0.183117       148.071053        99.816883   0.674115   \n",
       "162197  18.038090 -0.518847       118.038090        99.481153   0.842789   \n",
       "251839   5.188622 -0.366235       105.188622        99.633765   0.947191   \n",
       "167569   8.393358 -0.671476       108.393358        99.328524   0.916371   \n",
       "\n",
       "          mean_LG     std_LG      var_LG  median_LG   mean_HG    std_HG  \\\n",
       "156335  42.038657   5.277279   27.849669  41.783664 -0.005837  0.437949   \n",
       "82560   58.507155  11.273205  127.085148  55.686118 -0.014273  0.451244   \n",
       "162197  16.757052   2.393726    5.729925  16.603589 -0.014024  0.455382   \n",
       "251839   3.911429   1.016715    1.033709   3.845684  0.181910  0.447748   \n",
       "167569   6.317874   2.445722    5.981554   6.043218  0.123969  0.466145   \n",
       "\n",
       "          var_HG  median_HG  \n",
       "156335  0.191800  -0.000018  \n",
       "82560   0.203621  -0.000018  \n",
       "162197  0.207373  -0.000012  \n",
       "251839  0.200478   0.183123  \n",
       "167569  0.217291   0.122082  "
      ]
     },
     "execution_count": 73,
     "metadata": {},
     "output_type": "execute_result"
    }
   ],
   "source": [
    "X_tr.head()"
   ]
  },
  {
   "cell_type": "code",
   "execution_count": 74,
   "metadata": {
    "execution": {
     "iopub.execute_input": "2024-12-10T15:42:24.128249Z",
     "iopub.status.busy": "2024-12-10T15:42:24.127932Z",
     "iopub.status.idle": "2024-12-10T15:42:24.157205Z",
     "shell.execute_reply": "2024-12-10T15:42:24.156084Z",
     "shell.execute_reply.started": "2024-12-10T15:42:24.128215Z"
    }
   },
   "outputs": [
    {
     "data": {
      "text/html": [
       "<div>\n",
       "<style scoped>\n",
       "    .dataframe tbody tr th:only-of-type {\n",
       "        vertical-align: middle;\n",
       "    }\n",
       "\n",
       "    .dataframe tbody tr th {\n",
       "        vertical-align: top;\n",
       "    }\n",
       "\n",
       "    .dataframe thead th {\n",
       "        text-align: right;\n",
       "    }\n",
       "</style>\n",
       "<table border=\"1\" class=\"dataframe\">\n",
       "  <thead>\n",
       "    <tr style=\"text-align: right;\">\n",
       "      <th></th>\n",
       "      <th>target</th>\n",
       "      <th>freq</th>\n",
       "      <th>LG (mV)</th>\n",
       "      <th>HG (mV)</th>\n",
       "      <th>LG (mV)_shifted</th>\n",
       "      <th>HG (mV)_shifted</th>\n",
       "      <th>HG_div_LG</th>\n",
       "      <th>mean_LG</th>\n",
       "      <th>std_LG</th>\n",
       "      <th>var_LG</th>\n",
       "      <th>median_LG</th>\n",
       "      <th>mean_HG</th>\n",
       "      <th>std_HG</th>\n",
       "      <th>var_HG</th>\n",
       "      <th>median_HG</th>\n",
       "    </tr>\n",
       "  </thead>\n",
       "  <tbody>\n",
       "    <tr>\n",
       "      <th>198634</th>\n",
       "      <td>2.0</td>\n",
       "      <td>410.0</td>\n",
       "      <td>-0.335734</td>\n",
       "      <td>259.705804</td>\n",
       "      <td>99.664266</td>\n",
       "      <td>359.705804</td>\n",
       "      <td>3.609175</td>\n",
       "      <td>0.346126</td>\n",
       "      <td>0.587890</td>\n",
       "      <td>0.345615</td>\n",
       "      <td>0.335734</td>\n",
       "      <td>288.642626</td>\n",
       "      <td>56.029246</td>\n",
       "      <td>3139.276433</td>\n",
       "      <td>283.787103</td>\n",
       "    </tr>\n",
       "    <tr>\n",
       "      <th>252945</th>\n",
       "      <td>3.0</td>\n",
       "      <td>270.0</td>\n",
       "      <td>5.860090</td>\n",
       "      <td>-0.122094</td>\n",
       "      <td>105.860090</td>\n",
       "      <td>99.877906</td>\n",
       "      <td>0.943490</td>\n",
       "      <td>3.911429</td>\n",
       "      <td>1.016715</td>\n",
       "      <td>1.033709</td>\n",
       "      <td>3.845684</td>\n",
       "      <td>0.181910</td>\n",
       "      <td>0.447748</td>\n",
       "      <td>0.200478</td>\n",
       "      <td>0.183123</td>\n",
       "    </tr>\n",
       "    <tr>\n",
       "      <th>91958</th>\n",
       "      <td>1.0</td>\n",
       "      <td>210.0</td>\n",
       "      <td>1.922842</td>\n",
       "      <td>-0.152606</td>\n",
       "      <td>101.922842</td>\n",
       "      <td>99.847394</td>\n",
       "      <td>0.979637</td>\n",
       "      <td>6.317874</td>\n",
       "      <td>2.445722</td>\n",
       "      <td>5.981554</td>\n",
       "      <td>6.043218</td>\n",
       "      <td>0.123969</td>\n",
       "      <td>0.466145</td>\n",
       "      <td>0.217291</td>\n",
       "      <td>0.122082</td>\n",
       "    </tr>\n",
       "    <tr>\n",
       "      <th>28023</th>\n",
       "      <td>0.0</td>\n",
       "      <td>280.0</td>\n",
       "      <td>4.059333</td>\n",
       "      <td>0.030524</td>\n",
       "      <td>104.059333</td>\n",
       "      <td>100.030524</td>\n",
       "      <td>0.961284</td>\n",
       "      <td>2.980493</td>\n",
       "      <td>0.746979</td>\n",
       "      <td>0.557977</td>\n",
       "      <td>2.960566</td>\n",
       "      <td>0.154546</td>\n",
       "      <td>0.455465</td>\n",
       "      <td>0.207448</td>\n",
       "      <td>0.152606</td>\n",
       "    </tr>\n",
       "    <tr>\n",
       "      <th>34786</th>\n",
       "      <td>0.0</td>\n",
       "      <td>330.0</td>\n",
       "      <td>0.305213</td>\n",
       "      <td>662.556475</td>\n",
       "      <td>100.305213</td>\n",
       "      <td>762.556475</td>\n",
       "      <td>7.602361</td>\n",
       "      <td>1.076236</td>\n",
       "      <td>0.575871</td>\n",
       "      <td>0.331627</td>\n",
       "      <td>1.068246</td>\n",
       "      <td>519.298711</td>\n",
       "      <td>267.527434</td>\n",
       "      <td>71570.927839</td>\n",
       "      <td>609.953016</td>\n",
       "    </tr>\n",
       "  </tbody>\n",
       "</table>\n",
       "</div>"
      ],
      "text/plain": [
       "        target   freq   LG (mV)     HG (mV)  LG (mV)_shifted  HG (mV)_shifted  \\\n",
       "198634     2.0  410.0 -0.335734  259.705804        99.664266       359.705804   \n",
       "252945     3.0  270.0  5.860090   -0.122094       105.860090        99.877906   \n",
       "91958      1.0  210.0  1.922842   -0.152606       101.922842        99.847394   \n",
       "28023      0.0  280.0  4.059333    0.030524       104.059333       100.030524   \n",
       "34786      0.0  330.0  0.305213  662.556475       100.305213       762.556475   \n",
       "\n",
       "        HG_div_LG   mean_LG    std_LG    var_LG  median_LG     mean_HG  \\\n",
       "198634   3.609175  0.346126  0.587890  0.345615   0.335734  288.642626   \n",
       "252945   0.943490  3.911429  1.016715  1.033709   3.845684    0.181910   \n",
       "91958    0.979637  6.317874  2.445722  5.981554   6.043218    0.123969   \n",
       "28023    0.961284  2.980493  0.746979  0.557977   2.960566    0.154546   \n",
       "34786    7.602361  1.076236  0.575871  0.331627   1.068246  519.298711   \n",
       "\n",
       "            std_HG        var_HG   median_HG  \n",
       "198634   56.029246   3139.276433  283.787103  \n",
       "252945    0.447748      0.200478    0.183123  \n",
       "91958     0.466145      0.217291    0.122082  \n",
       "28023     0.455465      0.207448    0.152606  \n",
       "34786   267.527434  71570.927839  609.953016  "
      ]
     },
     "execution_count": 74,
     "metadata": {},
     "output_type": "execute_result"
    }
   ],
   "source": [
    "X_va_freq_target.head()"
   ]
  },
  {
   "cell_type": "markdown",
   "metadata": {},
   "source": [
    "**Cojeture**: Look samples are homogenius"
   ]
  },
  {
   "cell_type": "markdown",
   "metadata": {},
   "source": [
    "## Train many quick and dirty models "
   ]
  },
  {
   "cell_type": "code",
   "execution_count": 75,
   "metadata": {
    "execution": {
     "iopub.execute_input": "2024-12-10T15:42:24.160845Z",
     "iopub.status.busy": "2024-12-10T15:42:24.159805Z",
     "iopub.status.idle": "2024-12-10T15:42:24.166096Z",
     "shell.execute_reply": "2024-12-10T15:42:24.164991Z",
     "shell.execute_reply.started": "2024-12-10T15:42:24.160792Z"
    }
   },
   "outputs": [],
   "source": [
    "import time\n",
    "start_time = time.time()"
   ]
  },
  {
   "cell_type": "code",
   "execution_count": 76,
   "metadata": {
    "execution": {
     "iopub.execute_input": "2024-12-10T15:42:24.168001Z",
     "iopub.status.busy": "2024-12-10T15:42:24.167694Z",
     "iopub.status.idle": "2024-12-10T15:42:24.190599Z",
     "shell.execute_reply": "2024-12-10T15:42:24.189645Z",
     "shell.execute_reply.started": "2024-12-10T15:42:24.167972Z"
    }
   },
   "outputs": [],
   "source": [
    "from sklearn.dummy import DummyClassifier\n",
    "dummy_clf = DummyClassifier(strategy=\"most_frequent\").fit(X_tr.to_numpy(), y_tr.to_numpy())\n",
    "y_pred = dummy_clf.predict(X_va.to_numpy())\n",
    "\n",
    "from sklearn.metrics import accuracy_score\n",
    "dummy_score = accuracy_score(y_va.target.to_numpy(), y_pred)"
   ]
  },
  {
   "cell_type": "code",
   "execution_count": 77,
   "metadata": {
    "execution": {
     "iopub.execute_input": "2024-12-10T15:42:24.192088Z",
     "iopub.status.busy": "2024-12-10T15:42:24.191753Z",
     "iopub.status.idle": "2024-12-10T15:42:26.061742Z",
     "shell.execute_reply": "2024-12-10T15:42:26.056520Z",
     "shell.execute_reply.started": "2024-12-10T15:42:24.192056Z"
    }
   },
   "outputs": [
    {
     "name": "stderr",
     "output_type": "stream",
     "text": [
      "/opt/conda/lib/python3.10/site-packages/sklearn/linear_model/_logistic.py:458: ConvergenceWarning: lbfgs failed to converge (status=1):\n",
      "STOP: TOTAL NO. of ITERATIONS REACHED LIMIT.\n",
      "\n",
      "Increase the number of iterations (max_iter) or scale the data as shown in:\n",
      "    https://scikit-learn.org/stable/modules/preprocessing.html\n",
      "Please also refer to the documentation for alternative solver options:\n",
      "    https://scikit-learn.org/stable/modules/linear_model.html#logistic-regression\n",
      "  n_iter_i = _check_optimize_result(\n"
     ]
    }
   ],
   "source": [
    "from sklearn.linear_model import LogisticRegression\n",
    "logit_clf = LogisticRegression().fit(X_tr.to_numpy(), y_tr.to_numpy())\n",
    "y_pred = logit_clf.predict(X_va.to_numpy())\n",
    "logit_score = accuracy_score(y_va.target.to_numpy(), y_pred)"
   ]
  },
  {
   "cell_type": "code",
   "execution_count": 78,
   "metadata": {
    "execution": {
     "iopub.execute_input": "2024-12-10T15:42:26.064973Z",
     "iopub.status.busy": "2024-12-10T15:42:26.063650Z",
     "iopub.status.idle": "2024-12-10T15:42:29.750125Z",
     "shell.execute_reply": "2024-12-10T15:42:29.748487Z",
     "shell.execute_reply.started": "2024-12-10T15:42:26.064900Z"
    }
   },
   "outputs": [],
   "source": [
    "from sklearn.linear_model import SGDClassifier\n",
    "sgd_clf = SGDClassifier().fit(X_tr.to_numpy(), y_tr.to_numpy())\n",
    "y_pred = sgd_clf.predict(X_va.to_numpy())\n",
    "sgd_score = accuracy_score(y_va.target.to_numpy(), y_pred)"
   ]
  },
  {
   "cell_type": "code",
   "execution_count": 79,
   "metadata": {
    "execution": {
     "iopub.execute_input": "2024-12-10T15:42:29.756930Z",
     "iopub.status.busy": "2024-12-10T15:42:29.755413Z",
     "iopub.status.idle": "2024-12-10T15:46:13.011154Z",
     "shell.execute_reply": "2024-12-10T15:46:13.010052Z",
     "shell.execute_reply.started": "2024-12-10T15:42:29.756856Z"
    }
   },
   "outputs": [],
   "source": [
    "from sklearn.svm import SVC\n",
    "svc_clf = SVC().fit(X_tr.to_numpy(), y_tr.to_numpy())\n",
    "y_pred = svc_clf.predict(X_va.to_numpy())\n",
    "svc_score = accuracy_score(y_va.target.to_numpy(), y_pred)"
   ]
  },
  {
   "cell_type": "code",
   "execution_count": 80,
   "metadata": {
    "execution": {
     "iopub.execute_input": "2024-12-10T15:46:13.013198Z",
     "iopub.status.busy": "2024-12-10T15:46:13.012757Z",
     "iopub.status.idle": "2024-12-10T15:46:13.018296Z",
     "shell.execute_reply": "2024-12-10T15:46:13.017190Z",
     "shell.execute_reply.started": "2024-12-10T15:46:13.013146Z"
    }
   },
   "outputs": [],
   "source": [
    "svc_score_scaled = 0"
   ]
  },
  {
   "cell_type": "code",
   "execution_count": 81,
   "metadata": {
    "execution": {
     "iopub.execute_input": "2024-12-10T15:46:13.020041Z",
     "iopub.status.busy": "2024-12-10T15:46:13.019725Z",
     "iopub.status.idle": "2024-12-10T15:46:13.031939Z",
     "shell.execute_reply": "2024-12-10T15:46:13.030753Z",
     "shell.execute_reply.started": "2024-12-10T15:46:13.020009Z"
    }
   },
   "outputs": [],
   "source": [
    "bayes_score=0\n",
    "from sklearn.naive_bayes import MultinomialNB\n",
    "#bayes_clf = MultinomialNB().fit(X_tr.to_numpy(), y_tr.to_numpy())\n",
    "#bayes_score = accuracy_score(y_va.target.to_numpy(), y_pred)\n",
    "\n",
    "# ValueError: Negative values in data passed to MultinomialNB (input X)"
   ]
  },
  {
   "cell_type": "code",
   "execution_count": 82,
   "metadata": {
    "execution": {
     "iopub.execute_input": "2024-12-10T15:46:13.033656Z",
     "iopub.status.busy": "2024-12-10T15:46:13.033296Z",
     "iopub.status.idle": "2024-12-10T15:46:13.087805Z",
     "shell.execute_reply": "2024-12-10T15:46:13.086236Z",
     "shell.execute_reply.started": "2024-12-10T15:46:13.033624Z"
    }
   },
   "outputs": [],
   "source": [
    "from sklearn.linear_model import RidgeClassifier\n",
    "ridge_clf = RidgeClassifier().fit(X_tr.to_numpy(), y_tr.to_numpy())\n",
    "y_pred = ridge_clf.predict(X_va.to_numpy())\n",
    "ridge_score = accuracy_score(y_va.target.to_numpy(), y_pred)"
   ]
  },
  {
   "cell_type": "code",
   "execution_count": 83,
   "metadata": {
    "execution": {
     "iopub.execute_input": "2024-12-10T15:46:13.090518Z",
     "iopub.status.busy": "2024-12-10T15:46:13.089898Z",
     "iopub.status.idle": "2024-12-10T15:46:14.044824Z",
     "shell.execute_reply": "2024-12-10T15:46:14.043786Z",
     "shell.execute_reply.started": "2024-12-10T15:46:13.090452Z"
    }
   },
   "outputs": [],
   "source": [
    "from sklearn.neighbors import KNeighborsClassifier\n",
    "neigh_clf = KNeighborsClassifier().fit(X_tr.to_numpy(), y_tr.to_numpy())\n",
    "y_pred = neigh_clf.predict(X_va.to_numpy())\n",
    "neigh_score = accuracy_score(y_va.target.to_numpy(), y_pred)"
   ]
  },
  {
   "cell_type": "code",
   "execution_count": 84,
   "metadata": {
    "execution": {
     "iopub.execute_input": "2024-12-10T15:46:14.046818Z",
     "iopub.status.busy": "2024-12-10T15:46:14.046314Z",
     "iopub.status.idle": "2024-12-10T15:46:14.694799Z",
     "shell.execute_reply": "2024-12-10T15:46:14.693718Z",
     "shell.execute_reply.started": "2024-12-10T15:46:14.046763Z"
    }
   },
   "outputs": [],
   "source": [
    "from sklearn.tree import DecisionTreeClassifier\n",
    "tree_clf = DecisionTreeClassifier().fit(X_tr.to_numpy(), y_tr.to_numpy())\n",
    "y_pred = tree_clf.predict(X_va.to_numpy())\n",
    "tree_score = accuracy_score(y_va.target.to_numpy(), y_pred)"
   ]
  },
  {
   "cell_type": "code",
   "execution_count": 85,
   "metadata": {
    "execution": {
     "iopub.execute_input": "2024-12-10T15:46:14.696318Z",
     "iopub.status.busy": "2024-12-10T15:46:14.695989Z",
     "iopub.status.idle": "2024-12-10T15:46:26.786488Z",
     "shell.execute_reply": "2024-12-10T15:46:26.785561Z",
     "shell.execute_reply.started": "2024-12-10T15:46:14.696286Z"
    }
   },
   "outputs": [],
   "source": [
    "from sklearn.ensemble import RandomForestClassifier\n",
    "rnd_clf = RandomForestClassifier().fit(X_tr.to_numpy(), y_tr.to_numpy())\n",
    "y_pred = rnd_clf.predict(X_va.to_numpy())\n",
    "rnd_score = accuracy_score(y_va.target.to_numpy(), y_pred)"
   ]
  },
  {
   "cell_type": "code",
   "execution_count": 86,
   "metadata": {
    "execution": {
     "iopub.execute_input": "2024-12-10T15:46:26.787975Z",
     "iopub.status.busy": "2024-12-10T15:46:26.787663Z",
     "iopub.status.idle": "2024-12-10T15:47:14.662578Z",
     "shell.execute_reply": "2024-12-10T15:47:14.661082Z",
     "shell.execute_reply.started": "2024-12-10T15:46:26.787943Z"
    }
   },
   "outputs": [],
   "source": [
    "from sklearn.ensemble import GradientBoostingClassifier\n",
    "gb_clf = GradientBoostingClassifier().fit(X_tr.to_numpy(), y_tr.to_numpy())\n",
    "y_pred = gb_clf.predict(X_va.to_numpy())\n",
    "gb_score = accuracy_score(y_va.target.to_numpy(), y_pred)"
   ]
  },
  {
   "cell_type": "code",
   "execution_count": 87,
   "metadata": {
    "execution": {
     "iopub.execute_input": "2024-12-10T15:47:14.664361Z",
     "iopub.status.busy": "2024-12-10T15:47:14.664013Z",
     "iopub.status.idle": "2024-12-10T15:47:14.669915Z",
     "shell.execute_reply": "2024-12-10T15:47:14.668768Z",
     "shell.execute_reply.started": "2024-12-10T15:47:14.664327Z"
    }
   },
   "outputs": [
    {
     "name": "stdout",
     "output_type": "stream",
     "text": [
      "Run Time: 290.50s\n"
     ]
    }
   ],
   "source": [
    "run_time = time.time() - start_time\n",
    "print(f\"Run Time: {run_time:.2f}s\")\n"
   ]
  },
  {
   "cell_type": "code",
   "execution_count": 88,
   "metadata": {
    "execution": {
     "iopub.execute_input": "2024-12-10T15:47:14.671415Z",
     "iopub.status.busy": "2024-12-10T15:47:14.671097Z",
     "iopub.status.idle": "2024-12-10T15:47:14.686250Z",
     "shell.execute_reply": "2024-12-10T15:47:14.685059Z",
     "shell.execute_reply.started": "2024-12-10T15:47:14.671359Z"
    }
   },
   "outputs": [],
   "source": [
    "\n",
    "lst_accuracy_score = [bayes_score, dummy_score, gb_score, logit_score, neigh_score, ridge_score, rnd_score, sgd_score, svc_score, svc_score_scaled, tree_score]\n",
    "lst_name_clf = ['bayes', 'dummy', 'gb', 'logit', 'neigh', 'ridge', 'rnd', 'sgd', 'svc', 'svc_scaled', 'tree' ]\n",
    "\n",
    "\n",
    "df_scores = pd.DataFrame({\n",
    "\"name_clf\" : lst_name_clf,\n",
    "\"accuracy_score\" : lst_accuracy_score\n",
    "})"
   ]
  },
  {
   "cell_type": "code",
   "execution_count": 89,
   "metadata": {
    "execution": {
     "iopub.execute_input": "2024-12-10T15:47:14.690767Z",
     "iopub.status.busy": "2024-12-10T15:47:14.690374Z",
     "iopub.status.idle": "2024-12-10T15:47:14.906173Z",
     "shell.execute_reply": "2024-12-10T15:47:14.905066Z",
     "shell.execute_reply.started": "2024-12-10T15:47:14.690734Z"
    }
   },
   "outputs": [
    {
     "data": {
      "image/png": "[encoded data removed]",
      "text/plain": [
       "<Figure size 640x480 with 1 Axes>"
      ]
     },
     "metadata": {},
     "output_type": "display_data"
    }
   ],
   "source": [
    "df_scores.sort_values('accuracy_score', ascending=True, inplace=True)\n",
    "plt.barh(np.arange(len(lst_name_clf)), df_scores.accuracy_score, color='chocolate')\n",
    "plt.yticks(np.arange(len(lst_name_clf)), df_scores.name_clf)\n",
    "#plt.xlim(0, 1.2)\n",
    "plt.title('Model comparison (larger bar is better)')\n",
    "plt.xlabel('Accuracy classification score')\n",
    "plt.show()"
   ]
  },
  {
   "cell_type": "markdown",
   "metadata": {},
   "source": [
    "## Measure and compare classifiers performance and frecuencies"
   ]
  },
  {
   "cell_type": "code",
   "execution_count": 90,
   "metadata": {
    "execution": {
     "iopub.execute_input": "2024-12-10T15:47:14.907793Z",
     "iopub.status.busy": "2024-12-10T15:47:14.907483Z",
     "iopub.status.idle": "2024-12-10T15:47:14.912984Z",
     "shell.execute_reply": "2024-12-10T15:47:14.911729Z",
     "shell.execute_reply.started": "2024-12-10T15:47:14.907764Z"
    }
   },
   "outputs": [],
   "source": [
    "from sklearn.metrics import confusion_matrix, ConfusionMatrixDisplay"
   ]
  },
  {
   "cell_type": "code",
   "execution_count": 91,
   "metadata": {
    "execution": {
     "iopub.execute_input": "2024-12-10T15:47:14.915246Z",
     "iopub.status.busy": "2024-12-10T15:47:14.914487Z",
     "iopub.status.idle": "2024-12-10T15:47:14.947948Z",
     "shell.execute_reply": "2024-12-10T15:47:14.946403Z",
     "shell.execute_reply.started": "2024-12-10T15:47:14.915197Z"
    }
   },
   "outputs": [
    {
     "ename": "NameError",
     "evalue": "name 'y_va_350' is not defined",
     "output_type": "error",
     "traceback": [
      "\u001b[0;31m---------------------------------------------------------------------------\u001b[0m",
      "\u001b[0;31mNameError\u001b[0m                                 Traceback (most recent call last)",
      "Cell \u001b[0;32mIn[91], line 1\u001b[0m\n\u001b[0;32m----> 1\u001b[0m cm \u001b[38;5;241m=\u001b[39m confusion_matrix(\u001b[43my_va_350\u001b[49m\u001b[38;5;241m.\u001b[39mtarget\u001b[38;5;241m.\u001b[39mto_numpy(), y_pred_350, labels\u001b[38;5;241m=\u001b[39mneigh_clf_350\u001b[38;5;241m.\u001b[39mclasses_)\n\u001b[1;32m      2\u001b[0m disp \u001b[38;5;241m=\u001b[39m ConfusionMatrixDisplay(confusion_matrix\u001b[38;5;241m=\u001b[39mcm, display_labels\u001b[38;5;241m=\u001b[39mneigh_clf_350\u001b[38;5;241m.\u001b[39mclasses_)\n\u001b[1;32m      3\u001b[0m fig, ax \u001b[38;5;241m=\u001b[39m plt\u001b[38;5;241m.\u001b[39msubplots(figsize\u001b[38;5;241m=\u001b[39m(\u001b[38;5;241m10\u001b[39m, \u001b[38;5;241m10\u001b[39m))\n",
      "\u001b[0;31mNameError\u001b[0m: name 'y_va_350' is not defined"
     ]
    }
   ],
   "source": [
    "cm = confusion_matrix(y_va_350.target.to_numpy(), y_pred_350, labels=neigh_clf_350.classes_)\n",
    "disp = ConfusionMatrixDisplay(confusion_matrix=cm, display_labels=neigh_clf_350.classes_)\n",
    "fig, ax = plt.subplots(figsize=(10, 10))\n",
    "ax.set_title('Confusion Matrix to k-nearest neighbor to 350 Ghz')\n",
    "disp.plot(ax=ax)"
   ]
  },
  {
   "cell_type": "markdown",
   "metadata": {},
   "source": [
    "## Analyze the types of errors the models make\n",
    "Study best classifier to best frequency"
   ]
  },
  {
   "cell_type": "code",
   "execution_count": null,
   "metadata": {
    "execution": {
     "iopub.status.busy": "2024-12-10T15:47:14.949024Z",
     "iopub.status.idle": "2024-12-10T15:47:14.949555Z",
     "shell.execute_reply": "2024-12-10T15:47:14.949290Z",
     "shell.execute_reply.started": "2024-12-10T15:47:14.949266Z"
    }
   },
   "outputs": [],
   "source": [
    "train_mo = train_pr_shifted.copy().rename(columns = {'Frequency (GHz)':'freq'})\n",
    "train_mo_350 = train_mo[train_mo.freq == 350].drop(columns=['freq_target']) \n",
    "train_mo_350.info()"
   ]
  },
  {
   "cell_type": "code",
   "execution_count": null,
   "metadata": {
    "execution": {
     "iopub.status.busy": "2024-12-10T15:47:14.951544Z",
     "iopub.status.idle": "2024-12-10T15:47:14.951945Z",
     "shell.execute_reply": "2024-12-10T15:47:14.951784Z",
     "shell.execute_reply.started": "2024-12-10T15:47:14.951756Z"
    }
   },
   "outputs": [],
   "source": [
    "train_mo_350['exp(HG)'] = train_mo_350['HG (mV)'].apply(lambda x: np.expm1(x/1000))\n",
    "train_mo_350.head()"
   ]
  },
  {
   "cell_type": "markdown",
   "metadata": {},
   "source": [
    "Binning, Discretization, Linear Models, and Trees"
   ]
  },
  {
   "cell_type": "code",
   "execution_count": null,
   "metadata": {
    "execution": {
     "iopub.status.busy": "2024-12-10T15:47:14.954659Z",
     "iopub.status.idle": "2024-12-10T15:47:14.955224Z",
     "shell.execute_reply": "2024-12-10T15:47:14.954978Z",
     "shell.execute_reply.started": "2024-12-10T15:47:14.954949Z"
    }
   },
   "outputs": [],
   "source": [
    "warnings.filterwarnings('ignore')\n",
    "freq = 350\n",
    "ncols = 5\n",
    "nrows = 3\n",
    "nums_plastics = 0\n",
    "\n",
    "fig, axes = plt.subplots(nrows, ncols, figsize=(12, 8))\n",
    "for r in range(nrows):\n",
    "    for c in range (ncols):\n",
    "        t = train_mo_350['target'].value_counts().index.sort_values().tolist()\n",
    "        df_tmp = train_mo_350[(train_mo_350.freq == freq) & (train_mo_350.target == t[nums_plastics])]\n",
    "        sns.kdeplot(x=df_tmp['LG (mV)'], ax=axes[r, c], color='#F8766D', label='LG (mV)',  fill =True )\n",
    "        sns.kdeplot(x=df_tmp['HG (mV)'], ax=axes[r, c], color='#00BFC4', label='HG (mV)',  fill =True )\n",
    "        axes[r ,c].legend(fontsize=\"xx-small\")\n",
    "        axes[r, c].set_ylabel('')\n",
    "        axes[r, c].set_xlabel('')\n",
    "        axes[r, c].set_title(f\"Type {t[nums_plastics]} (mV)\",fontsize=7)\n",
    "        axes[r, c].tick_params(labelsize=5, width=0.5)\n",
    "        axes[r, c].xaxis.offsetText.set_fontsize(6)\n",
    "        axes[r, c].yaxis.offsetText.set_fontsize(4)\n",
    "        nums_plastics = nums_plastics +1\n",
    "plt.suptitle(f\"All samples. Distribution of LG (mV) and HG (mV) of each plastic to {freq} Ghz\", y=0.93,fontsize=10)\n",
    "plt.show()   "
   ]
  },
  {
   "cell_type": "code",
   "execution_count": null,
   "metadata": {
    "execution": {
     "iopub.status.busy": "2024-12-10T15:47:14.957468Z",
     "iopub.status.idle": "2024-12-10T15:47:14.957878Z",
     "shell.execute_reply": "2024-12-10T15:47:14.957717Z",
     "shell.execute_reply.started": "2024-12-10T15:47:14.957697Z"
    }
   },
   "outputs": [],
   "source": [
    "train_set_350, validate_set_350 = train_test_split(train_mo_350, test_size=0.2, random_state=42)\n",
    "\n",
    "y_tr_350 = train_set_350.target\n",
    "y_va_350 = validate_set_350[['target']]\n",
    "\n",
    "X_tr_350 = train_set_350.drop(columns=['target'])\n",
    "X_va_350 = validate_set_350.drop(columns=['target'])\n",
    "X_tr_350.info()"
   ]
  },
  {
   "cell_type": "code",
   "execution_count": null,
   "metadata": {
    "execution": {
     "iopub.status.busy": "2024-12-10T15:47:14.959973Z",
     "iopub.status.idle": "2024-12-10T15:47:14.960422Z",
     "shell.execute_reply": "2024-12-10T15:47:14.960230Z",
     "shell.execute_reply.started": "2024-12-10T15:47:14.960210Z"
    }
   },
   "outputs": [],
   "source": [
    "neigh_clf_350 = KNeighborsClassifier().fit(X_tr_350.to_numpy(), y_tr_350.to_numpy())\n",
    "y_pred_350 = neigh_clf_350.predict(X_va_350.to_numpy())\n",
    "neigh_score_350 = accuracy_score(y_va_350.target.to_numpy(), y_pred_350) #0.5896686159844055"
   ]
  },
  {
   "cell_type": "code",
   "execution_count": null,
   "metadata": {
    "execution": {
     "iopub.status.busy": "2024-12-10T15:47:14.961731Z",
     "iopub.status.idle": "2024-12-10T15:47:14.962072Z",
     "shell.execute_reply": "2024-12-10T15:47:14.961928Z",
     "shell.execute_reply.started": "2024-12-10T15:47:14.961910Z"
    }
   },
   "outputs": [],
   "source": [
    "\n",
    "cm = confusion_matrix(y_va_350.target.to_numpy(), y_pred_350, labels=neigh_clf_350.classes_)\n",
    "disp = ConfusionMatrixDisplay(confusion_matrix=cm, display_labels=neigh_clf_350.classes_)\n",
    "fig, ax = plt.subplots(figsize=(10, 10))\n",
    "ax.set_title('Confusion Matrix to k-nearest neighbor to 350 Ghz')\n",
    "disp.plot(ax=ax)"
   ]
  },
  {
   "cell_type": "markdown",
   "metadata": {},
   "source": [
    "Columns are type produced and rows are type preceved. \n",
    "\n",
    "* `Type 0`: 256 samples are produced and perceived well. 97 are perceived like type 2, 48 samples as type 4, and so on\n",
    "* `Type 1`: 261 samples are produced and perceived well. 173 are perceived like type 9, 43 samples as type 12, and so on\n",
    "* etc."
   ]
  },
  {
   "cell_type": "code",
   "execution_count": null,
   "metadata": {
    "execution": {
     "iopub.status.busy": "2024-12-10T15:47:14.963806Z",
     "iopub.status.idle": "2024-12-10T15:47:14.964177Z",
     "shell.execute_reply": "2024-12-10T15:47:14.964019Z",
     "shell.execute_reply.started": "2024-12-10T15:47:14.964000Z"
    }
   },
   "outputs": [],
   "source": [
    "freq = 350\n",
    "ncols = 2\n",
    "nrows = 10\n",
    "i = 0\n",
    "fig, axes = plt.subplots(nrows, ncols, figsize=(12, 28))\n",
    "for r in range(nrows):\n",
    "    for c in range (ncols):\n",
    "        t = [0, 2, 0, 7, 1, 9, 1, 14, 2, 4, 4, 8, 5, 12, 8, 13, 9, 14, 12, 14]\n",
    "        df_tmp = train_mo_350[(train_mo_350.freq == freq) & (train_mo_350.target == t[i])]\n",
    "        sns.kdeplot(x=df_tmp['LG (mV)'], ax=axes[r, c], color='#F8766D', label='LG (mV)',  fill =True )\n",
    "        sns.kdeplot(x=df_tmp['HG (mV)'], ax=axes[r, c], color='#00BFC4', label='HG (mV)',  fill =True )\n",
    "        #sns.kdeplot(x=df_tmp['HG (mV)'], ax=axes[r, c], color='#00BFC4', label='HG (mV)x2',  fill =True )\n",
    "        axes[r ,c].legend(fontsize=\"xx-small\")\n",
    "        axes[r, c].set_ylabel('')\n",
    "        axes[r, c].set_xlabel('')\n",
    "        axes[r, c].set_title(f\"Type {t[i]} (mV)\",fontsize=7)\n",
    "        axes[r, c].tick_params(labelsize=5, width=0.5)\n",
    "        axes[r, c].xaxis.offsetText.set_fontsize(6)\n",
    "        axes[r, c].yaxis.offsetText.set_fontsize(4)\n",
    "        i = i + 1\n",
    "plt.suptitle(f\"Major mistakes produced and preceved of each plastic at {freq} Ghz\", y=0.93,fontsize=10)\n",
    "plt.show()   "
   ]
  },
  {
   "cell_type": "code",
   "execution_count": null,
   "metadata": {
    "execution": {
     "iopub.status.busy": "2024-12-10T15:47:14.965741Z",
     "iopub.status.idle": "2024-12-10T15:47:14.966113Z",
     "shell.execute_reply": "2024-12-10T15:47:14.965965Z",
     "shell.execute_reply.started": "2024-12-10T15:47:14.965946Z"
    }
   },
   "outputs": [],
   "source": [
    "train_mo_350_t12 = train_mo_350[train_mo_350.target==12]['HG (mV)']\n",
    "sns.kdeplot(train_mo_350_t12,color='#00BFC4', label='HG (mV)', fill =True)"
   ]
  },
  {
   "cell_type": "code",
   "execution_count": null,
   "metadata": {
    "execution": {
     "iopub.status.busy": "2024-12-10T15:47:14.967264Z",
     "iopub.status.idle": "2024-12-10T15:47:14.967647Z",
     "shell.execute_reply": "2024-12-10T15:47:14.967490Z",
     "shell.execute_reply.started": "2024-12-10T15:47:14.967471Z"
    }
   },
   "outputs": [],
   "source": [
    "from sklearn.preprocessing import KBinsDiscretizer\n",
    "kb = KBinsDiscretizer(n_bins=5, strategy='quantile', encode='onehot-dense')\n",
    "kb.fit(train_mo_350_t12.values.reshape(-1, 1))\n",
    "train_mo_350_binned = kb.transform(train_mo_350_t12.values.reshape(-1, 1))\n",
    "kb.bin_edges_[0]"
   ]
  },
  {
   "cell_type": "code",
   "execution_count": null,
   "metadata": {
    "execution": {
     "iopub.status.busy": "2024-12-10T15:47:14.969133Z",
     "iopub.status.idle": "2024-12-10T15:47:14.969544Z",
     "shell.execute_reply": "2024-12-10T15:47:14.969345Z",
     "shell.execute_reply.started": "2024-12-10T15:47:14.969326Z"
    }
   },
   "outputs": [],
   "source": [
    "temp = np.array([1,2,3])\n",
    "temp.reshape(-1, 1)\n",
    "temp.reshape(1, -1)\n",
    "\n",
    "np.random.random((1,10))[0]"
   ]
  },
  {
   "cell_type": "markdown",
   "metadata": {},
   "source": [
    "# Present your solution"
   ]
  },
  {
   "cell_type": "code",
   "execution_count": 92,
   "metadata": {
    "execution": {
     "iopub.execute_input": "2024-12-10T15:52:29.087037Z",
     "iopub.status.busy": "2024-12-10T15:52:29.086258Z",
     "iopub.status.idle": "2024-12-10T15:52:29.111291Z",
     "shell.execute_reply": "2024-12-10T15:52:29.110100Z",
     "shell.execute_reply.started": "2024-12-10T15:52:29.086994Z"
    }
   },
   "outputs": [
    {
     "data": {
      "text/html": [
       "<div>\n",
       "<style scoped>\n",
       "    .dataframe tbody tr th:only-of-type {\n",
       "        vertical-align: middle;\n",
       "    }\n",
       "\n",
       "    .dataframe tbody tr th {\n",
       "        vertical-align: top;\n",
       "    }\n",
       "\n",
       "    .dataframe thead th {\n",
       "        text-align: right;\n",
       "    }\n",
       "</style>\n",
       "<table border=\"1\" class=\"dataframe\">\n",
       "  <thead>\n",
       "    <tr style=\"text-align: right;\">\n",
       "      <th></th>\n",
       "      <th>target</th>\n",
       "      <th>freq</th>\n",
       "      <th>LG (mV)</th>\n",
       "      <th>HG (mV)</th>\n",
       "      <th>LG (mV)_shifted</th>\n",
       "      <th>HG (mV)_shifted</th>\n",
       "      <th>HG_div_LG</th>\n",
       "      <th>mean_LG</th>\n",
       "      <th>std_LG</th>\n",
       "      <th>var_LG</th>\n",
       "      <th>median_LG</th>\n",
       "      <th>mean_HG</th>\n",
       "      <th>std_HG</th>\n",
       "      <th>var_HG</th>\n",
       "      <th>median_HG</th>\n",
       "    </tr>\n",
       "  </thead>\n",
       "  <tbody>\n",
       "    <tr>\n",
       "      <th>273134</th>\n",
       "      <td>3.0</td>\n",
       "      <td>410.0</td>\n",
       "      <td>1.159810</td>\n",
       "      <td>346.844099</td>\n",
       "      <td>101.159810</td>\n",
       "      <td>446.844099</td>\n",
       "      <td>4.417210</td>\n",
       "      <td>0.346126</td>\n",
       "      <td>0.587890</td>\n",
       "      <td>0.345615</td>\n",
       "      <td>0.335734</td>\n",
       "      <td>288.642626</td>\n",
       "      <td>56.029246</td>\n",
       "      <td>3139.276433</td>\n",
       "      <td>283.787103</td>\n",
       "    </tr>\n",
       "    <tr>\n",
       "      <th>6232</th>\n",
       "      <td>0.0</td>\n",
       "      <td>140.0</td>\n",
       "      <td>53.107068</td>\n",
       "      <td>0.854599</td>\n",
       "      <td>153.107068</td>\n",
       "      <td>100.854599</td>\n",
       "      <td>0.658719</td>\n",
       "      <td>58.507155</td>\n",
       "      <td>11.273205</td>\n",
       "      <td>127.085148</td>\n",
       "      <td>55.686118</td>\n",
       "      <td>-0.014273</td>\n",
       "      <td>0.451244</td>\n",
       "      <td>0.203621</td>\n",
       "      <td>-0.000018</td>\n",
       "    </tr>\n",
       "    <tr>\n",
       "      <th>211237</th>\n",
       "      <td>2.0</td>\n",
       "      <td>500.0</td>\n",
       "      <td>-0.244170</td>\n",
       "      <td>89.641068</td>\n",
       "      <td>99.755830</td>\n",
       "      <td>189.641068</td>\n",
       "      <td>1.901052</td>\n",
       "      <td>0.082824</td>\n",
       "      <td>0.521616</td>\n",
       "      <td>0.272083</td>\n",
       "      <td>0.091564</td>\n",
       "      <td>80.834251</td>\n",
       "      <td>19.124369</td>\n",
       "      <td>365.741473</td>\n",
       "      <td>86.375289</td>\n",
       "    </tr>\n",
       "    <tr>\n",
       "      <th>274763</th>\n",
       "      <td>3.0</td>\n",
       "      <td>420.0</td>\n",
       "      <td>-0.640947</td>\n",
       "      <td>250.671464</td>\n",
       "      <td>99.359053</td>\n",
       "      <td>350.671464</td>\n",
       "      <td>3.529336</td>\n",
       "      <td>0.246111</td>\n",
       "      <td>0.546503</td>\n",
       "      <td>0.298665</td>\n",
       "      <td>0.244170</td>\n",
       "      <td>203.933993</td>\n",
       "      <td>51.885466</td>\n",
       "      <td>2692.101616</td>\n",
       "      <td>214.457934</td>\n",
       "    </tr>\n",
       "    <tr>\n",
       "      <th>105606</th>\n",
       "      <td>1.0</td>\n",
       "      <td>300.0</td>\n",
       "      <td>1.098767</td>\n",
       "      <td>350.262535</td>\n",
       "      <td>101.098767</td>\n",
       "      <td>450.262535</td>\n",
       "      <td>4.453690</td>\n",
       "      <td>1.682244</td>\n",
       "      <td>0.662947</td>\n",
       "      <td>0.439499</td>\n",
       "      <td>1.678672</td>\n",
       "      <td>49.439317</td>\n",
       "      <td>124.722213</td>\n",
       "      <td>15555.630310</td>\n",
       "      <td>0.213647</td>\n",
       "    </tr>\n",
       "  </tbody>\n",
       "</table>\n",
       "</div>"
      ],
      "text/plain": [
       "        target   freq    LG (mV)     HG (mV)  LG (mV)_shifted  \\\n",
       "273134     3.0  410.0   1.159810  346.844099       101.159810   \n",
       "6232       0.0  140.0  53.107068    0.854599       153.107068   \n",
       "211237     2.0  500.0  -0.244170   89.641068        99.755830   \n",
       "274763     3.0  420.0  -0.640947  250.671464        99.359053   \n",
       "105606     1.0  300.0   1.098767  350.262535       101.098767   \n",
       "\n",
       "        HG (mV)_shifted  HG_div_LG    mean_LG     std_LG      var_LG  \\\n",
       "273134       446.844099   4.417210   0.346126   0.587890    0.345615   \n",
       "6232         100.854599   0.658719  58.507155  11.273205  127.085148   \n",
       "211237       189.641068   1.901052   0.082824   0.521616    0.272083   \n",
       "274763       350.671464   3.529336   0.246111   0.546503    0.298665   \n",
       "105606       450.262535   4.453690   1.682244   0.662947    0.439499   \n",
       "\n",
       "        median_LG     mean_HG      std_HG        var_HG   median_HG  \n",
       "273134   0.335734  288.642626   56.029246   3139.276433  283.787103  \n",
       "6232    55.686118   -0.014273    0.451244      0.203621   -0.000018  \n",
       "211237   0.091564   80.834251   19.124369    365.741473   86.375289  \n",
       "274763   0.244170  203.933993   51.885466   2692.101616  214.457934  \n",
       "105606   1.678672   49.439317  124.722213  15555.630310    0.213647  "
      ]
     },
     "execution_count": 92,
     "metadata": {},
     "output_type": "execute_result"
    }
   ],
   "source": [
    "train_sol = train_mo.copy()\n",
    "train_sol.head()"
   ]
  },
  {
   "cell_type": "markdown",
   "metadata": {},
   "source": [
    "## Explain why your solution achieves the objective\n"
   ]
  },
  {
   "cell_type": "markdown",
   "metadata": {},
   "source": [
    "**Notice**: Type of plastic are changed by numbers so `A1`, `B1`, `C1`, `D1`, `E1`, `E2`, `E3`, `F1`, `G1`, `H1`, `I1`, `J1`, `K1`, `L1`, `M1`, `N1`, `REF` are `0`, `1`, `2`, `3`, `4`, etc. and so on"
   ]
  },
  {
   "cell_type": "code",
   "execution_count": 93,
   "metadata": {
    "execution": {
     "iopub.execute_input": "2024-12-10T15:52:29.113502Z",
     "iopub.status.busy": "2024-12-10T15:52:29.113105Z",
     "iopub.status.idle": "2024-12-10T15:52:29.121364Z",
     "shell.execute_reply": "2024-12-10T15:52:29.120373Z",
     "shell.execute_reply.started": "2024-12-10T15:52:29.113453Z"
    }
   },
   "outputs": [],
   "source": [
    "lst_target = validate_set['target'].drop_duplicates().sort_values().values.tolist()\n",
    "lst_freq = test_set['freq'].drop_duplicates().sort_values().values.tolist()"
   ]
  },
  {
   "cell_type": "markdown",
   "metadata": {},
   "source": [
    "### Evaluate the accuracy of a classification of the best classificator"
   ]
  },
  {
   "cell_type": "code",
   "execution_count": 94,
   "metadata": {
    "execution": {
     "iopub.execute_input": "2024-12-10T15:52:29.123094Z",
     "iopub.status.busy": "2024-12-10T15:52:29.122724Z",
     "iopub.status.idle": "2024-12-10T15:52:29.897157Z",
     "shell.execute_reply": "2024-12-10T15:52:29.896030Z",
     "shell.execute_reply.started": "2024-12-10T15:52:29.123053Z"
    }
   },
   "outputs": [],
   "source": [
    "y_pred = neigh_clf.predict(X_va.to_numpy())"
   ]
  },
  {
   "cell_type": "markdown",
   "metadata": {},
   "source": [
    "Compare true target with predictions to evaluate solutions"
   ]
  },
  {
   "cell_type": "code",
   "execution_count": 95,
   "metadata": {
    "execution": {
     "iopub.execute_input": "2024-12-10T15:52:29.899669Z",
     "iopub.status.busy": "2024-12-10T15:52:29.899276Z",
     "iopub.status.idle": "2024-12-10T15:52:29.919665Z",
     "shell.execute_reply": "2024-12-10T15:52:29.918477Z",
     "shell.execute_reply.started": "2024-12-10T15:52:29.899631Z"
    }
   },
   "outputs": [
    {
     "data": {
      "text/html": [
       "<div>\n",
       "<style scoped>\n",
       "    .dataframe tbody tr th:only-of-type {\n",
       "        vertical-align: middle;\n",
       "    }\n",
       "\n",
       "    .dataframe tbody tr th {\n",
       "        vertical-align: top;\n",
       "    }\n",
       "\n",
       "    .dataframe thead th {\n",
       "        text-align: right;\n",
       "    }\n",
       "</style>\n",
       "<table border=\"1\" class=\"dataframe\">\n",
       "  <thead>\n",
       "    <tr style=\"text-align: right;\">\n",
       "      <th></th>\n",
       "      <th>target</th>\n",
       "      <th>y_pred</th>\n",
       "      <th>true_pred</th>\n",
       "      <th>freq</th>\n",
       "    </tr>\n",
       "  </thead>\n",
       "  <tbody>\n",
       "    <tr>\n",
       "      <th>198634</th>\n",
       "      <td>2.0</td>\n",
       "      <td>0.0</td>\n",
       "      <td>0</td>\n",
       "      <td>410.0</td>\n",
       "    </tr>\n",
       "    <tr>\n",
       "      <th>252945</th>\n",
       "      <td>3.0</td>\n",
       "      <td>3.0</td>\n",
       "      <td>1</td>\n",
       "      <td>270.0</td>\n",
       "    </tr>\n",
       "    <tr>\n",
       "      <th>91958</th>\n",
       "      <td>1.0</td>\n",
       "      <td>1.0</td>\n",
       "      <td>1</td>\n",
       "      <td>210.0</td>\n",
       "    </tr>\n",
       "    <tr>\n",
       "      <th>28023</th>\n",
       "      <td>0.0</td>\n",
       "      <td>3.0</td>\n",
       "      <td>0</td>\n",
       "      <td>280.0</td>\n",
       "    </tr>\n",
       "    <tr>\n",
       "      <th>34786</th>\n",
       "      <td>0.0</td>\n",
       "      <td>0.0</td>\n",
       "      <td>1</td>\n",
       "      <td>330.0</td>\n",
       "    </tr>\n",
       "  </tbody>\n",
       "</table>\n",
       "</div>"
      ],
      "text/plain": [
       "        target  y_pred  true_pred   freq\n",
       "198634     2.0     0.0          0  410.0\n",
       "252945     3.0     3.0          1  270.0\n",
       "91958      1.0     1.0          1  210.0\n",
       "28023      0.0     3.0          0  280.0\n",
       "34786      0.0     0.0          1  330.0"
      ]
     },
     "execution_count": 95,
     "metadata": {},
     "output_type": "execute_result"
    }
   ],
   "source": [
    "y_va_sol = y_va.copy() \n",
    "y_va_sol['y_pred'] = y_pred \n",
    "y_va_sol['true_pred'] = np.where(y_va_sol['y_pred'] == y_va_sol['target'],1,0)\n",
    "\n",
    "X_va_freq = pd.concat([y_va_sol,X_va_freq_target[['freq']]], axis=1)\n",
    "X_va_freq.head()\n"
   ]
  },
  {
   "cell_type": "code",
   "execution_count": 96,
   "metadata": {
    "execution": {
     "iopub.execute_input": "2024-12-10T15:52:29.921719Z",
     "iopub.status.busy": "2024-12-10T15:52:29.921254Z",
     "iopub.status.idle": "2024-12-10T15:52:32.494425Z",
     "shell.execute_reply": "2024-12-10T15:52:32.493265Z",
     "shell.execute_reply.started": "2024-12-10T15:52:29.921682Z"
    }
   },
   "outputs": [
    {
     "data": {
      "image/png": "[encoded data removed]",
      "text/plain": [
       "<Figure size 1400x600 with 1 Axes>"
      ]
     },
     "metadata": {},
     "output_type": "display_data"
    }
   ],
   "source": [
    "fig, ax = plt.subplots()\n",
    "fig.set_size_inches(14, 6)\n",
    "_ = ax.hist(X_va_freq[X_va_freq.true_pred==0]['freq'].apply(lambda x: np.sum([x, +2])).values, bins=408, label=\"fails\", color=\"red\")\n",
    "_ = ax.hist(X_va_freq[X_va_freq.true_pred==1]['freq'].values, bins=408, label=\"trues\", color=\"blue\")\n",
    "_ = ax.hist(X_va_freq['freq'].apply(lambda x: np.sum([x, -2])).values, bins=408, label=\"total\", color=\"gray\")\n",
    "ax.legend()\n",
    "ax.set_xlabel('Frequency (GHz)')\n",
    "ax.set_ylabel('Nums. of inaccurate samples')\n",
    "ax.set_title('Total, Trues and fails predictions vs Frecuency')\n",
    "plt.tight_layout()\n",
    "plt.show()"
   ]
  },
  {
   "cell_type": "markdown",
   "metadata": {},
   "source": [
    "**Insights** : \n",
    "* Central frecuencies have less fails than lower and upper frecuencies\n",
    "* The frequency with the highest accuracy can now be identified: `350 Ghz`\n",
    "get\")."
   ]
  },
  {
   "cell_type": "markdown",
   "metadata": {},
   "source": [
    "### Count the number of times instances of types of plastics are misclassified"
   ]
  },
  {
   "cell_type": "markdown",
   "metadata": {},
   "source": [
    "**Code_Fixit**: change "
   ]
  },
  {
   "cell_type": "code",
   "execution_count": 97,
   "metadata": {
    "execution": {
     "iopub.execute_input": "2024-12-10T15:52:32.496145Z",
     "iopub.status.busy": "2024-12-10T15:52:32.495815Z",
     "iopub.status.idle": "2024-12-10T15:52:33.326137Z",
     "shell.execute_reply": "2024-12-10T15:52:33.324960Z",
     "shell.execute_reply.started": "2024-12-10T15:52:32.496112Z"
    }
   },
   "outputs": [],
   "source": [
    "\n",
    "y_pred = neigh_clf.predict(X_va.to_numpy())\n",
    "gb_score = accuracy_score(y_va.target.to_numpy(), y_pred)"
   ]
  },
  {
   "cell_type": "code",
   "execution_count": 98,
   "metadata": {
    "execution": {
     "iopub.execute_input": "2024-12-10T15:52:33.327861Z",
     "iopub.status.busy": "2024-12-10T15:52:33.327500Z",
     "iopub.status.idle": "2024-12-10T15:52:33.762690Z",
     "shell.execute_reply": "2024-12-10T15:52:33.761580Z",
     "shell.execute_reply.started": "2024-12-10T15:52:33.327827Z"
    }
   },
   "outputs": [
    {
     "data": {
      "text/plain": [
       "<sklearn.metrics._plot.confusion_matrix.ConfusionMatrixDisplay at 0x7d7fe1970490>"
      ]
     },
     "execution_count": 98,
     "metadata": {},
     "output_type": "execute_result"
    },
    {
     "data": {
      "image/png": "[encoded data removed]",
      "text/plain": [
       "<Figure size 1000x1000 with 2 Axes>"
      ]
     },
     "metadata": {},
     "output_type": "display_data"
    }
   ],
   "source": [
    "from sklearn.metrics import confusion_matrix, ConfusionMatrixDisplay\n",
    "cm = confusion_matrix(y_va.target.to_numpy(), y_pred, labels=neigh_clf.classes_)\n",
    "disp = ConfusionMatrixDisplay(confusion_matrix=cm, display_labels=neigh_clf.classes_)\n",
    "fig, ax = plt.subplots(figsize=(10, 10))\n",
    "ax.set_title('Confusion Matrix to to k-nearest neighbor all frecuencies')\n",
    "disp.plot(ax=ax)"
   ]
  },
  {
   "cell_type": "markdown",
   "metadata": {},
   "source": [
    "**Insights**:\n",
    "* Count the number of times instances of class `0` (or `A1`) are classified as otherone class `1`, `2` and so on. The first row of this matrix shows 418 (of 1224 samples) were correctly classified and non class 806 (115+89+57+116+38+54+47+53+27+25+30+34+47+74) were wrongly classified. 115 as type 1,  89 as type 2 and so on. \n",
    "* Besides, the first columns shows that class `0`  were wrongly classified 1795 (159+170+119+197+85+119+112+127+99+86+119+121+114+168) by other class. He might be the plastic which was most often confused by other plastic.\n"
   ]
  },
  {
   "cell_type": "markdown",
   "metadata": {},
   "source": [
    "### Of validate dataset, explore what frecuencies classified by target "
   ]
  },
  {
   "cell_type": "code",
   "execution_count": 99,
   "metadata": {
    "execution": {
     "iopub.execute_input": "2024-12-10T15:52:33.764730Z",
     "iopub.status.busy": "2024-12-10T15:52:33.764227Z",
     "iopub.status.idle": "2024-12-10T15:52:33.772661Z",
     "shell.execute_reply": "2024-12-10T15:52:33.771478Z",
     "shell.execute_reply.started": "2024-12-10T15:52:33.764683Z"
    }
   },
   "outputs": [],
   "source": [
    "X_va_inaccurate = X_va_freq[X_va_freq.true_pred==0]"
   ]
  },
  {
   "cell_type": "code",
   "execution_count": 120,
   "metadata": {
    "execution": {
     "iopub.execute_input": "2024-12-10T16:06:11.459958Z",
     "iopub.status.busy": "2024-12-10T16:06:11.459561Z",
     "iopub.status.idle": "2024-12-10T16:06:11.467099Z",
     "shell.execute_reply": "2024-12-10T16:06:11.465882Z",
     "shell.execute_reply.started": "2024-12-10T16:06:11.459925Z"
    }
   },
   "outputs": [
    {
     "data": {
      "text/plain": [
       "'B1'"
      ]
     },
     "execution_count": 120,
     "metadata": {},
     "output_type": "execute_result"
    }
   ],
   "source": [
    "temp_lst[0]."
   ]
  },
  {
   "cell_type": "code",
   "execution_count": 122,
   "metadata": {
    "execution": {
     "iopub.execute_input": "2024-12-10T16:07:46.149918Z",
     "iopub.status.busy": "2024-12-10T16:07:46.149527Z",
     "iopub.status.idle": "2024-12-10T16:07:49.115287Z",
     "shell.execute_reply": "2024-12-10T16:07:49.114255Z",
     "shell.execute_reply.started": "2024-12-10T16:07:46.149884Z"
    }
   },
   "outputs": [
    {
     "data": {
      "image/png": "[encoded data removed]",
      "text/plain": [
       "<Figure size 1200x800 with 4 Axes>"
      ]
     },
     "metadata": {},
     "output_type": "display_data"
    }
   ],
   "source": [
    "temp_lst = ordinal_encoder.categories_[0][0:4].tolist()\n",
    "ncols = 2\n",
    "nrows = 2\n",
    "t = 0\n",
    "fig, axes = plt.subplots(nrows, ncols, figsize=(12, 8))\n",
    "for r in range(nrows):\n",
    "     for c in range(ncols):\n",
    "\n",
    "        x_fail = X_va_freq[(X_va_freq.true_pred==1) & (X_va_freq.target == t)]['freq'].apply(lambda x: np.sum([x, -2]))\n",
    "        counts_f, bins_f = np.histogram(x_fail, bins=3*len(lst_freq))\n",
    "        _ =  axes[r ,c].hist(bins_f[:-1], bins_f, weights=counts_f, histtype='bar', label=\"true\", color=\"blue\")\n",
    "        \n",
    "        x_total = X_va_freq[(X_va_freq.true_pred==0) & (X_va_freq.target == t)]['freq'].apply(lambda x: np.sum([x, +2]))\n",
    "        counts_t, bins_t = np.histogram(x_total, bins=3*len(lst_freq))\n",
    "        _ =  axes[r ,c].hist(bins_t[:-1], bins_t, weights=counts_t, histtype='bar', label=\"fail\", color=\"red\")\n",
    "         \n",
    "        temp_lst[t]\n",
    "        axes[r ,c].legend(fontsize=\"x-small\")\n",
    "        axes[r, c].set_ylabel('Nums. of fails')\n",
    "        axes[r, c].set_title(f'True and fails of plastic type {temp_lst[t]} vs freqs',fontsize=9)\n",
    "        axes[r, c].tick_params(labelsize=8, width=0.5)\n",
    "        axes[r, c].xaxis.offsetText.set_fontsize(6)\n",
    "        axes[r, c].yaxis.offsetText.set_fontsize(6)\n",
    "        t = t +1\n",
    "plt.suptitle(f\"True and fails predictions by target vs Frecuency\", y=0.93,fontsize=14)\n",
    "plt.legend()\n",
    "plt.show()           "
   ]
  },
  {
   "cell_type": "markdown",
   "metadata": {},
   "source": [
    "**Insights**: \n",
    "'B1', 'C1', 'E1', 'REF' \n",
    "\n",
    "* The material that is detected with the highest accuracy can now be identified: Type 3, 4, 11, 12, and 14 at various frequencies, type 8 and 15 at 350, type 13 at 250.\n",
    "* The material with the lowest accuracy can now be identified, type 2 and 9 show failures at all frequencies."
   ]
  }
 ],
 "metadata": {
  "kaggle": {
   "accelerator": "none",
   "dataSources": [
    {
     "datasetId": 6044330,
     "sourceId": 10118561,
     "sourceType": "datasetVersion"
    },
    {
     "sourceId": 212329540,
     "sourceType": "kernelVersion"
    }
   ],
   "dockerImageVersionId": 30786,
   "isGpuEnabled": false,
   "isInternetEnabled": true,
   "language": "python",
   "sourceType": "notebook"
  },
  "kernelspec": {
   "display_name": "Python 3 (ipykernel)",
   "language": "python",
   "name": "python3"
  },
  "language_info": {
   "codemirror_mode": {
    "name": "ipython",
    "version": 3
   },
   "file_extension": ".py",
   "mimetype": "text/x-python",
   "name": "python",
   "nbconvert_exporter": "python",
   "pygments_lexer": "ipython3",
   "version": "3.9.12"
  }
 },
 "nbformat": 4,
 "nbformat_minor": 4
}
