{
 "cells": [
  {
   "cell_type": "markdown",
   "metadata": {},
   "source": [
    "# Get the Data"
   ]
  },
  {
   "cell_type": "code",
   "execution_count": 50,
   "metadata": {
    "_cell_guid": "b1076dfc-b9ad-4769-8c92-a6c4dae69d19",
    "_kg_hide-input": true,
    "_uuid": "8f2839f25d086af736a60e9eeb907d3b93b6e0e5",
    "collapsed": true,
    "execution": {
     "iopub.execute_input": "2024-12-17T08:46:29.803830Z",
     "iopub.status.busy": "2024-12-17T08:46:29.803386Z",
     "iopub.status.idle": "2024-12-17T08:46:29.808402Z",
     "shell.execute_reply": "2024-12-17T08:46:29.807439Z",
     "shell.execute_reply.started": "2024-12-17T08:46:29.803790Z"
    },
    "jupyter": {
     "outputs_hidden": true,
     "source_hidden": true
    }
   },
   "outputs": [],
   "source": [
    "import numpy as np # linear algebra\n",
    "import pandas as pd # data processing, CSV file I/O (e.g. pd.read_csv)"
   ]
  },
  {
   "cell_type": "markdown",
   "metadata": {},
   "source": [
    "**Doubt**: File size of merged_2.csv and e1_merged.csv are different.  \n",
    "**Conjeture**: Daniel Moreno: I think that experiment 1 can be greatly affected by the conditions of the day the measurements were taken.  However, if it is combined with other samples of the same plastic, my intuition tells me that it should be much more reliable"
   ]
  },
  {
   "cell_type": "code",
   "execution_count": 51,
   "metadata": {
    "collapsed": true,
    "execution": {
     "iopub.execute_input": "2024-12-17T08:46:29.829229Z",
     "iopub.status.busy": "2024-12-17T08:46:29.828846Z",
     "iopub.status.idle": "2024-12-17T08:46:32.531159Z",
     "shell.execute_reply": "2024-12-17T08:46:32.530049Z",
     "shell.execute_reply.started": "2024-12-17T08:46:29.829196Z"
    },
    "jupyter": {
     "outputs_hidden": true,
     "source_hidden": true
    }
   },
   "outputs": [
    {
     "data": {
      "text/plain": [
       "Index(['Sample', 'Frequency (GHz)', 'LG (mV)', 'HG (mV)', 'Thickness (mm)'], dtype='object')"
      ]
     },
     "execution_count": 51,
     "metadata": {},
     "output_type": "execute_result"
    }
   ],
   "source": [
    "#train = pd.read_csv('/kaggle/input/fi-optimun-frecuency/merged_2.csv', sep=';')\n",
    "train = pd.read_csv('/kaggle/input/fi-optimun-frecuency/e1_merged.csv', sep=';')\n",
    "train.columns"
   ]
  },
  {
   "cell_type": "markdown",
   "metadata": {},
   "source": [
    "Samples has serveral Thickness"
   ]
  },
  {
   "cell_type": "code",
   "execution_count": 52,
   "metadata": {
    "collapsed": true,
    "execution": {
     "iopub.execute_input": "2024-12-17T08:46:32.533240Z",
     "iopub.status.busy": "2024-12-17T08:46:32.532915Z",
     "iopub.status.idle": "2024-12-17T08:46:32.574391Z",
     "shell.execute_reply": "2024-12-17T08:46:32.573255Z",
     "shell.execute_reply.started": "2024-12-17T08:46:32.533209Z"
    },
    "jupyter": {
     "outputs_hidden": true,
     "source_hidden": true
    }
   },
   "outputs": [
    {
     "data": {
      "text/plain": [
       "[0.0, 0.04, 0.07, 0.1, 0.2, 0.29, 0.36, 0.57, 1.85, 2.05, 2.25, 3.0]"
      ]
     },
     "execution_count": 52,
     "metadata": {},
     "output_type": "execute_result"
    }
   ],
   "source": [
    "train['Thickness (mm)'].value_counts().index.sort_values().tolist()"
   ]
  },
  {
   "cell_type": "markdown",
   "metadata": {},
   "source": [
    "51 frecuencies (Ghz)"
   ]
  },
  {
   "cell_type": "code",
   "execution_count": 53,
   "metadata": {
    "collapsed": true,
    "execution": {
     "iopub.execute_input": "2024-12-17T08:46:32.576093Z",
     "iopub.status.busy": "2024-12-17T08:46:32.575753Z",
     "iopub.status.idle": "2024-12-17T08:46:32.618192Z",
     "shell.execute_reply": "2024-12-17T08:46:32.617114Z",
     "shell.execute_reply.started": "2024-12-17T08:46:32.576061Z"
    },
    "jupyter": {
     "outputs_hidden": true,
     "source_hidden": true
    }
   },
   "outputs": [
    {
     "data": {
      "text/plain": [
       "Index([100.0, 110.0, 120.0, 130.0, 140.0, 150.0, 160.0, 170.0, 180.0, 190.0,\n",
       "       200.0, 210.0, 220.0, 230.0, 240.0, 250.0, 260.0, 270.0, 280.0, 290.0,\n",
       "       300.0, 310.0, 320.0, 330.0, 340.0, 350.0, 360.0, 370.0, 380.0, 390.0,\n",
       "       400.0, 410.0, 420.0, 430.0, 440.0, 450.0, 460.0, 470.0, 480.0, 490.0,\n",
       "       500.0, 510.0, 520.0, 530.0, 540.0, 550.0, 560.0, 570.0, 580.0, 590.0,\n",
       "       600.0],\n",
       "      dtype='float64', name='Frequency (GHz)')"
      ]
     },
     "execution_count": 53,
     "metadata": {},
     "output_type": "execute_result"
    }
   ],
   "source": [
    "train['Frequency (GHz)'].value_counts().index.sort_values()"
   ]
  },
  {
   "cell_type": "markdown",
   "metadata": {},
   "source": [
    "15 types of plastic"
   ]
  },
  {
   "cell_type": "code",
   "execution_count": 54,
   "metadata": {
    "collapsed": true,
    "execution": {
     "iopub.execute_input": "2024-12-17T08:46:32.620440Z",
     "iopub.status.busy": "2024-12-17T08:46:32.620105Z",
     "iopub.status.idle": "2024-12-17T08:46:32.791104Z",
     "shell.execute_reply": "2024-12-17T08:46:32.789942Z",
     "shell.execute_reply.started": "2024-12-17T08:46:32.620396Z"
    },
    "jupyter": {
     "outputs_hidden": true,
     "source_hidden": true
    }
   },
   "outputs": [
    {
     "data": {
      "text/plain": [
       "Index(['A1', 'B1', 'C1', 'D1', 'E1', 'F1', 'G1', 'H1', 'I1', 'J1', 'K1', 'L1',\n",
       "       'M1', 'N1', 'REF'],\n",
       "      dtype='object', name='Sample')"
      ]
     },
     "execution_count": 54,
     "metadata": {},
     "output_type": "execute_result"
    }
   ],
   "source": [
    "train['Sample'].value_counts().index.sort_values()"
   ]
  },
  {
   "cell_type": "markdown",
   "metadata": {},
   "source": [
    "### Add data of Experiments 2, 3 and 4\n",
    "**TODO**: Add temparature and RH to experiments 3 and 4"
   ]
  },
  {
   "cell_type": "code",
   "execution_count": 55,
   "metadata": {
    "collapsed": true,
    "execution": {
     "iopub.execute_input": "2024-12-17T08:46:32.792951Z",
     "iopub.status.busy": "2024-12-17T08:46:32.792548Z",
     "iopub.status.idle": "2024-12-17T08:46:35.169178Z",
     "shell.execute_reply": "2024-12-17T08:46:35.168259Z",
     "shell.execute_reply.started": "2024-12-17T08:46:32.792916Z"
    },
    "jupyter": {
     "outputs_hidden": true,
     "source_hidden": true
    }
   },
   "outputs": [],
   "source": [
    "train_e1 = train.copy()\n",
    "train_e1 = train_e1.drop(columns=['Thickness (mm)']) # Remove `Thickness (mm)`\n",
    "\n",
    "train_e1['num_experiment'] = 'e1'\n",
    "train_e1['Sample_original'] = 'None'\n",
    "train_e1['Integration_Time_(msg)'] = 5\n",
    "\n",
    "# ['E1', 'H1', 'REF']\n",
    "train_e2 = pd.read_csv('/kaggle/input/fi-optimun-frecuency/e2_merged.csv', sep=';') \n",
    "train_e2['num_experiment'] = 'e2'\n",
    "train_e2['Sample_original'] = 'None'\n",
    "train_e2['Integration_Time_(msg)'] = 5\n",
    "\n",
    "# ['REF_1', 'REF_10', 'REF_11', 'REF_12', 'REF_13', 'REF_14', 'REF_15', 'REF_2', 'REF_3', 'REF_4', 'REF_5', 'REF_6', 'REF_7', 'REF_8', 'REF_9']\n",
    "train_e3 = pd.read_csv('/kaggle/input/fi-optimun-frecuency/e3_merged.csv', sep=',') \n",
    "train_e3['num_experiment'] = 'e3'\n",
    "train_e3['Sample_original'] = train_e3['Sample']\n",
    "train_e3['Sample'] = 'REF'\n",
    "train_e3['Integration_Time_(msg)'] = 5\n",
    "\n",
    "# ['B1_12', 'B1_2', 'B1_5', 'B1_9', 'C1_11', 'C1_14', 'C1_4', 'C1_7', 'E3_10', 'E3_13', 'E3_3', 'E3_6', 'REF_1', 'REF_15', 'REF_8']\n",
    "train_e4 = pd.read_csv('/kaggle/input/fi-optimun-frecuency/e4_merged.csv', sep=',')\n",
    "train_e4['num_experiment'] = 'e4'\n",
    "train_e4['Sample_original'] = train_e4['Sample']\n",
    "train_e4['Integration_Time_(msg)'] = 20\n",
    "\n",
    "# ['B1_17', 'B1_20', 'C1_19', 'C1_22', 'E3_18', 'E3_21', 'REF_16', 'REF_23']\n",
    "train_e4_v2 = pd.read_csv('/kaggle/input/fi-optimun-frecuency/e4_v2_merged.csv', sep=',')\n",
    "train_e4_v2['num_experiment'] = 'e4_v2'\n",
    "train_e4_v2['Sample_original'] = train_e4_v2['Sample']\n",
    "train_e4_v2['Integration_Time_(msg)'] = 20"
   ]
  },
  {
   "cell_type": "markdown",
   "metadata": {},
   "source": [
    "Replace name of Sample from experiment 4 by name of experiment 1"
   ]
  },
  {
   "cell_type": "code",
   "execution_count": 56,
   "metadata": {
    "collapsed": true,
    "execution": {
     "iopub.execute_input": "2024-12-17T08:46:35.170478Z",
     "iopub.status.busy": "2024-12-17T08:46:35.170148Z",
     "iopub.status.idle": "2024-12-17T08:46:35.858287Z",
     "shell.execute_reply": "2024-12-17T08:46:35.857347Z",
     "shell.execute_reply.started": "2024-12-17T08:46:35.170438Z"
    },
    "jupyter": {
     "outputs_hidden": true,
     "source_hidden": true
    }
   },
   "outputs": [],
   "source": [
    "df_temp = train_e4.query('Sample.str.startswith(\"B1\")', engine=\"python\")\n",
    "df_temp = df_temp.drop(columns=['Sample'])\n",
    "df_temp['Sample'] = 'B1'\n",
    "df_temp2 = train_e4.query('Sample.str.startswith(\"C1\")', engine=\"python\")\n",
    "df_temp2 = df_temp2.drop(columns=['Sample'])\n",
    "df_temp2['Sample'] = 'C1'\n",
    "df_temp3 = train_e4.query('Sample.str.startswith(\"E3\")', engine=\"python\")\n",
    "df_temp3 = df_temp3.drop(columns=['Sample'])\n",
    "df_temp3['Sample'] = 'E1'\n",
    "df_temp4 = train_e4.query('Sample.str.startswith(\"REF\")', engine=\"python\")\n",
    "df_temp4 = df_temp4.drop(columns=['Sample'])\n",
    "df_temp4['Sample'] = 'REF'\n",
    "train_e4 = pd.concat([df_temp, df_temp2, df_temp3, df_temp4]).sort_index()"
   ]
  },
  {
   "cell_type": "code",
   "execution_count": 57,
   "metadata": {
    "collapsed": true,
    "execution": {
     "iopub.execute_input": "2024-12-17T08:46:35.859940Z",
     "iopub.status.busy": "2024-12-17T08:46:35.859583Z",
     "iopub.status.idle": "2024-12-17T08:46:36.196263Z",
     "shell.execute_reply": "2024-12-17T08:46:36.195062Z",
     "shell.execute_reply.started": "2024-12-17T08:46:35.859907Z"
    },
    "jupyter": {
     "outputs_hidden": true,
     "source_hidden": true
    }
   },
   "outputs": [],
   "source": [
    "df_temp = train_e4_v2.query('Sample.str.startswith(\"B1\")', engine=\"python\")\n",
    "df_temp = df_temp.drop(columns=['Sample'])\n",
    "df_temp['Sample'] = 'B1'\n",
    "df_temp2 = train_e4_v2.query('Sample.str.startswith(\"C1\")', engine=\"python\")\n",
    "df_temp2 = df_temp2.drop(columns=['Sample'])\n",
    "df_temp2['Sample'] = 'C1'\n",
    "df_temp3 = train_e4_v2.query('Sample.str.startswith(\"E3\")', engine=\"python\")\n",
    "df_temp3 = df_temp3.drop(columns=['Sample'])\n",
    "df_temp3['Sample'] = 'E1'\n",
    "df_temp4 = train_e4_v2.query('Sample.str.startswith(\"REF\")', engine=\"python\")\n",
    "df_temp4 = df_temp4.drop(columns=['Sample'])\n",
    "df_temp4['Sample'] = 'REF'\n",
    "train_e4_v2 = pd.concat([df_temp, df_temp2, df_temp3, df_temp4]).sort_index()"
   ]
  },
  {
   "cell_type": "code",
   "execution_count": 58,
   "metadata": {
    "collapsed": true,
    "execution": {
     "iopub.execute_input": "2024-12-17T08:46:36.197810Z",
     "iopub.status.busy": "2024-12-17T08:46:36.197488Z",
     "iopub.status.idle": "2024-12-17T08:46:36.259099Z",
     "shell.execute_reply": "2024-12-17T08:46:36.257970Z",
     "shell.execute_reply.started": "2024-12-17T08:46:36.197777Z"
    },
    "jupyter": {
     "outputs_hidden": true,
     "source_hidden": true
    }
   },
   "outputs": [
    {
     "data": {
      "text/html": [
       "<div>\n",
       "<style scoped>\n",
       "    .dataframe tbody tr th:only-of-type {\n",
       "        vertical-align: middle;\n",
       "    }\n",
       "\n",
       "    .dataframe tbody tr th {\n",
       "        vertical-align: top;\n",
       "    }\n",
       "\n",
       "    .dataframe thead th {\n",
       "        text-align: right;\n",
       "    }\n",
       "</style>\n",
       "<table border=\"1\" class=\"dataframe\">\n",
       "  <thead>\n",
       "    <tr style=\"text-align: right;\">\n",
       "      <th></th>\n",
       "      <th>Sample</th>\n",
       "      <th>Frequency (GHz)</th>\n",
       "      <th>LG (mV)</th>\n",
       "      <th>HG (mV)</th>\n",
       "      <th>num_experiment</th>\n",
       "      <th>Sample_original</th>\n",
       "      <th>Integration_Time_(msg)</th>\n",
       "      <th>index_original</th>\n",
       "    </tr>\n",
       "  </thead>\n",
       "  <tbody>\n",
       "    <tr>\n",
       "      <th>0</th>\n",
       "      <td>A1</td>\n",
       "      <td>100.0</td>\n",
       "      <td>-7.080942</td>\n",
       "      <td>-0.854611</td>\n",
       "      <td>e1</td>\n",
       "      <td>None</td>\n",
       "      <td>5</td>\n",
       "      <td>0</td>\n",
       "    </tr>\n",
       "    <tr>\n",
       "      <th>1</th>\n",
       "      <td>A1</td>\n",
       "      <td>100.0</td>\n",
       "      <td>67.024785</td>\n",
       "      <td>0.244141</td>\n",
       "      <td>e1</td>\n",
       "      <td>None</td>\n",
       "      <td>5</td>\n",
       "      <td>1</td>\n",
       "    </tr>\n",
       "    <tr>\n",
       "      <th>2</th>\n",
       "      <td>A1</td>\n",
       "      <td>100.0</td>\n",
       "      <td>124.893178</td>\n",
       "      <td>-1.098776</td>\n",
       "      <td>e1</td>\n",
       "      <td>None</td>\n",
       "      <td>5</td>\n",
       "      <td>2</td>\n",
       "    </tr>\n",
       "    <tr>\n",
       "      <th>3</th>\n",
       "      <td>A1</td>\n",
       "      <td>100.0</td>\n",
       "      <td>91.075571</td>\n",
       "      <td>0.000000</td>\n",
       "      <td>e1</td>\n",
       "      <td>None</td>\n",
       "      <td>5</td>\n",
       "      <td>3</td>\n",
       "    </tr>\n",
       "    <tr>\n",
       "      <th>4</th>\n",
       "      <td>A1</td>\n",
       "      <td>100.0</td>\n",
       "      <td>48.956174</td>\n",
       "      <td>0.122094</td>\n",
       "      <td>e1</td>\n",
       "      <td>None</td>\n",
       "      <td>5</td>\n",
       "      <td>4</td>\n",
       "    </tr>\n",
       "  </tbody>\n",
       "</table>\n",
       "</div>"
      ],
      "text/plain": [
       "  Sample  Frequency (GHz)     LG (mV)   HG (mV) num_experiment  \\\n",
       "0     A1            100.0   -7.080942 -0.854611             e1   \n",
       "1     A1            100.0   67.024785  0.244141             e1   \n",
       "2     A1            100.0  124.893178 -1.098776             e1   \n",
       "3     A1            100.0   91.075571  0.000000             e1   \n",
       "4     A1            100.0   48.956174  0.122094             e1   \n",
       "\n",
       "  Sample_original  Integration_Time_(msg)  index_original  \n",
       "0            None                       5               0  \n",
       "1            None                       5               1  \n",
       "2            None                       5               2  \n",
       "3            None                       5               3  \n",
       "4            None                       5               4  "
      ]
     },
     "execution_count": 58,
     "metadata": {},
     "output_type": "execute_result"
    }
   ],
   "source": [
    "train_e1['index_original'] = train_e1.index\n",
    "train_e1.head()\n"
   ]
  },
  {
   "cell_type": "code",
   "execution_count": 59,
   "metadata": {
    "collapsed": true,
    "execution": {
     "iopub.execute_input": "2024-12-17T08:46:36.260615Z",
     "iopub.status.busy": "2024-12-17T08:46:36.260303Z",
     "iopub.status.idle": "2024-12-17T08:46:36.299895Z",
     "shell.execute_reply": "2024-12-17T08:46:36.298781Z",
     "shell.execute_reply.started": "2024-12-17T08:46:36.260583Z"
    },
    "jupyter": {
     "outputs_hidden": true,
     "source_hidden": true
    }
   },
   "outputs": [
    {
     "data": {
      "text/html": [
       "<div>\n",
       "<style scoped>\n",
       "    .dataframe tbody tr th:only-of-type {\n",
       "        vertical-align: middle;\n",
       "    }\n",
       "\n",
       "    .dataframe tbody tr th {\n",
       "        vertical-align: top;\n",
       "    }\n",
       "\n",
       "    .dataframe thead th {\n",
       "        text-align: right;\n",
       "    }\n",
       "</style>\n",
       "<table border=\"1\" class=\"dataframe\">\n",
       "  <thead>\n",
       "    <tr style=\"text-align: right;\">\n",
       "      <th></th>\n",
       "      <th>Sample</th>\n",
       "      <th>Frequency (GHz)</th>\n",
       "      <th>LG (mV)</th>\n",
       "      <th>HG (mV)</th>\n",
       "      <th>num_experiment</th>\n",
       "      <th>Sample_original</th>\n",
       "      <th>Integration_Time_(msg)</th>\n",
       "      <th>index_original</th>\n",
       "    </tr>\n",
       "  </thead>\n",
       "  <tbody>\n",
       "    <tr>\n",
       "      <th>0</th>\n",
       "      <td>E1</td>\n",
       "      <td>100.0</td>\n",
       "      <td>27.469173</td>\n",
       "      <td>0.976682</td>\n",
       "      <td>e2</td>\n",
       "      <td>None</td>\n",
       "      <td>5</td>\n",
       "      <td>0</td>\n",
       "    </tr>\n",
       "    <tr>\n",
       "      <th>1</th>\n",
       "      <td>E1</td>\n",
       "      <td>100.0</td>\n",
       "      <td>70.931511</td>\n",
       "      <td>-0.366259</td>\n",
       "      <td>e2</td>\n",
       "      <td>None</td>\n",
       "      <td>5</td>\n",
       "      <td>1</td>\n",
       "    </tr>\n",
       "    <tr>\n",
       "      <th>2</th>\n",
       "      <td>E1</td>\n",
       "      <td>100.0</td>\n",
       "      <td>1.342937</td>\n",
       "      <td>-0.488353</td>\n",
       "      <td>e2</td>\n",
       "      <td>None</td>\n",
       "      <td>5</td>\n",
       "      <td>2</td>\n",
       "    </tr>\n",
       "    <tr>\n",
       "      <th>3</th>\n",
       "      <td>E1</td>\n",
       "      <td>100.0</td>\n",
       "      <td>31.253815</td>\n",
       "      <td>-0.122094</td>\n",
       "      <td>e2</td>\n",
       "      <td>None</td>\n",
       "      <td>5</td>\n",
       "      <td>3</td>\n",
       "    </tr>\n",
       "    <tr>\n",
       "      <th>4</th>\n",
       "      <td>E1</td>\n",
       "      <td>100.0</td>\n",
       "      <td>48.467830</td>\n",
       "      <td>0.488353</td>\n",
       "      <td>e2</td>\n",
       "      <td>None</td>\n",
       "      <td>5</td>\n",
       "      <td>4</td>\n",
       "    </tr>\n",
       "  </tbody>\n",
       "</table>\n",
       "</div>"
      ],
      "text/plain": [
       "  Sample  Frequency (GHz)    LG (mV)   HG (mV) num_experiment Sample_original  \\\n",
       "0     E1            100.0  27.469173  0.976682             e2            None   \n",
       "1     E1            100.0  70.931511 -0.366259             e2            None   \n",
       "2     E1            100.0   1.342937 -0.488353             e2            None   \n",
       "3     E1            100.0  31.253815 -0.122094             e2            None   \n",
       "4     E1            100.0  48.467830  0.488353             e2            None   \n",
       "\n",
       "   Integration_Time_(msg)  index_original  \n",
       "0                       5               0  \n",
       "1                       5               1  \n",
       "2                       5               2  \n",
       "3                       5               3  \n",
       "4                       5               4  "
      ]
     },
     "execution_count": 59,
     "metadata": {},
     "output_type": "execute_result"
    }
   ],
   "source": [
    "train_e2['index_original'] = train_e2.index\n",
    "train_e2.head()"
   ]
  },
  {
   "cell_type": "code",
   "execution_count": 60,
   "metadata": {
    "collapsed": true,
    "execution": {
     "iopub.execute_input": "2024-12-17T08:46:36.305233Z",
     "iopub.status.busy": "2024-12-17T08:46:36.304571Z",
     "iopub.status.idle": "2024-12-17T08:46:36.319792Z",
     "shell.execute_reply": "2024-12-17T08:46:36.318615Z",
     "shell.execute_reply.started": "2024-12-17T08:46:36.305195Z"
    },
    "jupyter": {
     "outputs_hidden": true,
     "source_hidden": true
    }
   },
   "outputs": [
    {
     "data": {
      "text/html": [
       "<div>\n",
       "<style scoped>\n",
       "    .dataframe tbody tr th:only-of-type {\n",
       "        vertical-align: middle;\n",
       "    }\n",
       "\n",
       "    .dataframe tbody tr th {\n",
       "        vertical-align: top;\n",
       "    }\n",
       "\n",
       "    .dataframe thead th {\n",
       "        text-align: right;\n",
       "    }\n",
       "</style>\n",
       "<table border=\"1\" class=\"dataframe\">\n",
       "  <thead>\n",
       "    <tr style=\"text-align: right;\">\n",
       "      <th></th>\n",
       "      <th>Sample</th>\n",
       "      <th>Frequency (GHz)</th>\n",
       "      <th>LG (mV)</th>\n",
       "      <th>HG (mV)</th>\n",
       "      <th>num_experiment</th>\n",
       "      <th>Sample_original</th>\n",
       "      <th>Integration_Time_(msg)</th>\n",
       "      <th>index_original</th>\n",
       "    </tr>\n",
       "  </thead>\n",
       "  <tbody>\n",
       "    <tr>\n",
       "      <th>0</th>\n",
       "      <td>REF</td>\n",
       "      <td>100.0</td>\n",
       "      <td>1.098767</td>\n",
       "      <td>0.000012</td>\n",
       "      <td>e3</td>\n",
       "      <td>REF_1</td>\n",
       "      <td>5</td>\n",
       "      <td>0</td>\n",
       "    </tr>\n",
       "    <tr>\n",
       "      <th>1</th>\n",
       "      <td>REF</td>\n",
       "      <td>100.0</td>\n",
       "      <td>0.854596</td>\n",
       "      <td>0.244176</td>\n",
       "      <td>e3</td>\n",
       "      <td>REF_1</td>\n",
       "      <td>5</td>\n",
       "      <td>1</td>\n",
       "    </tr>\n",
       "    <tr>\n",
       "      <th>2</th>\n",
       "      <td>REF</td>\n",
       "      <td>100.0</td>\n",
       "      <td>0.976682</td>\n",
       "      <td>0.610411</td>\n",
       "      <td>e3</td>\n",
       "      <td>REF_1</td>\n",
       "      <td>5</td>\n",
       "      <td>2</td>\n",
       "    </tr>\n",
       "    <tr>\n",
       "      <th>3</th>\n",
       "      <td>REF</td>\n",
       "      <td>100.0</td>\n",
       "      <td>1.709193</td>\n",
       "      <td>-0.244164</td>\n",
       "      <td>e3</td>\n",
       "      <td>REF_1</td>\n",
       "      <td>5</td>\n",
       "      <td>3</td>\n",
       "    </tr>\n",
       "    <tr>\n",
       "      <th>4</th>\n",
       "      <td>REF</td>\n",
       "      <td>100.0</td>\n",
       "      <td>-0.122085</td>\n",
       "      <td>-0.488341</td>\n",
       "      <td>e3</td>\n",
       "      <td>REF_1</td>\n",
       "      <td>5</td>\n",
       "      <td>4</td>\n",
       "    </tr>\n",
       "  </tbody>\n",
       "</table>\n",
       "</div>"
      ],
      "text/plain": [
       "  Sample  Frequency (GHz)   LG (mV)   HG (mV) num_experiment Sample_original  \\\n",
       "0    REF            100.0  1.098767  0.000012             e3           REF_1   \n",
       "1    REF            100.0  0.854596  0.244176             e3           REF_1   \n",
       "2    REF            100.0  0.976682  0.610411             e3           REF_1   \n",
       "3    REF            100.0  1.709193 -0.244164             e3           REF_1   \n",
       "4    REF            100.0 -0.122085 -0.488341             e3           REF_1   \n",
       "\n",
       "   Integration_Time_(msg)  index_original  \n",
       "0                       5               0  \n",
       "1                       5               1  \n",
       "2                       5               2  \n",
       "3                       5               3  \n",
       "4                       5               4  "
      ]
     },
     "execution_count": 60,
     "metadata": {},
     "output_type": "execute_result"
    }
   ],
   "source": [
    "train_e3['index_original'] = train_e3.index\n",
    "train_e3.head()\n"
   ]
  },
  {
   "cell_type": "code",
   "execution_count": 61,
   "metadata": {
    "collapsed": true,
    "execution": {
     "iopub.execute_input": "2024-12-17T08:46:36.321292Z",
     "iopub.status.busy": "2024-12-17T08:46:36.320961Z",
     "iopub.status.idle": "2024-12-17T08:46:36.344518Z",
     "shell.execute_reply": "2024-12-17T08:46:36.343458Z",
     "shell.execute_reply.started": "2024-12-17T08:46:36.321243Z"
    },
    "jupyter": {
     "outputs_hidden": true,
     "source_hidden": true
    }
   },
   "outputs": [
    {
     "data": {
      "text/html": [
       "<div>\n",
       "<style scoped>\n",
       "    .dataframe tbody tr th:only-of-type {\n",
       "        vertical-align: middle;\n",
       "    }\n",
       "\n",
       "    .dataframe tbody tr th {\n",
       "        vertical-align: top;\n",
       "    }\n",
       "\n",
       "    .dataframe thead th {\n",
       "        text-align: right;\n",
       "    }\n",
       "</style>\n",
       "<table border=\"1\" class=\"dataframe\">\n",
       "  <thead>\n",
       "    <tr style=\"text-align: right;\">\n",
       "      <th></th>\n",
       "      <th>Frequency (GHz)</th>\n",
       "      <th>LG (mV)</th>\n",
       "      <th>HG (mV)</th>\n",
       "      <th>num_experiment</th>\n",
       "      <th>Sample_original</th>\n",
       "      <th>Integration_Time_(msg)</th>\n",
       "      <th>Sample</th>\n",
       "      <th>index_original</th>\n",
       "    </tr>\n",
       "  </thead>\n",
       "  <tbody>\n",
       "    <tr>\n",
       "      <th>0</th>\n",
       "      <td>100.0</td>\n",
       "      <td>35.923574</td>\n",
       "      <td>-0.335747</td>\n",
       "      <td>e4</td>\n",
       "      <td>REF_1</td>\n",
       "      <td>20</td>\n",
       "      <td>REF</td>\n",
       "      <td>0</td>\n",
       "    </tr>\n",
       "    <tr>\n",
       "      <th>1</th>\n",
       "      <td>100.0</td>\n",
       "      <td>58.600903</td>\n",
       "      <td>0.763011</td>\n",
       "      <td>e4</td>\n",
       "      <td>REF_1</td>\n",
       "      <td>20</td>\n",
       "      <td>REF</td>\n",
       "      <td>1</td>\n",
       "    </tr>\n",
       "    <tr>\n",
       "      <th>2</th>\n",
       "      <td>100.0</td>\n",
       "      <td>70.473691</td>\n",
       "      <td>0.152630</td>\n",
       "      <td>e4</td>\n",
       "      <td>REF_1</td>\n",
       "      <td>20</td>\n",
       "      <td>REF</td>\n",
       "      <td>2</td>\n",
       "    </tr>\n",
       "    <tr>\n",
       "      <th>3</th>\n",
       "      <td>100.0</td>\n",
       "      <td>56.220242</td>\n",
       "      <td>0.061041</td>\n",
       "      <td>e4</td>\n",
       "      <td>REF_1</td>\n",
       "      <td>20</td>\n",
       "      <td>REF</td>\n",
       "      <td>3</td>\n",
       "    </tr>\n",
       "    <tr>\n",
       "      <th>4</th>\n",
       "      <td>100.0</td>\n",
       "      <td>46.575510</td>\n",
       "      <td>0.579929</td>\n",
       "      <td>e4</td>\n",
       "      <td>REF_1</td>\n",
       "      <td>20</td>\n",
       "      <td>REF</td>\n",
       "      <td>4</td>\n",
       "    </tr>\n",
       "  </tbody>\n",
       "</table>\n",
       "</div>"
      ],
      "text/plain": [
       "   Frequency (GHz)    LG (mV)   HG (mV) num_experiment Sample_original  \\\n",
       "0            100.0  35.923574 -0.335747             e4           REF_1   \n",
       "1            100.0  58.600903  0.763011             e4           REF_1   \n",
       "2            100.0  70.473691  0.152630             e4           REF_1   \n",
       "3            100.0  56.220242  0.061041             e4           REF_1   \n",
       "4            100.0  46.575510  0.579929             e4           REF_1   \n",
       "\n",
       "   Integration_Time_(msg) Sample  index_original  \n",
       "0                      20    REF               0  \n",
       "1                      20    REF               1  \n",
       "2                      20    REF               2  \n",
       "3                      20    REF               3  \n",
       "4                      20    REF               4  "
      ]
     },
     "execution_count": 61,
     "metadata": {},
     "output_type": "execute_result"
    }
   ],
   "source": [
    "train_e4['index_original'] = train_e4.index\n",
    "train_e4.head()\n"
   ]
  },
  {
   "cell_type": "code",
   "execution_count": 62,
   "metadata": {
    "collapsed": true,
    "execution": {
     "iopub.execute_input": "2024-12-17T08:46:36.346278Z",
     "iopub.status.busy": "2024-12-17T08:46:36.345933Z",
     "iopub.status.idle": "2024-12-17T08:46:36.361049Z",
     "shell.execute_reply": "2024-12-17T08:46:36.359967Z",
     "shell.execute_reply.started": "2024-12-17T08:46:36.346244Z"
    },
    "jupyter": {
     "outputs_hidden": true,
     "source_hidden": true
    }
   },
   "outputs": [
    {
     "data": {
      "text/html": [
       "<div>\n",
       "<style scoped>\n",
       "    .dataframe tbody tr th:only-of-type {\n",
       "        vertical-align: middle;\n",
       "    }\n",
       "\n",
       "    .dataframe tbody tr th {\n",
       "        vertical-align: top;\n",
       "    }\n",
       "\n",
       "    .dataframe thead th {\n",
       "        text-align: right;\n",
       "    }\n",
       "</style>\n",
       "<table border=\"1\" class=\"dataframe\">\n",
       "  <thead>\n",
       "    <tr style=\"text-align: right;\">\n",
       "      <th></th>\n",
       "      <th>Frequency (GHz)</th>\n",
       "      <th>LG (mV)</th>\n",
       "      <th>HG (mV)</th>\n",
       "      <th>num_experiment</th>\n",
       "      <th>Sample_original</th>\n",
       "      <th>Integration_Time_(msg)</th>\n",
       "      <th>Sample</th>\n",
       "      <th>index_original</th>\n",
       "    </tr>\n",
       "  </thead>\n",
       "  <tbody>\n",
       "    <tr>\n",
       "      <th>0</th>\n",
       "      <td>100.0</td>\n",
       "      <td>-0.640947</td>\n",
       "      <td>25.027469</td>\n",
       "      <td>e4_v2</td>\n",
       "      <td>B1_17</td>\n",
       "      <td>20</td>\n",
       "      <td>B1</td>\n",
       "      <td>0</td>\n",
       "    </tr>\n",
       "    <tr>\n",
       "      <th>1</th>\n",
       "      <td>100.0</td>\n",
       "      <td>0.244170</td>\n",
       "      <td>23.684531</td>\n",
       "      <td>e4_v2</td>\n",
       "      <td>B1_17</td>\n",
       "      <td>20</td>\n",
       "      <td>B1</td>\n",
       "      <td>1</td>\n",
       "    </tr>\n",
       "    <tr>\n",
       "      <th>2</th>\n",
       "      <td>100.0</td>\n",
       "      <td>-0.122085</td>\n",
       "      <td>25.027469</td>\n",
       "      <td>e4_v2</td>\n",
       "      <td>B1_17</td>\n",
       "      <td>20</td>\n",
       "      <td>B1</td>\n",
       "      <td>2</td>\n",
       "    </tr>\n",
       "    <tr>\n",
       "      <th>3</th>\n",
       "      <td>100.0</td>\n",
       "      <td>1.159810</td>\n",
       "      <td>21.639604</td>\n",
       "      <td>e4_v2</td>\n",
       "      <td>B1_17</td>\n",
       "      <td>20</td>\n",
       "      <td>B1</td>\n",
       "      <td>3</td>\n",
       "    </tr>\n",
       "    <tr>\n",
       "      <th>4</th>\n",
       "      <td>100.0</td>\n",
       "      <td>0.213649</td>\n",
       "      <td>26.248321</td>\n",
       "      <td>e4_v2</td>\n",
       "      <td>B1_17</td>\n",
       "      <td>20</td>\n",
       "      <td>B1</td>\n",
       "      <td>4</td>\n",
       "    </tr>\n",
       "  </tbody>\n",
       "</table>\n",
       "</div>"
      ],
      "text/plain": [
       "   Frequency (GHz)   LG (mV)    HG (mV) num_experiment Sample_original  \\\n",
       "0            100.0 -0.640947  25.027469          e4_v2           B1_17   \n",
       "1            100.0  0.244170  23.684531          e4_v2           B1_17   \n",
       "2            100.0 -0.122085  25.027469          e4_v2           B1_17   \n",
       "3            100.0  1.159810  21.639604          e4_v2           B1_17   \n",
       "4            100.0  0.213649  26.248321          e4_v2           B1_17   \n",
       "\n",
       "   Integration_Time_(msg) Sample  index_original  \n",
       "0                      20     B1               0  \n",
       "1                      20     B1               1  \n",
       "2                      20     B1               2  \n",
       "3                      20     B1               3  \n",
       "4                      20     B1               4  "
      ]
     },
     "execution_count": 62,
     "metadata": {},
     "output_type": "execute_result"
    }
   ],
   "source": [
    "train_e4_v2['index_original'] = train_e4_v2.index\n",
    "train_e4_v2.head()\n"
   ]
  },
  {
   "cell_type": "code",
   "execution_count": 63,
   "metadata": {
    "collapsed": true,
    "execution": {
     "iopub.execute_input": "2024-12-17T08:46:36.363055Z",
     "iopub.status.busy": "2024-12-17T08:46:36.362550Z",
     "iopub.status.idle": "2024-12-17T08:46:38.350886Z",
     "shell.execute_reply": "2024-12-17T08:46:38.349737Z",
     "shell.execute_reply.started": "2024-12-17T08:46:36.362994Z"
    },
    "jupyter": {
     "outputs_hidden": true,
     "source_hidden": true
    }
   },
   "outputs": [
    {
     "data": {
      "text/html": [
       "<div>\n",
       "<style scoped>\n",
       "    .dataframe tbody tr th:only-of-type {\n",
       "        vertical-align: middle;\n",
       "    }\n",
       "\n",
       "    .dataframe tbody tr th {\n",
       "        vertical-align: top;\n",
       "    }\n",
       "\n",
       "    .dataframe thead th {\n",
       "        text-align: right;\n",
       "    }\n",
       "</style>\n",
       "<table border=\"1\" class=\"dataframe\">\n",
       "  <thead>\n",
       "    <tr style=\"text-align: right;\">\n",
       "      <th></th>\n",
       "      <th>target</th>\n",
       "      <th>freq</th>\n",
       "      <th>LG (mV)</th>\n",
       "      <th>HG (mV)</th>\n",
       "      <th>num_experiment</th>\n",
       "      <th>Sample_original</th>\n",
       "      <th>int_time</th>\n",
       "    </tr>\n",
       "  </thead>\n",
       "  <tbody>\n",
       "    <tr>\n",
       "      <th>0</th>\n",
       "      <td>A1</td>\n",
       "      <td>100.0</td>\n",
       "      <td>-7.080942</td>\n",
       "      <td>-0.854611</td>\n",
       "      <td>e1</td>\n",
       "      <td>None</td>\n",
       "      <td>5</td>\n",
       "    </tr>\n",
       "    <tr>\n",
       "      <th>1</th>\n",
       "      <td>A1</td>\n",
       "      <td>100.0</td>\n",
       "      <td>67.024785</td>\n",
       "      <td>0.244141</td>\n",
       "      <td>e1</td>\n",
       "      <td>None</td>\n",
       "      <td>5</td>\n",
       "    </tr>\n",
       "    <tr>\n",
       "      <th>2</th>\n",
       "      <td>A1</td>\n",
       "      <td>100.0</td>\n",
       "      <td>124.893178</td>\n",
       "      <td>-1.098776</td>\n",
       "      <td>e1</td>\n",
       "      <td>None</td>\n",
       "      <td>5</td>\n",
       "    </tr>\n",
       "    <tr>\n",
       "      <th>3</th>\n",
       "      <td>A1</td>\n",
       "      <td>100.0</td>\n",
       "      <td>91.075571</td>\n",
       "      <td>0.000000</td>\n",
       "      <td>e1</td>\n",
       "      <td>None</td>\n",
       "      <td>5</td>\n",
       "    </tr>\n",
       "    <tr>\n",
       "      <th>4</th>\n",
       "      <td>A1</td>\n",
       "      <td>100.0</td>\n",
       "      <td>48.956174</td>\n",
       "      <td>0.122094</td>\n",
       "      <td>e1</td>\n",
       "      <td>None</td>\n",
       "      <td>5</td>\n",
       "    </tr>\n",
       "  </tbody>\n",
       "</table>\n",
       "</div>"
      ],
      "text/plain": [
       "  target   freq     LG (mV)   HG (mV) num_experiment Sample_original  int_time\n",
       "0     A1  100.0   -7.080942 -0.854611             e1            None         5\n",
       "1     A1  100.0   67.024785  0.244141             e1            None         5\n",
       "2     A1  100.0  124.893178 -1.098776             e1            None         5\n",
       "3     A1  100.0   91.075571  0.000000             e1            None         5\n",
       "4     A1  100.0   48.956174  0.122094             e1            None         5"
      ]
     },
     "execution_count": 63,
     "metadata": {},
     "output_type": "execute_result"
    }
   ],
   "source": [
    "train_get = pd.concat([train_e1, train_e2, train_e3, train_e4, train_e4_v2])\n",
    "train_get = train_get.rename(columns = {'Sample':'target', 'Frequency (GHz)': 'freq', 'Integration_Time_(msg)': 'int_time' }).drop(columns=['index_original'])                                                                                  \n",
    "train_get.head()\n",
    "\n"
   ]
  },
  {
   "cell_type": "code",
   "execution_count": 64,
   "metadata": {
    "collapsed": true,
    "execution": {
     "iopub.execute_input": "2024-12-17T08:46:38.352572Z",
     "iopub.status.busy": "2024-12-17T08:46:38.352256Z",
     "iopub.status.idle": "2024-12-17T08:46:38.594381Z",
     "shell.execute_reply": "2024-12-17T08:46:38.593181Z",
     "shell.execute_reply.started": "2024-12-17T08:46:38.352540Z"
    },
    "jupyter": {
     "outputs_hidden": true,
     "source_hidden": true
    }
   },
   "outputs": [
    {
     "data": {
      "text/plain": [
       "num_experiment\n",
       "e1       2420625\n",
       "e2        986224\n",
       "e4        439648\n",
       "e3        424998\n",
       "e4_v2     250646\n",
       "Name: count, dtype: int64"
      ]
     },
     "execution_count": 64,
     "metadata": {},
     "output_type": "execute_result"
    }
   ],
   "source": [
    "train_get['num_experiment'].value_counts()"
   ]
  },
  {
   "cell_type": "markdown",
   "metadata": {},
   "source": [
    "## Convert the data to a format you can easily manipulate\n",
    "\n"
   ]
  },
  {
   "cell_type": "code",
   "execution_count": 65,
   "metadata": {
    "collapsed": true,
    "execution": {
     "iopub.execute_input": "2024-12-17T08:46:38.596259Z",
     "iopub.status.busy": "2024-12-17T08:46:38.595834Z",
     "iopub.status.idle": "2024-12-17T08:46:38.609331Z",
     "shell.execute_reply": "2024-12-17T08:46:38.608141Z",
     "shell.execute_reply.started": "2024-12-17T08:46:38.596214Z"
    },
    "jupyter": {
     "outputs_hidden": true,
     "source_hidden": true
    }
   },
   "outputs": [],
   "source": [
    "#train = pd.concat([train[['Frequency (GHz)', 'LG (mV)', 'HG (mV)']],train[['target']]], axis=1)\n",
    "#train_get.to_csv('all-experiment_15_types.csv', index=False)\n"
   ]
  },
  {
   "cell_type": "markdown",
   "metadata": {},
   "source": [
    "Select only tree types of plastic `B1`, `C1`, `E1` and `REF`"
   ]
  },
  {
   "cell_type": "code",
   "execution_count": 66,
   "metadata": {
    "collapsed": true,
    "execution": {
     "iopub.execute_input": "2024-12-17T08:46:38.611989Z",
     "iopub.status.busy": "2024-12-17T08:46:38.611517Z",
     "iopub.status.idle": "2024-12-17T08:46:40.621253Z",
     "shell.execute_reply": "2024-12-17T08:46:40.615212Z",
     "shell.execute_reply.started": "2024-12-17T08:46:38.611942Z"
    },
    "jupyter": {
     "outputs_hidden": true,
     "source_hidden": true
    }
   },
   "outputs": [
    {
     "ename": "KeyboardInterrupt",
     "evalue": "",
     "output_type": "error",
     "traceback": [
      "\u001b[0;31m---------------------------------------------------------------------------\u001b[0m",
      "\u001b[0;31mKeyboardInterrupt\u001b[0m                         Traceback (most recent call last)",
      "Cell \u001b[0;32mIn[66], line 2\u001b[0m\n\u001b[1;32m      1\u001b[0m \u001b[38;5;66;03m#2056910,2307556\u001b[39;00m\n\u001b[0;32m----> 2\u001b[0m train_get \u001b[38;5;241m=\u001b[39m train_get[(train_get\u001b[38;5;241m.\u001b[39mtarget \u001b[38;5;241m==\u001b[39m \u001b[38;5;124m'\u001b[39m\u001b[38;5;124mB1\u001b[39m\u001b[38;5;124m'\u001b[39m) \u001b[38;5;241m|\u001b[39m (train_get\u001b[38;5;241m.\u001b[39mtarget \u001b[38;5;241m==\u001b[39m \u001b[38;5;124m'\u001b[39m\u001b[38;5;124mC1\u001b[39m\u001b[38;5;124m'\u001b[39m) \u001b[38;5;241m|\u001b[39m (train_get\u001b[38;5;241m.\u001b[39mtarget \u001b[38;5;241m==\u001b[39m \u001b[38;5;124m'\u001b[39m\u001b[38;5;124mE1\u001b[39m\u001b[38;5;124m'\u001b[39m) \u001b[38;5;241m|\u001b[39m (\u001b[43mtrain_get\u001b[49m\u001b[38;5;241;43m.\u001b[39;49m\u001b[43mtarget\u001b[49m\u001b[43m \u001b[49m\u001b[38;5;241;43m==\u001b[39;49m\u001b[43m \u001b[49m\u001b[38;5;124;43m'\u001b[39;49m\u001b[38;5;124;43mREF\u001b[39;49m\u001b[38;5;124;43m'\u001b[39;49m)]\n",
      "File \u001b[0;32m/opt/conda/lib/python3.10/site-packages/pandas/core/ops/common.py:76\u001b[0m, in \u001b[0;36m_unpack_zerodim_and_defer.<locals>.new_method\u001b[0;34m(self, other)\u001b[0m\n\u001b[1;32m     72\u001b[0m             \u001b[38;5;28;01mreturn\u001b[39;00m \u001b[38;5;28mNotImplemented\u001b[39m\n\u001b[1;32m     74\u001b[0m other \u001b[38;5;241m=\u001b[39m item_from_zerodim(other)\n\u001b[0;32m---> 76\u001b[0m \u001b[38;5;28;01mreturn\u001b[39;00m \u001b[43mmethod\u001b[49m\u001b[43m(\u001b[49m\u001b[38;5;28;43mself\u001b[39;49m\u001b[43m,\u001b[49m\u001b[43m \u001b[49m\u001b[43mother\u001b[49m\u001b[43m)\u001b[49m\n",
      "File \u001b[0;32m/opt/conda/lib/python3.10/site-packages/pandas/core/arraylike.py:40\u001b[0m, in \u001b[0;36mOpsMixin.__eq__\u001b[0;34m(self, other)\u001b[0m\n\u001b[1;32m     38\u001b[0m \u001b[38;5;129m@unpack_zerodim_and_defer\u001b[39m(\u001b[38;5;124m\"\u001b[39m\u001b[38;5;124m__eq__\u001b[39m\u001b[38;5;124m\"\u001b[39m)\n\u001b[1;32m     39\u001b[0m \u001b[38;5;28;01mdef\u001b[39;00m \u001b[38;5;21m__eq__\u001b[39m(\u001b[38;5;28mself\u001b[39m, other):\n\u001b[0;32m---> 40\u001b[0m     \u001b[38;5;28;01mreturn\u001b[39;00m \u001b[38;5;28;43mself\u001b[39;49m\u001b[38;5;241;43m.\u001b[39;49m\u001b[43m_cmp_method\u001b[49m\u001b[43m(\u001b[49m\u001b[43mother\u001b[49m\u001b[43m,\u001b[49m\u001b[43m \u001b[49m\u001b[43moperator\u001b[49m\u001b[38;5;241;43m.\u001b[39;49m\u001b[43meq\u001b[49m\u001b[43m)\u001b[49m\n",
      "File \u001b[0;32m/opt/conda/lib/python3.10/site-packages/pandas/core/series.py:6119\u001b[0m, in \u001b[0;36mSeries._cmp_method\u001b[0;34m(self, other, op)\u001b[0m\n\u001b[1;32m   6116\u001b[0m lvalues \u001b[38;5;241m=\u001b[39m \u001b[38;5;28mself\u001b[39m\u001b[38;5;241m.\u001b[39m_values\n\u001b[1;32m   6117\u001b[0m rvalues \u001b[38;5;241m=\u001b[39m extract_array(other, extract_numpy\u001b[38;5;241m=\u001b[39m\u001b[38;5;28;01mTrue\u001b[39;00m, extract_range\u001b[38;5;241m=\u001b[39m\u001b[38;5;28;01mTrue\u001b[39;00m)\n\u001b[0;32m-> 6119\u001b[0m res_values \u001b[38;5;241m=\u001b[39m \u001b[43mops\u001b[49m\u001b[38;5;241;43m.\u001b[39;49m\u001b[43mcomparison_op\u001b[49m\u001b[43m(\u001b[49m\u001b[43mlvalues\u001b[49m\u001b[43m,\u001b[49m\u001b[43m \u001b[49m\u001b[43mrvalues\u001b[49m\u001b[43m,\u001b[49m\u001b[43m \u001b[49m\u001b[43mop\u001b[49m\u001b[43m)\u001b[49m\n\u001b[1;32m   6121\u001b[0m \u001b[38;5;28;01mreturn\u001b[39;00m \u001b[38;5;28mself\u001b[39m\u001b[38;5;241m.\u001b[39m_construct_result(res_values, name\u001b[38;5;241m=\u001b[39mres_name)\n",
      "File \u001b[0;32m/opt/conda/lib/python3.10/site-packages/pandas/core/ops/array_ops.py:344\u001b[0m, in \u001b[0;36mcomparison_op\u001b[0;34m(left, right, op)\u001b[0m\n\u001b[1;32m    341\u001b[0m     \u001b[38;5;28;01mreturn\u001b[39;00m invalid_comparison(lvalues, rvalues, op)\n\u001b[1;32m    343\u001b[0m \u001b[38;5;28;01melif\u001b[39;00m lvalues\u001b[38;5;241m.\u001b[39mdtype \u001b[38;5;241m==\u001b[39m \u001b[38;5;28mobject\u001b[39m \u001b[38;5;129;01mor\u001b[39;00m \u001b[38;5;28misinstance\u001b[39m(rvalues, \u001b[38;5;28mstr\u001b[39m):\n\u001b[0;32m--> 344\u001b[0m     res_values \u001b[38;5;241m=\u001b[39m \u001b[43mcomp_method_OBJECT_ARRAY\u001b[49m\u001b[43m(\u001b[49m\u001b[43mop\u001b[49m\u001b[43m,\u001b[49m\u001b[43m \u001b[49m\u001b[43mlvalues\u001b[49m\u001b[43m,\u001b[49m\u001b[43m \u001b[49m\u001b[43mrvalues\u001b[49m\u001b[43m)\u001b[49m\n\u001b[1;32m    346\u001b[0m \u001b[38;5;28;01melse\u001b[39;00m:\n\u001b[1;32m    347\u001b[0m     res_values \u001b[38;5;241m=\u001b[39m _na_arithmetic_op(lvalues, rvalues, op, is_cmp\u001b[38;5;241m=\u001b[39m\u001b[38;5;28;01mTrue\u001b[39;00m)\n",
      "File \u001b[0;32m/opt/conda/lib/python3.10/site-packages/pandas/core/ops/array_ops.py:129\u001b[0m, in \u001b[0;36mcomp_method_OBJECT_ARRAY\u001b[0;34m(op, x, y)\u001b[0m\n\u001b[1;32m    127\u001b[0m     result \u001b[38;5;241m=\u001b[39m libops\u001b[38;5;241m.\u001b[39mvec_compare(x\u001b[38;5;241m.\u001b[39mravel(), y\u001b[38;5;241m.\u001b[39mravel(), op)\n\u001b[1;32m    128\u001b[0m \u001b[38;5;28;01melse\u001b[39;00m:\n\u001b[0;32m--> 129\u001b[0m     result \u001b[38;5;241m=\u001b[39m \u001b[43mlibops\u001b[49m\u001b[38;5;241;43m.\u001b[39;49m\u001b[43mscalar_compare\u001b[49m\u001b[43m(\u001b[49m\u001b[43mx\u001b[49m\u001b[38;5;241;43m.\u001b[39;49m\u001b[43mravel\u001b[49m\u001b[43m(\u001b[49m\u001b[43m)\u001b[49m\u001b[43m,\u001b[49m\u001b[43m \u001b[49m\u001b[43my\u001b[49m\u001b[43m,\u001b[49m\u001b[43m \u001b[49m\u001b[43mop\u001b[49m\u001b[43m)\u001b[49m\n\u001b[1;32m    130\u001b[0m \u001b[38;5;28;01mreturn\u001b[39;00m result\u001b[38;5;241m.\u001b[39mreshape(x\u001b[38;5;241m.\u001b[39mshape)\n",
      "\u001b[0;31mKeyboardInterrupt\u001b[0m: "
     ]
    }
   ],
   "source": [
    "#2056910,2307556\n",
    "train_get = train_get[(train_get.target == 'B1') | (train_get.target == 'C1') | (train_get.target == 'E1') | (train_get.target == 'REF')]"
   ]
  },
  {
   "cell_type": "markdown",
   "metadata": {},
   "source": [
    "Uncomment to only one experiment."
   ]
  },
  {
   "cell_type": "code",
   "execution_count": null,
   "metadata": {
    "collapsed": true,
    "execution": {
     "iopub.status.busy": "2024-12-17T08:46:40.622023Z",
     "iopub.status.idle": "2024-12-17T08:46:40.622381Z",
     "shell.execute_reply": "2024-12-17T08:46:40.622231Z",
     "shell.execute_reply.started": "2024-12-17T08:46:40.622213Z"
    },
    "jupyter": {
     "outputs_hidden": true,
     "source_hidden": true
    }
   },
   "outputs": [],
   "source": [
    "#train_get_e4 = train_get[(train_get.num_experiment == 'e4')] #439648 samples\n",
    "#train_get = train_get_e4.copy()"
   ]
  },
  {
   "cell_type": "markdown",
   "metadata": {
    "execution": {
     "iopub.execute_input": "2024-11-21T13:27:44.506027Z",
     "iopub.status.busy": "2024-11-21T13:27:44.505653Z",
     "iopub.status.idle": "2024-11-21T13:27:44.518494Z",
     "shell.execute_reply": "2024-11-21T13:27:44.517295Z",
     "shell.execute_reply.started": "2024-11-21T13:27:44.505998Z"
    }
   },
   "source": [
    "## Sample a test set, put it aside, and never look at it\n",
    "The test set is used after the model has been fully trained to assess the model's performance on completely unseen data\n",
    "\n",
    "Data is split in a stratified fashion, using this at  theTarget as  class labels  \n",
    "**Conjecture**: It is assumed that there is time independence in the laser measurement.."
   ]
  },
  {
   "cell_type": "code",
   "execution_count": null,
   "metadata": {
    "collapsed": true,
    "execution": {
     "iopub.status.busy": "2024-12-17T08:46:40.624456Z",
     "iopub.status.idle": "2024-12-17T08:46:40.625029Z",
     "shell.execute_reply": "2024-12-17T08:46:40.624781Z",
     "shell.execute_reply.started": "2024-12-17T08:46:40.624752Z"
    },
    "jupyter": {
     "outputs_hidden": true,
     "source_hidden": true
    }
   },
   "outputs": [],
   "source": [
    "from sklearn.model_selection import train_test_split\n",
    "train_set, test_set = train_test_split(train_get, test_size=0.2, random_state=42, stratify=train_get.target)\n",
    "lst_freq = test_set['freq'].drop_duplicates().sort_values().values.tolist()"
   ]
  },
  {
   "cell_type": "markdown",
   "metadata": {},
   "source": [
    "Check the target distribution of target in a plotted bar. The frequency or proportion are uniform in train and test dataset"
   ]
  },
  {
   "cell_type": "code",
   "execution_count": null,
   "metadata": {
    "collapsed": true,
    "execution": {
     "iopub.status.busy": "2024-12-17T08:46:40.626475Z",
     "iopub.status.idle": "2024-12-17T08:46:40.627017Z",
     "shell.execute_reply": "2024-12-17T08:46:40.626779Z",
     "shell.execute_reply.started": "2024-12-17T08:46:40.626751Z"
    },
    "jupyter": {
     "outputs_hidden": true,
     "source_hidden": true
    }
   },
   "outputs": [],
   "source": [
    "import matplotlib.pylab as plt\n",
    "ax = train_set[['target']].value_counts().transpose().plot.bar(figsize=(8, 4), legend=False)\n",
    "ax.set_xlabel('Data Distribution of target for train dataset')\n",
    "ax.set_ylabel('Count')\n",
    "plt.tight_layout()\n",
    "plt.show()"
   ]
  },
  {
   "cell_type": "code",
   "execution_count": null,
   "metadata": {
    "collapsed": true,
    "execution": {
     "iopub.status.busy": "2024-12-17T08:46:40.628563Z",
     "iopub.status.idle": "2024-12-17T08:46:40.629359Z",
     "shell.execute_reply": "2024-12-17T08:46:40.629114Z",
     "shell.execute_reply.started": "2024-12-17T08:46:40.629085Z"
    },
    "jupyter": {
     "outputs_hidden": true,
     "source_hidden": true
    }
   },
   "outputs": [],
   "source": [
    "ax = test_set[['target']].value_counts().transpose().plot.bar(figsize=(8, 4), legend=False)\n",
    "ax.set_xlabel('Data Distribution of target for test dataset')\n",
    "ax.set_ylabel('Count')\n",
    "plt.tight_layout()\n",
    "plt.show()"
   ]
  },
  {
   "cell_type": "markdown",
   "metadata": {},
   "source": [
    " # Explore the data"
   ]
  },
  {
   "cell_type": "code",
   "execution_count": null,
   "metadata": {
    "collapsed": true,
    "execution": {
     "iopub.status.busy": "2024-12-17T08:46:40.630837Z",
     "iopub.status.idle": "2024-12-17T08:46:40.631342Z",
     "shell.execute_reply": "2024-12-17T08:46:40.631114Z",
     "shell.execute_reply.started": "2024-12-17T08:46:40.631086Z"
    },
    "jupyter": {
     "outputs_hidden": true,
     "source_hidden": true
    }
   },
   "outputs": [],
   "source": [
    "#1846044 \n",
    "train_ex = train_set.copy()\n",
    "train_ex.info()"
   ]
  },
  {
   "cell_type": "markdown",
   "metadata": {},
   "source": [
    "## Visualize one HG (mV) a one freq like time series  "
   ]
  },
  {
   "cell_type": "code",
   "execution_count": null,
   "metadata": {
    "collapsed": true,
    "execution": {
     "iopub.status.busy": "2024-12-17T08:46:40.632921Z",
     "iopub.status.idle": "2024-12-17T08:46:40.633471Z",
     "shell.execute_reply": "2024-12-17T08:46:40.633199Z",
     "shell.execute_reply.started": "2024-12-17T08:46:40.633172Z"
    },
    "jupyter": {
     "outputs_hidden": true,
     "source_hidden": true
    }
   },
   "outputs": [],
   "source": [
    "train_get.groupby([train_get['target'], train_get['num_experiment']]).count()"
   ]
  },
  {
   "cell_type": "code",
   "execution_count": null,
   "metadata": {
    "collapsed": true,
    "execution": {
     "iopub.status.busy": "2024-12-17T08:46:40.634969Z",
     "iopub.status.idle": "2024-12-17T08:46:40.635472Z",
     "shell.execute_reply": "2024-12-17T08:46:40.635235Z",
     "shell.execute_reply.started": "2024-12-17T08:46:40.635208Z"
    },
    "jupyter": {
     "outputs_hidden": true,
     "source_hidden": true
    }
   },
   "outputs": [],
   "source": [
    "Y_e1 = train_get[(train_get.target=='E1')&(train_get.freq==350.0)&(train_get.num_experiment=='e1')]['HG (mV)'].values\n",
    "Y_e2 = train_get[(train_get.target=='E1')&(train_get.freq==350.0)&(train_get.num_experiment=='e2')]['HG (mV)'].values\n",
    "Y_e4 = train_get[(train_get.target=='E1')&(train_get.freq==350.0)&(train_get.num_experiment=='e4')]['HG (mV)'].values\n",
    "df_tmp = pd.DataFrame(np.hstack((Y_e1[:2301].reshape(-1, 1),Y_e2[:2301].reshape(-1, 1),Y_e4.reshape(-1, 1))),\n",
    "                      columns=['e1', 'e2', 'e4'],\n",
    "                      index=np.arange(0, 2301, 1))"
   ]
  },
  {
   "cell_type": "code",
   "execution_count": null,
   "metadata": {
    "collapsed": true,
    "execution": {
     "iopub.status.busy": "2024-12-17T08:46:40.637480Z",
     "iopub.status.idle": "2024-12-17T08:46:40.638008Z",
     "shell.execute_reply": "2024-12-17T08:46:40.637774Z",
     "shell.execute_reply.started": "2024-12-17T08:46:40.637747Z"
    },
    "jupyter": {
     "outputs_hidden": true,
     "source_hidden": true
    }
   },
   "outputs": [],
   "source": [
    "#Y_e1 = train_get[(train_get.target=='E1')&(train_get.freq==350.0)&(train_get.num_experiment=='e1')]['HG (mV)'].values\n",
    "Y_e2 = train_get[(train_get.target=='E1')&(train_get.freq==350.0)&(train_get.num_experiment=='e2')]['HG (mV)'].values\n",
    "df_tmp = pd.DataFrame(np.hstack((Y_e1[:3138].reshape(-1, 1),Y_e2[:3138].reshape(-1, 1))),\n",
    "                      columns=['e1', 'e2'],\n",
    "                      index=np.arange(0, 3138, 1))"
   ]
  },
  {
   "cell_type": "code",
   "execution_count": null,
   "metadata": {
    "collapsed": true,
    "execution": {
     "iopub.status.busy": "2024-12-17T08:46:40.639065Z",
     "iopub.status.idle": "2024-12-17T08:46:40.639407Z",
     "shell.execute_reply": "2024-12-17T08:46:40.639266Z",
     "shell.execute_reply.started": "2024-12-17T08:46:40.639250Z"
    },
    "jupyter": {
     "outputs_hidden": true,
     "source_hidden": true
    }
   },
   "outputs": [],
   "source": [
    "_ = df_tmp.plot(figsize=(12,4), xlim = ([0,3138]), \n",
    "                ylabel = 'HG (mV)',\n",
    "                xlabel = 'Num of sample',\n",
    "                title= 'HG (mV) Plastic E1 type to 350 Ghz for three experiments' )"
   ]
  },
  {
   "cell_type": "code",
   "execution_count": null,
   "metadata": {
    "collapsed": true,
    "execution": {
     "iopub.status.busy": "2024-12-17T08:46:40.640440Z",
     "iopub.status.idle": "2024-12-17T08:46:40.640798Z",
     "shell.execute_reply": "2024-12-17T08:46:40.640631Z",
     "shell.execute_reply.started": "2024-12-17T08:46:40.640603Z"
    },
    "jupyter": {
     "outputs_hidden": true,
     "source_hidden": true
    }
   },
   "outputs": [],
   "source": [
    "train_ts_low_quan = train_ts[(train_ts.target=='E1')&(train_ts.freq==350.0)&(train_ts.num_experiment=='e1')]['HG (mV)'].quantile(0.05)\n",
    "train_ts_high_quan = train_ts[(train_ts.target=='E1')&(train_ts.freq==350.0)&(train_ts.num_experiment=='e1')]['HG (mV)'].quantile(0.95)\n",
    "train_ts_filtering = np.where(train_ts[(train_ts.target=='E1')&(train_ts.freq==350.0)&(train_ts.num_experiment=='e1')]['HG (mV)'] < train_ts_low_quan,\n",
    "                                train_ts_low_quan,\n",
    "                                train_ts[(train_ts.target=='E1')&(train_ts.freq==350.0)&(train_ts.num_experiment=='e1')]['HG (mV)'])\n",
    "\n",
    "train_ts_filtering = pd.Series(train_ts_filtering, index=train_ts[(train_ts.target=='E1')&(train_ts.freq==350.0)&(train_ts.num_experiment=='e1')]['HG (mV)'].index.to_numpy())\n",
    "train_ts_filtering = np.where(train_ts_filtering > train_ts_high_quan,\n",
    "                              train_ts_high_quan,\n",
    "                              train_ts_filtering)\n",
    "\n",
    "fig, ax = plt.subplots(figsize=(12, 4))\n",
    "ax.plot(X, train_ts_filtering)\n",
    "ax.set_ylim([380, 525])\n",
    "ax.set_title('Filtering Outliers of time series of 350 GHz to HG (mV) of plastic type E1 of Experiment 1')\n",
    "fig.show()\n"
   ]
  },
  {
   "cell_type": "markdown",
   "metadata": {
    "execution": {
     "iopub.execute_input": "2024-11-21T13:20:58.926415Z",
     "iopub.status.busy": "2024-11-21T13:20:58.925993Z",
     "iopub.status.idle": "2024-11-21T13:20:58.946829Z",
     "shell.execute_reply": "2024-11-21T13:20:58.945597Z",
     "shell.execute_reply.started": "2024-11-21T13:20:58.926379Z"
    }
   },
   "source": [
    "## Visualize distributions\n",
    "Knowledge of various sampling and data generating distributions allows us to quantify potential errors in an estimate that might be due to random variation."
   ]
  },
  {
   "cell_type": "code",
   "execution_count": null,
   "metadata": {
    "collapsed": true,
    "execution": {
     "iopub.status.busy": "2024-12-17T08:46:40.642215Z",
     "iopub.status.idle": "2024-12-17T08:46:40.642578Z",
     "shell.execute_reply": "2024-12-17T08:46:40.642427Z",
     "shell.execute_reply.started": "2024-12-17T08:46:40.642406Z"
    },
    "jupyter": {
     "outputs_hidden": true,
     "source_hidden": true
    }
   },
   "outputs": [],
   "source": [
    "train_ex = train_ex.astype({\"freq\": int,})\n",
    "train_ex.info()\n"
   ]
  },
  {
   "cell_type": "code",
   "execution_count": null,
   "metadata": {
    "collapsed": true,
    "execution": {
     "iopub.status.busy": "2024-12-17T08:46:40.643876Z",
     "iopub.status.idle": "2024-12-17T08:46:40.644226Z",
     "shell.execute_reply": "2024-12-17T08:46:40.644079Z",
     "shell.execute_reply.started": "2024-12-17T08:46:40.644060Z"
    },
    "jupyter": {
     "outputs_hidden": true,
     "source_hidden": true
    }
   },
   "outputs": [],
   "source": [
    "import seaborn as sns\n",
    "import warnings\n",
    "warnings.filterwarnings('ignore')\n",
    "\n",
    "for f in train_ex['freq'].value_counts().index.sort_values().tolist():\n",
    "    freq = f\n",
    "    ncols = 2\n",
    "    nrows = 2\n",
    "    nums_plastics = 0\n",
    "    \n",
    "    fig, axes = plt.subplots(nrows, ncols, figsize=(12, 8))\n",
    "    for r in range(nrows):\n",
    "        for c in range (ncols):\n",
    "            t = train_ex['target'].value_counts().index.sort_values().tolist()\n",
    "            df_tmp = train_ex[(train_ex.freq == freq) & (train_ex.target == t[nums_plastics])]\n",
    "            sns.kdeplot(x=df_tmp['LG (mV)'], ax=axes[r, c], color='#F8766D', label='LG (mV)',  fill =True )\n",
    "            sns.kdeplot(x=df_tmp['HG (mV)'], ax=axes[r, c], color='#00BFC4', label='HG (mV)',  fill =True )\n",
    "            axes[r ,c].legend(fontsize=\"xx-small\")\n",
    "            axes[r, c].set_ylabel('')\n",
    "            axes[r, c].set_xlabel('')\n",
    "            axes[r, c].set_title(f\"Type {t[nums_plastics]} (mV)\",fontsize=7)\n",
    "            axes[r, c].tick_params(labelsize=5, width=0.5)\n",
    "            axes[r, c].xaxis.offsetText.set_fontsize(6)\n",
    "            axes[r, c].yaxis.offsetText.set_fontsize(4)\n",
    "            nums_plastics = nums_plastics +1\n",
    "    plt.suptitle(f\"All samples. Distribution of LG (mV) and HG (mV) of each plastic to {freq} Ghz\", y=0.93,fontsize=10)\n",
    "    plt.show()        "
   ]
  },
  {
   "cell_type": "markdown",
   "metadata": {},
   "source": [
    "## Study Type of distribution to one frecuency"
   ]
  },
  {
   "cell_type": "code",
   "execution_count": null,
   "metadata": {
    "collapsed": true,
    "execution": {
     "iopub.status.busy": "2024-12-17T08:46:40.645299Z",
     "iopub.status.idle": "2024-12-17T08:46:40.645633Z",
     "shell.execute_reply": "2024-12-17T08:46:40.645490Z",
     "shell.execute_reply.started": "2024-12-17T08:46:40.645473Z"
    },
    "jupyter": {
     "outputs_hidden": true,
     "source_hidden": true
    }
   },
   "outputs": [],
   "source": [
    "for f in [320]:\n",
    "    freq = f\n",
    "    ncols = 5\n",
    "    nrows = 3\n",
    "    nums_plastics = 0\n",
    "    \n",
    "    fig, axes = plt.subplots(nrows, ncols, figsize=(12, 8))\n",
    "    for r in range(nrows):\n",
    "        for c in range (ncols):\n",
    "            t = train_ex['target'].value_counts().index.sort_values().tolist()\n",
    "            df_tmp = train_ex[(train_ex.freq == freq) & (train_ex.target == t[nums_plastics])]\n",
    "            sns.kdeplot(x=df_tmp['LG (mV)'], ax=axes[r, c], color='#F8766D', label='LG (mV)',  fill =True )\n",
    "            sns.kdeplot(x=df_tmp['HG (mV)'], ax=axes[r, c], color='#00BFC4', label='HG (mV)',  fill =True )\n",
    "            axes[r, c].legend(fontsize=\"xx-small\")\n",
    "            axes[r, c].set_ylabel('')\n",
    "            axes[r, c].set_xlabel('')\n",
    "            axes[r, c].set_title(f\"Type {t[nums_plastics]} (mV)\",fontsize=7)\n",
    "            axes[r, c].tick_params(labelsize=5, width=0.5)\n",
    "            axes[r, c].xaxis.offsetText.set_fontsize(6)\n",
    "            axes[r, c].yaxis.offsetText.set_fontsize(4)\n",
    "            nums_plastics = nums_plastics +1\n",
    "    plt.suptitle(f\"Distributions of density estimation to {freq} Ghz\", y=0.93,fontsize=10)\n",
    "    plt.show()   "
   ]
  },
  {
   "cell_type": "markdown",
   "metadata": {},
   "source": [
    "#### Summary of the numerical attributes\n",
    "Compute mean of groups"
   ]
  },
  {
   "cell_type": "code",
   "execution_count": null,
   "metadata": {
    "collapsed": true,
    "execution": {
     "iopub.status.busy": "2024-12-17T08:46:40.646607Z",
     "iopub.status.idle": "2024-12-17T08:46:40.647006Z",
     "shell.execute_reply": "2024-12-17T08:46:40.646854Z",
     "shell.execute_reply.started": "2024-12-17T08:46:40.646835Z"
    },
    "jupyter": {
     "outputs_hidden": true,
     "source_hidden": true
    }
   },
   "outputs": [],
   "source": [
    "\n",
    "df_tmp = train_ex[(train_ex.freq == freq)]\n",
    "grouped = df_tmp['HG (mV)'].groupby(df_tmp['target'])\n",
    "\n",
    "ax = grouped.mean().plot.bar(figsize=(8, 4), legend=False)\n",
    "plt.suptitle(f'Mean (mV) by HG filter of each plastic to {freq} Ghz')\n",
    "ax.set_xlabel(f'Type of plastic')\n",
    "ax.set_ylabel('mV')\n",
    "plt.tight_layout()\n",
    "plt.show()\n"
   ]
  },
  {
   "cell_type": "code",
   "execution_count": null,
   "metadata": {
    "collapsed": true,
    "execution": {
     "iopub.status.busy": "2024-12-17T08:46:40.648556Z",
     "iopub.status.idle": "2024-12-17T08:46:40.648938Z",
     "shell.execute_reply": "2024-12-17T08:46:40.648783Z",
     "shell.execute_reply.started": "2024-12-17T08:46:40.648764Z"
    },
    "jupyter": {
     "outputs_hidden": true,
     "source_hidden": true
    }
   },
   "outputs": [],
   "source": [
    "\n",
    "df_tmp = train_ex[(train_ex.freq == freq)]\n",
    "grouped = df_tmp['LG (mV)'].groupby(df_tmp['target'])\n",
    "\n",
    "ax = grouped.mean().plot.bar(figsize=(8, 4), legend=False)\n",
    "plt.suptitle(f'Mean (mV) by LG filter of each plastic to {freq} Ghz')\n",
    "ax.set_xlabel(f'Type of plastic')\n",
    "ax.set_ylabel('mV')\n",
    "plt.tight_layout()\n",
    "plt.show()\n"
   ]
  },
  {
   "cell_type": "code",
   "execution_count": null,
   "metadata": {
    "collapsed": true,
    "execution": {
     "iopub.status.busy": "2024-12-17T08:46:40.649907Z",
     "iopub.status.idle": "2024-12-17T08:46:40.650223Z",
     "shell.execute_reply": "2024-12-17T08:46:40.650083Z",
     "shell.execute_reply.started": "2024-12-17T08:46:40.650067Z"
    },
    "jupyter": {
     "outputs_hidden": true,
     "source_hidden": true
    }
   },
   "outputs": [],
   "source": [
    "ax = grouped.std().plot.bar(figsize=(8, 4), legend=False)\n",
    "plt.suptitle(f'Standard deviation (mV) by LG filter of each plastic to {freq} Ghz')\n",
    "ax.set_xlabel(f'Type of plastic')\n",
    "ax.set_ylabel('mV')\n",
    "plt.tight_layout()\n",
    "plt.show()"
   ]
  },
  {
   "cell_type": "markdown",
   "metadata": {},
   "source": [
    "**Insights**: Assuming a normal distribution can lead to underestimation of extreme events "
   ]
  },
  {
   "cell_type": "markdown",
   "metadata": {},
   "source": [
    "#### Predicts that anamolous measures\n",
    "The tails of a distribution correspond to the extreme values (small and large). Long tails, and guarding against them, are widely recognized in practical work. Nassim Taleb has proposed the black swan theory, which predicts that anamolous events, such as a stock market crash, are much more likely to occur than would be predicted by the normal distribution. "
   ]
  },
  {
   "cell_type": "code",
   "execution_count": null,
   "metadata": {
    "collapsed": true,
    "execution": {
     "iopub.status.busy": "2024-12-17T08:46:40.651413Z",
     "iopub.status.idle": "2024-12-17T08:46:40.651766Z",
     "shell.execute_reply": "2024-12-17T08:46:40.651587Z",
     "shell.execute_reply.started": "2024-12-17T08:46:40.651570Z"
    },
    "jupyter": {
     "outputs_hidden": true,
     "source_hidden": true
    }
   },
   "outputs": [],
   "source": [
    "from scipy import stats\n",
    "temp_t = t[13]\n",
    "fig, ax = plt.subplots(figsize=(4, 4))\n",
    "df_tmp = train_ex[(train_ex.freq == freq) & (train_ex.target == temp_t)]\n",
    "#stats.probplot(df_tmp['LG (mV)'], plot=ax)\n",
    "stats.probplot(df_tmp['LG (mV)'], plot=ax)\n",
    "\n",
    "plt.suptitle(f\"Sample of {temp_t} data against the quantiles of a specified theoretical distribution {freq} Ghz\", y=0.93,fontsize=10)\n",
    "plt.tight_layout()\n",
    "plt.show()\n"
   ]
  },
  {
   "cell_type": "markdown",
   "metadata": {},
   "source": [
    "**Insights**: The points are far below the line for low values and far \n",
    "above the line for high value. Theree are much more likely t \n",
    "observe extreme values than would be expected if the data had a norm l\n",
    "distribution"
   ]
  },
  {
   "cell_type": "markdown",
   "metadata": {},
   "source": [
    "## Promising transformations you may want to apply\n",
    "### Apply OrdinalEncoder to transform categorical features as an integer\n",
    "Target variable takes only a limited number of values. Encode target (categorical features) as an integer array.  \n",
    "**Question**: How does doing this in the previous phase (Convert the data to a format you can easily manipulate) affect the classifier?"
   ]
  },
  {
   "cell_type": "code",
   "execution_count": null,
   "metadata": {
    "collapsed": true,
    "execution": {
     "iopub.status.busy": "2024-12-17T08:46:40.653075Z",
     "iopub.status.idle": "2024-12-17T08:46:40.653428Z",
     "shell.execute_reply": "2024-12-17T08:46:40.653250Z",
     "shell.execute_reply.started": "2024-12-17T08:46:40.653233Z"
    },
    "jupyter": {
     "outputs_hidden": true,
     "source_hidden": true
    }
   },
   "outputs": [],
   "source": [
    "from sklearn.preprocessing import OrdinalEncoder\n",
    "label_train_ex = train_ex.copy()\n",
    "ordinal_encoder = OrdinalEncoder()\n",
    "label_train_ex['target'] = ordinal_encoder.fit_transform(train_ex[['target']])"
   ]
  },
  {
   "cell_type": "markdown",
   "metadata": {},
   "source": [
    "### % of missing values\n",
    "No missing values in each column of training data"
   ]
  },
  {
   "cell_type": "code",
   "execution_count": null,
   "metadata": {
    "collapsed": true,
    "execution": {
     "iopub.status.busy": "2024-12-17T08:46:40.654812Z",
     "iopub.status.idle": "2024-12-17T08:46:40.655309Z",
     "shell.execute_reply": "2024-12-17T08:46:40.655073Z",
     "shell.execute_reply.started": "2024-12-17T08:46:40.655047Z"
    },
    "jupyter": {
     "outputs_hidden": true,
     "source_hidden": true
    }
   },
   "outputs": [],
   "source": [
    "print(label_train_ex.shape)\n",
    "missing_val_count_by_column = (label_train_ex.isnull().sum())\n",
    "print(missing_val_count_by_column[missing_val_count_by_column > 0])"
   ]
  },
  {
   "cell_type": "markdown",
   "metadata": {},
   "source": [
    "### Type of distribution in frecuency\n",
    "Representation of the distribution of nums of sample by frecuency. "
   ]
  },
  {
   "cell_type": "code",
   "execution_count": null,
   "metadata": {
    "collapsed": true,
    "execution": {
     "iopub.status.busy": "2024-12-17T08:46:40.656569Z",
     "iopub.status.idle": "2024-12-17T08:46:40.657093Z",
     "shell.execute_reply": "2024-12-17T08:46:40.656857Z",
     "shell.execute_reply.started": "2024-12-17T08:46:40.656831Z"
    },
    "jupyter": {
     "outputs_hidden": true,
     "source_hidden": true
    }
   },
   "outputs": [],
   "source": [
    "ax = label_train_ex['freq'].plot.hist(figsize=(10, 4), bins=408)\n",
    "ax.set_xlabel('Frequency (GHz)')\n",
    "ax.set_ylabel('Nums of sample by frecuency')\n",
    "plt.tight_layout()\n",
    "plt.show()"
   ]
  },
  {
   "cell_type": "markdown",
   "metadata": {},
   "source": [
    "### Balanced samples of frecuency by min"
   ]
  },
  {
   "cell_type": "code",
   "execution_count": null,
   "metadata": {
    "collapsed": true,
    "execution": {
     "iopub.status.busy": "2024-12-17T08:46:40.659382Z",
     "iopub.status.idle": "2024-12-17T08:46:40.659930Z",
     "shell.execute_reply": "2024-12-17T08:46:40.659662Z",
     "shell.execute_reply.started": "2024-12-17T08:46:40.659636Z"
    },
    "jupyter": {
     "outputs_hidden": true,
     "source_hidden": true
    }
   },
   "outputs": [],
   "source": [
    "min = label_train_ex.groupby(['target', 'freq']).size().min()\n",
    "# Function to reduce samples to the min value\n",
    "def reduce_to_min(df, target, frequency, min):\n",
    "    # Filter the DataFrame for the specific sample and frequency\n",
    "    freq_df = df[(df['target'] == target) & (df['freq'] == frequency)]\n",
    "    # If the number of samples is greater than the min, sample down to the min\n",
    "    return freq_df.sample(n=min, random_state=42)\n",
    "\n",
    "# Apply the function to reduce target for each combination of Sample and Frequency (GHz)\n",
    "tmp_balanced_data = []\n",
    "for (target, frequency), group in label_train_ex.groupby(['target', 'freq']):\n",
    "    tmp_balanced_data.append(reduce_to_min(label_train_ex, target, frequency, min))\n",
    "\n",
    "# Combine the balanced samples into a single DataFrame\n",
    "balanced_train_ex = pd.concat(tmp_balanced_data)"
   ]
  },
  {
   "cell_type": "markdown",
   "metadata": {},
   "source": [
    "Check count values within each target and frequency"
   ]
  },
  {
   "cell_type": "code",
   "execution_count": null,
   "metadata": {
    "collapsed": true,
    "execution": {
     "iopub.status.busy": "2024-12-17T08:46:40.661089Z",
     "iopub.status.idle": "2024-12-17T08:46:40.661424Z",
     "shell.execute_reply": "2024-12-17T08:46:40.661271Z",
     "shell.execute_reply.started": "2024-12-17T08:46:40.661255Z"
    },
    "jupyter": {
     "outputs_hidden": true,
     "source_hidden": true
    }
   },
   "outputs": [],
   "source": [
    "ax = balanced_train_ex['freq'].plot.hist(figsize=(10, 4), bins=408)\n",
    "ax.set_xlabel('Frequency (GHz)')\n",
    "ax.set_ylabel('Nums of sample by frecuency')\n",
    "ax.set_title('Distribution by minmial')\n",
    "plt.tight_layout()\n",
    "plt.show()"
   ]
  },
  {
   "cell_type": "code",
   "execution_count": null,
   "metadata": {
    "collapsed": true,
    "execution": {
     "iopub.status.busy": "2024-12-17T08:46:40.662523Z",
     "iopub.status.idle": "2024-12-17T08:46:40.662928Z",
     "shell.execute_reply": "2024-12-17T08:46:40.662761Z",
     "shell.execute_reply.started": "2024-12-17T08:46:40.662741Z"
    },
    "jupyter": {
     "outputs_hidden": true,
     "source_hidden": true
    }
   },
   "outputs": [],
   "source": [
    "balanced_train_ex.head() # 301200"
   ]
  },
  {
   "cell_type": "code",
   "execution_count": null,
   "metadata": {
    "collapsed": true,
    "execution": {
     "iopub.status.busy": "2024-12-17T08:46:40.664989Z",
     "iopub.status.idle": "2024-12-17T08:46:40.665321Z",
     "shell.execute_reply": "2024-12-17T08:46:40.665179Z",
     "shell.execute_reply.started": "2024-12-17T08:46:40.665162Z"
    },
    "jupyter": {
     "outputs_hidden": true,
     "source_hidden": true
    }
   },
   "outputs": [],
   "source": [
    "#grouped = balanced_train_ex.groupby([balanced_train_ex[\"target\"], balanced_train_ex[\"freq\"]]).count()"
   ]
  },
  {
   "cell_type": "markdown",
   "metadata": {},
   "source": [
    "**Doubts**: \n",
    "* There are several targets with samples below of mode, i.e: 100.0 Ghz, 130.0 Ghz. How affect `Thickness (mm)` attribute to study."
   ]
  },
  {
   "cell_type": "markdown",
   "metadata": {},
   "source": [
    " ## Study the correlations between attributes"
   ]
  },
  {
   "cell_type": "markdown",
   "metadata": {},
   "source": [
    "Encodes target labels with values between 0 and ``n_classes-1, so `A1` are `0`, `B1` are `1`,... and so on all categories\n",
    "\n",
    "`A1`, `B1`, `C1`, `D1`, `E1`, `E2`, `E3`, `F1`, `G1`, `H1`, `I1`, `J1`, `K1`, `L1`, `M1`, `N1`, `REF`"
   ]
  },
  {
   "cell_type": "code",
   "execution_count": null,
   "metadata": {
    "collapsed": true,
    "execution": {
     "iopub.status.busy": "2024-12-17T08:46:40.666402Z",
     "iopub.status.idle": "2024-12-17T08:46:40.666800Z",
     "shell.execute_reply": "2024-12-17T08:46:40.666614Z",
     "shell.execute_reply.started": "2024-12-17T08:46:40.666587Z"
    },
    "jupyter": {
     "outputs_hidden": true,
     "source_hidden": true
    }
   },
   "outputs": [],
   "source": [
    "balanced_train_ex.head()"
   ]
  },
  {
   "cell_type": "markdown",
   "metadata": {},
   "source": [
    "It is start to analice PE/tie/EVOH/tie/PE/Adhesivo/PE/tie/EVOH/tie/PE (0.2mm) `A1` category `0`"
   ]
  },
  {
   "cell_type": "code",
   "execution_count": null,
   "metadata": {
    "collapsed": true,
    "execution": {
     "iopub.status.busy": "2024-12-17T08:46:40.668416Z",
     "iopub.status.idle": "2024-12-17T08:46:40.668866Z",
     "shell.execute_reply": "2024-12-17T08:46:40.668653Z",
     "shell.execute_reply.started": "2024-12-17T08:46:40.668634Z"
    },
    "jupyter": {
     "outputs_hidden": true,
     "source_hidden": true
    }
   },
   "outputs": [],
   "source": [
    "df_tmp = balanced_train_ex[balanced_train_ex.target==0]\n",
    "\n",
    "from pandas.plotting import scatter_matrix\n",
    "attributes = ['freq', 'LG (mV)', 'HG (mV)']\n",
    "ax = scatter_matrix(df_tmp[attributes], figsize=(12, 8))"
   ]
  },
  {
   "cell_type": "markdown",
   "metadata": {},
   "source": [
    "**Insights**: The correlation coefficient ranges from –1 to 1. When it is close to 1, it means that there is a strong positive correlation; for example, the `HG (mV)` value tends to go up slightly when the `Frequency (GHz)` goes up. When the coefficient is close to –1, it means that there is a strong negative correlation; you can see a big negative correlation between `LG (mV)` and the `Frequency (GHz)` \n",
    "\n",
    "**Evidende**: It can be interpreted that to measured plastic PE/tie/EVOH/tie/PE/Adhesivo/PE/tie/EVOH/tie/PE (0.2mm) `A1` category `0` getaworse response to since high frecuencies in the `LG (mV)`. So the measurement obtained in the low-pass filter is lower `LG (mV)` is better to low frecuencies, although it obtains response peaks at 600 GHz that would have to be explained why they occur\n",
    "\n",
    "\n",
    "7oat64"
   ]
  },
  {
   "cell_type": "code",
   "execution_count": null,
   "metadata": {
    "collapsed": true,
    "execution": {
     "iopub.status.busy": "2024-12-17T08:46:40.669865Z",
     "iopub.status.idle": "2024-12-17T08:46:40.670179Z",
     "shell.execute_reply": "2024-12-17T08:46:40.670042Z",
     "shell.execute_reply.started": "2024-12-17T08:46:40.670026Z"
    },
    "jupyter": {
     "outputs_hidden": true,
     "source_hidden": true
    }
   },
   "outputs": [],
   "source": [
    "corr_matrix = df_tmp.corr()\n",
    "corr_matrix['freq'].sort_values(ascending=False)"
   ]
  },
  {
   "cell_type": "markdown",
   "metadata": {},
   "source": [
    "# Prepare the data to better expose the underlying data patterns"
   ]
  },
  {
   "cell_type": "code",
   "execution_count": null,
   "metadata": {
    "collapsed": true,
    "execution": {
     "iopub.status.busy": "2024-12-17T08:46:40.671543Z",
     "iopub.status.idle": "2024-12-17T08:46:40.671938Z",
     "shell.execute_reply": "2024-12-17T08:46:40.671784Z",
     "shell.execute_reply.started": "2024-12-17T08:46:40.671765Z"
    },
    "jupyter": {
     "outputs_hidden": true,
     "source_hidden": true
    }
   },
   "outputs": [],
   "source": [
    "#from 1846044 to 845988 to apply balanced target samples by min\n",
    "train_pr = balanced_train_ex.copy() \n",
    "train_pr.info()\n"
   ]
  },
  {
   "cell_type": "markdown",
   "metadata": {},
   "source": [
    "## Data Clean: Remove outliers"
   ]
  },
  {
   "cell_type": "code",
   "execution_count": null,
   "metadata": {
    "collapsed": true,
    "execution": {
     "iopub.status.busy": "2024-12-17T08:46:40.673084Z",
     "iopub.status.idle": "2024-12-17T08:46:40.673452Z",
     "shell.execute_reply": "2024-12-17T08:46:40.673284Z",
     "shell.execute_reply.started": "2024-12-17T08:46:40.673266Z"
    },
    "jupyter": {
     "outputs_hidden": true,
     "source_hidden": true
    }
   },
   "outputs": [],
   "source": [
    "train_ts_low_quan = train_ts[(train_ts.target=='E1')&(train_ts.freq==350.0)]['HG (mV)'].quantile(0.05)\n",
    "train_ts_high_quan = train_ts[(train_ts.target=='E1')&(train_ts.freq==350.0)]['HG (mV)'].quantile(0.95)\n",
    "train_ts_filtering = np.where(train_ts[(train_ts.target=='E1')&(train_ts.freq==350.0)]['HG (mV)'] < train_ts_low_quan,\n",
    "                                train_ts_low_quan,\n",
    "                                train_ts[(train_ts.target=='E1')&(train_ts.freq==350.0)]['HG (mV)'])\n",
    "\n",
    "train_ts_filtering = pd.Series(train_ts_filtering, index=train_ts[(train_ts.target=='E1')&(train_ts.freq==350.0)]['HG (mV)'].index.to_numpy())\n",
    "train_ts_filtering = np.where(train_ts_filtering > train_ts_high_quan,\n",
    "                              train_ts_high_quan,\n",
    "                              train_ts_filtering)\n",
    "\n",
    "fig, ax = plt.subplots(figsize=(12, 4))\n",
    "ax.plot(X, train_ts_filtering)\n",
    "ax.set_ylim([380, 525])\n",
    "ax.set_title(' Filtering Outliers of time series of 350 GHz to HG (mV) of plastic type E1')\n",
    "fig.show()\n"
   ]
  },
  {
   "cell_type": "markdown",
   "metadata": {},
   "source": [
    "## Feature engineering\n",
    "### Add promising transformations of features"
   ]
  },
  {
   "cell_type": "code",
   "execution_count": null,
   "metadata": {
    "collapsed": true,
    "execution": {
     "iopub.status.busy": "2024-12-17T08:46:40.674685Z",
     "iopub.status.idle": "2024-12-17T08:46:40.675041Z",
     "shell.execute_reply": "2024-12-17T08:46:40.674898Z",
     "shell.execute_reply.started": "2024-12-17T08:46:40.674880Z"
    },
    "jupyter": {
     "outputs_hidden": true,
     "source_hidden": true
    }
   },
   "outputs": [],
   "source": [
    "train_pr = train_pr.astype({\"freq\": int, \"target\": int})\n",
    "\n",
    "#https://stackoverflow.com/questions/43131715/pandas-new-column-by-combining-numbers-of-two-columns-as-strings\n",
    "train_pr['freq_target'] = train_pr['freq'].astype(str) + train_pr['target'].astype(str)\n",
    "train_pr['freq_target'].nunique() # train_pr['freq'].nunique() * train_pr['target'].nunique() 765 different measures\n",
    "\n"
   ]
  },
  {
   "cell_type": "code",
   "execution_count": null,
   "metadata": {
    "collapsed": true,
    "execution": {
     "iopub.status.busy": "2024-12-17T08:46:40.676497Z",
     "iopub.status.idle": "2024-12-17T08:46:40.677011Z",
     "shell.execute_reply": "2024-12-17T08:46:40.676777Z",
     "shell.execute_reply.started": "2024-12-17T08:46:40.676750Z"
    },
    "jupyter": {
     "outputs_hidden": true,
     "source_hidden": true
    }
   },
   "outputs": [],
   "source": [
    "train_pr['freq_target'] = train_pr['freq_target'].astype(int)\n",
    "#train_pr = train_pr.rename(columns = {'freq':'Frequency (GHz)'})\n",
    "\n",
    "train_pr.info()"
   ]
  },
  {
   "cell_type": "markdown",
   "metadata": {},
   "source": [
    "**Doubts**: Normalize freq_target?"
   ]
  },
  {
   "cell_type": "markdown",
   "metadata": {
    "execution": {
     "iopub.execute_input": "2024-11-19T15:17:22.572851Z",
     "iopub.status.busy": "2024-11-19T15:17:22.572362Z",
     "iopub.status.idle": "2024-11-19T15:17:22.584825Z",
     "shell.execute_reply": "2024-11-19T15:17:22.583708Z",
     "shell.execute_reply.started": "2024-11-19T15:17:22.572802Z"
    }
   },
   "source": [
    "## Add transformations of features"
   ]
  },
  {
   "cell_type": "markdown",
   "metadata": {},
   "source": [
    "#### Check smallest, largest, and zeros before to aggregate new features"
   ]
  },
  {
   "cell_type": "code",
   "execution_count": null,
   "metadata": {
    "collapsed": true,
    "execution": {
     "iopub.status.busy": "2024-12-17T08:46:40.678201Z",
     "iopub.status.idle": "2024-12-17T08:46:40.678717Z",
     "shell.execute_reply": "2024-12-17T08:46:40.678465Z",
     "shell.execute_reply.started": "2024-12-17T08:46:40.678428Z"
    },
    "jupyter": {
     "outputs_hidden": true,
     "source_hidden": true
    }
   },
   "outputs": [],
   "source": [
    "#Find out if zeros before to Aggregate features\n",
    "df_temp = train_pr.rename(columns={'LG (mV)': 'LG_mV','HG (mV)': 'HG_mV' })\n",
    "df_temp[df_temp.LG_mV==0] # 55657 zeros\n",
    "df_temp[df_temp.HG_mV==0] # 15316 zeros"
   ]
  },
  {
   "cell_type": "code",
   "execution_count": null,
   "metadata": {
    "collapsed": true,
    "execution": {
     "iopub.status.busy": "2024-12-17T08:46:40.680430Z",
     "iopub.status.idle": "2024-12-17T08:46:40.680982Z",
     "shell.execute_reply": "2024-12-17T08:46:40.680730Z",
     "shell.execute_reply.started": "2024-12-17T08:46:40.680681Z"
    },
    "jupyter": {
     "outputs_hidden": true,
     "source_hidden": true
    }
   },
   "outputs": [],
   "source": [
    "train_pr.nsmallest(1,'LG (mV)')['LG (mV)'].values[0] # -49.810767\t\n",
    "train_pr.nsmallest(1,'HG (mV)')['HG (mV)'].values[0] # -16.969845\n",
    "train_pr.nlargest(1,'LG (mV)')['LG (mV)'].values[0] # 274.813829\t\n",
    "train_pr.nlargest(1,'HG (mV)')['HG (mV)'].values[0] # 1149.43229\n"
   ]
  },
  {
   "cell_type": "markdown",
   "metadata": {},
   "source": [
    "Slide all values to remove zeros and Aggregate features into promising new features"
   ]
  },
  {
   "cell_type": "code",
   "execution_count": null,
   "metadata": {
    "collapsed": true,
    "execution": {
     "iopub.status.busy": "2024-12-17T08:46:40.682366Z",
     "iopub.status.idle": "2024-12-17T08:46:40.682884Z",
     "shell.execute_reply": "2024-12-17T08:46:40.682632Z",
     "shell.execute_reply.started": "2024-12-17T08:46:40.682606Z"
    },
    "jupyter": {
     "outputs_hidden": true,
     "source_hidden": true
    }
   },
   "outputs": [],
   "source": [
    "train_pr.nsmallest(1,'HG_div_LG')['HG_div_LG'].values[0] # 0.264913931\n",
    "train_pr.nlargest(1,'HG_div_LG')['HG_div_LG'].values[0] # 12.45292894\n"
   ]
  },
  {
   "cell_type": "markdown",
   "metadata": {},
   "source": [
    "#### Aggregate features into promising new features: HG_div_LG"
   ]
  },
  {
   "cell_type": "code",
   "execution_count": null,
   "metadata": {
    "collapsed": true,
    "execution": {
     "iopub.status.busy": "2024-12-17T08:46:40.684516Z",
     "iopub.status.idle": "2024-12-17T08:46:40.685026Z",
     "shell.execute_reply": "2024-12-17T08:46:40.684796Z",
     "shell.execute_reply.started": "2024-12-17T08:46:40.684769Z"
    },
    "jupyter": {
     "outputs_hidden": true,
     "source_hidden": true
    }
   },
   "outputs": [],
   "source": [
    "train_pr['LG (mV)_shifted'] = train_pr['LG (mV)'].apply(lambda x: np.sum([x, 100]))\n",
    "train_pr['HG (mV)_shifted'] = train_pr['HG (mV)'].apply(lambda x: np.sum([x, 100]))\n",
    "train_pr['HG_div_LG'] = train_pr['HG (mV)_shifted']/train_pr['LG (mV)_shifted']\n",
    "train_pr.info()"
   ]
  },
  {
   "cell_type": "markdown",
   "metadata": {},
   "source": [
    "#### Aggregate features into promising new features: descriptive statistics for each freq"
   ]
  },
  {
   "cell_type": "code",
   "execution_count": null,
   "metadata": {
    "collapsed": true,
    "execution": {
     "iopub.status.busy": "2024-12-17T08:46:40.687326Z",
     "iopub.status.idle": "2024-12-17T08:46:40.687854Z",
     "shell.execute_reply": "2024-12-17T08:46:40.687594Z",
     "shell.execute_reply.started": "2024-12-17T08:46:40.687568Z"
    },
    "jupyter": {
     "outputs_hidden": true,
     "source_hidden": true
    }
   },
   "outputs": [],
   "source": [
    "grouped = train_pr.groupby(train_pr[\"freq\"])\n",
    "grouped_LG_mV = grouped['LG (mV)']\n",
    "grouped_HG_mV = grouped['HG (mV)']\n",
    "# https://stackoverflow.com/questions/32938060/reverting-from-multiindex-to-single-index-dataframe-in-pandas\n",
    "df_grouped_LG_mV = grouped_LG_mV.agg(['mean','std','var','median']).reset_index(level=[0])\n",
    "df_grouped_HG_mV = grouped_HG_mV.agg(['mean','std','var','median']).reset_index(level=[0])\n",
    "\n",
    "df_grouped_LG_mV.head()"
   ]
  },
  {
   "cell_type": "code",
   "execution_count": null,
   "metadata": {
    "collapsed": true,
    "execution": {
     "iopub.status.busy": "2024-12-17T08:46:40.689125Z",
     "iopub.status.idle": "2024-12-17T08:46:40.689633Z",
     "shell.execute_reply": "2024-12-17T08:46:40.689384Z",
     "shell.execute_reply.started": "2024-12-17T08:46:40.689358Z"
    },
    "jupyter": {
     "outputs_hidden": true,
     "source_hidden": true
    }
   },
   "outputs": [],
   "source": [
    "train_pr_shifted = train_pr.copy()\n",
    "train_pr_shifted = train_pr.drop(columns=['LG (mV)_shifted', 'HG (mV)_shifted'])\n",
    "train_pr_shifted.head()\n"
   ]
  },
  {
   "cell_type": "code",
   "execution_count": null,
   "metadata": {
    "collapsed": true,
    "execution": {
     "iopub.status.busy": "2024-12-17T08:46:40.690715Z",
     "iopub.status.idle": "2024-12-17T08:46:40.691209Z",
     "shell.execute_reply": "2024-12-17T08:46:40.690977Z",
     "shell.execute_reply.started": "2024-12-17T08:46:40.690950Z"
    },
    "jupyter": {
     "outputs_hidden": true,
     "source_hidden": true
    }
   },
   "outputs": [],
   "source": [
    "train_pr_stats = pd.merge(train_pr_shifted, df_grouped_LG_mV, how='left', on='freq').rename(columns = {'mean':'mean_LG',\n",
    "                                                                                                       'std':'std_LG',\n",
    "                                                                                                       'var':'var_LG',\n",
    "                                                                                                       'median':'median_LG'})\n",
    "train_pr_stats = pd.merge(train_pr_stats, df_grouped_HG_mV, how='left', on='freq').rename(columns = {'mean':'mean_HG', \n",
    "                                                                                                     'std': 'std_HG',\n",
    "                                                                                                     'var':'var_HG',\n",
    "                                                                                                     'median':'median_HG'})\n"
   ]
  },
  {
   "cell_type": "code",
   "execution_count": null,
   "metadata": {
    "collapsed": true,
    "execution": {
     "iopub.status.busy": "2024-12-17T08:46:40.692790Z",
     "iopub.status.idle": "2024-12-17T08:46:40.693298Z",
     "shell.execute_reply": "2024-12-17T08:46:40.693062Z",
     "shell.execute_reply.started": "2024-12-17T08:46:40.693036Z"
    },
    "jupyter": {
     "outputs_hidden": true,
     "source_hidden": true
    }
   },
   "outputs": [],
   "source": [
    "#train_pr_stats.tail()\n",
    "train_pr_stats.info()"
   ]
  },
  {
   "cell_type": "markdown",
   "metadata": {},
   "source": [
    "#### Aggregate features into promising new features: LG_div_REF and HG_div_REF"
   ]
  },
  {
   "cell_type": "code",
   "execution_count": null,
   "metadata": {
    "collapsed": true,
    "execution": {
     "iopub.status.busy": "2024-12-17T08:46:40.694641Z",
     "iopub.status.idle": "2024-12-17T08:46:40.695155Z",
     "shell.execute_reply": "2024-12-17T08:46:40.694924Z",
     "shell.execute_reply.started": "2024-12-17T08:46:40.694898Z"
    },
    "jupyter": {
     "outputs_hidden": true,
     "source_hidden": true
    }
   },
   "outputs": [],
   "source": [
    "grouped_B1 = train_pr_stats[train_pr_stats.target == 0.0].groupby(train_pr_stats[train_pr_stats.target == 0.0]['freq'])\n",
    "df_mean_B1 = grouped_B1['LG (mV)'].agg('mean')\n",
    "grouped_C1 = train_pr_stats[train_pr_stats.target == 1.0].groupby(train_pr_stats[train_pr_stats.target == 1.0]['freq'])\n",
    "df_mean_C1 = grouped_C1['LG (mV)'].agg('mean')\n",
    "grouped_E1 = train_pr_stats[train_pr_stats.target == 2.0].groupby(train_pr_stats[train_pr_stats.target == 2.0]['freq'])\n",
    "df_mean_E1 = grouped_E1['LG (mV)'].agg('mean')\n",
    "grouped_ref = train_pr_stats[train_pr_stats.target == 3.0].groupby(train_pr_stats[train_pr_stats.target == 3.0]['freq'])\n",
    "df_mean_ref = grouped_ref['LG (mV)'].agg('mean')\n",
    "\n",
    "df_LG_div_REF = pd.DataFrame(\n",
    "    {\"LG_B1_div_REF\": df_mean_B1.values/df_mean_ref.values,\n",
    "     \"LG_C1_div_REF\": df_mean_C1.values/df_mean_ref.values,\n",
    "     \"LG_E1_div_REF\": df_mean_E1.values/df_mean_ref.values},\n",
    "    index = df_mean_ref.index)\n",
    "\n",
    "grouped_B1 = train_pr_stats[train_pr_stats.target == 0.0].groupby(train_pr_stats[train_pr_stats.target == 0.0]['freq'])\n",
    "df_mean_B1 = grouped_B1['HG (mV)'].agg('mean')\n",
    "grouped_C1 = train_pr_stats[train_pr_stats.target == 1.0].groupby(train_pr_stats[train_pr_stats.target == 1.0]['freq'])\n",
    "df_mean_C1 = grouped_C1['HG (mV)'].agg('mean')\n",
    "grouped_E1 = train_pr_stats[train_pr_stats.target == 2.0].groupby(train_pr_stats[train_pr_stats.target == 2.0]['freq'])\n",
    "df_mean_E1 = grouped_E1['HG (mV)'].agg('mean')\n",
    "grouped_ref = train_pr_stats[train_pr_stats.target == 3.0].groupby(train_pr_stats[train_pr_stats.target == 3.0]['freq'])\n",
    "df_mean_ref = grouped_ref['HG (mV)'].agg('mean')\n",
    "\n",
    "\n",
    "df_HG_div_REF = pd.DataFrame(\n",
    "    {\"HG_B1_div_REF\": df_mean_B1.values/df_mean_ref.values,\n",
    "     \"HG_C1_div_REF\": df_mean_C1.values/df_mean_ref.values,\n",
    "     \"HG_E1_div_REF\": df_mean_E1.values/df_mean_ref.values},\n",
    "    index = df_mean_ref.index)\n",
    "\n",
    "train_pr_stats_div_ref = pd.merge(train_pr_stats, df_LG_div_REF, how='left', on='freq')\n",
    "train_pr_stats_div_ref = pd.merge(train_pr_stats_div_ref, df_HG_div_REF, how='left', on='freq')\n",
    "train_pr_stats_div_ref.info()"
   ]
  },
  {
   "cell_type": "markdown",
   "metadata": {},
   "source": [
    "## Feature scaling standardize\n",
    "Neural networks and SVMs, are very sensitive to the scaling of the data\n"
   ]
  },
  {
   "cell_type": "code",
   "execution_count": null,
   "metadata": {
    "collapsed": true,
    "execution": {
     "iopub.status.busy": "2024-12-17T08:46:40.696242Z",
     "iopub.status.idle": "2024-12-17T08:46:40.696770Z",
     "shell.execute_reply": "2024-12-17T08:46:40.696510Z",
     "shell.execute_reply.started": "2024-12-17T08:46:40.696483Z"
    },
    "jupyter": {
     "outputs_hidden": true,
     "source_hidden": true
    }
   },
   "outputs": [],
   "source": [
    "train_pr.head()"
   ]
  },
  {
   "cell_type": "code",
   "execution_count": null,
   "metadata": {
    "collapsed": true,
    "execution": {
     "iopub.status.busy": "2024-12-17T08:46:40.697828Z",
     "iopub.status.idle": "2024-12-17T08:46:40.698624Z",
     "shell.execute_reply": "2024-12-17T08:46:40.698380Z",
     "shell.execute_reply.started": "2024-12-17T08:46:40.698352Z"
    },
    "jupyter": {
     "outputs_hidden": true,
     "source_hidden": true
    }
   },
   "outputs": [],
   "source": [
    "from sklearn.preprocessing import MinMaxScaler\n",
    "scaler = MinMaxScaler()\n",
    "X_train_scaled = scaler.fit_transform(train_pr[['LG (mV)','HG (mV)']].to_numpy()) \n",
    "X_train_scaled = pd.DataFrame(X_train_scaled,\n",
    "                              index=train_pr.index.tolist(),\n",
    "                              columns=['LG (mV) scaled', 'HG (mV) scaled'])\n",
    "train_pr_scaled = pd.concat([train_pr,X_train_scaled],axis=1).drop(columns=['LG (mV)', 'HG (mV)'])\n"
   ]
  },
  {
   "cell_type": "markdown",
   "metadata": {},
   "source": [
    "**Doubt**: Always applies exactly the same transformation to the training and the test set. "
   ]
  },
  {
   "cell_type": "code",
   "execution_count": null,
   "metadata": {
    "collapsed": true,
    "execution": {
     "iopub.status.busy": "2024-12-17T08:46:40.700056Z",
     "iopub.status.idle": "2024-12-17T08:46:40.700556Z",
     "shell.execute_reply": "2024-12-17T08:46:40.700316Z",
     "shell.execute_reply.started": "2024-12-17T08:46:40.700288Z"
    },
    "jupyter": {
     "outputs_hidden": true,
     "source_hidden": true
    }
   },
   "outputs": [],
   "source": [
    "train_pr_scaled.head()"
   ]
  },
  {
   "cell_type": "markdown",
   "metadata": {},
   "source": [
    "# Explore different models"
   ]
  },
  {
   "cell_type": "code",
   "execution_count": null,
   "metadata": {
    "collapsed": true,
    "execution": {
     "iopub.status.busy": "2024-12-17T08:46:40.701707Z",
     "iopub.status.idle": "2024-12-17T08:46:40.702196Z",
     "shell.execute_reply": "2024-12-17T08:46:40.701968Z",
     "shell.execute_reply.started": "2024-12-17T08:46:40.701941Z"
    },
    "jupyter": {
     "outputs_hidden": true,
     "source_hidden": true
    }
   },
   "outputs": [],
   "source": [
    "train_mo = train_pr_stats_div_ref.copy() #845988\n",
    "train_mo = train_mo[train_mo.target != 3] # Remove REF then 634491 samples"
   ]
  },
  {
   "cell_type": "markdown",
   "metadata": {},
   "source": [
    "There are 362692 (57,2 % of samples) of 5 msg and 271799 (42,8% of samples) of 20 msg."
   ]
  },
  {
   "cell_type": "code",
   "execution_count": null,
   "metadata": {
    "collapsed": true,
    "execution": {
     "iopub.status.busy": "2024-12-17T08:46:40.704252Z",
     "iopub.status.idle": "2024-12-17T08:46:40.704779Z",
     "shell.execute_reply": "2024-12-17T08:46:40.704524Z",
     "shell.execute_reply.started": "2024-12-17T08:46:40.704497Z"
    },
    "jupyter": {
     "outputs_hidden": true,
     "source_hidden": true
    }
   },
   "outputs": [],
   "source": [
    "#9% of samples \n",
    "\n",
    "df_temp = train_mo[train_mo.int_time == 5].sample(random_state=1, n=27177)\n",
    "df_temp2 =train_mo[train_mo.int_time == 20].sample(random_state=1, n=36267)\n",
    "train_mo = pd.concat([df_temp, df_temp2]) "
   ]
  },
  {
   "cell_type": "code",
   "execution_count": null,
   "metadata": {
    "collapsed": true,
    "execution": {
     "iopub.status.busy": "2024-12-17T08:46:40.706877Z",
     "iopub.status.idle": "2024-12-17T08:46:40.707223Z",
     "shell.execute_reply": "2024-12-17T08:46:40.707078Z",
     "shell.execute_reply.started": "2024-12-17T08:46:40.707061Z"
    },
    "jupyter": {
     "outputs_hidden": true,
     "source_hidden": true
    }
   },
   "outputs": [],
   "source": [
    "ax = train_mo[['target']].value_counts().transpose().plot.bar(figsize=(8, 4), legend=False)\n",
    "ax.set_xlabel('Data Distribution of target for train ')\n",
    "ax.set_ylabel('Count')\n",
    "plt.tight_layout()\n",
    "plt.show()"
   ]
  },
  {
   "cell_type": "code",
   "execution_count": null,
   "metadata": {
    "collapsed": true,
    "execution": {
     "iopub.status.busy": "2024-12-17T08:46:40.708377Z",
     "iopub.status.idle": "2024-12-17T08:46:40.708780Z",
     "shell.execute_reply": "2024-12-17T08:46:40.708582Z",
     "shell.execute_reply.started": "2024-12-17T08:46:40.708563Z"
    },
    "jupyter": {
     "outputs_hidden": true,
     "source_hidden": true
    }
   },
   "outputs": [],
   "source": [
    "train_mo = train_mo.copy().drop(columns=['num_experiment', 'Sample_original', 'int_time'])\n",
    "train_mo = train_mo.copy().drop(columns=['LG_B1_div_REF', 'LG_C1_div_REF', 'LG_E1_div_REF', \n",
    "                                         'HG_B1_div_REF', 'HG_C1_div_REF', 'HG_E1_div_REF'])\n",
    "train_mo.head()\n"
   ]
  },
  {
   "cell_type": "markdown",
   "metadata": {},
   "source": [
    "The validation set `X_va` and `y_va` is used during the training phase of the model to provide an unbiased evaluation of the model's performance and to fine-tune the model's parameters."
   ]
  },
  {
   "cell_type": "code",
   "execution_count": null,
   "metadata": {
    "collapsed": true,
    "execution": {
     "iopub.status.busy": "2024-12-17T08:46:40.710572Z",
     "iopub.status.idle": "2024-12-17T08:46:40.710953Z",
     "shell.execute_reply": "2024-12-17T08:46:40.710801Z",
     "shell.execute_reply.started": "2024-12-17T08:46:40.710781Z"
    },
    "jupyter": {
     "outputs_hidden": true,
     "source_hidden": true
    }
   },
   "outputs": [],
   "source": [
    "train_ex_orig = train_ex.copy()\n",
    "train_ex = train_mo.copy().drop(columns=['target', 'freq', 'num_experiment', 'HG_div_LG'])\n",
    "train_ex.info()"
   ]
  },
  {
   "cell_type": "code",
   "execution_count": null,
   "metadata": {
    "collapsed": true,
    "execution": {
     "iopub.status.busy": "2024-12-17T08:46:40.712234Z",
     "iopub.status.idle": "2024-12-17T08:46:40.712602Z",
     "shell.execute_reply": "2024-12-17T08:46:40.712447Z",
     "shell.execute_reply.started": "2024-12-17T08:46:40.712429Z"
    },
    "jupyter": {
     "outputs_hidden": true,
     "source_hidden": true
    }
   },
   "outputs": [],
   "source": [
    "import seaborn as sns\n",
    "import warnings\n",
    "warnings.filterwarnings('ignore')\n",
    "\n",
    "for f in train_ex['freq'].value_counts().index.sort_values().tolist():\n",
    "    freq = f\n",
    "    ncols = 5\n",
    "    nrows = 3\n",
    "    nums_plastics = 0\n",
    "    \n",
    "    fig, axes = plt.subplots(nrows, ncols, figsize=(12, 8))\n",
    "    for r in range(nrows):\n",
    "        for c in range (ncols):\n",
    "            t = train_ex['target'].value_counts().index.sort_values().tolist()\n",
    "            df_tmp = train_ex[(train_ex.freq == freq) & (train_ex.target == t[nums_plastics])]\n",
    "            sns.kdeplot(x=df_tmp['LG (mV)'], ax=axes[r, c], color='#F8766D', label='LG (mV)',  fill =True )\n",
    "            sns.kdeplot(x=df_tmp['HG (mV)'], ax=axes[r, c], color='#00BFC4', label='HG (mV)',  fill =True )\n",
    "            axes[r ,c].legend(fontsize=\"xx-small\")\n",
    "            axes[r, c].set_ylabel('')\n",
    "            axes[r, c].set_xlabel('')\n",
    "            axes[r, c].set_title(f\"Type {t[nums_plastics]} (mV)\",fontsize=7)\n",
    "            axes[r, c].tick_params(labelsize=5, width=0.5)\n",
    "            axes[r, c].xaxis.offsetText.set_fontsize(6)\n",
    "            axes[r, c].yaxis.offsetText.set_fontsize(4)\n",
    "            nums_plastics = nums_plastics +1\n",
    "    plt.suptitle(f\"Train Model samples. Distribution of LG (mV) and HG (mV) of each plastic to {freq} Ghz\", y=0.93,fontsize=10)\n",
    "    plt.show()        "
   ]
  },
  {
   "cell_type": "code",
   "execution_count": null,
   "metadata": {
    "collapsed": true,
    "execution": {
     "iopub.status.busy": "2024-12-17T08:46:40.714228Z",
     "iopub.status.idle": "2024-12-17T08:46:40.714590Z",
     "shell.execute_reply": "2024-12-17T08:46:40.714441Z",
     "shell.execute_reply.started": "2024-12-17T08:46:40.714422Z"
    },
    "jupyter": {
     "outputs_hidden": true,
     "source_hidden": true
    }
   },
   "outputs": [],
   "source": [
    "train_ex = train_ex_orig.copy()\n",
    "del train_ex_orig"
   ]
  },
  {
   "cell_type": "code",
   "execution_count": null,
   "metadata": {
    "collapsed": true,
    "execution": {
     "iopub.status.busy": "2024-12-17T08:46:40.715885Z",
     "iopub.status.idle": "2024-12-17T08:46:40.716239Z",
     "shell.execute_reply": "2024-12-17T08:46:40.716089Z",
     "shell.execute_reply.started": "2024-12-17T08:46:40.716071Z"
    },
    "jupyter": {
     "outputs_hidden": true,
     "source_hidden": true
    }
   },
   "outputs": [],
   "source": [
    "from sklearn.model_selection import train_test_split\n",
    "train_set, validate_set = train_test_split(train_mo, test_size=0.2, random_state=42)\n",
    "\n",
    "y_tr = train_set.target\n",
    "y_va = validate_set[['target']]\n",
    "\n",
    "X_tr_freq_target = train_set.copy()\n",
    "X_tr = train_set.drop(columns=['target', 'freq'])\n",
    "\n",
    "X_va_freq_target = validate_set.copy()\n",
    "X_va = validate_set.drop(columns=[ 'target', 'freq'])\n",
    "\n"
   ]
  },
  {
   "cell_type": "code",
   "execution_count": null,
   "metadata": {
    "collapsed": true,
    "execution": {
     "iopub.status.busy": "2024-12-17T08:46:40.717870Z",
     "iopub.status.idle": "2024-12-17T08:46:40.718222Z",
     "shell.execute_reply": "2024-12-17T08:46:40.718072Z",
     "shell.execute_reply.started": "2024-12-17T08:46:40.718054Z"
    },
    "jupyter": {
     "outputs_hidden": true,
     "source_hidden": true
    }
   },
   "outputs": [],
   "source": [
    "X_tr.head()"
   ]
  },
  {
   "cell_type": "code",
   "execution_count": null,
   "metadata": {
    "collapsed": true,
    "execution": {
     "iopub.status.busy": "2024-12-17T08:46:40.719530Z",
     "iopub.status.idle": "2024-12-17T08:46:40.719917Z",
     "shell.execute_reply": "2024-12-17T08:46:40.719763Z",
     "shell.execute_reply.started": "2024-12-17T08:46:40.719744Z"
    },
    "jupyter": {
     "outputs_hidden": true,
     "source_hidden": true
    }
   },
   "outputs": [],
   "source": [
    "X_va_freq_target.head()"
   ]
  },
  {
   "cell_type": "markdown",
   "metadata": {},
   "source": [
    "**Cojeture**: Look samples are homogenius"
   ]
  },
  {
   "cell_type": "markdown",
   "metadata": {},
   "source": [
    "## Train many quick and dirty models "
   ]
  },
  {
   "cell_type": "code",
   "execution_count": null,
   "metadata": {
    "collapsed": true,
    "execution": {
     "iopub.status.busy": "2024-12-17T08:46:40.721865Z",
     "iopub.status.idle": "2024-12-17T08:46:40.722230Z",
     "shell.execute_reply": "2024-12-17T08:46:40.722077Z",
     "shell.execute_reply.started": "2024-12-17T08:46:40.722059Z"
    },
    "jupyter": {
     "outputs_hidden": true,
     "source_hidden": true
    }
   },
   "outputs": [],
   "source": [
    "import time\n",
    "start_time = time.time()"
   ]
  },
  {
   "cell_type": "code",
   "execution_count": null,
   "metadata": {
    "collapsed": true,
    "execution": {
     "iopub.status.busy": "2024-12-17T08:46:40.724083Z",
     "iopub.status.idle": "2024-12-17T08:46:40.724441Z",
     "shell.execute_reply": "2024-12-17T08:46:40.724289Z",
     "shell.execute_reply.started": "2024-12-17T08:46:40.724271Z"
    },
    "jupyter": {
     "outputs_hidden": true,
     "source_hidden": true
    }
   },
   "outputs": [],
   "source": [
    "from sklearn.dummy import DummyClassifier\n",
    "dummy_clf = DummyClassifier(strategy=\"most_frequent\").fit(X_tr.to_numpy(), y_tr.to_numpy())\n",
    "y_pred = dummy_clf.predict(X_va.to_numpy())\n",
    "\n",
    "from sklearn.metrics import accuracy_score\n",
    "dummy_score = accuracy_score(y_va.target.to_numpy(), y_pred)"
   ]
  },
  {
   "cell_type": "code",
   "execution_count": null,
   "metadata": {
    "collapsed": true,
    "execution": {
     "iopub.status.busy": "2024-12-17T08:46:40.725434Z",
     "iopub.status.idle": "2024-12-17T08:46:40.725840Z",
     "shell.execute_reply": "2024-12-17T08:46:40.725633Z",
     "shell.execute_reply.started": "2024-12-17T08:46:40.725615Z"
    },
    "jupyter": {
     "outputs_hidden": true,
     "source_hidden": true
    }
   },
   "outputs": [],
   "source": [
    "from sklearn.linear_model import LogisticRegression\n",
    "logit_clf = LogisticRegression().fit(X_tr.to_numpy(), y_tr.to_numpy())\n",
    "y_pred = logit_clf.predict(X_va.to_numpy())\n",
    "logit_score = accuracy_score(y_va.target.to_numpy(), y_pred)"
   ]
  },
  {
   "cell_type": "code",
   "execution_count": null,
   "metadata": {
    "collapsed": true,
    "execution": {
     "iopub.status.busy": "2024-12-17T08:46:40.727036Z",
     "iopub.status.idle": "2024-12-17T08:46:40.727355Z",
     "shell.execute_reply": "2024-12-17T08:46:40.727212Z",
     "shell.execute_reply.started": "2024-12-17T08:46:40.727195Z"
    },
    "jupyter": {
     "outputs_hidden": true,
     "source_hidden": true
    }
   },
   "outputs": [],
   "source": [
    "from sklearn.linear_model import SGDClassifier\n",
    "sgd_clf = SGDClassifier().fit(X_tr.to_numpy(), y_tr.to_numpy())\n",
    "y_pred = sgd_clf.predict(X_va.to_numpy())\n",
    "sgd_score = accuracy_score(y_va.target.to_numpy(), y_pred)"
   ]
  },
  {
   "cell_type": "code",
   "execution_count": null,
   "metadata": {
    "collapsed": true,
    "execution": {
     "iopub.status.busy": "2024-12-17T08:46:40.728549Z",
     "iopub.status.idle": "2024-12-17T08:46:40.728932Z",
     "shell.execute_reply": "2024-12-17T08:46:40.728774Z",
     "shell.execute_reply.started": "2024-12-17T08:46:40.728754Z"
    },
    "jupyter": {
     "outputs_hidden": true,
     "source_hidden": true
    }
   },
   "outputs": [],
   "source": [
    "from sklearn.svm import SVC\n",
    "svc_clf = SVC().fit(X_tr.to_numpy(), y_tr.to_numpy())\n",
    "y_pred = svc_clf.predict(X_va.to_numpy())\n",
    "svc_score = accuracy_score(y_va.target.to_numpy(), y_pred)"
   ]
  },
  {
   "cell_type": "code",
   "execution_count": null,
   "metadata": {
    "collapsed": true,
    "execution": {
     "iopub.status.busy": "2024-12-17T08:46:40.730293Z",
     "iopub.status.idle": "2024-12-17T08:46:40.730662Z",
     "shell.execute_reply": "2024-12-17T08:46:40.730507Z",
     "shell.execute_reply.started": "2024-12-17T08:46:40.730488Z"
    },
    "jupyter": {
     "outputs_hidden": true,
     "source_hidden": true
    }
   },
   "outputs": [],
   "source": [
    "svc_score_scaled = 0"
   ]
  },
  {
   "cell_type": "code",
   "execution_count": null,
   "metadata": {
    "collapsed": true,
    "execution": {
     "iopub.status.busy": "2024-12-17T08:46:40.731815Z",
     "iopub.status.idle": "2024-12-17T08:46:40.732141Z",
     "shell.execute_reply": "2024-12-17T08:46:40.732000Z",
     "shell.execute_reply.started": "2024-12-17T08:46:40.731983Z"
    },
    "jupyter": {
     "outputs_hidden": true,
     "source_hidden": true
    }
   },
   "outputs": [],
   "source": [
    "bayes_score=0\n",
    "from sklearn.naive_bayes import MultinomialNB\n",
    "#bayes_clf = MultinomialNB().fit(X_tr.to_numpy(), y_tr.to_numpy())\n",
    "#bayes_score = accuracy_score(y_va.target.to_numpy(), y_pred)\n",
    "\n",
    "# ValueError: Negative values in data passed to MultinomialNB (input X)"
   ]
  },
  {
   "cell_type": "code",
   "execution_count": null,
   "metadata": {
    "collapsed": true,
    "execution": {
     "iopub.status.busy": "2024-12-17T08:46:40.733514Z",
     "iopub.status.idle": "2024-12-17T08:46:40.733914Z",
     "shell.execute_reply": "2024-12-17T08:46:40.733758Z",
     "shell.execute_reply.started": "2024-12-17T08:46:40.733731Z"
    },
    "jupyter": {
     "outputs_hidden": true,
     "source_hidden": true
    }
   },
   "outputs": [],
   "source": [
    "from sklearn.linear_model import RidgeClassifier\n",
    "ridge_clf = RidgeClassifier().fit(X_tr.to_numpy(), y_tr.to_numpy())\n",
    "y_pred = ridge_clf.predict(X_va.to_numpy())\n",
    "ridge_score = accuracy_score(y_va.target.to_numpy(), y_pred)"
   ]
  },
  {
   "cell_type": "code",
   "execution_count": 79,
   "metadata": {
    "jupyter": {
     "source_hidden": true
    }
   },
   "outputs": [
    {
     "data": {
      "text/plain": [
       "0.5959492473796202"
      ]
     },
     "execution_count": 79,
     "metadata": {},
     "output_type": "execute_result"
    }
   ],
   "source": [
    "from sklearn.neighbors import KNeighborsClassifier\n",
    "neigh_clf = KNeighborsClassifier().fit(X_tr.to_numpy(), y_tr.to_numpy())\n",
    "y_pred = neigh_clf.predict(X_va.to_numpy())\n",
    "neigh_score = accuracy_score(y_va.target.to_numpy(), y_pred)\n",
    "y_pred_neigh = y_pred.copy()"
   ]
  },
  {
   "cell_type": "code",
   "execution_count": null,
   "metadata": {
    "collapsed": true,
    "execution": {
     "iopub.status.busy": "2024-12-17T08:46:40.737057Z",
     "iopub.status.idle": "2024-12-17T08:46:40.737370Z",
     "shell.execute_reply": "2024-12-17T08:46:40.737232Z",
     "shell.execute_reply.started": "2024-12-17T08:46:40.737217Z"
    },
    "jupyter": {
     "outputs_hidden": true,
     "source_hidden": true
    }
   },
   "outputs": [],
   "source": [
    "from sklearn.tree import DecisionTreeClassifier\n",
    "tree_clf = DecisionTreeClassifier().fit(X_tr.to_numpy(), y_tr.to_numpy())\n",
    "y_pred = tree_clf.predict(X_va.to_numpy())\n",
    "tree_score = accuracy_score(y_va.target.to_numpy(), y_pred)\n",
    "y_pred_tree = y_pred.copy()"
   ]
  },
  {
   "cell_type": "code",
   "execution_count": null,
   "metadata": {
    "collapsed": true,
    "execution": {
     "iopub.status.busy": "2024-12-17T08:46:40.739648Z",
     "iopub.status.idle": "2024-12-17T08:46:40.740035Z",
     "shell.execute_reply": "2024-12-17T08:46:40.739886Z",
     "shell.execute_reply.started": "2024-12-17T08:46:40.739867Z"
    },
    "jupyter": {
     "outputs_hidden": true,
     "source_hidden": true
    }
   },
   "outputs": [],
   "source": [
    "from sklearn.ensemble import RandomForestClassifier\n",
    "rnd_clf = RandomForestClassifier().fit(X_tr.to_numpy(), y_tr.to_numpy())\n",
    "y_pred = rnd_clf.predict(X_va.to_numpy())\n",
    "rnd_score = accuracy_score(y_va.target.to_numpy(), y_pred)\n",
    "y_pred_rnd = y_pred.copy()"
   ]
  },
  {
   "cell_type": "code",
   "execution_count": null,
   "metadata": {
    "collapsed": true,
    "execution": {
     "iopub.status.busy": "2024-12-17T08:46:40.741526Z",
     "iopub.status.idle": "2024-12-17T08:46:40.742051Z",
     "shell.execute_reply": "2024-12-17T08:46:40.741807Z",
     "shell.execute_reply.started": "2024-12-17T08:46:40.741780Z"
    },
    "jupyter": {
     "outputs_hidden": true,
     "source_hidden": true
    }
   },
   "outputs": [],
   "source": [
    "from sklearn.ensemble import GradientBoostingClassifier\n",
    "gb_clf = GradientBoostingClassifier().fit(X_tr.to_numpy(), y_tr.to_numpy())\n",
    "y_pred = gb_clf.predict(X_va.to_numpy())\n",
    "gb_score = accuracy_score(y_va.target.to_numpy(), y_pred)\n",
    "y_pred_gb = y_pred.copy()"
   ]
  },
  {
   "cell_type": "code",
   "execution_count": null,
   "metadata": {
    "collapsed": true,
    "execution": {
     "iopub.status.busy": "2024-12-17T08:46:40.743393Z",
     "iopub.status.idle": "2024-12-17T08:46:40.743934Z",
     "shell.execute_reply": "2024-12-17T08:46:40.743670Z",
     "shell.execute_reply.started": "2024-12-17T08:46:40.743643Z"
    },
    "jupyter": {
     "outputs_hidden": true,
     "source_hidden": true
    }
   },
   "outputs": [],
   "source": [
    "run_time = time.time() - start_time\n",
    "print(f\"Run Time: {run_time:.2f}s\")\n"
   ]
  },
  {
   "cell_type": "code",
   "execution_count": null,
   "metadata": {
    "collapsed": true,
    "execution": {
     "iopub.status.busy": "2024-12-17T08:46:40.745384Z",
     "iopub.status.idle": "2024-12-17T08:46:40.745927Z",
     "shell.execute_reply": "2024-12-17T08:46:40.745661Z",
     "shell.execute_reply.started": "2024-12-17T08:46:40.745635Z"
    },
    "jupyter": {
     "outputs_hidden": true,
     "source_hidden": true
    }
   },
   "outputs": [],
   "source": [
    "lst_accuracy_score = [bayes_score, dummy_score, gb_score, logit_score, neigh_score, ridge_score, rnd_score, sgd_score, svc_score, svc_score_scaled, tree_score]\n",
    "lst_name_clf = ['bayes', 'dummy', 'gb', 'logit', 'neigh', 'ridge', 'rnd', 'sgd', 'svc', 'svc_scaled', 'tree' ]\n",
    "\n",
    "\n",
    "df_scores = pd.DataFrame({\n",
    "\"name_clf\" : lst_name_clf,\n",
    "\"accuracy_score\" : lst_accuracy_score\n",
    "})"
   ]
  },
  {
   "cell_type": "code",
   "execution_count": null,
   "metadata": {
    "collapsed": true,
    "execution": {
     "iopub.status.busy": "2024-12-17T08:46:40.747840Z",
     "iopub.status.idle": "2024-12-17T08:46:40.748350Z",
     "shell.execute_reply": "2024-12-17T08:46:40.748116Z",
     "shell.execute_reply.started": "2024-12-17T08:46:40.748088Z"
    },
    "jupyter": {
     "outputs_hidden": true,
     "source_hidden": true
    }
   },
   "outputs": [],
   "source": [
    "df_scores.sort_values('accuracy_score', ascending=True, inplace=True)\n",
    "plt.barh(np.arange(len(lst_name_clf)), df_scores.accuracy_score, color='chocolate')\n",
    "plt.yticks(np.arange(len(lst_name_clf)), df_scores.name_clf)\n",
    "#plt.xlim(0, 1.2)\n",
    "plt.title('Model comparison (larger bar is better)')\n",
    "plt.xlabel('Accuracy classification score')\n",
    "plt.show()"
   ]
  },
  {
   "cell_type": "markdown",
   "metadata": {},
   "source": [
    "## Measure and compare classifiers performance and frecuencies"
   ]
  },
  {
   "cell_type": "markdown",
   "metadata": {},
   "source": [
    "`neigh`, `rnd`, `gb` and `tree` get the best score"
   ]
  },
  {
   "cell_type": "markdown",
   "metadata": {},
   "source": [
    "### Cross-validation\n",
    "Statistical method to evaluate generalization performance in a more stable and thorough way than using a split into training and test set.\n"
   ]
  },
  {
   "cell_type": "code",
   "execution_count": 68,
   "metadata": {
    "collapsed": true,
    "execution": {
     "iopub.execute_input": "2024-12-17T08:47:44.623804Z",
     "iopub.status.busy": "2024-12-17T08:47:44.623349Z",
     "iopub.status.idle": "2024-12-17T09:00:00.006279Z",
     "shell.execute_reply": "2024-12-17T09:00:00.004566Z",
     "shell.execute_reply.started": "2024-12-17T08:47:44.623764Z"
    },
    "jupyter": {
     "outputs_hidden": true,
     "source_hidden": true
    }
   },
   "outputs": [
    {
     "name": "stdout",
     "output_type": "stream",
     "text": [
      "Neigh\t cv:3, Std:0.004202496302104946, Mean:0.6065608186325494\n",
      "Rnd\t cv:3, Std:0.004571399413507375, Mean:0.5927690642616291\n",
      "gb\t cv:3, Std:0.0015374857347815124, Mean:0.5662299665671965\n",
      "tree\t cv:3, Std:0.00235776796748522, Mean:0.5520244109455337\n",
      "\n",
      "\n",
      "Neigh\t cv:4, Std:0.0026431642387592528, Mean:0.6082946964221276\n",
      "Rnd\t cv:4, Std:0.005009153447939358, Mean:0.5954485968499292\n",
      "gb\t cv:4, Std:0.00159351507595575, Mean:0.5658161958153625\n",
      "tree\t cv:4, Std:0.00546173688785036, Mean:0.5560041907841458\n",
      "\n",
      "\n",
      "Neigh\t cv:5, Std:0.0039520076235032425, Mean:0.6097133287360851\n",
      "Rnd\t cv:5, Std:0.004549697557527015, Mean:0.5965126588513447\n",
      "gb\t cv:5, Std:0.001510038912923618, Mean:0.5662299280859029\n",
      "tree\t cv:5, Std:0.00291343839807292, Mean:0.5590188158802089\n",
      "\n",
      "\n",
      "Neigh\t cv:6, Std:0.005602370134784494, Mean:0.6081566432104571\n",
      "Rnd\t cv:6, Std:0.007232735475112374, Mean:0.595665340658147\n"
     ]
    },
    {
     "ename": "KeyboardInterrupt",
     "evalue": "",
     "output_type": "error",
     "traceback": [
      "\u001b[0;31m---------------------------------------------------------------------------\u001b[0m",
      "\u001b[0;31mKeyboardInterrupt\u001b[0m                         Traceback (most recent call last)",
      "Cell \u001b[0;32mIn[68], line 8\u001b[0m\n\u001b[1;32m      6\u001b[0m scores \u001b[38;5;241m=\u001b[39m cross_val_score(rnd_clf, X_tr, y_tr, cv\u001b[38;5;241m=\u001b[39mcv) \n\u001b[1;32m      7\u001b[0m \u001b[38;5;28mprint\u001b[39m (\u001b[38;5;124mf\u001b[39m\u001b[38;5;124m\"\u001b[39m\u001b[38;5;124mRnd\u001b[39m\u001b[38;5;130;01m\\t\u001b[39;00m\u001b[38;5;124m cv:\u001b[39m\u001b[38;5;132;01m{\u001b[39;00mcv\u001b[38;5;132;01m}\u001b[39;00m\u001b[38;5;124m, Std:\u001b[39m\u001b[38;5;132;01m{\u001b[39;00mscores\u001b[38;5;241m.\u001b[39mstd()\u001b[38;5;132;01m}\u001b[39;00m\u001b[38;5;124m, Mean:\u001b[39m\u001b[38;5;132;01m{\u001b[39;00mscores\u001b[38;5;241m.\u001b[39mmean()\u001b[38;5;132;01m}\u001b[39;00m\u001b[38;5;124m\"\u001b[39m)\u001b[38;5;66;03m# \\nscores:{scores}\")\u001b[39;00m\n\u001b[0;32m----> 8\u001b[0m scores \u001b[38;5;241m=\u001b[39m \u001b[43mcross_val_score\u001b[49m\u001b[43m(\u001b[49m\u001b[43mgb_clf\u001b[49m\u001b[43m,\u001b[49m\u001b[43m \u001b[49m\u001b[43mX_tr\u001b[49m\u001b[43m,\u001b[49m\u001b[43m \u001b[49m\u001b[43my_tr\u001b[49m\u001b[43m,\u001b[49m\u001b[43m \u001b[49m\u001b[43mcv\u001b[49m\u001b[38;5;241;43m=\u001b[39;49m\u001b[43mcv\u001b[49m\u001b[43m)\u001b[49m\n\u001b[1;32m      9\u001b[0m \u001b[38;5;28mprint\u001b[39m (\u001b[38;5;124mf\u001b[39m\u001b[38;5;124m\"\u001b[39m\u001b[38;5;124mgb\u001b[39m\u001b[38;5;130;01m\\t\u001b[39;00m\u001b[38;5;124m cv:\u001b[39m\u001b[38;5;132;01m{\u001b[39;00mcv\u001b[38;5;132;01m}\u001b[39;00m\u001b[38;5;124m, Std:\u001b[39m\u001b[38;5;132;01m{\u001b[39;00mscores\u001b[38;5;241m.\u001b[39mstd()\u001b[38;5;132;01m}\u001b[39;00m\u001b[38;5;124m, Mean:\u001b[39m\u001b[38;5;132;01m{\u001b[39;00mscores\u001b[38;5;241m.\u001b[39mmean()\u001b[38;5;132;01m}\u001b[39;00m\u001b[38;5;124m\"\u001b[39m)\u001b[38;5;66;03m# \\nscores:{scores}\")\u001b[39;00m\n\u001b[1;32m     10\u001b[0m scores \u001b[38;5;241m=\u001b[39m cross_val_score(tree_clf, X_tr, y_tr, cv\u001b[38;5;241m=\u001b[39mcv) \n",
      "File \u001b[0;32m/opt/conda/lib/python3.10/site-packages/sklearn/model_selection/_validation.py:515\u001b[0m, in \u001b[0;36mcross_val_score\u001b[0;34m(estimator, X, y, groups, scoring, cv, n_jobs, verbose, fit_params, pre_dispatch, error_score)\u001b[0m\n\u001b[1;32m    512\u001b[0m \u001b[38;5;66;03m# To ensure multimetric format is not supported\u001b[39;00m\n\u001b[1;32m    513\u001b[0m scorer \u001b[38;5;241m=\u001b[39m check_scoring(estimator, scoring\u001b[38;5;241m=\u001b[39mscoring)\n\u001b[0;32m--> 515\u001b[0m cv_results \u001b[38;5;241m=\u001b[39m \u001b[43mcross_validate\u001b[49m\u001b[43m(\u001b[49m\n\u001b[1;32m    516\u001b[0m \u001b[43m    \u001b[49m\u001b[43mestimator\u001b[49m\u001b[38;5;241;43m=\u001b[39;49m\u001b[43mestimator\u001b[49m\u001b[43m,\u001b[49m\n\u001b[1;32m    517\u001b[0m \u001b[43m    \u001b[49m\u001b[43mX\u001b[49m\u001b[38;5;241;43m=\u001b[39;49m\u001b[43mX\u001b[49m\u001b[43m,\u001b[49m\n\u001b[1;32m    518\u001b[0m \u001b[43m    \u001b[49m\u001b[43my\u001b[49m\u001b[38;5;241;43m=\u001b[39;49m\u001b[43my\u001b[49m\u001b[43m,\u001b[49m\n\u001b[1;32m    519\u001b[0m \u001b[43m    \u001b[49m\u001b[43mgroups\u001b[49m\u001b[38;5;241;43m=\u001b[39;49m\u001b[43mgroups\u001b[49m\u001b[43m,\u001b[49m\n\u001b[1;32m    520\u001b[0m \u001b[43m    \u001b[49m\u001b[43mscoring\u001b[49m\u001b[38;5;241;43m=\u001b[39;49m\u001b[43m{\u001b[49m\u001b[38;5;124;43m\"\u001b[39;49m\u001b[38;5;124;43mscore\u001b[39;49m\u001b[38;5;124;43m\"\u001b[39;49m\u001b[43m:\u001b[49m\u001b[43m \u001b[49m\u001b[43mscorer\u001b[49m\u001b[43m}\u001b[49m\u001b[43m,\u001b[49m\n\u001b[1;32m    521\u001b[0m \u001b[43m    \u001b[49m\u001b[43mcv\u001b[49m\u001b[38;5;241;43m=\u001b[39;49m\u001b[43mcv\u001b[49m\u001b[43m,\u001b[49m\n\u001b[1;32m    522\u001b[0m \u001b[43m    \u001b[49m\u001b[43mn_jobs\u001b[49m\u001b[38;5;241;43m=\u001b[39;49m\u001b[43mn_jobs\u001b[49m\u001b[43m,\u001b[49m\n\u001b[1;32m    523\u001b[0m \u001b[43m    \u001b[49m\u001b[43mverbose\u001b[49m\u001b[38;5;241;43m=\u001b[39;49m\u001b[43mverbose\u001b[49m\u001b[43m,\u001b[49m\n\u001b[1;32m    524\u001b[0m \u001b[43m    \u001b[49m\u001b[43mfit_params\u001b[49m\u001b[38;5;241;43m=\u001b[39;49m\u001b[43mfit_params\u001b[49m\u001b[43m,\u001b[49m\n\u001b[1;32m    525\u001b[0m \u001b[43m    \u001b[49m\u001b[43mpre_dispatch\u001b[49m\u001b[38;5;241;43m=\u001b[39;49m\u001b[43mpre_dispatch\u001b[49m\u001b[43m,\u001b[49m\n\u001b[1;32m    526\u001b[0m \u001b[43m    \u001b[49m\u001b[43merror_score\u001b[49m\u001b[38;5;241;43m=\u001b[39;49m\u001b[43merror_score\u001b[49m\u001b[43m,\u001b[49m\n\u001b[1;32m    527\u001b[0m \u001b[43m\u001b[49m\u001b[43m)\u001b[49m\n\u001b[1;32m    528\u001b[0m \u001b[38;5;28;01mreturn\u001b[39;00m cv_results[\u001b[38;5;124m\"\u001b[39m\u001b[38;5;124mtest_score\u001b[39m\u001b[38;5;124m\"\u001b[39m]\n",
      "File \u001b[0;32m/opt/conda/lib/python3.10/site-packages/sklearn/model_selection/_validation.py:266\u001b[0m, in \u001b[0;36mcross_validate\u001b[0;34m(estimator, X, y, groups, scoring, cv, n_jobs, verbose, fit_params, pre_dispatch, return_train_score, return_estimator, error_score)\u001b[0m\n\u001b[1;32m    263\u001b[0m \u001b[38;5;66;03m# We clone the estimator to make sure that all the folds are\u001b[39;00m\n\u001b[1;32m    264\u001b[0m \u001b[38;5;66;03m# independent, and that it is pickle-able.\u001b[39;00m\n\u001b[1;32m    265\u001b[0m parallel \u001b[38;5;241m=\u001b[39m Parallel(n_jobs\u001b[38;5;241m=\u001b[39mn_jobs, verbose\u001b[38;5;241m=\u001b[39mverbose, pre_dispatch\u001b[38;5;241m=\u001b[39mpre_dispatch)\n\u001b[0;32m--> 266\u001b[0m results \u001b[38;5;241m=\u001b[39m \u001b[43mparallel\u001b[49m\u001b[43m(\u001b[49m\n\u001b[1;32m    267\u001b[0m \u001b[43m    \u001b[49m\u001b[43mdelayed\u001b[49m\u001b[43m(\u001b[49m\u001b[43m_fit_and_score\u001b[49m\u001b[43m)\u001b[49m\u001b[43m(\u001b[49m\n\u001b[1;32m    268\u001b[0m \u001b[43m        \u001b[49m\u001b[43mclone\u001b[49m\u001b[43m(\u001b[49m\u001b[43mestimator\u001b[49m\u001b[43m)\u001b[49m\u001b[43m,\u001b[49m\n\u001b[1;32m    269\u001b[0m \u001b[43m        \u001b[49m\u001b[43mX\u001b[49m\u001b[43m,\u001b[49m\n\u001b[1;32m    270\u001b[0m \u001b[43m        \u001b[49m\u001b[43my\u001b[49m\u001b[43m,\u001b[49m\n\u001b[1;32m    271\u001b[0m \u001b[43m        \u001b[49m\u001b[43mscorers\u001b[49m\u001b[43m,\u001b[49m\n\u001b[1;32m    272\u001b[0m \u001b[43m        \u001b[49m\u001b[43mtrain\u001b[49m\u001b[43m,\u001b[49m\n\u001b[1;32m    273\u001b[0m \u001b[43m        \u001b[49m\u001b[43mtest\u001b[49m\u001b[43m,\u001b[49m\n\u001b[1;32m    274\u001b[0m \u001b[43m        \u001b[49m\u001b[43mverbose\u001b[49m\u001b[43m,\u001b[49m\n\u001b[1;32m    275\u001b[0m \u001b[43m        \u001b[49m\u001b[38;5;28;43;01mNone\u001b[39;49;00m\u001b[43m,\u001b[49m\n\u001b[1;32m    276\u001b[0m \u001b[43m        \u001b[49m\u001b[43mfit_params\u001b[49m\u001b[43m,\u001b[49m\n\u001b[1;32m    277\u001b[0m \u001b[43m        \u001b[49m\u001b[43mreturn_train_score\u001b[49m\u001b[38;5;241;43m=\u001b[39;49m\u001b[43mreturn_train_score\u001b[49m\u001b[43m,\u001b[49m\n\u001b[1;32m    278\u001b[0m \u001b[43m        \u001b[49m\u001b[43mreturn_times\u001b[49m\u001b[38;5;241;43m=\u001b[39;49m\u001b[38;5;28;43;01mTrue\u001b[39;49;00m\u001b[43m,\u001b[49m\n\u001b[1;32m    279\u001b[0m \u001b[43m        \u001b[49m\u001b[43mreturn_estimator\u001b[49m\u001b[38;5;241;43m=\u001b[39;49m\u001b[43mreturn_estimator\u001b[49m\u001b[43m,\u001b[49m\n\u001b[1;32m    280\u001b[0m \u001b[43m        \u001b[49m\u001b[43merror_score\u001b[49m\u001b[38;5;241;43m=\u001b[39;49m\u001b[43merror_score\u001b[49m\u001b[43m,\u001b[49m\n\u001b[1;32m    281\u001b[0m \u001b[43m    \u001b[49m\u001b[43m)\u001b[49m\n\u001b[1;32m    282\u001b[0m \u001b[43m    \u001b[49m\u001b[38;5;28;43;01mfor\u001b[39;49;00m\u001b[43m \u001b[49m\u001b[43mtrain\u001b[49m\u001b[43m,\u001b[49m\u001b[43m \u001b[49m\u001b[43mtest\u001b[49m\u001b[43m \u001b[49m\u001b[38;5;129;43;01min\u001b[39;49;00m\u001b[43m \u001b[49m\u001b[43mcv\u001b[49m\u001b[38;5;241;43m.\u001b[39;49m\u001b[43msplit\u001b[49m\u001b[43m(\u001b[49m\u001b[43mX\u001b[49m\u001b[43m,\u001b[49m\u001b[43m \u001b[49m\u001b[43my\u001b[49m\u001b[43m,\u001b[49m\u001b[43m \u001b[49m\u001b[43mgroups\u001b[49m\u001b[43m)\u001b[49m\n\u001b[1;32m    283\u001b[0m \u001b[43m\u001b[49m\u001b[43m)\u001b[49m\n\u001b[1;32m    285\u001b[0m _warn_or_raise_about_fit_failures(results, error_score)\n\u001b[1;32m    287\u001b[0m \u001b[38;5;66;03m# For callabe scoring, the return type is only know after calling. If the\u001b[39;00m\n\u001b[1;32m    288\u001b[0m \u001b[38;5;66;03m# return type is a dictionary, the error scores can now be inserted with\u001b[39;00m\n\u001b[1;32m    289\u001b[0m \u001b[38;5;66;03m# the correct key.\u001b[39;00m\n",
      "File \u001b[0;32m/opt/conda/lib/python3.10/site-packages/sklearn/utils/parallel.py:63\u001b[0m, in \u001b[0;36mParallel.__call__\u001b[0;34m(self, iterable)\u001b[0m\n\u001b[1;32m     58\u001b[0m config \u001b[38;5;241m=\u001b[39m get_config()\n\u001b[1;32m     59\u001b[0m iterable_with_config \u001b[38;5;241m=\u001b[39m (\n\u001b[1;32m     60\u001b[0m     (_with_config(delayed_func, config), args, kwargs)\n\u001b[1;32m     61\u001b[0m     \u001b[38;5;28;01mfor\u001b[39;00m delayed_func, args, kwargs \u001b[38;5;129;01min\u001b[39;00m iterable\n\u001b[1;32m     62\u001b[0m )\n\u001b[0;32m---> 63\u001b[0m \u001b[38;5;28;01mreturn\u001b[39;00m \u001b[38;5;28;43msuper\u001b[39;49m\u001b[43m(\u001b[49m\u001b[43m)\u001b[49m\u001b[38;5;241;43m.\u001b[39;49m\u001b[38;5;21;43m__call__\u001b[39;49m\u001b[43m(\u001b[49m\u001b[43miterable_with_config\u001b[49m\u001b[43m)\u001b[49m\n",
      "File \u001b[0;32m/opt/conda/lib/python3.10/site-packages/joblib/parallel.py:1918\u001b[0m, in \u001b[0;36mParallel.__call__\u001b[0;34m(self, iterable)\u001b[0m\n\u001b[1;32m   1916\u001b[0m     output \u001b[38;5;241m=\u001b[39m \u001b[38;5;28mself\u001b[39m\u001b[38;5;241m.\u001b[39m_get_sequential_output(iterable)\n\u001b[1;32m   1917\u001b[0m     \u001b[38;5;28mnext\u001b[39m(output)\n\u001b[0;32m-> 1918\u001b[0m     \u001b[38;5;28;01mreturn\u001b[39;00m output \u001b[38;5;28;01mif\u001b[39;00m \u001b[38;5;28mself\u001b[39m\u001b[38;5;241m.\u001b[39mreturn_generator \u001b[38;5;28;01melse\u001b[39;00m \u001b[38;5;28;43mlist\u001b[39;49m\u001b[43m(\u001b[49m\u001b[43moutput\u001b[49m\u001b[43m)\u001b[49m\n\u001b[1;32m   1920\u001b[0m \u001b[38;5;66;03m# Let's create an ID that uniquely identifies the current call. If the\u001b[39;00m\n\u001b[1;32m   1921\u001b[0m \u001b[38;5;66;03m# call is interrupted early and that the same instance is immediately\u001b[39;00m\n\u001b[1;32m   1922\u001b[0m \u001b[38;5;66;03m# re-used, this id will be used to prevent workers that were\u001b[39;00m\n\u001b[1;32m   1923\u001b[0m \u001b[38;5;66;03m# concurrently finalizing a task from the previous call to run the\u001b[39;00m\n\u001b[1;32m   1924\u001b[0m \u001b[38;5;66;03m# callback.\u001b[39;00m\n\u001b[1;32m   1925\u001b[0m \u001b[38;5;28;01mwith\u001b[39;00m \u001b[38;5;28mself\u001b[39m\u001b[38;5;241m.\u001b[39m_lock:\n",
      "File \u001b[0;32m/opt/conda/lib/python3.10/site-packages/joblib/parallel.py:1847\u001b[0m, in \u001b[0;36mParallel._get_sequential_output\u001b[0;34m(self, iterable)\u001b[0m\n\u001b[1;32m   1845\u001b[0m \u001b[38;5;28mself\u001b[39m\u001b[38;5;241m.\u001b[39mn_dispatched_batches \u001b[38;5;241m+\u001b[39m\u001b[38;5;241m=\u001b[39m \u001b[38;5;241m1\u001b[39m\n\u001b[1;32m   1846\u001b[0m \u001b[38;5;28mself\u001b[39m\u001b[38;5;241m.\u001b[39mn_dispatched_tasks \u001b[38;5;241m+\u001b[39m\u001b[38;5;241m=\u001b[39m \u001b[38;5;241m1\u001b[39m\n\u001b[0;32m-> 1847\u001b[0m res \u001b[38;5;241m=\u001b[39m \u001b[43mfunc\u001b[49m\u001b[43m(\u001b[49m\u001b[38;5;241;43m*\u001b[39;49m\u001b[43margs\u001b[49m\u001b[43m,\u001b[49m\u001b[43m \u001b[49m\u001b[38;5;241;43m*\u001b[39;49m\u001b[38;5;241;43m*\u001b[39;49m\u001b[43mkwargs\u001b[49m\u001b[43m)\u001b[49m\n\u001b[1;32m   1848\u001b[0m \u001b[38;5;28mself\u001b[39m\u001b[38;5;241m.\u001b[39mn_completed_tasks \u001b[38;5;241m+\u001b[39m\u001b[38;5;241m=\u001b[39m \u001b[38;5;241m1\u001b[39m\n\u001b[1;32m   1849\u001b[0m \u001b[38;5;28mself\u001b[39m\u001b[38;5;241m.\u001b[39mprint_progress()\n",
      "File \u001b[0;32m/opt/conda/lib/python3.10/site-packages/sklearn/utils/parallel.py:123\u001b[0m, in \u001b[0;36m_FuncWrapper.__call__\u001b[0;34m(self, *args, **kwargs)\u001b[0m\n\u001b[1;32m    121\u001b[0m     config \u001b[38;5;241m=\u001b[39m {}\n\u001b[1;32m    122\u001b[0m \u001b[38;5;28;01mwith\u001b[39;00m config_context(\u001b[38;5;241m*\u001b[39m\u001b[38;5;241m*\u001b[39mconfig):\n\u001b[0;32m--> 123\u001b[0m     \u001b[38;5;28;01mreturn\u001b[39;00m \u001b[38;5;28;43mself\u001b[39;49m\u001b[38;5;241;43m.\u001b[39;49m\u001b[43mfunction\u001b[49m\u001b[43m(\u001b[49m\u001b[38;5;241;43m*\u001b[39;49m\u001b[43margs\u001b[49m\u001b[43m,\u001b[49m\u001b[43m \u001b[49m\u001b[38;5;241;43m*\u001b[39;49m\u001b[38;5;241;43m*\u001b[39;49m\u001b[43mkwargs\u001b[49m\u001b[43m)\u001b[49m\n",
      "File \u001b[0;32m/opt/conda/lib/python3.10/site-packages/sklearn/model_selection/_validation.py:686\u001b[0m, in \u001b[0;36m_fit_and_score\u001b[0;34m(estimator, X, y, scorer, train, test, verbose, parameters, fit_params, return_train_score, return_parameters, return_n_test_samples, return_times, return_estimator, split_progress, candidate_progress, error_score)\u001b[0m\n\u001b[1;32m    684\u001b[0m         estimator\u001b[38;5;241m.\u001b[39mfit(X_train, \u001b[38;5;241m*\u001b[39m\u001b[38;5;241m*\u001b[39mfit_params)\n\u001b[1;32m    685\u001b[0m     \u001b[38;5;28;01melse\u001b[39;00m:\n\u001b[0;32m--> 686\u001b[0m         \u001b[43mestimator\u001b[49m\u001b[38;5;241;43m.\u001b[39;49m\u001b[43mfit\u001b[49m\u001b[43m(\u001b[49m\u001b[43mX_train\u001b[49m\u001b[43m,\u001b[49m\u001b[43m \u001b[49m\u001b[43my_train\u001b[49m\u001b[43m,\u001b[49m\u001b[43m \u001b[49m\u001b[38;5;241;43m*\u001b[39;49m\u001b[38;5;241;43m*\u001b[39;49m\u001b[43mfit_params\u001b[49m\u001b[43m)\u001b[49m\n\u001b[1;32m    688\u001b[0m \u001b[38;5;28;01mexcept\u001b[39;00m \u001b[38;5;167;01mException\u001b[39;00m:\n\u001b[1;32m    689\u001b[0m     \u001b[38;5;66;03m# Note fit time as time until error\u001b[39;00m\n\u001b[1;32m    690\u001b[0m     fit_time \u001b[38;5;241m=\u001b[39m time\u001b[38;5;241m.\u001b[39mtime() \u001b[38;5;241m-\u001b[39m start_time\n",
      "File \u001b[0;32m/opt/conda/lib/python3.10/site-packages/sklearn/ensemble/_gb.py:538\u001b[0m, in \u001b[0;36mBaseGradientBoosting.fit\u001b[0;34m(self, X, y, sample_weight, monitor)\u001b[0m\n\u001b[1;32m    535\u001b[0m     \u001b[38;5;28mself\u001b[39m\u001b[38;5;241m.\u001b[39m_resize_state()\n\u001b[1;32m    537\u001b[0m \u001b[38;5;66;03m# fit the boosting stages\u001b[39;00m\n\u001b[0;32m--> 538\u001b[0m n_stages \u001b[38;5;241m=\u001b[39m \u001b[38;5;28;43mself\u001b[39;49m\u001b[38;5;241;43m.\u001b[39;49m\u001b[43m_fit_stages\u001b[49m\u001b[43m(\u001b[49m\n\u001b[1;32m    539\u001b[0m \u001b[43m    \u001b[49m\u001b[43mX\u001b[49m\u001b[43m,\u001b[49m\n\u001b[1;32m    540\u001b[0m \u001b[43m    \u001b[49m\u001b[43my\u001b[49m\u001b[43m,\u001b[49m\n\u001b[1;32m    541\u001b[0m \u001b[43m    \u001b[49m\u001b[43mraw_predictions\u001b[49m\u001b[43m,\u001b[49m\n\u001b[1;32m    542\u001b[0m \u001b[43m    \u001b[49m\u001b[43msample_weight\u001b[49m\u001b[43m,\u001b[49m\n\u001b[1;32m    543\u001b[0m \u001b[43m    \u001b[49m\u001b[38;5;28;43mself\u001b[39;49m\u001b[38;5;241;43m.\u001b[39;49m\u001b[43m_rng\u001b[49m\u001b[43m,\u001b[49m\n\u001b[1;32m    544\u001b[0m \u001b[43m    \u001b[49m\u001b[43mX_val\u001b[49m\u001b[43m,\u001b[49m\n\u001b[1;32m    545\u001b[0m \u001b[43m    \u001b[49m\u001b[43my_val\u001b[49m\u001b[43m,\u001b[49m\n\u001b[1;32m    546\u001b[0m \u001b[43m    \u001b[49m\u001b[43msample_weight_val\u001b[49m\u001b[43m,\u001b[49m\n\u001b[1;32m    547\u001b[0m \u001b[43m    \u001b[49m\u001b[43mbegin_at_stage\u001b[49m\u001b[43m,\u001b[49m\n\u001b[1;32m    548\u001b[0m \u001b[43m    \u001b[49m\u001b[43mmonitor\u001b[49m\u001b[43m,\u001b[49m\n\u001b[1;32m    549\u001b[0m \u001b[43m\u001b[49m\u001b[43m)\u001b[49m\n\u001b[1;32m    551\u001b[0m \u001b[38;5;66;03m# change shape of arrays after fit (early-stopping or additional ests)\u001b[39;00m\n\u001b[1;32m    552\u001b[0m \u001b[38;5;28;01mif\u001b[39;00m n_stages \u001b[38;5;241m!=\u001b[39m \u001b[38;5;28mself\u001b[39m\u001b[38;5;241m.\u001b[39mestimators_\u001b[38;5;241m.\u001b[39mshape[\u001b[38;5;241m0\u001b[39m]:\n",
      "File \u001b[0;32m/opt/conda/lib/python3.10/site-packages/sklearn/ensemble/_gb.py:615\u001b[0m, in \u001b[0;36mBaseGradientBoosting._fit_stages\u001b[0;34m(self, X, y, raw_predictions, sample_weight, random_state, X_val, y_val, sample_weight_val, begin_at_stage, monitor)\u001b[0m\n\u001b[1;32m    608\u001b[0m     old_oob_score \u001b[38;5;241m=\u001b[39m loss_(\n\u001b[1;32m    609\u001b[0m         y[\u001b[38;5;241m~\u001b[39msample_mask],\n\u001b[1;32m    610\u001b[0m         raw_predictions[\u001b[38;5;241m~\u001b[39msample_mask],\n\u001b[1;32m    611\u001b[0m         sample_weight[\u001b[38;5;241m~\u001b[39msample_mask],\n\u001b[1;32m    612\u001b[0m     )\n\u001b[1;32m    614\u001b[0m \u001b[38;5;66;03m# fit next stage of trees\u001b[39;00m\n\u001b[0;32m--> 615\u001b[0m raw_predictions \u001b[38;5;241m=\u001b[39m \u001b[38;5;28;43mself\u001b[39;49m\u001b[38;5;241;43m.\u001b[39;49m\u001b[43m_fit_stage\u001b[49m\u001b[43m(\u001b[49m\n\u001b[1;32m    616\u001b[0m \u001b[43m    \u001b[49m\u001b[43mi\u001b[49m\u001b[43m,\u001b[49m\n\u001b[1;32m    617\u001b[0m \u001b[43m    \u001b[49m\u001b[43mX\u001b[49m\u001b[43m,\u001b[49m\n\u001b[1;32m    618\u001b[0m \u001b[43m    \u001b[49m\u001b[43my\u001b[49m\u001b[43m,\u001b[49m\n\u001b[1;32m    619\u001b[0m \u001b[43m    \u001b[49m\u001b[43mraw_predictions\u001b[49m\u001b[43m,\u001b[49m\n\u001b[1;32m    620\u001b[0m \u001b[43m    \u001b[49m\u001b[43msample_weight\u001b[49m\u001b[43m,\u001b[49m\n\u001b[1;32m    621\u001b[0m \u001b[43m    \u001b[49m\u001b[43msample_mask\u001b[49m\u001b[43m,\u001b[49m\n\u001b[1;32m    622\u001b[0m \u001b[43m    \u001b[49m\u001b[43mrandom_state\u001b[49m\u001b[43m,\u001b[49m\n\u001b[1;32m    623\u001b[0m \u001b[43m    \u001b[49m\u001b[43mX_csc\u001b[49m\u001b[43m,\u001b[49m\n\u001b[1;32m    624\u001b[0m \u001b[43m    \u001b[49m\u001b[43mX_csr\u001b[49m\u001b[43m,\u001b[49m\n\u001b[1;32m    625\u001b[0m \u001b[43m\u001b[49m\u001b[43m)\u001b[49m\n\u001b[1;32m    627\u001b[0m \u001b[38;5;66;03m# track deviance (= loss)\u001b[39;00m\n\u001b[1;32m    628\u001b[0m \u001b[38;5;28;01mif\u001b[39;00m do_oob:\n",
      "File \u001b[0;32m/opt/conda/lib/python3.10/site-packages/sklearn/ensemble/_gb.py:257\u001b[0m, in \u001b[0;36mBaseGradientBoosting._fit_stage\u001b[0;34m(self, i, X, y, raw_predictions, sample_weight, sample_mask, random_state, X_csc, X_csr)\u001b[0m\n\u001b[1;32m    254\u001b[0m     sample_weight \u001b[38;5;241m=\u001b[39m sample_weight \u001b[38;5;241m*\u001b[39m sample_mask\u001b[38;5;241m.\u001b[39mastype(np\u001b[38;5;241m.\u001b[39mfloat64)\n\u001b[1;32m    256\u001b[0m X \u001b[38;5;241m=\u001b[39m X_csr \u001b[38;5;28;01mif\u001b[39;00m X_csr \u001b[38;5;129;01mis\u001b[39;00m \u001b[38;5;129;01mnot\u001b[39;00m \u001b[38;5;28;01mNone\u001b[39;00m \u001b[38;5;28;01melse\u001b[39;00m X\n\u001b[0;32m--> 257\u001b[0m \u001b[43mtree\u001b[49m\u001b[38;5;241;43m.\u001b[39;49m\u001b[43mfit\u001b[49m\u001b[43m(\u001b[49m\u001b[43mX\u001b[49m\u001b[43m,\u001b[49m\u001b[43m \u001b[49m\u001b[43mresidual\u001b[49m\u001b[43m,\u001b[49m\u001b[43m \u001b[49m\u001b[43msample_weight\u001b[49m\u001b[38;5;241;43m=\u001b[39;49m\u001b[43msample_weight\u001b[49m\u001b[43m,\u001b[49m\u001b[43m \u001b[49m\u001b[43mcheck_input\u001b[49m\u001b[38;5;241;43m=\u001b[39;49m\u001b[38;5;28;43;01mFalse\u001b[39;49;00m\u001b[43m)\u001b[49m\n\u001b[1;32m    259\u001b[0m \u001b[38;5;66;03m# update tree leaves\u001b[39;00m\n\u001b[1;32m    260\u001b[0m loss\u001b[38;5;241m.\u001b[39mupdate_terminal_regions(\n\u001b[1;32m    261\u001b[0m     tree\u001b[38;5;241m.\u001b[39mtree_,\n\u001b[1;32m    262\u001b[0m     X,\n\u001b[0;32m   (...)\u001b[0m\n\u001b[1;32m    269\u001b[0m     k\u001b[38;5;241m=\u001b[39mk,\n\u001b[1;32m    270\u001b[0m )\n",
      "File \u001b[0;32m/opt/conda/lib/python3.10/site-packages/sklearn/tree/_classes.py:1247\u001b[0m, in \u001b[0;36mDecisionTreeRegressor.fit\u001b[0;34m(self, X, y, sample_weight, check_input)\u001b[0m\n\u001b[1;32m   1218\u001b[0m \u001b[38;5;28;01mdef\u001b[39;00m \u001b[38;5;21mfit\u001b[39m(\u001b[38;5;28mself\u001b[39m, X, y, sample_weight\u001b[38;5;241m=\u001b[39m\u001b[38;5;28;01mNone\u001b[39;00m, check_input\u001b[38;5;241m=\u001b[39m\u001b[38;5;28;01mTrue\u001b[39;00m):\n\u001b[1;32m   1219\u001b[0m \u001b[38;5;250m    \u001b[39m\u001b[38;5;124;03m\"\"\"Build a decision tree regressor from the training set (X, y).\u001b[39;00m\n\u001b[1;32m   1220\u001b[0m \n\u001b[1;32m   1221\u001b[0m \u001b[38;5;124;03m    Parameters\u001b[39;00m\n\u001b[0;32m   (...)\u001b[0m\n\u001b[1;32m   1244\u001b[0m \u001b[38;5;124;03m        Fitted estimator.\u001b[39;00m\n\u001b[1;32m   1245\u001b[0m \u001b[38;5;124;03m    \"\"\"\u001b[39;00m\n\u001b[0;32m-> 1247\u001b[0m     \u001b[38;5;28;43msuper\u001b[39;49m\u001b[43m(\u001b[49m\u001b[43m)\u001b[49m\u001b[38;5;241;43m.\u001b[39;49m\u001b[43mfit\u001b[49m\u001b[43m(\u001b[49m\n\u001b[1;32m   1248\u001b[0m \u001b[43m        \u001b[49m\u001b[43mX\u001b[49m\u001b[43m,\u001b[49m\n\u001b[1;32m   1249\u001b[0m \u001b[43m        \u001b[49m\u001b[43my\u001b[49m\u001b[43m,\u001b[49m\n\u001b[1;32m   1250\u001b[0m \u001b[43m        \u001b[49m\u001b[43msample_weight\u001b[49m\u001b[38;5;241;43m=\u001b[39;49m\u001b[43msample_weight\u001b[49m\u001b[43m,\u001b[49m\n\u001b[1;32m   1251\u001b[0m \u001b[43m        \u001b[49m\u001b[43mcheck_input\u001b[49m\u001b[38;5;241;43m=\u001b[39;49m\u001b[43mcheck_input\u001b[49m\u001b[43m,\u001b[49m\n\u001b[1;32m   1252\u001b[0m \u001b[43m    \u001b[49m\u001b[43m)\u001b[49m\n\u001b[1;32m   1253\u001b[0m     \u001b[38;5;28;01mreturn\u001b[39;00m \u001b[38;5;28mself\u001b[39m\n",
      "File \u001b[0;32m/opt/conda/lib/python3.10/site-packages/sklearn/tree/_classes.py:379\u001b[0m, in \u001b[0;36mBaseDecisionTree.fit\u001b[0;34m(self, X, y, sample_weight, check_input)\u001b[0m\n\u001b[1;32m    368\u001b[0m \u001b[38;5;28;01melse\u001b[39;00m:\n\u001b[1;32m    369\u001b[0m     builder \u001b[38;5;241m=\u001b[39m BestFirstTreeBuilder(\n\u001b[1;32m    370\u001b[0m         splitter,\n\u001b[1;32m    371\u001b[0m         min_samples_split,\n\u001b[0;32m   (...)\u001b[0m\n\u001b[1;32m    376\u001b[0m         \u001b[38;5;28mself\u001b[39m\u001b[38;5;241m.\u001b[39mmin_impurity_decrease,\n\u001b[1;32m    377\u001b[0m     )\n\u001b[0;32m--> 379\u001b[0m \u001b[43mbuilder\u001b[49m\u001b[38;5;241;43m.\u001b[39;49m\u001b[43mbuild\u001b[49m\u001b[43m(\u001b[49m\u001b[38;5;28;43mself\u001b[39;49m\u001b[38;5;241;43m.\u001b[39;49m\u001b[43mtree_\u001b[49m\u001b[43m,\u001b[49m\u001b[43m \u001b[49m\u001b[43mX\u001b[49m\u001b[43m,\u001b[49m\u001b[43m \u001b[49m\u001b[43my\u001b[49m\u001b[43m,\u001b[49m\u001b[43m \u001b[49m\u001b[43msample_weight\u001b[49m\u001b[43m)\u001b[49m\n\u001b[1;32m    381\u001b[0m \u001b[38;5;28;01mif\u001b[39;00m \u001b[38;5;28mself\u001b[39m\u001b[38;5;241m.\u001b[39mn_outputs_ \u001b[38;5;241m==\u001b[39m \u001b[38;5;241m1\u001b[39m \u001b[38;5;129;01mand\u001b[39;00m is_classifier(\u001b[38;5;28mself\u001b[39m):\n\u001b[1;32m    382\u001b[0m     \u001b[38;5;28mself\u001b[39m\u001b[38;5;241m.\u001b[39mn_classes_ \u001b[38;5;241m=\u001b[39m \u001b[38;5;28mself\u001b[39m\u001b[38;5;241m.\u001b[39mn_classes_[\u001b[38;5;241m0\u001b[39m]\n",
      "\u001b[0;31mKeyboardInterrupt\u001b[0m: "
     ]
    }
   ],
   "source": [
    "from sklearn.model_selection import cross_val_score, cross_val_predict\n",
    "start_time = time.time()\n",
    "for cv in np.arange(3,9,1):\n",
    "    scores = cross_val_score(neigh_clf, X_tr, y_tr, cv=cv) \n",
    "    print (f\"Neigh\\t cv:{cv}, Std:{scores.std()}, Mean:{scores.mean()}\")# \\nscores:{scores}\n",
    "    scores = cross_val_score(rnd_clf, X_tr, y_tr, cv=cv) \n",
    "    print (f\"Rnd\\t cv:{cv}, Std:{scores.std()}, Mean:{scores.mean()}\")# \\nscores:{scores}\")\n",
    "    scores = cross_val_score(gb_clf, X_tr, y_tr, cv=cv)\n",
    "    print (f\"gb\\t cv:{cv}, Std:{scores.std()}, Mean:{scores.mean()}\")# \\nscores:{scores}\")\n",
    "    scores = cross_val_score(tree_clf, X_tr, y_tr, cv=cv) \n",
    "    print (f\"tree\\t cv:{cv}, Std:{scores.std()}, Mean:{scores.mean()}\")# \\nscores:{scores}\")\n",
    "    print(\"\\n\")\n",
    "\n",
    "run_time = time.time() - start_time\n",
    "print(f\"Run Time: {run_time:.2f}s\")"
   ]
  },
  {
   "cell_type": "code",
   "execution_count": null,
   "metadata": {
    "collapsed": true,
    "execution": {
     "iopub.status.busy": "2024-12-17T08:46:40.752506Z",
     "iopub.status.idle": "2024-12-17T08:46:40.753037Z",
     "shell.execute_reply": "2024-12-17T08:46:40.752788Z",
     "shell.execute_reply.started": "2024-12-17T08:46:40.752761Z"
    },
    "jupyter": {
     "outputs_hidden": true,
     "source_hidden": true
    }
   },
   "outputs": [],
   "source": [
    "scores = cross_val_score(neigh_clf, X_tr, y_tr, cv=3) #cv:7, Std:0.003987699916655607\n",
    "print (f\"neigh\\t cv:{cv}, Std:{scores.std()}, \\nscores:{scores}\")"
   ]
  },
  {
   "cell_type": "markdown",
   "metadata": {},
   "source": [
    "## Analyze the types of errors the models make"
   ]
  },
  {
   "cell_type": "markdown",
   "metadata": {},
   "source": [
    "`tree`, `gb`, `neih` and `rnd` get the best score"
   ]
  },
  {
   "cell_type": "markdown",
   "metadata": {},
   "source": [
    "**Doubt**: Does `train_mo.columns.tolist()` belong to `clf.feature_importances_`?"
   ]
  },
  {
   "cell_type": "code",
   "execution_count": 77,
   "metadata": {
    "collapsed": true,
    "execution": {
     "iopub.execute_input": "2024-12-17T09:04:39.566613Z",
     "iopub.status.busy": "2024-12-17T09:04:39.565590Z",
     "iopub.status.idle": "2024-12-17T09:04:40.013829Z",
     "shell.execute_reply": "2024-12-17T09:04:40.012600Z",
     "shell.execute_reply.started": "2024-12-17T09:04:39.566567Z"
    },
    "jupyter": {
     "outputs_hidden": true,
     "source_hidden": true
    }
   },
   "outputs": [
    {
     "data": {
      "image/png": "[encoded data removed]",
      "text/plain": [
       "<Figure size 640x480 with 1 Axes>"
      ]
     },
     "metadata": {},
     "output_type": "display_data"
    }
   ],
   "source": [
    "#The importance of a feature is computed as the (normalized)\n",
    "df_tmp = pd.DataFrame({\n",
    "    \"RandomForest\": rnd_clf.feature_importances_,\n",
    "    #\"KNeighbors\": neigh_clf.feature_importances_,\n",
    "    \"GradientBoosting\": gb_clf.feature_importances_,\n",
    "    \"DecisionTree\": tree_clf.feature_importances_},\n",
    "    index=train_mo.columns.tolist()[2:])\n",
    "_ = df_tmp.plot.bar(title=\"Importance of a feature for all frecuencies\")\n"
   ]
  },
  {
   "cell_type": "code",
   "execution_count": null,
   "metadata": {
    "collapsed": true,
    "execution": {
     "iopub.status.busy": "2024-12-17T08:46:40.756508Z",
     "iopub.status.idle": "2024-12-17T08:46:40.757038Z",
     "shell.execute_reply": "2024-12-17T08:46:40.756797Z",
     "shell.execute_reply.started": "2024-12-17T08:46:40.756770Z"
    },
    "jupyter": {
     "outputs_hidden": true,
     "source_hidden": true
    }
   },
   "outputs": [],
   "source": [
    "mat_y_pred_tr = np.mat([y_pred_gb, y_pred_neigh, y_pred_rnd, y_pred_tree])\n",
    "np_y_tr = y_tr.values\n",
    "mat_y_pred_tr[0][0]\n",
    "np.add()"
   ]
  },
  {
   "cell_type": "code",
   "execution_count": null,
   "metadata": {
    "collapsed": true,
    "execution": {
     "iopub.status.busy": "2024-12-17T08:46:40.758427Z",
     "iopub.status.idle": "2024-12-17T08:46:40.758974Z",
     "shell.execute_reply": "2024-12-17T08:46:40.758739Z",
     "shell.execute_reply.started": "2024-12-17T08:46:40.758711Z"
    },
    "jupyter": {
     "outputs_hidden": true,
     "source_hidden": true
    }
   },
   "outputs": [],
   "source": [
    "y_tr_sol = y_tr.copy() \n",
    "y_tr_sol['y_pred'] = y_pred \n",
    "y_tr_sol['true_pred'] = np.where(y_tr_sol['y_pred'] == y_tr_sol['target'],1,0)\n",
    "\n",
    "X_tr_freq = pd.concat([y_tr_sol,X_tr_freq_target[['freq']]], axis=1)\n",
    "X_tr_freq.head()"
   ]
  },
  {
   "cell_type": "code",
   "execution_count": null,
   "metadata": {
    "collapsed": true,
    "execution": {
     "iopub.status.busy": "2024-12-17T08:46:40.760346Z",
     "iopub.status.idle": "2024-12-17T08:46:40.760892Z",
     "shell.execute_reply": "2024-12-17T08:46:40.760623Z",
     "shell.execute_reply.started": "2024-12-17T08:46:40.760593Z"
    },
    "jupyter": {
     "outputs_hidden": true,
     "source_hidden": true
    }
   },
   "outputs": [],
   "source": [
    "%history\n",
    "df_tmp = pd.DataFrame(\n",
    "    {\"False\": X_tr_freq[X_tr_freq.true_pred==0]['freq'].value_counts().sort_index().values,\n",
    "     \"True\": X_tr_freq[X_tr_freq.true_pred==1]['freq'].value_counts().sort_index().values},\n",
    "    index = X_tr_freq[X_tr_freq.true_pred==0]['freq'].value_counts().sort_index().index.tolist())\n",
    "df_tmp['total'] = df_tmp['True'] + df_tmp['False']\n",
    "df_tmp['Accuracy'] = df_tmp['True']/df_tmp['total']"
   ]
  },
  {
   "cell_type": "markdown",
   "metadata": {},
   "source": [
    "Study best classifier to best frequency"
   ]
  },
  {
   "cell_type": "code",
   "execution_count": null,
   "metadata": {
    "collapsed": true,
    "execution": {
     "iopub.status.busy": "2024-12-17T08:46:40.762815Z",
     "iopub.status.idle": "2024-12-17T08:46:40.763321Z",
     "shell.execute_reply": "2024-12-17T08:46:40.763084Z",
     "shell.execute_reply.started": "2024-12-17T08:46:40.763060Z"
    },
    "jupyter": {
     "outputs_hidden": true,
     "source_hidden": true
    }
   },
   "outputs": [],
   "source": [
    "from sklearn.metrics import confusion_matrix, ConfusionMatrixDisplay"
   ]
  },
  {
   "cell_type": "code",
   "execution_count": null,
   "metadata": {
    "collapsed": true,
    "execution": {
     "iopub.status.busy": "2024-12-17T08:46:40.765127Z",
     "iopub.status.idle": "2024-12-17T08:46:40.765661Z",
     "shell.execute_reply": "2024-12-17T08:46:40.765393Z",
     "shell.execute_reply.started": "2024-12-17T08:46:40.765367Z"
    },
    "jupyter": {
     "outputs_hidden": true,
     "source_hidden": true
    }
   },
   "outputs": [],
   "source": [
    "cm = confusion_matrix(y_va_350.target.to_numpy(), y_pred_350, labels=neigh_clf_350.classes_)\n",
    "disp = ConfusionMatrixDisplay(confusion_matrix=cm, display_labels=neigh_clf_350.classes_)\n",
    "fig, ax = plt.subplots(figsize=(10, 10))\n",
    "ax.set_title('Confusion Matrix to k-nearest neighbor to 350 Ghz')\n",
    "disp.plot(ax=ax)"
   ]
  },
  {
   "cell_type": "code",
   "execution_count": null,
   "metadata": {
    "collapsed": true,
    "execution": {
     "iopub.status.busy": "2024-12-17T08:46:40.767211Z",
     "iopub.status.idle": "2024-12-17T08:46:40.767748Z",
     "shell.execute_reply": "2024-12-17T08:46:40.767490Z",
     "shell.execute_reply.started": "2024-12-17T08:46:40.767463Z"
    },
    "jupyter": {
     "outputs_hidden": true,
     "source_hidden": true
    }
   },
   "outputs": [],
   "source": [
    "train_mo = train_pr_shifted.copy().rename(columns = {'Frequency (GHz)':'freq'})\n",
    "train_mo_350 = train_mo[train_mo.freq == 350].drop(columns=['freq_target']) \n",
    "train_mo_350.info()"
   ]
  },
  {
   "cell_type": "code",
   "execution_count": null,
   "metadata": {
    "collapsed": true,
    "execution": {
     "iopub.status.busy": "2024-12-17T08:46:40.769155Z",
     "iopub.status.idle": "2024-12-17T08:46:40.769659Z",
     "shell.execute_reply": "2024-12-17T08:46:40.769416Z",
     "shell.execute_reply.started": "2024-12-17T08:46:40.769389Z"
    },
    "jupyter": {
     "outputs_hidden": true,
     "source_hidden": true
    }
   },
   "outputs": [],
   "source": [
    "train_mo_350['exp(HG)'] = train_mo_350['HG (mV)'].apply(lambda x: np.expm1(x/1000))\n",
    "train_mo_350.head()"
   ]
  },
  {
   "cell_type": "markdown",
   "metadata": {},
   "source": [
    "Binning, Discretization, Linear Models, and Trees"
   ]
  },
  {
   "cell_type": "code",
   "execution_count": null,
   "metadata": {
    "collapsed": true,
    "execution": {
     "iopub.status.busy": "2024-12-17T08:46:40.771015Z",
     "iopub.status.idle": "2024-12-17T08:46:40.771378Z",
     "shell.execute_reply": "2024-12-17T08:46:40.771233Z",
     "shell.execute_reply.started": "2024-12-17T08:46:40.771215Z"
    },
    "jupyter": {
     "outputs_hidden": true,
     "source_hidden": true
    }
   },
   "outputs": [],
   "source": [
    "warnings.filterwarnings('ignore')\n",
    "freq = 350\n",
    "ncols = 5\n",
    "nrows = 3\n",
    "nums_plastics = 0\n",
    "\n",
    "fig, axes = plt.subplots(nrows, ncols, figsize=(12, 8))\n",
    "for r in range(nrows):\n",
    "    for c in range (ncols):\n",
    "        t = train_mo_350['target'].value_counts().index.sort_values().tolist()\n",
    "        df_tmp = train_mo_350[(train_mo_350.freq == freq) & (train_mo_350.target == t[nums_plastics])]\n",
    "        sns.kdeplot(x=df_tmp['LG (mV)'], ax=axes[r, c], color='#F8766D', label='LG (mV)',  fill =True )\n",
    "        sns.kdeplot(x=df_tmp['HG (mV)'], ax=axes[r, c], color='#00BFC4', label='HG (mV)',  fill =True )\n",
    "        axes[r ,c].legend(fontsize=\"xx-small\")\n",
    "        axes[r, c].set_ylabel('')\n",
    "        axes[r, c].set_xlabel('')\n",
    "        axes[r, c].set_title(f\"Type {t[nums_plastics]} (mV)\",fontsize=7)\n",
    "        axes[r, c].tick_params(labelsize=5, width=0.5)\n",
    "        axes[r, c].xaxis.offsetText.set_fontsize(6)\n",
    "        axes[r, c].yaxis.offsetText.set_fontsize(4)\n",
    "        nums_plastics = nums_plastics +1\n",
    "plt.suptitle(f\"All samples. Distribution of LG (mV) and HG (mV) of each plastic to {freq} Ghz\", y=0.93,fontsize=10)\n",
    "plt.show()   "
   ]
  },
  {
   "cell_type": "code",
   "execution_count": null,
   "metadata": {
    "collapsed": true,
    "execution": {
     "iopub.status.busy": "2024-12-17T08:46:40.772815Z",
     "iopub.status.idle": "2024-12-17T08:46:40.773146Z",
     "shell.execute_reply": "2024-12-17T08:46:40.773000Z",
     "shell.execute_reply.started": "2024-12-17T08:46:40.772982Z"
    },
    "jupyter": {
     "outputs_hidden": true,
     "source_hidden": true
    }
   },
   "outputs": [],
   "source": [
    "train_set_350, validate_set_350 = train_test_split(train_mo_350, test_size=0.2, random_state=42)\n",
    "\n",
    "y_tr_350 = train_set_350.target\n",
    "y_va_350 = validate_set_350[['target']]\n",
    "\n",
    "X_tr_350 = train_set_350.drop(columns=['target'])\n",
    "X_va_350 = validate_set_350.drop(columns=['target'])\n",
    "X_tr_350.info()"
   ]
  },
  {
   "cell_type": "code",
   "execution_count": null,
   "metadata": {
    "collapsed": true,
    "execution": {
     "iopub.status.busy": "2024-12-17T08:46:40.774310Z",
     "iopub.status.idle": "2024-12-17T08:46:40.774675Z",
     "shell.execute_reply": "2024-12-17T08:46:40.774522Z",
     "shell.execute_reply.started": "2024-12-17T08:46:40.774503Z"
    },
    "jupyter": {
     "outputs_hidden": true,
     "source_hidden": true
    }
   },
   "outputs": [],
   "source": [
    "neigh_clf_350 = KNeighborsClassifier().fit(X_tr_350.to_numpy(), y_tr_350.to_numpy())\n",
    "y_pred_350 = neigh_clf_350.predict(X_va_350.to_numpy())\n",
    "neigh_score_350 = accuracy_score(y_va_350.target.to_numpy(), y_pred_350) #0.5896686159844055"
   ]
  },
  {
   "cell_type": "code",
   "execution_count": null,
   "metadata": {
    "collapsed": true,
    "execution": {
     "iopub.status.busy": "2024-12-17T08:46:40.777037Z",
     "iopub.status.idle": "2024-12-17T08:46:40.777385Z",
     "shell.execute_reply": "2024-12-17T08:46:40.777229Z",
     "shell.execute_reply.started": "2024-12-17T08:46:40.777212Z"
    },
    "jupyter": {
     "outputs_hidden": true,
     "source_hidden": true
    }
   },
   "outputs": [],
   "source": [
    "\n",
    "cm = confusion_matrix(y_va_350.target.to_numpy(), y_pred_350, labels=neigh_clf_350.classes_)\n",
    "disp = ConfusionMatrixDisplay(confusion_matrix=cm, display_labels=neigh_clf_350.classes_)\n",
    "fig, ax = plt.subplots(figsize=(10, 10))\n",
    "ax.set_title('Confusion Matrix to k-nearest neighbor to 350 Ghz')\n",
    "disp.plot(ax=ax)"
   ]
  },
  {
   "cell_type": "markdown",
   "metadata": {},
   "source": [
    "Columns are type produced and rows are type preceved. \n",
    "\n",
    "* `Type 0`: 256 samples are produced and perceived well. 97 are perceived like type 2, 48 samples as type 4, and so on\n",
    "* `Type 1`: 261 samples are produced and perceived well. 173 are perceived like type 9, 43 samples as type 12, and so on\n",
    "* etc."
   ]
  },
  {
   "cell_type": "code",
   "execution_count": null,
   "metadata": {
    "collapsed": true,
    "execution": {
     "iopub.status.busy": "2024-12-17T08:46:40.778372Z",
     "iopub.status.idle": "2024-12-17T08:46:40.778766Z",
     "shell.execute_reply": "2024-12-17T08:46:40.778569Z",
     "shell.execute_reply.started": "2024-12-17T08:46:40.778552Z"
    },
    "jupyter": {
     "outputs_hidden": true,
     "source_hidden": true
    }
   },
   "outputs": [],
   "source": [
    "freq = 350\n",
    "ncols = 2\n",
    "nrows = 10\n",
    "i = 0\n",
    "fig, axes = plt.subplots(nrows, ncols, figsize=(12, 28))\n",
    "for r in range(nrows):\n",
    "    for c in range (ncols):\n",
    "        t = [0, 2, 0, 7, 1, 9, 1, 14, 2, 4, 4, 8, 5, 12, 8, 13, 9, 14, 12, 14]\n",
    "        df_tmp = train_mo_350[(train_mo_350.freq == freq) & (train_mo_350.target == t[i])]\n",
    "        sns.kdeplot(x=df_tmp['LG (mV)'], ax=axes[r, c], color='#F8766D', label='LG (mV)',  fill =True )\n",
    "        sns.kdeplot(x=df_tmp['HG (mV)'], ax=axes[r, c], color='#00BFC4', label='HG (mV)',  fill =True )\n",
    "        #sns.kdeplot(x=df_tmp['HG (mV)'], ax=axes[r, c], color='#00BFC4', label='HG (mV)x2',  fill =True )\n",
    "        axes[r ,c].legend(fontsize=\"xx-small\")\n",
    "        axes[r, c].set_ylabel('')\n",
    "        axes[r, c].set_xlabel('')\n",
    "        axes[r, c].set_title(f\"Type {t[i]} (mV)\",fontsize=7)\n",
    "        axes[r, c].tick_params(labelsize=5, width=0.5)\n",
    "        axes[r, c].xaxis.offsetText.set_fontsize(6)\n",
    "        axes[r, c].yaxis.offsetText.set_fontsize(4)\n",
    "        i = i + 1\n",
    "plt.suptitle(f\"Major mistakes produced and preceved of each plastic at {freq} Ghz\", y=0.93,fontsize=10)\n",
    "plt.show()   "
   ]
  },
  {
   "cell_type": "code",
   "execution_count": null,
   "metadata": {
    "collapsed": true,
    "execution": {
     "iopub.status.busy": "2024-12-17T08:46:40.780021Z",
     "iopub.status.idle": "2024-12-17T08:46:40.780339Z",
     "shell.execute_reply": "2024-12-17T08:46:40.780200Z",
     "shell.execute_reply.started": "2024-12-17T08:46:40.780183Z"
    },
    "jupyter": {
     "outputs_hidden": true,
     "source_hidden": true
    }
   },
   "outputs": [],
   "source": [
    "train_mo_350_t12 = train_mo_350[train_mo_350.target==12]['HG (mV)']\n",
    "sns.kdeplot(train_mo_350_t12,color='#00BFC4', label='HG (mV)', fill =True)"
   ]
  },
  {
   "cell_type": "code",
   "execution_count": null,
   "metadata": {
    "collapsed": true,
    "execution": {
     "iopub.status.busy": "2024-12-17T08:46:40.781640Z",
     "iopub.status.idle": "2024-12-17T08:46:40.782040Z",
     "shell.execute_reply": "2024-12-17T08:46:40.781886Z",
     "shell.execute_reply.started": "2024-12-17T08:46:40.781868Z"
    },
    "jupyter": {
     "outputs_hidden": true,
     "source_hidden": true
    }
   },
   "outputs": [],
   "source": [
    "from sklearn.preprocessing import KBinsDiscretizer\n",
    "kb = KBinsDiscretizer(n_bins=5, strategy='quantile', encode='onehot-dense')\n",
    "kb.fit(train_mo_350_t12.values.reshape(-1, 1))\n",
    "train_mo_350_binned = kb.transform(train_mo_350_t12.values.reshape(-1, 1))\n",
    "kb.bin_edges_[0]"
   ]
  },
  {
   "cell_type": "code",
   "execution_count": null,
   "metadata": {
    "collapsed": true,
    "execution": {
     "iopub.status.busy": "2024-12-17T08:46:40.783399Z",
     "iopub.status.idle": "2024-12-17T08:46:40.783960Z",
     "shell.execute_reply": "2024-12-17T08:46:40.783680Z",
     "shell.execute_reply.started": "2024-12-17T08:46:40.783653Z"
    },
    "jupyter": {
     "outputs_hidden": true,
     "source_hidden": true
    }
   },
   "outputs": [],
   "source": [
    "temp = np.array([1,2,3])\n",
    "temp.reshape(-1, 1)\n",
    "temp.reshape(1, -1)\n",
    "\n",
    "np.random.random((1,10))[0]"
   ]
  },
  {
   "cell_type": "markdown",
   "metadata": {},
   "source": [
    "# Fine-tune the classifiers\n",
    "## Fine-tune the hyperparameters\n",
    "Finding the values of the important parameters of a model to provide the best \n",
    "generalization performanc to `neigh`, `rnd`, `gb` and `tree` get the best score)\n"
   ]
  },
  {
   "cell_type": "code",
   "execution_count": null,
   "metadata": {
    "collapsed": true,
    "execution": {
     "iopub.status.busy": "2024-12-17T08:46:40.785386Z",
     "iopub.status.idle": "2024-12-17T08:46:40.785929Z",
     "shell.execute_reply": "2024-12-17T08:46:40.785660Z",
     "shell.execute_reply.started": "2024-12-17T08:46:40.785633Z"
    },
    "jupyter": {
     "outputs_hidden": true,
     "source_hidden": true
    }
   },
   "outputs": [],
   "source": [
    "from sklearn.model_selection import RandomizedSearchCV, GridSearchCV\n",
    "#RandomizedSearchCV()\n",
    "#GridSearchCV()\n",
    "param_grid = {'weights':('uniform', 'distance'), 'n_neighbors': np.arange(5, 10, 1)}\n",
    "neigh_clf = GridSearchCV(neigh_clf,param_grid, cv=3)\n",
    "neigh_search = neigh_clf.fit(X_tr.to_numpy(), y_tr.to_numpy())\n",
    "\n",
    "#pd.DataFrame(neigh_search.cv_results_).columns\n",
    "pd.DataFrame(neigh_search.cv_results_).sort_values(by='rank_test_score')[['mean_test_score','params']]\n",
    "neigh_search.best_params_ #{'n_neighbors': 9, 'weights': 'uniform'}\n"
   ]
  },
  {
   "cell_type": "markdown",
   "metadata": {},
   "source": [
    "# Present your solution"
   ]
  },
  {
   "cell_type": "code",
   "execution_count": 113,
   "metadata": {
    "execution": {
     "iopub.execute_input": "2024-12-17T09:50:35.278538Z",
     "iopub.status.busy": "2024-12-17T09:50:35.278122Z",
     "iopub.status.idle": "2024-12-17T09:50:35.310182Z",
     "shell.execute_reply": "2024-12-17T09:50:35.308923Z",
     "shell.execute_reply.started": "2024-12-17T09:50:35.278500Z"
    }
   },
   "outputs": [
    {
     "data": {
      "text/html": [
       "<div>\n",
       "<style scoped>\n",
       "    .dataframe tbody tr th:only-of-type {\n",
       "        vertical-align: middle;\n",
       "    }\n",
       "\n",
       "    .dataframe tbody tr th {\n",
       "        vertical-align: top;\n",
       "    }\n",
       "\n",
       "    .dataframe thead th {\n",
       "        text-align: right;\n",
       "    }\n",
       "</style>\n",
       "<table border=\"1\" class=\"dataframe\">\n",
       "  <thead>\n",
       "    <tr style=\"text-align: right;\">\n",
       "      <th></th>\n",
       "      <th>target</th>\n",
       "      <th>freq</th>\n",
       "      <th>LG (mV)</th>\n",
       "      <th>HG (mV)</th>\n",
       "      <th>HG_div_LG</th>\n",
       "      <th>mean_LG</th>\n",
       "      <th>std_LG</th>\n",
       "      <th>var_LG</th>\n",
       "      <th>median_LG</th>\n",
       "      <th>mean_HG</th>\n",
       "      <th>std_HG</th>\n",
       "      <th>var_HG</th>\n",
       "      <th>median_HG</th>\n",
       "    </tr>\n",
       "  </thead>\n",
       "  <tbody>\n",
       "    <tr>\n",
       "      <th>597517</th>\n",
       "      <td>2.0</td>\n",
       "      <td>520.0</td>\n",
       "      <td>1.098767</td>\n",
       "      <td>47.369063</td>\n",
       "      <td>1.457674</td>\n",
       "      <td>0.056159</td>\n",
       "      <td>0.761093</td>\n",
       "      <td>0.579263</td>\n",
       "      <td>0.030521</td>\n",
       "      <td>43.755141</td>\n",
       "      <td>20.781453</td>\n",
       "      <td>431.868799</td>\n",
       "      <td>42.455133</td>\n",
       "    </tr>\n",
       "    <tr>\n",
       "      <th>611923</th>\n",
       "      <td>2.0</td>\n",
       "      <td>550.0</td>\n",
       "      <td>1.709193</td>\n",
       "      <td>25.027469</td>\n",
       "      <td>1.229264</td>\n",
       "      <td>0.037977</td>\n",
       "      <td>0.745830</td>\n",
       "      <td>0.556263</td>\n",
       "      <td>0.030521</td>\n",
       "      <td>30.607121</td>\n",
       "      <td>19.817076</td>\n",
       "      <td>392.716506</td>\n",
       "      <td>26.492491</td>\n",
       "    </tr>\n",
       "    <tr>\n",
       "      <th>96631</th>\n",
       "      <td>0.0</td>\n",
       "      <td>330.0</td>\n",
       "      <td>0.488341</td>\n",
       "      <td>2.075481</td>\n",
       "      <td>1.015794</td>\n",
       "      <td>1.078801</td>\n",
       "      <td>0.829439</td>\n",
       "      <td>0.687969</td>\n",
       "      <td>1.098767</td>\n",
       "      <td>374.372043</td>\n",
       "      <td>334.837927</td>\n",
       "      <td>112116.437293</td>\n",
       "      <td>475.766113</td>\n",
       "    </tr>\n",
       "    <tr>\n",
       "      <th>139325</th>\n",
       "      <td>0.0</td>\n",
       "      <td>430.0</td>\n",
       "      <td>-0.122085</td>\n",
       "      <td>211.573660</td>\n",
       "      <td>3.119545</td>\n",
       "      <td>0.203515</td>\n",
       "      <td>0.798163</td>\n",
       "      <td>0.637064</td>\n",
       "      <td>0.183128</td>\n",
       "      <td>172.146408</td>\n",
       "      <td>59.957931</td>\n",
       "      <td>3594.953537</td>\n",
       "      <td>179.083736</td>\n",
       "    </tr>\n",
       "    <tr>\n",
       "      <th>102384</th>\n",
       "      <td>0.0</td>\n",
       "      <td>340.0</td>\n",
       "      <td>0.000000</td>\n",
       "      <td>589.305329</td>\n",
       "      <td>6.893053</td>\n",
       "      <td>0.788821</td>\n",
       "      <td>0.829749</td>\n",
       "      <td>0.688484</td>\n",
       "      <td>0.824075</td>\n",
       "      <td>430.525467</td>\n",
       "      <td>242.106955</td>\n",
       "      <td>58615.777431</td>\n",
       "      <td>515.428495</td>\n",
       "    </tr>\n",
       "  </tbody>\n",
       "</table>\n",
       "</div>"
      ],
      "text/plain": [
       "        target   freq   LG (mV)     HG (mV)  HG_div_LG   mean_LG    std_LG  \\\n",
       "597517     2.0  520.0  1.098767   47.369063   1.457674  0.056159  0.761093   \n",
       "611923     2.0  550.0  1.709193   25.027469   1.229264  0.037977  0.745830   \n",
       "96631      0.0  330.0  0.488341    2.075481   1.015794  1.078801  0.829439   \n",
       "139325     0.0  430.0 -0.122085  211.573660   3.119545  0.203515  0.798163   \n",
       "102384     0.0  340.0  0.000000  589.305329   6.893053  0.788821  0.829749   \n",
       "\n",
       "          var_LG  median_LG     mean_HG      std_HG         var_HG   median_HG  \n",
       "597517  0.579263   0.030521   43.755141   20.781453     431.868799   42.455133  \n",
       "611923  0.556263   0.030521   30.607121   19.817076     392.716506   26.492491  \n",
       "96631   0.687969   1.098767  374.372043  334.837927  112116.437293  475.766113  \n",
       "139325  0.637064   0.183128  172.146408   59.957931    3594.953537  179.083736  \n",
       "102384  0.688484   0.824075  430.525467  242.106955   58615.777431  515.428495  "
      ]
     },
     "execution_count": 113,
     "metadata": {},
     "output_type": "execute_result"
    }
   ],
   "source": [
    "train_sol = train_mo.copy()\n",
    "train_sol.head()"
   ]
  },
  {
   "cell_type": "markdown",
   "metadata": {},
   "source": [
    "## Explain why your solution achieves the objective\n",
    "To `neigh`, `rnd`, `gb` and `tree` get how works generalized classifiers"
   ]
  },
  {
   "cell_type": "markdown",
   "metadata": {},
   "source": [
    "### Evaluate the accuracy of a classification of the best classificator\n",
    "\n",
    "Compare true target with predictions to evaluate solutions"
   ]
  },
  {
   "cell_type": "markdown",
   "metadata": {},
   "source": [
    "### K Neighbors"
   ]
  },
  {
   "cell_type": "code",
   "execution_count": 142,
   "metadata": {
    "execution": {
     "iopub.execute_input": "2024-12-17T10:01:08.563002Z",
     "iopub.status.busy": "2024-12-17T10:01:08.562581Z",
     "iopub.status.idle": "2024-12-17T10:01:09.343184Z",
     "shell.execute_reply": "2024-12-17T10:01:09.342017Z",
     "shell.execute_reply.started": "2024-12-17T10:01:08.562966Z"
    }
   },
   "outputs": [
    {
     "data": {
      "text/html": [
       "<div>\n",
       "<style scoped>\n",
       "    .dataframe tbody tr th:only-of-type {\n",
       "        vertical-align: middle;\n",
       "    }\n",
       "\n",
       "    .dataframe tbody tr th {\n",
       "        vertical-align: top;\n",
       "    }\n",
       "\n",
       "    .dataframe thead th {\n",
       "        text-align: right;\n",
       "    }\n",
       "</style>\n",
       "<table border=\"1\" class=\"dataframe\">\n",
       "  <thead>\n",
       "    <tr style=\"text-align: right;\">\n",
       "      <th></th>\n",
       "      <th>target</th>\n",
       "      <th>y_pred</th>\n",
       "      <th>true_pred</th>\n",
       "      <th>freq</th>\n",
       "    </tr>\n",
       "  </thead>\n",
       "  <tbody>\n",
       "    <tr>\n",
       "      <th>104878</th>\n",
       "      <td>0.0</td>\n",
       "      <td>0.0</td>\n",
       "      <td>1</td>\n",
       "      <td>350.0</td>\n",
       "    </tr>\n",
       "    <tr>\n",
       "      <th>597203</th>\n",
       "      <td>2.0</td>\n",
       "      <td>0.0</td>\n",
       "      <td>0</td>\n",
       "      <td>520.0</td>\n",
       "    </tr>\n",
       "    <tr>\n",
       "      <th>624310</th>\n",
       "      <td>2.0</td>\n",
       "      <td>0.0</td>\n",
       "      <td>0</td>\n",
       "      <td>580.0</td>\n",
       "    </tr>\n",
       "    <tr>\n",
       "      <th>3975</th>\n",
       "      <td>0.0</td>\n",
       "      <td>0.0</td>\n",
       "      <td>1</td>\n",
       "      <td>100.0</td>\n",
       "    </tr>\n",
       "    <tr>\n",
       "      <th>151963</th>\n",
       "      <td>0.0</td>\n",
       "      <td>0.0</td>\n",
       "      <td>1</td>\n",
       "      <td>460.0</td>\n",
       "    </tr>\n",
       "  </tbody>\n",
       "</table>\n",
       "</div>"
      ],
      "text/plain": [
       "        target  y_pred  true_pred   freq\n",
       "104878     0.0     0.0          1  350.0\n",
       "597203     2.0     0.0          0  520.0\n",
       "624310     2.0     0.0          0  580.0\n",
       "3975       0.0     0.0          1  100.0\n",
       "151963     0.0     0.0          1  460.0"
      ]
     },
     "execution_count": 142,
     "metadata": {},
     "output_type": "execute_result"
    }
   ],
   "source": [
    "y_pred = neigh_clf.predict(X_va.to_numpy())\n",
    "y_pred_neigh = y_pred.copy()\n",
    "y_va_sol = y_va.copy() \n",
    "y_va_sol['y_pred'] = y_pred \n",
    "y_va_sol['true_pred'] = np.where(y_va_sol['y_pred'] == y_va_sol['target'],1,0)\n",
    "X_va_freq = pd.concat([y_va_sol,X_va_freq_target[['freq']]], axis=1)\n",
    "X_va_freq_neigh = X_va_freq.copy()\n",
    "X_va_freq.head()\n"
   ]
  },
  {
   "cell_type": "code",
   "execution_count": 143,
   "metadata": {
    "execution": {
     "iopub.execute_input": "2024-12-17T10:01:09.345807Z",
     "iopub.status.busy": "2024-12-17T10:01:09.345308Z",
     "iopub.status.idle": "2024-12-17T10:01:11.887272Z",
     "shell.execute_reply": "2024-12-17T10:01:11.886096Z",
     "shell.execute_reply.started": "2024-12-17T10:01:09.345755Z"
    }
   },
   "outputs": [
    {
     "data": {
      "image/png": "[encoded data removed]",
      "text/plain": [
       "<Figure size 1400x600 with 1 Axes>"
      ]
     },
     "metadata": {},
     "output_type": "display_data"
    }
   ],
   "source": [
    "fig, ax = plt.subplots()\n",
    "fig.set_size_inches(14, 6)\n",
    "_ = ax.hist(X_va_freq[X_va_freq.true_pred==0]['freq'].apply(lambda x: np.sum([x, +2])).values, bins=408, label=\"fails\", color=\"red\")\n",
    "_ = ax.hist(X_va_freq[X_va_freq.true_pred==1]['freq'].values, bins=408, label=\"trues\", color=\"blue\")\n",
    "_ = ax.hist(X_va_freq['freq'].apply(lambda x: np.sum([x, -2])).values, bins=408, label=\"total\", color=\"gray\")\n",
    "ax.legend()\n",
    "ax.set_xlabel('Frequency (GHz)')\n",
    "ticks = ax.set_xticks(np.arange(100, 601, 20))\n",
    "ax.set_ylabel('Nums. of inaccurate samples')\n",
    "ax.set_title('Total, Trues and fails predictions vs Frecuency to K Neighbors')\n",
    "plt.tight_layout()\n",
    "plt.show()"
   ]
  },
  {
   "cell_type": "markdown",
   "metadata": {},
   "source": [
    "### Random Forest\n",
    "\n",
    "**Notice**: Type of plastic are changed by numbers so `A1`, `B1`, `C1`, `D1`, `E1`, `E2`, `E3`, `F1`, `G1`, `H1`, `I1`, `J1`, `K1`, `L1`, `M1`, `N1`, `REF` are `0`, `1`, `2`, `3`, `4`, etc. and so on"
   ]
  },
  {
   "cell_type": "code",
   "execution_count": 144,
   "metadata": {
    "execution": {
     "iopub.execute_input": "2024-12-17T10:01:11.888901Z",
     "iopub.status.busy": "2024-12-17T10:01:11.888565Z",
     "iopub.status.idle": "2024-12-17T10:01:15.265853Z",
     "shell.execute_reply": "2024-12-17T10:01:15.264778Z",
     "shell.execute_reply.started": "2024-12-17T10:01:11.888868Z"
    }
   },
   "outputs": [
    {
     "data": {
      "image/png": "[encoded data removed]",
      "text/plain": [
       "<Figure size 1400x600 with 1 Axes>"
      ]
     },
     "metadata": {},
     "output_type": "display_data"
    }
   ],
   "source": [
    "y_pred = rnd_clf.predict(X_va.to_numpy())\n",
    "y_pred_rnd = y_pred.copy()\n",
    "y_va_sol = y_va.copy() \n",
    "y_va_sol['y_pred'] = y_pred \n",
    "y_va_sol['true_pred'] = np.where(y_va_sol['y_pred'] == y_va_sol['target'],1,0)\n",
    "X_va_freq = pd.concat([y_va_sol,X_va_freq_target[['freq']]], axis=1)\n",
    "X_va_freq_rnd = X_va_freq.copy()\n",
    "#X_va_freq.head()\n",
    "\n",
    "\n",
    "fig, ax = plt.subplots()\n",
    "fig.set_size_inches(14, 6)\n",
    "_ = ax.hist(X_va_freq[X_va_freq.true_pred==0]['freq'].apply(lambda x: np.sum([x, +2])).values, bins=408, label=\"fails\", color=\"red\")\n",
    "_ = ax.hist(X_va_freq[X_va_freq.true_pred==1]['freq'].values, bins=408, label=\"trues\", color=\"blue\")\n",
    "_ = ax.hist(X_va_freq['freq'].apply(lambda x: np.sum([x, -2])).values, bins=408, label=\"total\", color=\"gray\")\n",
    "ax.legend()\n",
    "ax.set_xlabel('Frequency (GHz)')\n",
    "ticks = ax.set_xticks(np.arange(100, 601, 20))\n",
    "ax.set_ylabel('Nums. of inaccurate samples')\n",
    "ax.set_title('Total, Trues and fails predictions vs Frecuency to Random Forest')\n",
    "plt.tight_layout()\n",
    "plt.show()"
   ]
  },
  {
   "cell_type": "markdown",
   "metadata": {},
   "source": [
    "### Gradient Boosting"
   ]
  },
  {
   "cell_type": "code",
   "execution_count": 145,
   "metadata": {
    "execution": {
     "iopub.execute_input": "2024-12-17T10:01:15.269449Z",
     "iopub.status.busy": "2024-12-17T10:01:15.268978Z",
     "iopub.status.idle": "2024-12-17T10:01:17.829399Z",
     "shell.execute_reply": "2024-12-17T10:01:17.828260Z",
     "shell.execute_reply.started": "2024-12-17T10:01:15.269400Z"
    }
   },
   "outputs": [
    {
     "data": {
      "image/png": "[encoded data removed]",
      "text/plain": [
       "<Figure size 1400x600 with 1 Axes>"
      ]
     },
     "metadata": {},
     "output_type": "display_data"
    }
   ],
   "source": [
    "y_pred = gb_clf.predict(X_va.to_numpy())\n",
    "y_pred_gb = y_pred.copy()\n",
    "y_va_sol = y_va.copy() \n",
    "y_va_sol['y_pred'] = y_pred \n",
    "y_va_sol['true_pred'] = np.where(y_va_sol['y_pred'] == y_va_sol['target'],1,0)\n",
    "X_va_freq = pd.concat([y_va_sol,X_va_freq_target[['freq']]], axis=1)\n",
    "X_va_freq_gb = X_va_freq.copy()\n",
    "#X_va_freq.head()\n",
    "\n",
    "\n",
    "fig, ax = plt.subplots()\n",
    "fig.set_size_inches(14, 6)\n",
    "_ = ax.hist(X_va_freq[X_va_freq.true_pred==0]['freq'].apply(lambda x: np.sum([x, +2])).values, bins=408, label=\"fails\", color=\"red\")\n",
    "_ = ax.hist(X_va_freq[X_va_freq.true_pred==1]['freq'].values, bins=408, label=\"trues\", color=\"blue\")\n",
    "_ = ax.hist(X_va_freq['freq'].apply(lambda x: np.sum([x, -2])).values, bins=408, label=\"total\", color=\"gray\")\n",
    "ax.legend()\n",
    "ax.set_xlabel('Frequency (GHz)')\n",
    "ticks = ax.set_xticks(np.arange(100, 601, 20))\n",
    "ax.set_ylabel('Nums. of inaccurate samples')\n",
    "ax.set_title('Total, Trues and fails predictions vs Frecuency to Gradient Boosting')\n",
    "plt.tight_layout()\n",
    "plt.show()"
   ]
  },
  {
   "cell_type": "markdown",
   "metadata": {},
   "source": [
    "### Decision Tree"
   ]
  },
  {
   "cell_type": "code",
   "execution_count": 146,
   "metadata": {
    "execution": {
     "iopub.execute_input": "2024-12-17T10:01:17.832058Z",
     "iopub.status.busy": "2024-12-17T10:01:17.831122Z",
     "iopub.status.idle": "2024-12-17T10:01:20.212934Z",
     "shell.execute_reply": "2024-12-17T10:01:20.211778Z",
     "shell.execute_reply.started": "2024-12-17T10:01:17.832005Z"
    }
   },
   "outputs": [
    {
     "data": {
      "image/png": "[encoded data removed]",
      "text/plain": [
       "<Figure size 1400x600 with 1 Axes>"
      ]
     },
     "metadata": {},
     "output_type": "display_data"
    }
   ],
   "source": [
    "y_pred = tree_clf.predict(X_va.to_numpy())\n",
    "y_pred_tree = y_pred.copy()\n",
    "y_va_sol = y_va.copy() \n",
    "y_va_sol['y_pred'] = y_pred \n",
    "y_va_sol['true_pred'] = np.where(y_va_sol['y_pred'] == y_va_sol['target'],1,0)\n",
    "X_va_freq = pd.concat([y_va_sol,X_va_freq_target[['freq']]], axis=1)\n",
    "X_va_freq_tree = X_va_freq.copy()\n",
    "#X_va_freq.head()\n",
    "\n",
    "\n",
    "fig, ax = plt.subplots()\n",
    "fig.set_size_inches(14, 6)\n",
    "_ = ax.hist(X_va_freq[X_va_freq.true_pred==0]['freq'].apply(lambda x: np.sum([x, +2])).values, bins=408, label=\"fails\", color=\"red\")\n",
    "_ = ax.hist(X_va_freq[X_va_freq.true_pred==1]['freq'].values, bins=408, label=\"trues\", color=\"blue\")\n",
    "_ = ax.hist(X_va_freq['freq'].apply(lambda x: np.sum([x, -2])).values, bins=408, label=\"total\", color=\"gray\")\n",
    "ax.legend()\n",
    "ax.set_xlabel('Frequency (GHz)')\n",
    "ticks = ax.set_xticks(np.arange(100, 601, 20))\n",
    "ax.set_ylabel('Nums. of inaccurate samples')\n",
    "ax.set_title('Total, Trues and fails predictions vs Frecuency to Decision Tree')\n",
    "plt.tight_layout()\n",
    "plt.show()"
   ]
  },
  {
   "cell_type": "markdown",
   "metadata": {},
   "source": [
    "**Insights** : \n",
    "* Central frecuencies have less fails than lower and upper frecuencies\n",
    "* The frequency with the highest accuracy can now be identified: `350 Ghz`\n",
    "get\")."
   ]
  },
  {
   "cell_type": "markdown",
   "metadata": {},
   "source": [
    "### Count the number of times instances of types of plastics are misclassified\n",
    "To `neigh`, `rnd`, `gb` and `tree` get how works generalized classifiers"
   ]
  },
  {
   "cell_type": "markdown",
   "metadata": {},
   "source": [
    "**Code_Fixit**: change "
   ]
  },
  {
   "cell_type": "code",
   "execution_count": 147,
   "metadata": {
    "execution": {
     "iopub.execute_input": "2024-12-17T10:01:20.214406Z",
     "iopub.status.busy": "2024-12-17T10:01:20.214105Z",
     "iopub.status.idle": "2024-12-17T10:01:20.221660Z",
     "shell.execute_reply": "2024-12-17T10:01:20.220591Z",
     "shell.execute_reply.started": "2024-12-17T10:01:20.214376Z"
    }
   },
   "outputs": [],
   "source": [
    "gb_score = accuracy_score(y_va.target.to_numpy(), y_pred)"
   ]
  },
  {
   "cell_type": "code",
   "execution_count": 148,
   "metadata": {
    "execution": {
     "iopub.execute_input": "2024-12-17T10:01:20.223545Z",
     "iopub.status.busy": "2024-12-17T10:01:20.223172Z",
     "iopub.status.idle": "2024-12-17T10:01:20.604301Z",
     "shell.execute_reply": "2024-12-17T10:01:20.603209Z",
     "shell.execute_reply.started": "2024-12-17T10:01:20.223511Z"
    }
   },
   "outputs": [
    {
     "data": {
      "text/plain": [
       "<sklearn.metrics._plot.confusion_matrix.ConfusionMatrixDisplay at 0x7aae8b8cbc70>"
      ]
     },
     "execution_count": 148,
     "metadata": {},
     "output_type": "execute_result"
    },
    {
     "data": {
      "image/png": "[encoded data removed]",
      "text/plain": [
       "<Figure size 1000x1000 with 2 Axes>"
      ]
     },
     "metadata": {},
     "output_type": "display_data"
    }
   ],
   "source": [
    "from sklearn.metrics import confusion_matrix, ConfusionMatrixDisplay\n",
    "cm = confusion_matrix(y_va.target.to_numpy(), y_pred_neigh, labels=neigh_clf.classes_)\n",
    "disp = ConfusionMatrixDisplay(confusion_matrix=cm, display_labels=ordinal_encoder.categories_[0][0:3].tolist())\n",
    "fig, ax = plt.subplots(figsize=(10, 10))\n",
    "ax.set_title('All frecuencies: Confusion Matrix to K Neighbors ')\n",
    "disp.plot(ax=ax)"
   ]
  },
  {
   "cell_type": "code",
   "execution_count": 149,
   "metadata": {
    "execution": {
     "iopub.execute_input": "2024-12-17T10:01:20.606328Z",
     "iopub.status.busy": "2024-12-17T10:01:20.605890Z",
     "iopub.status.idle": "2024-12-17T10:01:21.497669Z",
     "shell.execute_reply": "2024-12-17T10:01:21.496466Z",
     "shell.execute_reply.started": "2024-12-17T10:01:20.606280Z"
    }
   },
   "outputs": [
    {
     "data": {
      "text/plain": [
       "<sklearn.metrics._plot.confusion_matrix.ConfusionMatrixDisplay at 0x7aae89e9c280>"
      ]
     },
     "execution_count": 149,
     "metadata": {},
     "output_type": "execute_result"
    },
    {
     "data": {
      "image/png": "[encoded data removed]",
      "text/plain": [
       "<Figure size 1000x1000 with 2 Axes>"
      ]
     },
     "metadata": {},
     "output_type": "display_data"
    }
   ],
   "source": [
    "cm = confusion_matrix(y_va.target.to_numpy(), y_pred_rnd, labels=neigh_clf.classes_)\n",
    "disp = ConfusionMatrixDisplay(confusion_matrix=cm, display_labels=ordinal_encoder.categories_[0][0:3].tolist())\n",
    "fig, ax = plt.subplots(figsize=(10, 10))\n",
    "ax.set_title('All frecuencies: Confusion Matrix to Random Forest ')\n",
    "disp.plot(ax=ax)"
   ]
  },
  {
   "cell_type": "code",
   "execution_count": 150,
   "metadata": {
    "execution": {
     "iopub.execute_input": "2024-12-17T10:01:21.499269Z",
     "iopub.status.busy": "2024-12-17T10:01:21.498936Z",
     "iopub.status.idle": "2024-12-17T10:01:21.901516Z",
     "shell.execute_reply": "2024-12-17T10:01:21.900267Z",
     "shell.execute_reply.started": "2024-12-17T10:01:21.499236Z"
    }
   },
   "outputs": [
    {
     "data": {
      "text/plain": [
       "<sklearn.metrics._plot.confusion_matrix.ConfusionMatrixDisplay at 0x7aae8a01ce50>"
      ]
     },
     "execution_count": 150,
     "metadata": {},
     "output_type": "execute_result"
    },
    {
     "data": {
      "image/png": "[encoded data removed]",
      "text/plain": [
       "<Figure size 1000x1000 with 2 Axes>"
      ]
     },
     "metadata": {},
     "output_type": "display_data"
    }
   ],
   "source": [
    "cm = confusion_matrix(y_va.target.to_numpy(), y_pred_gb, labels=neigh_clf.classes_)\n",
    "disp = ConfusionMatrixDisplay(confusion_matrix=cm, display_labels=ordinal_encoder.categories_[0][0:3].tolist())\n",
    "fig, ax = plt.subplots(figsize=(10, 10))\n",
    "ax.set_title('All frecuencies: Confusion Matrix to Gradient Boost')\n",
    "disp.plot(ax=ax)"
   ]
  },
  {
   "cell_type": "code",
   "execution_count": 151,
   "metadata": {
    "execution": {
     "iopub.execute_input": "2024-12-17T10:01:21.906441Z",
     "iopub.status.busy": "2024-12-17T10:01:21.905376Z",
     "iopub.status.idle": "2024-12-17T10:01:22.310558Z",
     "shell.execute_reply": "2024-12-17T10:01:22.309253Z",
     "shell.execute_reply.started": "2024-12-17T10:01:21.906378Z"
    }
   },
   "outputs": [
    {
     "data": {
      "text/plain": [
       "<sklearn.metrics._plot.confusion_matrix.ConfusionMatrixDisplay at 0x7aae8b8c8ee0>"
      ]
     },
     "execution_count": 151,
     "metadata": {},
     "output_type": "execute_result"
    },
    {
     "data": {
      "image/png": "[encoded data removed]",
      "text/plain": [
       "<Figure size 1000x1000 with 2 Axes>"
      ]
     },
     "metadata": {},
     "output_type": "display_data"
    }
   ],
   "source": [
    "cm = confusion_matrix(y_va.target.to_numpy(), y_pred_tree, labels=neigh_clf.classes_)\n",
    "disp = ConfusionMatrixDisplay(confusion_matrix=cm, display_labels=ordinal_encoder.categories_[0][0:3].tolist())\n",
    "fig, ax = plt.subplots(figsize=(10, 10))\n",
    "ax.set_title('All frecuencies: Confusion Matrix to Decision Tree')\n",
    "disp.plot(ax=ax)"
   ]
  },
  {
   "cell_type": "markdown",
   "metadata": {},
   "source": [
    "**Insights**:\n",
    "* Count the number of times instances of class `0` (or `A1`) are classified as otherone class `1`, `2` and so on. The first row of this matrix shows 418 (of 1224 samples) were correctly classified and non class 806 (115+89+57+116+38+54+47+53+27+25+30+34+47+74) were wrongly classified. 115 as type 1,  89 as type 2 and so on. \n",
    "* Besides, the first columns shows that class `0`  were wrongly classified 1795 (159+170+119+197+85+119+112+127+99+86+119+121+114+168) by other class. He might be the plastic which was most often confused by other plastic.\n"
   ]
  },
  {
   "cell_type": "markdown",
   "metadata": {},
   "source": [
    "### Of validate dataset, explore what frecuencies classified by target \n",
    "#### K Neighbors"
   ]
  },
  {
   "cell_type": "code",
   "execution_count": 152,
   "metadata": {
    "execution": {
     "iopub.execute_input": "2024-12-17T10:01:22.312897Z",
     "iopub.status.busy": "2024-12-17T10:01:22.312443Z",
     "iopub.status.idle": "2024-12-17T10:01:25.248155Z",
     "shell.execute_reply": "2024-12-17T10:01:25.246987Z",
     "shell.execute_reply.started": "2024-12-17T10:01:22.312849Z"
    }
   },
   "outputs": [
    {
     "data": {
      "image/png": "[encoded data removed]",
      "text/plain": [
       "<Figure size 1200x800 with 4 Axes>"
      ]
     },
     "metadata": {},
     "output_type": "display_data"
    }
   ],
   "source": [
    "X_va_inaccurate = X_va_freq_neigh[X_va_freq.true_pred==0]\n",
    "\n",
    "lst_temp = ordinal_encoder.categories_[0][0:4].tolist()\n",
    "ncols = 2\n",
    "nrows = 2\n",
    "t = 0\n",
    "fig, axes = plt.subplots(nrows, ncols, figsize=(12, 8))\n",
    "for r in range(nrows):\n",
    "     for c in range(ncols):\n",
    "\n",
    "        x_fail = X_va_freq[(X_va_freq.true_pred==1) & (X_va_freq.target == t)]['freq'].apply(lambda x: np.sum([x, -2]))\n",
    "        counts_f, bins_f = np.histogram(x_fail, bins=3*len(lst_freq))\n",
    "        _ =  axes[r ,c].hist(bins_f[:-1], bins_f, weights=counts_f, histtype='bar', label=\"true\", color=\"blue\")\n",
    "        \n",
    "        x_total = X_va_freq[(X_va_freq.true_pred==0) & (X_va_freq.target == t)]['freq'].apply(lambda x: np.sum([x, +2]))\n",
    "        counts_t, bins_t = np.histogram(x_total, bins=3*len(lst_freq))\n",
    "        _ =  axes[r ,c].hist(bins_t[:-1], bins_t, weights=counts_t, histtype='bar', label=\"fail\", color=\"red\")\n",
    "         \n",
    "        lst_temp[t]\n",
    "        ticks = axes[r ,c].set_xticks(np.arange(100, 601, 30))\n",
    "        axes[r ,c].legend(fontsize=\"x-small\")\n",
    "        axes[r, c].set_ylabel('Nums. of fails')\n",
    "        axes[r, c].set_title(f'True and fails of plastic type {lst_temp[t]} vs freqs',fontsize=9)\n",
    "        axes[r, c].tick_params(labelsize=8, width=0.5)\n",
    "        axes[r, c].xaxis.offsetText.set_fontsize(6)\n",
    "        axes[r, c].yaxis.offsetText.set_fontsize(6)\n",
    "        t = t +1\n",
    "plt.suptitle(f\"Predictions by target vs Frecuency. K Neighbors\", y=0.93,fontsize=14)\n",
    "plt.legend()\n",
    "plt.show()           "
   ]
  },
  {
   "cell_type": "code",
   "execution_count": 153,
   "metadata": {
    "execution": {
     "iopub.execute_input": "2024-12-17T10:01:25.250292Z",
     "iopub.status.busy": "2024-12-17T10:01:25.249847Z",
     "iopub.status.idle": "2024-12-17T10:01:25.267382Z",
     "shell.execute_reply": "2024-12-17T10:01:25.266218Z",
     "shell.execute_reply.started": "2024-12-17T10:01:25.250243Z"
    }
   },
   "outputs": [
    {
     "name": "stdout",
     "output_type": "stream",
     "text": [
      "The best frecuencies K Neighbors are: [390.0, 420.0, 380.0, 410.0, 470.0, 360.0, 400.0, 320.0, 100.0, 490.0, 440.0, 340.0, 370.0, 450.0, 550.0]\n"
     ]
    }
   ],
   "source": [
    "X_va_freq = X_va_freq_neigh.copy()\n",
    "df_tmp = pd.DataFrame(\n",
    "    {\"False\": X_va_freq[X_va_freq.true_pred==0]['freq'].value_counts().sort_index().values,\n",
    "     \"True\": X_va_freq[X_va_freq.true_pred==1]['freq'].value_counts().sort_index().values},\n",
    "    index = X_va_freq[X_va_freq.true_pred==0]['freq'].value_counts().sort_index().index.tolist())\n",
    "df_tmp['total'] = df_tmp['True'] + df_tmp['False']\n",
    "df_tmp['Accuracy'] = df_tmp['True']/df_tmp['total']\n",
    "lst_best_freq = df_tmp.sort_values(by='Accuracy',ascending= False).index.tolist()[:15]\n",
    "print(f\"The best frecuencies K Neighbors are: {lst_best_freq}\")\n",
    "lst_best_freq_neigh = lst_best_freq.copy()"
   ]
  },
  {
   "cell_type": "markdown",
   "metadata": {},
   "source": [
    "#### Random Forest"
   ]
  },
  {
   "cell_type": "code",
   "execution_count": 154,
   "metadata": {
    "execution": {
     "iopub.execute_input": "2024-12-17T10:01:25.269759Z",
     "iopub.status.busy": "2024-12-17T10:01:25.269274Z",
     "iopub.status.idle": "2024-12-17T10:01:28.680455Z",
     "shell.execute_reply": "2024-12-17T10:01:28.679356Z",
     "shell.execute_reply.started": "2024-12-17T10:01:25.269683Z"
    }
   },
   "outputs": [
    {
     "data": {
      "image/png": "[encoded data removed]",
      "text/plain": [
       "<Figure size 1200x800 with 4 Axes>"
      ]
     },
     "metadata": {},
     "output_type": "display_data"
    }
   ],
   "source": [
    "X_va_inaccurate = X_va_freq_rnd[X_va_freq.true_pred==0]\n",
    "\n",
    "lst_temp = ordinal_encoder.categories_[0][0:4].tolist()\n",
    "ncols = 2\n",
    "nrows = 2\n",
    "t = 0\n",
    "fig, axes = plt.subplots(nrows, ncols, figsize=(12, 8))\n",
    "for r in range(nrows):\n",
    "     for c in range(ncols):\n",
    "\n",
    "        x_fail = X_va_freq[(X_va_freq.true_pred==1) & (X_va_freq.target == t)]['freq'].apply(lambda x: np.sum([x, -2]))\n",
    "        counts_f, bins_f = np.histogram(x_fail, bins=3*len(lst_freq))\n",
    "        _ =  axes[r ,c].hist(bins_f[:-1], bins_f, weights=counts_f, histtype='bar', label=\"true\", color=\"blue\")\n",
    "        \n",
    "        x_total = X_va_freq[(X_va_freq.true_pred==0) & (X_va_freq.target == t)]['freq'].apply(lambda x: np.sum([x, +2]))\n",
    "        counts_t, bins_t = np.histogram(x_total, bins=3*len(lst_freq))\n",
    "        _ =  axes[r ,c].hist(bins_t[:-1], bins_t, weights=counts_t, histtype='bar', label=\"fail\", color=\"red\")\n",
    "         \n",
    "        lst_temp[t]\n",
    "        ticks = axes[r ,c].set_xticks(np.arange(100, 601, 30))\n",
    "        axes[r ,c].legend(fontsize=\"x-small\")\n",
    "        axes[r, c].set_ylabel('Nums. of fails')\n",
    "        axes[r, c].set_title(f'True and fails of plastic type {lst_temp[t]} vs freqs',fontsize=9)\n",
    "        axes[r, c].tick_params(labelsize=8, width=0.5)\n",
    "        axes[r, c].xaxis.offsetText.set_fontsize(6)\n",
    "        axes[r, c].yaxis.offsetText.set_fontsize(6)\n",
    "        t = t +1\n",
    "plt.suptitle(f\"Predictions by target vs Frecuency. Random Forest\", y=0.93,fontsize=14)\n",
    "plt.legend()\n",
    "plt.show()           "
   ]
  },
  {
   "cell_type": "code",
   "execution_count": 155,
   "metadata": {
    "execution": {
     "iopub.execute_input": "2024-12-17T10:01:28.682169Z",
     "iopub.status.busy": "2024-12-17T10:01:28.681833Z",
     "iopub.status.idle": "2024-12-17T10:01:28.698173Z",
     "shell.execute_reply": "2024-12-17T10:01:28.696982Z",
     "shell.execute_reply.started": "2024-12-17T10:01:28.682137Z"
    }
   },
   "outputs": [
    {
     "name": "stdout",
     "output_type": "stream",
     "text": [
      "The best frecuencies Random Forest are: [390.0, 420.0, 380.0, 410.0, 320.0, 100.0, 440.0, 470.0, 370.0, 400.0, 490.0, 360.0, 340.0, 330.0, 350.0]\n"
     ]
    }
   ],
   "source": [
    "X_va_freq = X_va_freq_rnd.copy()\n",
    "df_tmp = pd.DataFrame(\n",
    "    {\"False\": X_va_freq[X_va_freq.true_pred==0]['freq'].value_counts().sort_index().values,\n",
    "     \"True\": X_va_freq[X_va_freq.true_pred==1]['freq'].value_counts().sort_index().values},\n",
    "    index = X_va_freq[X_va_freq.true_pred==0]['freq'].value_counts().sort_index().index.tolist())\n",
    "df_tmp['total'] = df_tmp['True'] + df_tmp['False']\n",
    "df_tmp['Accuracy'] = df_tmp['True']/df_tmp['total']\n",
    "lst_best_freq = df_tmp.sort_values(by='Accuracy',ascending= False).index.tolist()[:15]\n",
    "print(f\"The best frecuencies Random Forest are: {lst_best_freq}\")\n",
    "lst_best_freq_rnd = lst_best_freq.copy()"
   ]
  },
  {
   "cell_type": "markdown",
   "metadata": {},
   "source": [
    "#### Gradient Boost"
   ]
  },
  {
   "cell_type": "code",
   "execution_count": 156,
   "metadata": {
    "execution": {
     "iopub.execute_input": "2024-12-17T10:01:28.699789Z",
     "iopub.status.busy": "2024-12-17T10:01:28.699447Z",
     "iopub.status.idle": "2024-12-17T10:01:31.570222Z",
     "shell.execute_reply": "2024-12-17T10:01:31.569094Z",
     "shell.execute_reply.started": "2024-12-17T10:01:28.699751Z"
    }
   },
   "outputs": [
    {
     "data": {
      "image/png": "[encoded data removed]",
      "text/plain": [
       "<Figure size 1200x800 with 4 Axes>"
      ]
     },
     "metadata": {},
     "output_type": "display_data"
    }
   ],
   "source": [
    "X_va_inaccurate = X_va_freq_gb[X_va_freq.true_pred==0]\n",
    "\n",
    "lst_temp = ordinal_encoder.categories_[0][0:4].tolist()\n",
    "ncols = 2\n",
    "nrows = 2\n",
    "t = 0\n",
    "fig, axes = plt.subplots(nrows, ncols, figsize=(12, 8))\n",
    "for r in range(nrows):\n",
    "     for c in range(ncols):\n",
    "\n",
    "        x_fail = X_va_freq[(X_va_freq.true_pred==1) & (X_va_freq.target == t)]['freq'].apply(lambda x: np.sum([x, -2]))\n",
    "        counts_f, bins_f = np.histogram(x_fail, bins=3*len(lst_freq))\n",
    "        _ =  axes[r ,c].hist(bins_f[:-1], bins_f, weights=counts_f, histtype='bar', label=\"true\", color=\"blue\")\n",
    "        \n",
    "        x_total = X_va_freq[(X_va_freq.true_pred==0) & (X_va_freq.target == t)]['freq'].apply(lambda x: np.sum([x, +2]))\n",
    "        counts_t, bins_t = np.histogram(x_total, bins=3*len(lst_freq))\n",
    "        _ =  axes[r ,c].hist(bins_t[:-1], bins_t, weights=counts_t, histtype='bar', label=\"fail\", color=\"red\")\n",
    "         \n",
    "        lst_temp[t]\n",
    "        ticks = axes[r ,c].set_xticks(np.arange(100, 601, 30))\n",
    "        axes[r ,c].legend(fontsize=\"x-small\")\n",
    "        axes[r, c].set_ylabel('Nums. of fails')\n",
    "        axes[r, c].set_title(f'True and fails of plastic type {lst_temp[t]} vs freqs',fontsize=9)\n",
    "        axes[r, c].tick_params(labelsize=8, width=0.5)\n",
    "        axes[r, c].xaxis.offsetText.set_fontsize(6)\n",
    "        axes[r, c].yaxis.offsetText.set_fontsize(6)\n",
    "        t = t +1\n",
    "plt.suptitle(f\"Predictions by target vs Frecuency. Gradient Boost\", y=0.93,fontsize=14)\n",
    "plt.legend()\n",
    "plt.show()           "
   ]
  },
  {
   "cell_type": "code",
   "execution_count": 157,
   "metadata": {
    "execution": {
     "iopub.execute_input": "2024-12-17T10:01:31.572137Z",
     "iopub.status.busy": "2024-12-17T10:01:31.571707Z",
     "iopub.status.idle": "2024-12-17T10:01:31.589052Z",
     "shell.execute_reply": "2024-12-17T10:01:31.587785Z",
     "shell.execute_reply.started": "2024-12-17T10:01:31.572090Z"
    }
   },
   "outputs": [
    {
     "name": "stdout",
     "output_type": "stream",
     "text": [
      "The best frecuencies Gradient Boost are: [390.0, 420.0, 380.0, 330.0, 340.0, 470.0, 440.0, 100.0, 320.0, 490.0, 530.0, 550.0, 580.0, 240.0, 570.0]\n"
     ]
    }
   ],
   "source": [
    "X_va_freq = X_va_freq_gb.copy()\n",
    "df_tmp = pd.DataFrame(\n",
    "    {\"False\": X_va_freq[X_va_freq.true_pred==0]['freq'].value_counts().sort_index().values,\n",
    "     \"True\": X_va_freq[X_va_freq.true_pred==1]['freq'].value_counts().sort_index().values},\n",
    "    index = X_va_freq[X_va_freq.true_pred==0]['freq'].value_counts().sort_index().index.tolist())\n",
    "df_tmp['total'] = df_tmp['True'] + df_tmp['False']\n",
    "df_tmp['Accuracy'] = df_tmp['True']/df_tmp['total']\n",
    "lst_best_freq = df_tmp.sort_values(by='Accuracy',ascending= False).index.tolist()[:15]\n",
    "print(f\"The best frecuencies Gradient Boost are: {lst_best_freq}\")\n",
    "lst_best_freq_gb = lst_best_freq.copy()"
   ]
  },
  {
   "cell_type": "markdown",
   "metadata": {},
   "source": [
    "#### Decision Tree"
   ]
  },
  {
   "cell_type": "code",
   "execution_count": 158,
   "metadata": {
    "execution": {
     "iopub.execute_input": "2024-12-17T10:01:31.590567Z",
     "iopub.status.busy": "2024-12-17T10:01:31.590231Z",
     "iopub.status.idle": "2024-12-17T10:01:34.967178Z",
     "shell.execute_reply": "2024-12-17T10:01:34.966077Z",
     "shell.execute_reply.started": "2024-12-17T10:01:31.590535Z"
    }
   },
   "outputs": [
    {
     "data": {
      "image/png": "[encoded data removed]",
      "text/plain": [
       "<Figure size 1200x800 with 4 Axes>"
      ]
     },
     "metadata": {},
     "output_type": "display_data"
    }
   ],
   "source": [
    "X_va_inaccurate = X_va_freq_tree[X_va_freq.true_pred==0]\n",
    "\n",
    "lst_temp = ordinal_encoder.categories_[0][0:4].tolist()\n",
    "ncols = 2\n",
    "nrows = 2\n",
    "t = 0\n",
    "fig, axes = plt.subplots(nrows, ncols, figsize=(12, 8))\n",
    "for r in range(nrows):\n",
    "     for c in range(ncols):\n",
    "\n",
    "        x_fail = X_va_freq[(X_va_freq.true_pred==1) & (X_va_freq.target == t)]['freq'].apply(lambda x: np.sum([x, -2]))\n",
    "        counts_f, bins_f = np.histogram(x_fail, bins=3*len(lst_freq))\n",
    "        _ =  axes[r ,c].hist(bins_f[:-1], bins_f, weights=counts_f, histtype='bar', label=\"true\", color=\"blue\")\n",
    "        \n",
    "        x_total = X_va_freq[(X_va_freq.true_pred==0) & (X_va_freq.target == t)]['freq'].apply(lambda x: np.sum([x, +2]))\n",
    "        counts_t, bins_t = np.histogram(x_total, bins=3*len(lst_freq))\n",
    "        _ =  axes[r ,c].hist(bins_t[:-1], bins_t, weights=counts_t, histtype='bar', label=\"fail\", color=\"red\")\n",
    "         \n",
    "        lst_temp[t]\n",
    "        ticks = axes[r ,c].set_xticks(np.arange(100, 601, 30))\n",
    "        axes[r ,c].legend(fontsize=\"x-small\")\n",
    "        axes[r, c].set_ylabel('Nums. of fails')\n",
    "        axes[r, c].set_title(f'True and fails of plastic type {lst_temp[t]} vs freqs',fontsize=9)\n",
    "        axes[r, c].tick_params(labelsize=8, width=0.5)\n",
    "        axes[r, c].xaxis.offsetText.set_fontsize(6)\n",
    "        axes[r, c].yaxis.offsetText.set_fontsize(6)\n",
    "        t = t +1\n",
    "plt.suptitle(f\"Predictions by target vs Frecuency. Decision Tree\", y=0.93,fontsize=14)\n",
    "plt.legend()\n",
    "plt.show()           "
   ]
  },
  {
   "cell_type": "code",
   "execution_count": 159,
   "metadata": {
    "execution": {
     "iopub.execute_input": "2024-12-17T10:01:34.968769Z",
     "iopub.status.busy": "2024-12-17T10:01:34.968428Z",
     "iopub.status.idle": "2024-12-17T10:01:34.985046Z",
     "shell.execute_reply": "2024-12-17T10:01:34.983953Z",
     "shell.execute_reply.started": "2024-12-17T10:01:34.968730Z"
    }
   },
   "outputs": [
    {
     "name": "stdout",
     "output_type": "stream",
     "text": [
      "The best frecuencies Gradient Boost are: [320.0, 390.0, 380.0, 410.0, 420.0, 100.0, 360.0, 400.0, 440.0, 490.0, 470.0, 500.0, 430.0, 340.0, 330.0]\n"
     ]
    }
   ],
   "source": [
    "X_va_freq = X_va_freq_tree.copy()\n",
    "df_tmp = pd.DataFrame(\n",
    "    {\"False\": X_va_freq[X_va_freq.true_pred==0]['freq'].value_counts().sort_index().values,\n",
    "     \"True\": X_va_freq[X_va_freq.true_pred==1]['freq'].value_counts().sort_index().values},\n",
    "    index = X_va_freq[X_va_freq.true_pred==0]['freq'].value_counts().sort_index().index.tolist())\n",
    "df_tmp['total'] = df_tmp['True'] + df_tmp['False']\n",
    "df_tmp['Accuracy'] = df_tmp['True']/df_tmp['total']\n",
    "lst_best_freq = df_tmp.sort_values(by='Accuracy',ascending= False).index.tolist()[:15]\n",
    "print(f\"The best frecuencies Gradient Boost are: {lst_best_freq}\")\n",
    "lst_best_freq_tree = lst_best_freq.copy()"
   ]
  },
  {
   "cell_type": "code",
   "execution_count": 160,
   "metadata": {
    "execution": {
     "iopub.execute_input": "2024-12-17T10:01:34.986683Z",
     "iopub.status.busy": "2024-12-17T10:01:34.986315Z",
     "iopub.status.idle": "2024-12-17T10:01:34.997610Z",
     "shell.execute_reply": "2024-12-17T10:01:34.996565Z",
     "shell.execute_reply.started": "2024-12-17T10:01:34.986649Z"
    }
   },
   "outputs": [
    {
     "name": "stdout",
     "output_type": "stream",
     "text": [
      " \n",
      "K Neighbors frecuencies: \t[390.0, 420.0, 380.0, 410.0, 470.0, 360.0, 400.0, 320.0, 100.0, 490.0, 440.0, 340.0, 370.0, 450.0, 550.0] \n",
      "Random Forest frecuencies: \t[390.0, 420.0, 380.0, 410.0, 320.0, 100.0, 440.0, 470.0, 370.0, 400.0, 490.0, 360.0, 340.0, 330.0, 350.0] \n",
      "Gradient Boost frecuencies: \t[390.0, 420.0, 380.0, 330.0, 340.0, 470.0, 440.0, 100.0, 320.0, 490.0, 530.0, 550.0, 580.0, 240.0, 570.0] \n",
      "Decision Tree frecuencies: \t[320.0, 390.0, 380.0, 410.0, 420.0, 100.0, 360.0, 400.0, 440.0, 490.0, 470.0, 500.0, 430.0, 340.0, 330.0]\n"
     ]
    }
   ],
   "source": [
    "print (f\" \\nK Neighbors frecuencies: \\t{lst_best_freq_neigh} \\nRandom Forest frecuencies: \\t{lst_best_freq_rnd} \\nGradient Boost frecuencies: \\t{lst_best_freq_gb} \\nDecision Tree frecuencies: \\t{lst_best_freq_tree}\")"
   ]
  },
  {
   "cell_type": "markdown",
   "metadata": {},
   "source": [
    "**Insights**: \n",
    "'B1', 'C1', 'E1', 'REF' \n",
    "\n",
    "* The material that is detected with the highest accuracy can now be identified: Type 3, 4, 11, 12, and 14 at various frequencies, type 8 and 15 at 350, type 13 at 250.\n",
    "* The material with the lowest accuracy can now be identified, type 2 and 9 show failures at all frequencies."
   ]
  }
 ],
 "metadata": {
  "kaggle": {
   "accelerator": "none",
   "dataSources": [
    {
     "datasetId": 6044330,
     "sourceId": 10190344,
     "sourceType": "datasetVersion"
    },
    {
     "sourceId": 212329540,
     "sourceType": "kernelVersion"
    }
   ],
   "dockerImageVersionId": 30786,
   "isGpuEnabled": false,
   "isInternetEnabled": true,
   "language": "python",
   "sourceType": "notebook"
  },
  "kernelspec": {
   "display_name": "Python 3 (ipykernel)",
   "language": "python",
   "name": "python3"
  },
  "language_info": {
   "codemirror_mode": {
    "name": "ipython",
    "version": 3
   },
   "file_extension": ".py",
   "mimetype": "text/x-python",
   "name": "python",
   "nbconvert_exporter": "python",
   "pygments_lexer": "ipython3",
   "version": "3.9.12"
  }
 },
 "nbformat": 4,
 "nbformat_minor": 4
}
