{
 "cells": [
  {
   "cell_type": "markdown",
   "metadata": {
    "id": "peUcVKtbGPfD"
   },
   "source": [
    "# Stabilization\n",
    "\n",
    "## Import Libraries and seed\n",
    "Import the necessary libraries for data processing, model building, training, and evaluation. Adding a seed ensures reproducibility by making sure that the random number generation is consistent across different runs."
   ]
  },
  {
   "cell_type": "code",
   "execution_count": 1,
   "metadata": {
    "colab": {
     "base_uri": "https://localhost:8080/"
    },
    "executionInfo": {
     "elapsed": 15527,
     "status": "ok",
     "timestamp": 1731066553135,
     "user": {
      "displayName": "DANIEL MORENO PARIS",
      "userId": "17921422726169854440"
     },
     "user_tz": -60
    },
    "id": "9a9HvzrNG8iw",
    "outputId": "19350658-7b5d-48e7-e90c-e7ddb3a578b1"
   },
   "outputs": [],
   "source": [
    "import os\n",
    "import random\n",
    "\n",
    "import numpy as np\n",
    "import pandas as pd\n",
    "import matplotlib.pyplot as plt\n",
    "from matplotlib.backends.backend_pdf import PdfPages\n",
    "\n",
    "from scipy.stats import zscore\n",
    "\n",
    "# import wandb\n",
    "\n",
    "def set_seed(seed):\n",
    "    np.random.seed(seed)\n",
    "    random.seed(seed)\n",
    "    return seed\n",
    "\n",
    "# Set seed for reproducibility\n",
    "seed = set_seed(42)\n"
   ]
  },
  {
   "cell_type": "code",
   "execution_count": 2,
   "metadata": {
    "executionInfo": {
     "elapsed": 3,
     "status": "ok",
     "timestamp": 1731066584724,
     "user": {
      "displayName": "DANIEL MORENO PARIS",
      "userId": "17921422726169854440"
     },
     "user_tz": -60
    },
    "id": "hAY8BfVX9XCK"
   },
   "outputs": [],
   "source": [
    "def load_data_from_directory(input_path):\n",
    "    data_frames = []\n",
    "    for file in os.listdir(input_path):\n",
    "        if file.endswith('.csv'):\n",
    "            df = pd.read_csv(os.path.join(input_path, file), delimiter=';', header=0)\n",
    "            data_frames.append(df)\n",
    "    data = pd.concat(data_frames, ignore_index=True)\n",
    "\n",
    "    return data"
   ]
  },
  {
   "cell_type": "code",
   "execution_count": 7,
   "metadata": {},
   "outputs": [],
   "source": [
    "def _process_lvm_file(file_path, include_sample=True):\n",
    "    \"\"\"Helper function to process a single LVM file\"\"\"\n",
    "    df = pd.read_csv(file_path, \n",
    "                   delimiter='\\t',  \n",
    "                   skiprows=22,     # Skip the header lines \n",
    "                   header=None,     \n",
    "                   usecols=[1, 2, 3],  \n",
    "                   decimal=',')     \n",
    "    \n",
    "    # Set proper column names\n",
    "    df.columns = ['Frequency (GHz)', 'LG (mV)', 'HG (mV)']\n",
    "    \n",
    "    # Optionally add sample name from filename\n",
    "    if include_sample:\n",
    "        sample_name = os.path.splitext(os.path.basename(file_path))[0]\n",
    "        df['Sample'] = sample_name\n",
    "    \n",
    "    return df\n",
    "\n",
    "def load_data_from_directory_lvm(input_path, include_sample=True):\n",
    "    data_frames = []\n",
    "    \n",
    "    # Check if input_path is a file or directory\n",
    "    if os.path.isfile(input_path):\n",
    "        # Handle single file\n",
    "        if input_path.endswith('.lvm'):\n",
    "            data_frames.append(_process_lvm_file(input_path, include_sample))\n",
    "    \n",
    "    elif os.path.isdir(input_path):\n",
    "        # Handle directory\n",
    "        for file in os.listdir(input_path):\n",
    "            if file.endswith('.lvm'):\n",
    "                file_path = os.path.join(input_path, file)\n",
    "                data_frames.append(_process_lvm_file(file_path, include_sample))\n",
    "    \n",
    "    if data_frames:  \n",
    "        data = pd.concat(data_frames, ignore_index=True)\n",
    "    else:\n",
    "        data = pd.DataFrame()  \n",
    "    \n",
    "    return data"
   ]
  },
  {
   "cell_type": "markdown",
   "metadata": {
    "id": "wiCTw-qcKXhn"
   },
   "source": [
    "## Preprocessing Data - Dispersion\n",
    "Define a function to preprocess the data. This includes encoding categorical labels and standardizing the features."
   ]
  },
  {
   "cell_type": "code",
   "execution_count": 4,
   "metadata": {
    "executionInfo": {
     "elapsed": 3,
     "status": "ok",
     "timestamp": 1731066584724,
     "user": {
      "displayName": "DANIEL MORENO PARIS",
      "userId": "17921422726169854440"
     },
     "user_tz": -60
    },
    "id": "zJoZqi5LDPl8"
   },
   "outputs": [],
   "source": [
    "def calculate_averages_and_dispersion(df, data_percentage):\n",
    "\n",
    "    results = []\n",
    "    for (sample, freq), group in df.groupby(['Sample', 'Frequency (GHz)']):\n",
    "        window_size = max(1, int(len(group) * data_percentage / 100))\n",
    "        # print(f\"Processing sample: {sample}, frequency: {freq} with window size: {window_size}\")\n",
    "        for start in range(0, len(group), window_size):\n",
    "            window_data = group.iloc[start:start + window_size]\n",
    "            mean_values = window_data[['LG (mV)', 'HG (mV)']].mean()\n",
    "            std_deviation_values = window_data[['LG (mV)', 'HG (mV)']].std()\n",
    "            results.append({\n",
    "                'Frequency (GHz)': freq,\n",
    "                'LG (mV) mean': mean_values['LG (mV)'],\n",
    "                'HG (mV) mean': mean_values['HG (mV)'],\n",
    "                'LG (mV) std deviation': std_deviation_values['LG (mV)'],\n",
    "                'HG (mV) std deviation': std_deviation_values['HG (mV)'],\n",
    "                # 'Thickness (mm)': window_data['Thickness (mm)'].iloc[0], ## COMMENT\n",
    "                'Sample': sample,\n",
    "            })\n",
    "    results_df = pd.DataFrame(results)\n",
    "\n",
    "    return results_df"
   ]
  },
  {
   "cell_type": "markdown",
   "metadata": {
    "id": "vXiN30xA1kKX"
   },
   "source": [
    "## Pivoting Frequency values to columns"
   ]
  },
  {
   "cell_type": "code",
   "execution_count": 5,
   "metadata": {
    "colab": {
     "base_uri": "https://localhost:8080/",
     "height": 652
    },
    "executionInfo": {
     "elapsed": 52182,
     "status": "error",
     "timestamp": 1731067172783,
     "user": {
      "displayName": "DANIEL MORENO PARIS",
      "userId": "17921422726169854440"
     },
     "user_tz": -60
    },
    "id": "UTXvxCzu6MBA",
    "outputId": "41925df4-d9a4-424b-fc94-bf98e95a101b"
   },
   "outputs": [],
   "source": [
    "def freq_as_variable(df, data_percentage):\n",
    "    '''Modify df to have Frequency values (100,110,120 and so on) as input variables in the columns'''\n",
    "\n",
    "    # Remove Thickness column\n",
    "    if 'Thickness (mm)' in df.columns:\n",
    "        df = df.drop(columns=['Thickness (mm)'])\n",
    "\n",
    "    if data_percentage > 0:\n",
    "        # 1s window_size 100/27s = 3.7% of the data is used for each window\n",
    "        df_window = calculate_averages_and_dispersion(df, data_percentage) \n",
    "\n",
    "        # Add a unique identifier column to avoid duplicate entries in the index\n",
    "        df_window['unique_id'] = df_window.groupby(['Sample', 'Frequency (GHz)']).cumcount()\n",
    "\n",
    "        # Pivot the DataFrame to wide format\n",
    "        df_pivot = df_window.pivot(index=['Sample', 'unique_id'], columns='Frequency (GHz)')\n",
    "\n",
    "        # Flatten the MultiIndex columns - Ordered by Frequency + (HG mean, HG std deviation, LG mean, LG std deviation)\n",
    "        df_pivot.columns = [' '.join([str(col[1]), str(col[0])]) for col in df_pivot.columns]\n",
    "\n",
    "        # Drop columns with all NaN values\n",
    "        df_pivot = df_pivot.dropna(axis=1, how='all')\n",
    "\n",
    "        # Reset index to make 'Sample' and 'unique_id' columns again\n",
    "        df_pivot = df_pivot.reset_index()\n",
    "\n",
    "        # Remove 'unique_id' column\n",
    "        df_pivot = df_pivot.drop(columns=['unique_id'])\n",
    "    else:\n",
    "        # If data_percentage is 0, do not calculate mean and std deviation, use the original data\n",
    "        df['unique_id'] = df.groupby(['Sample', 'Frequency (GHz)']).cumcount()\n",
    "        df_pivot = df.pivot(index=['Sample', 'unique_id'], columns='Frequency (GHz)')\n",
    "        df_pivot.columns = [' '.join([str(col[1]), str(col[0])]) for col in df_pivot.columns]\n",
    "        df_pivot = df_pivot.dropna(axis=1, how='all')\n",
    "        df_pivot = df_pivot.reset_index()\n",
    "        df_pivot = df_pivot.drop(columns=['unique_id'])\n",
    "\n",
    "    # Optional - Sort the columns if needed\n",
    "    df_pivot = df_pivot.reindex(sorted(df_pivot.columns), axis=1)\n",
    "\n",
    "    return df_pivot"
   ]
  },
  {
   "cell_type": "code",
   "execution_count": null,
   "metadata": {},
   "outputs": [
    {
     "data": {
      "text/html": [
       "<div>\n",
       "<style scoped>\n",
       "    .dataframe tbody tr th:only-of-type {\n",
       "        vertical-align: middle;\n",
       "    }\n",
       "\n",
       "    .dataframe tbody tr th {\n",
       "        vertical-align: top;\n",
       "    }\n",
       "\n",
       "    .dataframe thead th {\n",
       "        text-align: right;\n",
       "    }\n",
       "</style>\n",
       "<table border=\"1\" class=\"dataframe\">\n",
       "  <thead>\n",
       "    <tr style=\"text-align: right;\">\n",
       "      <th></th>\n",
       "      <th>Frequency (GHz)</th>\n",
       "      <th>LG (mV)</th>\n",
       "      <th>HG (mV)</th>\n",
       "    </tr>\n",
       "  </thead>\n",
       "  <tbody>\n",
       "    <tr>\n",
       "      <th>0</th>\n",
       "      <td>100.0</td>\n",
       "      <td>0.732511</td>\n",
       "      <td>29.910877</td>\n",
       "    </tr>\n",
       "    <tr>\n",
       "      <th>1</th>\n",
       "      <td>100.0</td>\n",
       "      <td>0.366256</td>\n",
       "      <td>35.038456</td>\n",
       "    </tr>\n",
       "    <tr>\n",
       "      <th>2</th>\n",
       "      <td>100.0</td>\n",
       "      <td>3.052130</td>\n",
       "      <td>4.761323</td>\n",
       "    </tr>\n",
       "    <tr>\n",
       "      <th>3</th>\n",
       "      <td>100.0</td>\n",
       "      <td>0.366256</td>\n",
       "      <td>10.377243</td>\n",
       "    </tr>\n",
       "    <tr>\n",
       "      <th>4</th>\n",
       "      <td>100.0</td>\n",
       "      <td>0.976682</td>\n",
       "      <td>25.393724</td>\n",
       "    </tr>\n",
       "  </tbody>\n",
       "</table>\n",
       "</div>"
      ],
      "text/plain": [
       "   Frequency (GHz)   LG (mV)    HG (mV)\n",
       "0            100.0  0.732511  29.910877\n",
       "1            100.0  0.366256  35.038456\n",
       "2            100.0  3.052130   4.761323\n",
       "3            100.0  0.366256  10.377243\n",
       "4            100.0  0.976682  25.393724"
      ]
     },
     "execution_count": 14,
     "metadata": {},
     "output_type": "execute_result"
    }
   ],
   "source": [
    "# Load the data from the directory\n",
    "input_path = 'C:/Users/Danim/Documents/GitHub/PIC-PAPER-01/data/experiment_5_plastics/raw/B4_44.lvm'\n",
    "\n",
    "df = load_data_from_directory_lvm(input_path, include_sample=False)\n",
    "\n",
    "# show random rows\n",
    "# df.sample(15)\n",
    "df.head()\n"
   ]
  },
  {
   "cell_type": "code",
   "execution_count": null,
   "metadata": {},
   "outputs": [],
   "source": [
    "def load_lvm_file(file_path):\n",
    "    df = pd.read_csv(\n",
    "        file_path,\n",
    "        delimiter='\\t',\n",
    "        skiprows=22,\n",
    "        header=None,\n",
    "        usecols=[1, 2, 3],\n",
    "        decimal=','\n",
    "    )\n",
    "    df.columns = ['Frequency (GHz)', 'LG (mV)', 'HG (mV)']\n",
    "    sample_name = os.path.splitext(os.path.basename(file_path))[0]\n",
    "    df['Sample'] = sample_name\n",
    "    return df"
   ]
  },
  {
   "cell_type": "code",
   "execution_count": null,
   "metadata": {},
   "outputs": [],
   "source": [
    "from tkinter import font\n",
    "\n",
    "\n",
    "for file in os.listdir(input_path):\n",
    "    if file.endswith('.lvm'):\n",
    "        df = load_lvm_file(os.path.join(input_path, file))\n",
    "        if 'Sample' in df.columns:\n",
    "            df = df.drop(columns=['Sample'])\n",
    "\n",
    "        selected_freqs = [370.0, 380.0, 390.0, 400.0, 410.0, 420.0]\n",
    "        df_filtered = df[df['Frequency (GHz)'].isin(selected_freqs)].reset_index(drop=True)\n",
    "\n",
    "        window = 20\n",
    "        lg_ma = df_filtered['LG (mV)'].rolling(window, center=True).mean()\n",
    "        hg_ma = df_filtered['HG (mV)'].rolling(window, center=True).mean()\n",
    "\n",
    "        with PdfPages('stabilization_plot.pdf') as pdf:\n",
    "            plt.figure(figsize=(12, 6))\n",
    "            plt.plot(df_filtered.index, lg_ma, label='LG (mV) - Moving Avg', color='tab:blue', linewidth=2)\n",
    "            plt.plot(df_filtered.index, hg_ma, label='HG (mV) - Moving Avg', color='tab:orange', linewidth=2)\n",
    "            # plt.title(f'HG and LG values (Moving Avg, window={window}) for B4 sample', fontsize=20)\n",
    "            plt.xlabel('Time (seconds)', size=16)\n",
    "            plt.ylabel('Voltage (mV)', size=16)\n",
    "            plt.legend(fontsize=16)\n",
    "            plt.grid(axis='y')\n",
    "            plt.gca().set_facecolor('white')\n",
    "\n",
    "            max_time = 35\n",
    "            tick_interval = 5\n",
    "            time_ticks = np.arange(0, max_time + 1, tick_interval)\n",
    "            samples_per_freq = len(df_filtered) // len(selected_freqs)\n",
    "\n",
    "            tick_positions = []\n",
    "            tick_labels = []\n",
    "            red_line_positions = []\n",
    "\n",
    "            for i, freq in enumerate(selected_freqs):\n",
    "                freq_start_idx = i * samples_per_freq\n",
    "                for tick in time_ticks:\n",
    "                    tick_position = freq_start_idx + (tick / max_time) * samples_per_freq\n",
    "                    tick_positions.append(tick_position)\n",
    "                    tick_labels.append(str(tick))\n",
    "                    # Highlight every second '20' with a red vertical line\n",
    "                    if tick == 20:\n",
    "                        red_line_positions.append(tick_position)\n",
    "\n",
    "            plt.xticks(tick_positions, tick_labels, fontsize=16, rotation=45)\n",
    "            plt.xlim(0, len(df_filtered))\n",
    "\n",
    "            # Draw red vertical lines at every '20' second tick\n",
    "            for xpos in red_line_positions:\n",
    "                plt.axvline(x=xpos, color='red', linestyle='--', linewidth=2, label='20s marker')\n",
    "\n",
    "            ax = plt.gca()\n",
    "            ax.tick_params(axis='both', labelsize=16) \n",
    "            ax2 = ax.twiny()\n",
    "            ax2.set_xlim(ax.get_xlim())\n",
    "\n",
    "            freq_positions = []\n",
    "            freq_labels = []\n",
    "            for i, freq in enumerate(selected_freqs):\n",
    "                freq_start_idx = i * samples_per_freq\n",
    "                freq_end_idx = (i + 1) * samples_per_freq\n",
    "                mid_position = (freq_start_idx + freq_end_idx) / 2\n",
    "                freq_positions.append(mid_position)\n",
    "                freq_labels.append(f'{freq} GHz')\n",
    "\n",
    "            ax2.set_xticks(freq_positions)\n",
    "            ax2.set_xticklabels(freq_labels, fontsize=16)\n",
    "            # ax2.set_xlabel('Frequency (GHz)', fontsize=20)\n",
    "\n",
    "            plt.tight_layout()\n",
    "            pdf.savefig(bbox_inches='tight', dpi=300)\n",
    "            plt.show()\n",
    "            plt.close()\n",
    "\n",
    "        print(\"Stabilization plot saved as stabilization_plot.pdf\")"
   ]
  }
 ],
 "metadata": {
  "colab": {
   "provenance": []
  },
  "kernelspec": {
   "display_name": ".venv",
   "language": "python",
   "name": "python3"
  },
  "language_info": {
   "codemirror_mode": {
    "name": "ipython",
    "version": 3
   },
   "file_extension": ".py",
   "mimetype": "text/x-python",
   "name": "python",
   "nbconvert_exporter": "python",
   "pygments_lexer": "ipython3",
   "version": "3.12.10"
  }
 },
 "nbformat": 4,
 "nbformat_minor": 0
}
